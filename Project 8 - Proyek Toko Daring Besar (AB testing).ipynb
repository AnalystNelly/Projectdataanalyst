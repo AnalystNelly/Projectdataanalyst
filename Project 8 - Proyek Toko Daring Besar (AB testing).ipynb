{
 "cells": [
  {
   "cell_type": "markdown",
   "metadata": {},
   "source": [
    "# Analisa Toko Daring Besar Menjalankan Testing A/B\n",
    "\n",
    "\n",
    "Anda adalah seorang analis di sebuah toko daring besar. Anda bersama tim pemasaran telah menyusun daftar hipotesis untuk membantu meningkatkan pendapatan.\n",
    "Anda perlu memprioritaskan hipotesis tersebut, menjalankan A/B testing, dan menganalisis hasilnya."
   ]
  },
  {
   "cell_type": "markdown",
   "metadata": {},
   "source": [
    "## Konten \n",
    "\n",
    "* [2. Pendahuluan]\n",
    "    * [2.1 Memuat Data]\n",
    "    * [2.2 Mempersiapkan Data]\n",
    "* [3  Mengunduh data dan menyiapkannya untuk analisis]\n",
    "    * [3.1. Data Cleaning DataFrame data_company]\n",
    "    * [3.2. Data Cleaning DataFrame data_dropoff]\n",
    "* [4. Menguji Hipotesis (Python)]\n",
    "    * [4.1  Data Cleaning DataFrame data_loop]\n",
    "    * [4.2  Visualisasi Grafik]\n",
    "    * [4.3  Uji Hipotesis]\n",
    "* [5. Kesimpulan]\n"
   ]
  },
  {
   "cell_type": "markdown",
   "metadata": {},
   "source": [
    "## Pendahuluan \n",
    "\n",
    "Pendahuluan:\n",
    "\n",
    "Proyek ini bertujuan untuk menganalisis data pesanan dari suatu toko daring. Data yang digunakan mencakup informasi tentang transaksi pembelian, pengunjung, kelompok, tanggal, dan pendapatan. Melalui analisis data ini, kita akan mencoba mendapatkan wawasan yang berguna tentang perilaku pengguna, performa kelompok, serta perbedaan dalam konversi dan pendapatan antara kelompok A dan B.\n",
    "\n",
    "\n",
    "### Tujuan: \n",
    "Berikut tujuan:\n",
    "\n",
    "1. Menganalisis perilaku pengguna: Tujuan utama proyek ini adalah untuk memahami perilaku pengguna dalam melakukan pembelian di toko daring. Dengan menganalisis data pesanan, kita dapat mengidentifikasi pola dan tren dalam jumlah pesanan, frekuensi pembelian, dan pendapatan pengguna. \n",
    "\n",
    "2. Membandingkan performa kelompok A dan B: Proyek ini bertujuan untuk membandingkan performa dua kelompok, yaitu kelompok A dan B, dalam hal konversi dan pendapatan. Dengan menggunakan pengujian statistik, kita dapat menentukan apakah ada perbedaan yang signifikan antara kedua kelompok.  \n",
    "\n",
    "3. Mengidentifikasi faktor-faktor pengaruh: Tujuan lain proyek ini adalah untuk mengidentifikasi faktor-faktor yang mempengaruhi konversi dan pendapatan. Dengan menganalisis data pesanan secara holistik, kita dapat mencari hubungan antara variabel-variabel seperti kelompok, tanggal, dan pengunjung dengan konversi dan pendapatan. \n",
    "\n",
    "4. Memberikan wawasan berharga untuk pengambilan keputusan bisnis: Tujuan akhir dari proyek ini adalah untuk memberikan wawasan yang berharga bagi pemangku kepentingan dalam pengambilan keputusan bisnis.\n",
    "\n",
    "\n",
    "\n",
    "### Tahapan\n",
    "ada 3\n",
    "dataframe yang disediakan : \"/datasets/hypotheses_us.csv\"\n",
    "                            \"/datasets/orders_us.csv\"\n",
    "                            \"/datasets/visits_us.csv\"\n",
    "\n",
    "Tidak ada informasi terkait kualitas data tersebut, jadi kita perlu memeriksanya terlebih dahulu sebelum menguji hipotesis.\n",
    "Berikut adalah tahapannya:\n",
    "\n",
    "1. Pengumpulan Data.\n",
    "\n",
    "2. Eksplorasi Data.\n",
    "\n",
    "3. Analisis Perilaku Pengguna. \n",
    "\n",
    "4. Perbandingan Performa Kelompok A dan B.  \n",
    "\n",
    "5. Identifikasi Faktor Pengaruh.\n",
    "\n",
    "6. Kesimpulan dan Rekomendasi.\n",
    "\n",
    "\n",
    "[Kembali ke Konten](#back)"
   ]
  },
  {
   "cell_type": "markdown",
   "metadata": {},
   "source": [
    "## Mengunduh data dan menyiapkannya untuk analisis "
   ]
  },
  {
   "cell_type": "markdown",
   "metadata": {},
   "source": [
    "Pastikan untuk melakukan pra-pemrosesan data terlebih dahulu. Tidak menutup kemungkinan, dataset asli yang Anda miliki mengandung kesalahan; misalnya, sebagian pengunjung mungkin berada di kelompok A maupun di kelompok B."
   ]
  },
  {
   "cell_type": "markdown",
   "metadata": {},
   "source": [
    "### Memuat Data"
   ]
  },
  {
   "cell_type": "code",
   "execution_count": 1,
   "metadata": {},
   "outputs": [],
   "source": [
    "# Muat semua library\n",
    "import pandas as pd\n",
    "import numpy as np\n",
    "import matplotlib.pyplot as plt"
   ]
  },
  {
   "cell_type": "markdown",
   "metadata": {},
   "source": [
    "### Analisis Data Eksploratif (Python)"
   ]
  },
  {
   "cell_type": "code",
   "execution_count": 2,
   "metadata": {},
   "outputs": [],
   "source": [
    "# load the dataset\n",
    "\n",
    "# Memuat dataset kunjungan konsumen\n",
    "#data_hypo = pd.read_csv('/datasets/hypotheses_us.csv')\n",
    "data_hypo = pd.read_csv('/datasets/hypotheses_us.csv', sep=';')\n",
    "\n",
    "\n",
    "# Memuat dataset pesanan konsumen\n",
    "data_order = pd.read_csv('/datasets/orders_us.csv')\n",
    "\n",
    "# Memuat dataset biaya\n",
    "data_visits = pd.read_csv('/datasets/visits_us.csv')\n"
   ]
  },
  {
   "cell_type": "markdown",
   "metadata": {},
   "source": [
    "### Analisis Data Eksploratif (Python)"
   ]
  },
  {
   "cell_type": "markdown",
   "metadata": {},
   "source": [
    "#### Data Cleaning Dataset data_hypo"
   ]
  },
  {
   "cell_type": "code",
   "execution_count": 3,
   "metadata": {},
   "outputs": [
    {
     "name": "stdout",
     "output_type": "stream",
     "text": [
      "<class 'pandas.core.frame.DataFrame'>\n",
      "RangeIndex: 9 entries, 0 to 8\n",
      "Data columns (total 5 columns):\n",
      " #   Column      Non-Null Count  Dtype \n",
      "---  ------      --------------  ----- \n",
      " 0   Hypothesis  9 non-null      object\n",
      " 1   Reach       9 non-null      int64 \n",
      " 2   Impact      9 non-null      int64 \n",
      " 3   Confidence  9 non-null      int64 \n",
      " 4   Effort      9 non-null      int64 \n",
      "dtypes: int64(4), object(1)\n",
      "memory usage: 488.0+ bytes\n"
     ]
    }
   ],
   "source": [
    "# Menampilkan informasi di dataset data_hypo\n",
    "data_hypo.info()"
   ]
  },
  {
   "cell_type": "code",
   "execution_count": 4,
   "metadata": {},
   "outputs": [
    {
     "data": {
      "text/html": [
       "<div>\n",
       "<style scoped>\n",
       "    .dataframe tbody tr th:only-of-type {\n",
       "        vertical-align: middle;\n",
       "    }\n",
       "\n",
       "    .dataframe tbody tr th {\n",
       "        vertical-align: top;\n",
       "    }\n",
       "\n",
       "    .dataframe thead th {\n",
       "        text-align: right;\n",
       "    }\n",
       "</style>\n",
       "<table border=\"1\" class=\"dataframe\">\n",
       "  <thead>\n",
       "    <tr style=\"text-align: right;\">\n",
       "      <th></th>\n",
       "      <th>Hypothesis</th>\n",
       "      <th>Reach</th>\n",
       "      <th>Impact</th>\n",
       "      <th>Confidence</th>\n",
       "      <th>Effort</th>\n",
       "    </tr>\n",
       "  </thead>\n",
       "  <tbody>\n",
       "    <tr>\n",
       "      <th>0</th>\n",
       "      <td>Add two new channels for attracting traffic. T...</td>\n",
       "      <td>3</td>\n",
       "      <td>10</td>\n",
       "      <td>8</td>\n",
       "      <td>6</td>\n",
       "    </tr>\n",
       "    <tr>\n",
       "      <th>1</th>\n",
       "      <td>Launch your own delivery service. This will sh...</td>\n",
       "      <td>2</td>\n",
       "      <td>5</td>\n",
       "      <td>4</td>\n",
       "      <td>10</td>\n",
       "    </tr>\n",
       "    <tr>\n",
       "      <th>2</th>\n",
       "      <td>Add product recommendation blocks to the store...</td>\n",
       "      <td>8</td>\n",
       "      <td>3</td>\n",
       "      <td>7</td>\n",
       "      <td>3</td>\n",
       "    </tr>\n",
       "    <tr>\n",
       "      <th>3</th>\n",
       "      <td>Change the category structure. This will incre...</td>\n",
       "      <td>8</td>\n",
       "      <td>3</td>\n",
       "      <td>3</td>\n",
       "      <td>8</td>\n",
       "    </tr>\n",
       "    <tr>\n",
       "      <th>4</th>\n",
       "      <td>Change the background color on the main page. ...</td>\n",
       "      <td>3</td>\n",
       "      <td>1</td>\n",
       "      <td>1</td>\n",
       "      <td>1</td>\n",
       "    </tr>\n",
       "  </tbody>\n",
       "</table>\n",
       "</div>"
      ],
      "text/plain": [
       "                                          Hypothesis  Reach  Impact  \\\n",
       "0  Add two new channels for attracting traffic. T...      3      10   \n",
       "1  Launch your own delivery service. This will sh...      2       5   \n",
       "2  Add product recommendation blocks to the store...      8       3   \n",
       "3  Change the category structure. This will incre...      8       3   \n",
       "4  Change the background color on the main page. ...      3       1   \n",
       "\n",
       "   Confidence  Effort  \n",
       "0           8       6  \n",
       "1           4      10  \n",
       "2           7       3  \n",
       "3           3       8  \n",
       "4           1       1  "
      ]
     },
     "execution_count": 4,
     "metadata": {},
     "output_type": "execute_result"
    }
   ],
   "source": [
    "#Menampilakn 10 row teratas\n",
    "data_hypo.head()"
   ]
  },
  {
   "cell_type": "code",
   "execution_count": 5,
   "metadata": {},
   "outputs": [
    {
     "data": {
      "text/html": [
       "<div>\n",
       "<style scoped>\n",
       "    .dataframe tbody tr th:only-of-type {\n",
       "        vertical-align: middle;\n",
       "    }\n",
       "\n",
       "    .dataframe tbody tr th {\n",
       "        vertical-align: top;\n",
       "    }\n",
       "\n",
       "    .dataframe thead th {\n",
       "        text-align: right;\n",
       "    }\n",
       "</style>\n",
       "<table border=\"1\" class=\"dataframe\">\n",
       "  <thead>\n",
       "    <tr style=\"text-align: right;\">\n",
       "      <th></th>\n",
       "      <th>hypothesis</th>\n",
       "      <th>reach</th>\n",
       "      <th>impact</th>\n",
       "      <th>confidence</th>\n",
       "      <th>effort</th>\n",
       "    </tr>\n",
       "  </thead>\n",
       "  <tbody>\n",
       "    <tr>\n",
       "      <th>0</th>\n",
       "      <td>Add two new channels for attracting traffic. T...</td>\n",
       "      <td>3</td>\n",
       "      <td>10</td>\n",
       "      <td>8</td>\n",
       "      <td>6</td>\n",
       "    </tr>\n",
       "    <tr>\n",
       "      <th>1</th>\n",
       "      <td>Launch your own delivery service. This will sh...</td>\n",
       "      <td>2</td>\n",
       "      <td>5</td>\n",
       "      <td>4</td>\n",
       "      <td>10</td>\n",
       "    </tr>\n",
       "    <tr>\n",
       "      <th>2</th>\n",
       "      <td>Add product recommendation blocks to the store...</td>\n",
       "      <td>8</td>\n",
       "      <td>3</td>\n",
       "      <td>7</td>\n",
       "      <td>3</td>\n",
       "    </tr>\n",
       "    <tr>\n",
       "      <th>3</th>\n",
       "      <td>Change the category structure. This will incre...</td>\n",
       "      <td>8</td>\n",
       "      <td>3</td>\n",
       "      <td>3</td>\n",
       "      <td>8</td>\n",
       "    </tr>\n",
       "    <tr>\n",
       "      <th>4</th>\n",
       "      <td>Change the background color on the main page. ...</td>\n",
       "      <td>3</td>\n",
       "      <td>1</td>\n",
       "      <td>1</td>\n",
       "      <td>1</td>\n",
       "    </tr>\n",
       "    <tr>\n",
       "      <th>5</th>\n",
       "      <td>Add a customer review page. This will increase...</td>\n",
       "      <td>3</td>\n",
       "      <td>2</td>\n",
       "      <td>2</td>\n",
       "      <td>3</td>\n",
       "    </tr>\n",
       "    <tr>\n",
       "      <th>6</th>\n",
       "      <td>Show banners with current offers and sales on ...</td>\n",
       "      <td>5</td>\n",
       "      <td>3</td>\n",
       "      <td>8</td>\n",
       "      <td>3</td>\n",
       "    </tr>\n",
       "    <tr>\n",
       "      <th>7</th>\n",
       "      <td>Add a subscription form to all the main pages....</td>\n",
       "      <td>10</td>\n",
       "      <td>7</td>\n",
       "      <td>8</td>\n",
       "      <td>5</td>\n",
       "    </tr>\n",
       "    <tr>\n",
       "      <th>8</th>\n",
       "      <td>Launch a promotion that gives users discounts ...</td>\n",
       "      <td>1</td>\n",
       "      <td>9</td>\n",
       "      <td>9</td>\n",
       "      <td>5</td>\n",
       "    </tr>\n",
       "  </tbody>\n",
       "</table>\n",
       "</div>"
      ],
      "text/plain": [
       "                                          hypothesis  reach  impact  \\\n",
       "0  Add two new channels for attracting traffic. T...      3      10   \n",
       "1  Launch your own delivery service. This will sh...      2       5   \n",
       "2  Add product recommendation blocks to the store...      8       3   \n",
       "3  Change the category structure. This will incre...      8       3   \n",
       "4  Change the background color on the main page. ...      3       1   \n",
       "5  Add a customer review page. This will increase...      3       2   \n",
       "6  Show banners with current offers and sales on ...      5       3   \n",
       "7  Add a subscription form to all the main pages....     10       7   \n",
       "8  Launch a promotion that gives users discounts ...      1       9   \n",
       "\n",
       "   confidence  effort  \n",
       "0           8       6  \n",
       "1           4      10  \n",
       "2           7       3  \n",
       "3           3       8  \n",
       "4           1       1  \n",
       "5           2       3  \n",
       "6           8       3  \n",
       "7           8       5  \n",
       "8           9       5  "
      ]
     },
     "execution_count": 5,
     "metadata": {},
     "output_type": "execute_result"
    }
   ],
   "source": [
    "# Mengubah nama kolom menjadi huruf kecil\n",
    "data_hypo.columns = data_hypo.columns.str.lower()\n",
    "\n",
    "# Menampilkan DataFrame setelah perubahan nama kolom\n",
    "data_hypo\n"
   ]
  },
  {
   "cell_type": "code",
   "execution_count": 6,
   "metadata": {},
   "outputs": [],
   "source": [
    "#Mengubah tipe data menjadi tipe data float\n",
    "data_hypo['reach'] = data_hypo['reach'].astype(float)\n",
    "data_hypo['impact'] = data_hypo['impact'].astype(float)\n",
    "data_hypo['confidence'] = data_hypo['confidence'].astype(float)\n",
    "data_hypo['effort'] = data_hypo['effort'].astype(float)"
   ]
  },
  {
   "cell_type": "code",
   "execution_count": 7,
   "metadata": {},
   "outputs": [
    {
     "data": {
      "text/html": [
       "<div>\n",
       "<style scoped>\n",
       "    .dataframe tbody tr th:only-of-type {\n",
       "        vertical-align: middle;\n",
       "    }\n",
       "\n",
       "    .dataframe tbody tr th {\n",
       "        vertical-align: top;\n",
       "    }\n",
       "\n",
       "    .dataframe thead th {\n",
       "        text-align: right;\n",
       "    }\n",
       "</style>\n",
       "<table border=\"1\" class=\"dataframe\">\n",
       "  <thead>\n",
       "    <tr style=\"text-align: right;\">\n",
       "      <th></th>\n",
       "      <th>hypothesis</th>\n",
       "      <th>reach</th>\n",
       "      <th>impact</th>\n",
       "      <th>confidence</th>\n",
       "      <th>effort</th>\n",
       "    </tr>\n",
       "  </thead>\n",
       "  <tbody>\n",
       "  </tbody>\n",
       "</table>\n",
       "</div>"
      ],
      "text/plain": [
       "Empty DataFrame\n",
       "Columns: [hypothesis, reach, impact, confidence, effort]\n",
       "Index: []"
      ]
     },
     "execution_count": 7,
     "metadata": {},
     "output_type": "execute_result"
    }
   ],
   "source": [
    "#Mengecek data ganda\n",
    "duplicate_rows_hypo = data_hypo[data_hypo.duplicated()]\n",
    "duplicate_rows_hypo"
   ]
  },
  {
   "cell_type": "code",
   "execution_count": 8,
   "metadata": {},
   "outputs": [
    {
     "data": {
      "text/plain": [
       "hypothesis    0\n",
       "reach         0\n",
       "impact        0\n",
       "confidence    0\n",
       "effort        0\n",
       "dtype: int64"
      ]
     },
     "execution_count": 8,
     "metadata": {},
     "output_type": "execute_result"
    }
   ],
   "source": [
    "#Mengecek data hilang\n",
    "data_hypo.isnull().sum()\n"
   ]
  },
  {
   "cell_type": "code",
   "execution_count": 9,
   "metadata": {},
   "outputs": [
    {
     "name": "stdout",
     "output_type": "stream",
     "text": [
      "<class 'pandas.core.frame.DataFrame'>\n",
      "RangeIndex: 9 entries, 0 to 8\n",
      "Data columns (total 5 columns):\n",
      " #   Column      Non-Null Count  Dtype  \n",
      "---  ------      --------------  -----  \n",
      " 0   hypothesis  9 non-null      object \n",
      " 1   reach       9 non-null      float64\n",
      " 2   impact      9 non-null      float64\n",
      " 3   confidence  9 non-null      float64\n",
      " 4   effort      9 non-null      float64\n",
      "dtypes: float64(4), object(1)\n",
      "memory usage: 488.0+ bytes\n"
     ]
    }
   ],
   "source": [
    "data_hypo.info()"
   ]
  },
  {
   "cell_type": "code",
   "execution_count": 10,
   "metadata": {},
   "outputs": [
    {
     "data": {
      "text/html": [
       "<div>\n",
       "<style scoped>\n",
       "    .dataframe tbody tr th:only-of-type {\n",
       "        vertical-align: middle;\n",
       "    }\n",
       "\n",
       "    .dataframe tbody tr th {\n",
       "        vertical-align: top;\n",
       "    }\n",
       "\n",
       "    .dataframe thead th {\n",
       "        text-align: right;\n",
       "    }\n",
       "</style>\n",
       "<table border=\"1\" class=\"dataframe\">\n",
       "  <thead>\n",
       "    <tr style=\"text-align: right;\">\n",
       "      <th></th>\n",
       "      <th>reach</th>\n",
       "      <th>impact</th>\n",
       "      <th>confidence</th>\n",
       "      <th>effort</th>\n",
       "    </tr>\n",
       "  </thead>\n",
       "  <tbody>\n",
       "    <tr>\n",
       "      <th>count</th>\n",
       "      <td>9.000000</td>\n",
       "      <td>9.000000</td>\n",
       "      <td>9.000000</td>\n",
       "      <td>9.000000</td>\n",
       "    </tr>\n",
       "    <tr>\n",
       "      <th>mean</th>\n",
       "      <td>4.777778</td>\n",
       "      <td>4.777778</td>\n",
       "      <td>5.555556</td>\n",
       "      <td>4.888889</td>\n",
       "    </tr>\n",
       "    <tr>\n",
       "      <th>std</th>\n",
       "      <td>3.153481</td>\n",
       "      <td>3.192874</td>\n",
       "      <td>3.045944</td>\n",
       "      <td>2.803767</td>\n",
       "    </tr>\n",
       "    <tr>\n",
       "      <th>min</th>\n",
       "      <td>1.000000</td>\n",
       "      <td>1.000000</td>\n",
       "      <td>1.000000</td>\n",
       "      <td>1.000000</td>\n",
       "    </tr>\n",
       "    <tr>\n",
       "      <th>25%</th>\n",
       "      <td>3.000000</td>\n",
       "      <td>3.000000</td>\n",
       "      <td>3.000000</td>\n",
       "      <td>3.000000</td>\n",
       "    </tr>\n",
       "    <tr>\n",
       "      <th>50%</th>\n",
       "      <td>3.000000</td>\n",
       "      <td>3.000000</td>\n",
       "      <td>7.000000</td>\n",
       "      <td>5.000000</td>\n",
       "    </tr>\n",
       "    <tr>\n",
       "      <th>75%</th>\n",
       "      <td>8.000000</td>\n",
       "      <td>7.000000</td>\n",
       "      <td>8.000000</td>\n",
       "      <td>6.000000</td>\n",
       "    </tr>\n",
       "    <tr>\n",
       "      <th>max</th>\n",
       "      <td>10.000000</td>\n",
       "      <td>10.000000</td>\n",
       "      <td>9.000000</td>\n",
       "      <td>10.000000</td>\n",
       "    </tr>\n",
       "  </tbody>\n",
       "</table>\n",
       "</div>"
      ],
      "text/plain": [
       "           reach     impact  confidence     effort\n",
       "count   9.000000   9.000000    9.000000   9.000000\n",
       "mean    4.777778   4.777778    5.555556   4.888889\n",
       "std     3.153481   3.192874    3.045944   2.803767\n",
       "min     1.000000   1.000000    1.000000   1.000000\n",
       "25%     3.000000   3.000000    3.000000   3.000000\n",
       "50%     3.000000   3.000000    7.000000   5.000000\n",
       "75%     8.000000   7.000000    8.000000   6.000000\n",
       "max    10.000000  10.000000    9.000000  10.000000"
      ]
     },
     "execution_count": 10,
     "metadata": {},
     "output_type": "execute_result"
    }
   ],
   "source": [
    "data_hypo.describe()"
   ]
  },
  {
   "cell_type": "markdown",
   "metadata": {},
   "source": [
    "#### Data Cleaning Dataset data_orders"
   ]
  },
  {
   "cell_type": "code",
   "execution_count": 11,
   "metadata": {},
   "outputs": [
    {
     "name": "stdout",
     "output_type": "stream",
     "text": [
      "<class 'pandas.core.frame.DataFrame'>\n",
      "RangeIndex: 1197 entries, 0 to 1196\n",
      "Data columns (total 5 columns):\n",
      " #   Column         Non-Null Count  Dtype  \n",
      "---  ------         --------------  -----  \n",
      " 0   transactionId  1197 non-null   int64  \n",
      " 1   visitorId      1197 non-null   int64  \n",
      " 2   date           1197 non-null   object \n",
      " 3   revenue        1197 non-null   float64\n",
      " 4   group          1197 non-null   object \n",
      "dtypes: float64(1), int64(2), object(2)\n",
      "memory usage: 46.9+ KB\n"
     ]
    }
   ],
   "source": [
    "# Menampilkan informasi di dataset data_order\n",
    "data_order.info()"
   ]
  },
  {
   "cell_type": "code",
   "execution_count": 12,
   "metadata": {},
   "outputs": [],
   "source": [
    "#Merubah nama\n",
    "data_order = data_order.rename(columns={'transactionId':'transaction_id'})\n",
    "data_order = data_order.rename(columns={'visitorId':'visitor_id'})\n"
   ]
  },
  {
   "cell_type": "code",
   "execution_count": 13,
   "metadata": {},
   "outputs": [],
   "source": [
    "#merubah tipe data date semula object menjadi tipe data datetome\n",
    "data_order['date'] = pd.to_datetime(data_order['date'])"
   ]
  },
  {
   "cell_type": "code",
   "execution_count": 14,
   "metadata": {},
   "outputs": [
    {
     "data": {
      "text/html": [
       "<div>\n",
       "<style scoped>\n",
       "    .dataframe tbody tr th:only-of-type {\n",
       "        vertical-align: middle;\n",
       "    }\n",
       "\n",
       "    .dataframe tbody tr th {\n",
       "        vertical-align: top;\n",
       "    }\n",
       "\n",
       "    .dataframe thead th {\n",
       "        text-align: right;\n",
       "    }\n",
       "</style>\n",
       "<table border=\"1\" class=\"dataframe\">\n",
       "  <thead>\n",
       "    <tr style=\"text-align: right;\">\n",
       "      <th></th>\n",
       "      <th>transaction_id</th>\n",
       "      <th>visitor_id</th>\n",
       "      <th>date</th>\n",
       "      <th>revenue</th>\n",
       "      <th>group</th>\n",
       "    </tr>\n",
       "  </thead>\n",
       "  <tbody>\n",
       "  </tbody>\n",
       "</table>\n",
       "</div>"
      ],
      "text/plain": [
       "Empty DataFrame\n",
       "Columns: [transaction_id, visitor_id, date, revenue, group]\n",
       "Index: []"
      ]
     },
     "execution_count": 14,
     "metadata": {},
     "output_type": "execute_result"
    }
   ],
   "source": [
    "#cek data ganda\n",
    "duplicate_rows_order = data_order[data_order.duplicated()]\n",
    "duplicate_rows_order"
   ]
  },
  {
   "cell_type": "code",
   "execution_count": 15,
   "metadata": {},
   "outputs": [
    {
     "data": {
      "text/plain": [
       "transaction_id    0\n",
       "visitor_id        0\n",
       "date              0\n",
       "revenue           0\n",
       "group             0\n",
       "dtype: int64"
      ]
     },
     "execution_count": 15,
     "metadata": {},
     "output_type": "execute_result"
    }
   ],
   "source": [
    "#cek nilai yang hilang\n",
    "data_order.isnull().sum()"
   ]
  },
  {
   "cell_type": "code",
   "execution_count": 16,
   "metadata": {},
   "outputs": [
    {
     "name": "stdout",
     "output_type": "stream",
     "text": [
      "<class 'pandas.core.frame.DataFrame'>\n",
      "RangeIndex: 1197 entries, 0 to 1196\n",
      "Data columns (total 5 columns):\n",
      " #   Column          Non-Null Count  Dtype         \n",
      "---  ------          --------------  -----         \n",
      " 0   transaction_id  1197 non-null   int64         \n",
      " 1   visitor_id      1197 non-null   int64         \n",
      " 2   date            1197 non-null   datetime64[ns]\n",
      " 3   revenue         1197 non-null   float64       \n",
      " 4   group           1197 non-null   object        \n",
      "dtypes: datetime64[ns](1), float64(1), int64(2), object(1)\n",
      "memory usage: 46.9+ KB\n"
     ]
    }
   ],
   "source": [
    "data_order.info()"
   ]
  },
  {
   "cell_type": "code",
   "execution_count": 17,
   "metadata": {},
   "outputs": [
    {
     "data": {
      "text/html": [
       "<div>\n",
       "<style scoped>\n",
       "    .dataframe tbody tr th:only-of-type {\n",
       "        vertical-align: middle;\n",
       "    }\n",
       "\n",
       "    .dataframe tbody tr th {\n",
       "        vertical-align: top;\n",
       "    }\n",
       "\n",
       "    .dataframe thead th {\n",
       "        text-align: right;\n",
       "    }\n",
       "</style>\n",
       "<table border=\"1\" class=\"dataframe\">\n",
       "  <thead>\n",
       "    <tr style=\"text-align: right;\">\n",
       "      <th></th>\n",
       "      <th>transaction_id</th>\n",
       "      <th>visitor_id</th>\n",
       "      <th>date</th>\n",
       "      <th>revenue</th>\n",
       "      <th>group</th>\n",
       "    </tr>\n",
       "  </thead>\n",
       "  <tbody>\n",
       "    <tr>\n",
       "      <th>0</th>\n",
       "      <td>3667963787</td>\n",
       "      <td>3312258926</td>\n",
       "      <td>2019-08-15</td>\n",
       "      <td>30.4</td>\n",
       "      <td>B</td>\n",
       "    </tr>\n",
       "    <tr>\n",
       "      <th>1</th>\n",
       "      <td>2804400009</td>\n",
       "      <td>3642806036</td>\n",
       "      <td>2019-08-15</td>\n",
       "      <td>15.2</td>\n",
       "      <td>B</td>\n",
       "    </tr>\n",
       "    <tr>\n",
       "      <th>2</th>\n",
       "      <td>2961555356</td>\n",
       "      <td>4069496402</td>\n",
       "      <td>2019-08-15</td>\n",
       "      <td>10.2</td>\n",
       "      <td>A</td>\n",
       "    </tr>\n",
       "    <tr>\n",
       "      <th>3</th>\n",
       "      <td>3797467345</td>\n",
       "      <td>1196621759</td>\n",
       "      <td>2019-08-15</td>\n",
       "      <td>155.1</td>\n",
       "      <td>B</td>\n",
       "    </tr>\n",
       "    <tr>\n",
       "      <th>4</th>\n",
       "      <td>2282983706</td>\n",
       "      <td>2322279887</td>\n",
       "      <td>2019-08-15</td>\n",
       "      <td>40.5</td>\n",
       "      <td>B</td>\n",
       "    </tr>\n",
       "  </tbody>\n",
       "</table>\n",
       "</div>"
      ],
      "text/plain": [
       "   transaction_id  visitor_id       date  revenue group\n",
       "0      3667963787  3312258926 2019-08-15     30.4     B\n",
       "1      2804400009  3642806036 2019-08-15     15.2     B\n",
       "2      2961555356  4069496402 2019-08-15     10.2     A\n",
       "3      3797467345  1196621759 2019-08-15    155.1     B\n",
       "4      2282983706  2322279887 2019-08-15     40.5     B"
      ]
     },
     "execution_count": 17,
     "metadata": {},
     "output_type": "execute_result"
    }
   ],
   "source": [
    "data_order.head()"
   ]
  },
  {
   "cell_type": "markdown",
   "metadata": {},
   "source": [
    "#### Data Cleaning Dataset data_visits"
   ]
  },
  {
   "cell_type": "code",
   "execution_count": 18,
   "metadata": {},
   "outputs": [
    {
     "name": "stdout",
     "output_type": "stream",
     "text": [
      "<class 'pandas.core.frame.DataFrame'>\n",
      "RangeIndex: 62 entries, 0 to 61\n",
      "Data columns (total 3 columns):\n",
      " #   Column  Non-Null Count  Dtype \n",
      "---  ------  --------------  ----- \n",
      " 0   date    62 non-null     object\n",
      " 1   group   62 non-null     object\n",
      " 2   visits  62 non-null     int64 \n",
      "dtypes: int64(1), object(2)\n",
      "memory usage: 1.6+ KB\n"
     ]
    }
   ],
   "source": [
    "# Menampilkan informasi di dataset data_costs\n",
    "data_visits.info()"
   ]
  },
  {
   "cell_type": "code",
   "execution_count": 19,
   "metadata": {},
   "outputs": [],
   "source": [
    "#merubah tipe data date semula object menjadi tipe data datetome\n",
    "data_visits['date'] = pd.to_datetime(data_visits['date'])"
   ]
  },
  {
   "cell_type": "code",
   "execution_count": 20,
   "metadata": {},
   "outputs": [
    {
     "data": {
      "text/plain": [
       "0"
      ]
     },
     "execution_count": 20,
     "metadata": {},
     "output_type": "execute_result"
    }
   ],
   "source": [
    "#cek data ganda\n",
    "data_visits.duplicated().sum()"
   ]
  },
  {
   "cell_type": "code",
   "execution_count": 21,
   "metadata": {},
   "outputs": [
    {
     "data": {
      "text/plain": [
       "date      0\n",
       "group     0\n",
       "visits    0\n",
       "dtype: int64"
      ]
     },
     "execution_count": 21,
     "metadata": {},
     "output_type": "execute_result"
    }
   ],
   "source": [
    "#cek nilai hilang\n",
    "data_visits.isnull().sum()"
   ]
  },
  {
   "cell_type": "code",
   "execution_count": 22,
   "metadata": {},
   "outputs": [
    {
     "data": {
      "text/html": [
       "<div>\n",
       "<style scoped>\n",
       "    .dataframe tbody tr th:only-of-type {\n",
       "        vertical-align: middle;\n",
       "    }\n",
       "\n",
       "    .dataframe tbody tr th {\n",
       "        vertical-align: top;\n",
       "    }\n",
       "\n",
       "    .dataframe thead th {\n",
       "        text-align: right;\n",
       "    }\n",
       "</style>\n",
       "<table border=\"1\" class=\"dataframe\">\n",
       "  <thead>\n",
       "    <tr style=\"text-align: right;\">\n",
       "      <th></th>\n",
       "      <th>date</th>\n",
       "      <th>group</th>\n",
       "      <th>visits</th>\n",
       "    </tr>\n",
       "  </thead>\n",
       "  <tbody>\n",
       "    <tr>\n",
       "      <th>0</th>\n",
       "      <td>2019-08-01</td>\n",
       "      <td>A</td>\n",
       "      <td>719</td>\n",
       "    </tr>\n",
       "    <tr>\n",
       "      <th>1</th>\n",
       "      <td>2019-08-02</td>\n",
       "      <td>A</td>\n",
       "      <td>619</td>\n",
       "    </tr>\n",
       "    <tr>\n",
       "      <th>2</th>\n",
       "      <td>2019-08-03</td>\n",
       "      <td>A</td>\n",
       "      <td>507</td>\n",
       "    </tr>\n",
       "    <tr>\n",
       "      <th>3</th>\n",
       "      <td>2019-08-04</td>\n",
       "      <td>A</td>\n",
       "      <td>717</td>\n",
       "    </tr>\n",
       "    <tr>\n",
       "      <th>4</th>\n",
       "      <td>2019-08-05</td>\n",
       "      <td>A</td>\n",
       "      <td>756</td>\n",
       "    </tr>\n",
       "  </tbody>\n",
       "</table>\n",
       "</div>"
      ],
      "text/plain": [
       "        date group  visits\n",
       "0 2019-08-01     A     719\n",
       "1 2019-08-02     A     619\n",
       "2 2019-08-03     A     507\n",
       "3 2019-08-04     A     717\n",
       "4 2019-08-05     A     756"
      ]
     },
     "execution_count": 22,
     "metadata": {},
     "output_type": "execute_result"
    }
   ],
   "source": [
    "data_visits.head()"
   ]
  },
  {
   "cell_type": "markdown",
   "metadata": {},
   "source": [
    "## Bagian 1. Memprioritaskan Hipotesis"
   ]
  },
  {
   "cell_type": "markdown",
   "metadata": {},
   "source": [
    "### Menerapkan framework ICE"
   ]
  },
  {
   "cell_type": "markdown",
   "metadata": {},
   "source": [
    "Menerapkan framework ICE untuk memprioritaskan hipotesis. Urutkan hipotesis tersebut dalam urutan prioritas menurun."
   ]
  },
  {
   "cell_type": "code",
   "execution_count": 23,
   "metadata": {},
   "outputs": [
    {
     "data": {
      "text/html": [
       "<div>\n",
       "<style scoped>\n",
       "    .dataframe tbody tr th:only-of-type {\n",
       "        vertical-align: middle;\n",
       "    }\n",
       "\n",
       "    .dataframe tbody tr th {\n",
       "        vertical-align: top;\n",
       "    }\n",
       "\n",
       "    .dataframe thead th {\n",
       "        text-align: right;\n",
       "    }\n",
       "</style>\n",
       "<table border=\"1\" class=\"dataframe\">\n",
       "  <thead>\n",
       "    <tr style=\"text-align: right;\">\n",
       "      <th></th>\n",
       "      <th>hypothesis</th>\n",
       "      <th>reach</th>\n",
       "      <th>impact</th>\n",
       "      <th>confidence</th>\n",
       "      <th>effort</th>\n",
       "    </tr>\n",
       "  </thead>\n",
       "  <tbody>\n",
       "    <tr>\n",
       "      <th>0</th>\n",
       "      <td>Add two new channels for attracting traffic. T...</td>\n",
       "      <td>3.0</td>\n",
       "      <td>10.0</td>\n",
       "      <td>8.0</td>\n",
       "      <td>6.0</td>\n",
       "    </tr>\n",
       "    <tr>\n",
       "      <th>1</th>\n",
       "      <td>Launch your own delivery service. This will sh...</td>\n",
       "      <td>2.0</td>\n",
       "      <td>5.0</td>\n",
       "      <td>4.0</td>\n",
       "      <td>10.0</td>\n",
       "    </tr>\n",
       "    <tr>\n",
       "      <th>2</th>\n",
       "      <td>Add product recommendation blocks to the store...</td>\n",
       "      <td>8.0</td>\n",
       "      <td>3.0</td>\n",
       "      <td>7.0</td>\n",
       "      <td>3.0</td>\n",
       "    </tr>\n",
       "    <tr>\n",
       "      <th>3</th>\n",
       "      <td>Change the category structure. This will incre...</td>\n",
       "      <td>8.0</td>\n",
       "      <td>3.0</td>\n",
       "      <td>3.0</td>\n",
       "      <td>8.0</td>\n",
       "    </tr>\n",
       "    <tr>\n",
       "      <th>4</th>\n",
       "      <td>Change the background color on the main page. ...</td>\n",
       "      <td>3.0</td>\n",
       "      <td>1.0</td>\n",
       "      <td>1.0</td>\n",
       "      <td>1.0</td>\n",
       "    </tr>\n",
       "    <tr>\n",
       "      <th>5</th>\n",
       "      <td>Add a customer review page. This will increase...</td>\n",
       "      <td>3.0</td>\n",
       "      <td>2.0</td>\n",
       "      <td>2.0</td>\n",
       "      <td>3.0</td>\n",
       "    </tr>\n",
       "    <tr>\n",
       "      <th>6</th>\n",
       "      <td>Show banners with current offers and sales on ...</td>\n",
       "      <td>5.0</td>\n",
       "      <td>3.0</td>\n",
       "      <td>8.0</td>\n",
       "      <td>3.0</td>\n",
       "    </tr>\n",
       "    <tr>\n",
       "      <th>7</th>\n",
       "      <td>Add a subscription form to all the main pages....</td>\n",
       "      <td>10.0</td>\n",
       "      <td>7.0</td>\n",
       "      <td>8.0</td>\n",
       "      <td>5.0</td>\n",
       "    </tr>\n",
       "    <tr>\n",
       "      <th>8</th>\n",
       "      <td>Launch a promotion that gives users discounts ...</td>\n",
       "      <td>1.0</td>\n",
       "      <td>9.0</td>\n",
       "      <td>9.0</td>\n",
       "      <td>5.0</td>\n",
       "    </tr>\n",
       "  </tbody>\n",
       "</table>\n",
       "</div>"
      ],
      "text/plain": [
       "                                          hypothesis  reach  impact  \\\n",
       "0  Add two new channels for attracting traffic. T...    3.0    10.0   \n",
       "1  Launch your own delivery service. This will sh...    2.0     5.0   \n",
       "2  Add product recommendation blocks to the store...    8.0     3.0   \n",
       "3  Change the category structure. This will incre...    8.0     3.0   \n",
       "4  Change the background color on the main page. ...    3.0     1.0   \n",
       "5  Add a customer review page. This will increase...    3.0     2.0   \n",
       "6  Show banners with current offers and sales on ...    5.0     3.0   \n",
       "7  Add a subscription form to all the main pages....   10.0     7.0   \n",
       "8  Launch a promotion that gives users discounts ...    1.0     9.0   \n",
       "\n",
       "   confidence  effort  \n",
       "0         8.0     6.0  \n",
       "1         4.0    10.0  \n",
       "2         7.0     3.0  \n",
       "3         3.0     8.0  \n",
       "4         1.0     1.0  \n",
       "5         2.0     3.0  \n",
       "6         8.0     3.0  \n",
       "7         8.0     5.0  \n",
       "8         9.0     5.0  "
      ]
     },
     "execution_count": 23,
     "metadata": {},
     "output_type": "execute_result"
    }
   ],
   "source": [
    "#Menampilkan nilai di data_hypo\n",
    "data_hypo"
   ]
  },
  {
   "cell_type": "code",
   "execution_count": 24,
   "metadata": {},
   "outputs": [
    {
     "data": {
      "text/html": [
       "<div>\n",
       "<style scoped>\n",
       "    .dataframe tbody tr th:only-of-type {\n",
       "        vertical-align: middle;\n",
       "    }\n",
       "\n",
       "    .dataframe tbody tr th {\n",
       "        vertical-align: top;\n",
       "    }\n",
       "\n",
       "    .dataframe thead th {\n",
       "        text-align: right;\n",
       "    }\n",
       "</style>\n",
       "<table border=\"1\" class=\"dataframe\">\n",
       "  <thead>\n",
       "    <tr style=\"text-align: right;\">\n",
       "      <th></th>\n",
       "      <th>hypothesis</th>\n",
       "      <th>ICE</th>\n",
       "    </tr>\n",
       "  </thead>\n",
       "  <tbody>\n",
       "    <tr>\n",
       "      <th>8</th>\n",
       "      <td>Launch a promotion that gives users discounts ...</td>\n",
       "      <td>16.200000</td>\n",
       "    </tr>\n",
       "    <tr>\n",
       "      <th>0</th>\n",
       "      <td>Add two new channels for attracting traffic. T...</td>\n",
       "      <td>13.333333</td>\n",
       "    </tr>\n",
       "    <tr>\n",
       "      <th>7</th>\n",
       "      <td>Add a subscription form to all the main pages....</td>\n",
       "      <td>11.200000</td>\n",
       "    </tr>\n",
       "    <tr>\n",
       "      <th>6</th>\n",
       "      <td>Show banners with current offers and sales on ...</td>\n",
       "      <td>8.000000</td>\n",
       "    </tr>\n",
       "    <tr>\n",
       "      <th>2</th>\n",
       "      <td>Add product recommendation blocks to the store...</td>\n",
       "      <td>7.000000</td>\n",
       "    </tr>\n",
       "    <tr>\n",
       "      <th>1</th>\n",
       "      <td>Launch your own delivery service. This will sh...</td>\n",
       "      <td>2.000000</td>\n",
       "    </tr>\n",
       "    <tr>\n",
       "      <th>5</th>\n",
       "      <td>Add a customer review page. This will increase...</td>\n",
       "      <td>1.333333</td>\n",
       "    </tr>\n",
       "    <tr>\n",
       "      <th>3</th>\n",
       "      <td>Change the category structure. This will incre...</td>\n",
       "      <td>1.125000</td>\n",
       "    </tr>\n",
       "    <tr>\n",
       "      <th>4</th>\n",
       "      <td>Change the background color on the main page. ...</td>\n",
       "      <td>1.000000</td>\n",
       "    </tr>\n",
       "  </tbody>\n",
       "</table>\n",
       "</div>"
      ],
      "text/plain": [
       "                                          hypothesis        ICE\n",
       "8  Launch a promotion that gives users discounts ...  16.200000\n",
       "0  Add two new channels for attracting traffic. T...  13.333333\n",
       "7  Add a subscription form to all the main pages....  11.200000\n",
       "6  Show banners with current offers and sales on ...   8.000000\n",
       "2  Add product recommendation blocks to the store...   7.000000\n",
       "1  Launch your own delivery service. This will sh...   2.000000\n",
       "5  Add a customer review page. This will increase...   1.333333\n",
       "3  Change the category structure. This will incre...   1.125000\n",
       "4  Change the background color on the main page. ...   1.000000"
      ]
     },
     "execution_count": 24,
     "metadata": {},
     "output_type": "execute_result"
    }
   ],
   "source": [
    "#Menghitung skor ICE\n",
    "data_hypo['ICE'] = (data_hypo['impact'] * data_hypo['confidence']) / data_hypo['effort']\n",
    "\n",
    "# Menampilkan kolom hypothesis dan ICE, diurutkan secara menurun berdasarkan skor ICE\n",
    "sorted_data_ice = data_hypo[['hypothesis','ICE']].sort_values(by='ICE',ascending=False)\n",
    "\n",
    "# Menampilkan DataFrame hasil pengurutan\n",
    "sorted_data_ice"
   ]
  },
  {
   "cell_type": "markdown",
   "metadata": {},
   "source": [
    "### Menerapkan framework RICE"
   ]
  },
  {
   "cell_type": "markdown",
   "metadata": {},
   "source": [
    "Menerapkan framework RICE untuk memprioritaskan hipotesis. \n",
    "Urutkan hipotesis tersebut dalam urutan prioritas menurun."
   ]
  },
  {
   "cell_type": "code",
   "execution_count": 25,
   "metadata": {},
   "outputs": [
    {
     "data": {
      "text/html": [
       "<div>\n",
       "<style scoped>\n",
       "    .dataframe tbody tr th:only-of-type {\n",
       "        vertical-align: middle;\n",
       "    }\n",
       "\n",
       "    .dataframe tbody tr th {\n",
       "        vertical-align: top;\n",
       "    }\n",
       "\n",
       "    .dataframe thead th {\n",
       "        text-align: right;\n",
       "    }\n",
       "</style>\n",
       "<table border=\"1\" class=\"dataframe\">\n",
       "  <thead>\n",
       "    <tr style=\"text-align: right;\">\n",
       "      <th></th>\n",
       "      <th>hypothesis</th>\n",
       "      <th>reach</th>\n",
       "      <th>impact</th>\n",
       "      <th>confidence</th>\n",
       "      <th>effort</th>\n",
       "      <th>ICE</th>\n",
       "    </tr>\n",
       "  </thead>\n",
       "  <tbody>\n",
       "    <tr>\n",
       "      <th>0</th>\n",
       "      <td>Add two new channels for attracting traffic. T...</td>\n",
       "      <td>3.0</td>\n",
       "      <td>10.0</td>\n",
       "      <td>8.0</td>\n",
       "      <td>6.0</td>\n",
       "      <td>13.333333</td>\n",
       "    </tr>\n",
       "    <tr>\n",
       "      <th>1</th>\n",
       "      <td>Launch your own delivery service. This will sh...</td>\n",
       "      <td>2.0</td>\n",
       "      <td>5.0</td>\n",
       "      <td>4.0</td>\n",
       "      <td>10.0</td>\n",
       "      <td>2.000000</td>\n",
       "    </tr>\n",
       "    <tr>\n",
       "      <th>2</th>\n",
       "      <td>Add product recommendation blocks to the store...</td>\n",
       "      <td>8.0</td>\n",
       "      <td>3.0</td>\n",
       "      <td>7.0</td>\n",
       "      <td>3.0</td>\n",
       "      <td>7.000000</td>\n",
       "    </tr>\n",
       "    <tr>\n",
       "      <th>3</th>\n",
       "      <td>Change the category structure. This will incre...</td>\n",
       "      <td>8.0</td>\n",
       "      <td>3.0</td>\n",
       "      <td>3.0</td>\n",
       "      <td>8.0</td>\n",
       "      <td>1.125000</td>\n",
       "    </tr>\n",
       "    <tr>\n",
       "      <th>4</th>\n",
       "      <td>Change the background color on the main page. ...</td>\n",
       "      <td>3.0</td>\n",
       "      <td>1.0</td>\n",
       "      <td>1.0</td>\n",
       "      <td>1.0</td>\n",
       "      <td>1.000000</td>\n",
       "    </tr>\n",
       "    <tr>\n",
       "      <th>5</th>\n",
       "      <td>Add a customer review page. This will increase...</td>\n",
       "      <td>3.0</td>\n",
       "      <td>2.0</td>\n",
       "      <td>2.0</td>\n",
       "      <td>3.0</td>\n",
       "      <td>1.333333</td>\n",
       "    </tr>\n",
       "    <tr>\n",
       "      <th>6</th>\n",
       "      <td>Show banners with current offers and sales on ...</td>\n",
       "      <td>5.0</td>\n",
       "      <td>3.0</td>\n",
       "      <td>8.0</td>\n",
       "      <td>3.0</td>\n",
       "      <td>8.000000</td>\n",
       "    </tr>\n",
       "    <tr>\n",
       "      <th>7</th>\n",
       "      <td>Add a subscription form to all the main pages....</td>\n",
       "      <td>10.0</td>\n",
       "      <td>7.0</td>\n",
       "      <td>8.0</td>\n",
       "      <td>5.0</td>\n",
       "      <td>11.200000</td>\n",
       "    </tr>\n",
       "    <tr>\n",
       "      <th>8</th>\n",
       "      <td>Launch a promotion that gives users discounts ...</td>\n",
       "      <td>1.0</td>\n",
       "      <td>9.0</td>\n",
       "      <td>9.0</td>\n",
       "      <td>5.0</td>\n",
       "      <td>16.200000</td>\n",
       "    </tr>\n",
       "  </tbody>\n",
       "</table>\n",
       "</div>"
      ],
      "text/plain": [
       "                                          hypothesis  reach  impact  \\\n",
       "0  Add two new channels for attracting traffic. T...    3.0    10.0   \n",
       "1  Launch your own delivery service. This will sh...    2.0     5.0   \n",
       "2  Add product recommendation blocks to the store...    8.0     3.0   \n",
       "3  Change the category structure. This will incre...    8.0     3.0   \n",
       "4  Change the background color on the main page. ...    3.0     1.0   \n",
       "5  Add a customer review page. This will increase...    3.0     2.0   \n",
       "6  Show banners with current offers and sales on ...    5.0     3.0   \n",
       "7  Add a subscription form to all the main pages....   10.0     7.0   \n",
       "8  Launch a promotion that gives users discounts ...    1.0     9.0   \n",
       "\n",
       "   confidence  effort        ICE  \n",
       "0         8.0     6.0  13.333333  \n",
       "1         4.0    10.0   2.000000  \n",
       "2         7.0     3.0   7.000000  \n",
       "3         3.0     8.0   1.125000  \n",
       "4         1.0     1.0   1.000000  \n",
       "5         2.0     3.0   1.333333  \n",
       "6         8.0     3.0   8.000000  \n",
       "7         8.0     5.0  11.200000  \n",
       "8         9.0     5.0  16.200000  "
      ]
     },
     "execution_count": 25,
     "metadata": {},
     "output_type": "execute_result"
    }
   ],
   "source": [
    "#Menampilkan nilai di data_hypo\n",
    "data_hypo"
   ]
  },
  {
   "cell_type": "code",
   "execution_count": 26,
   "metadata": {},
   "outputs": [
    {
     "data": {
      "text/html": [
       "<div>\n",
       "<style scoped>\n",
       "    .dataframe tbody tr th:only-of-type {\n",
       "        vertical-align: middle;\n",
       "    }\n",
       "\n",
       "    .dataframe tbody tr th {\n",
       "        vertical-align: top;\n",
       "    }\n",
       "\n",
       "    .dataframe thead th {\n",
       "        text-align: right;\n",
       "    }\n",
       "</style>\n",
       "<table border=\"1\" class=\"dataframe\">\n",
       "  <thead>\n",
       "    <tr style=\"text-align: right;\">\n",
       "      <th></th>\n",
       "      <th>hypothesis</th>\n",
       "      <th>RICE</th>\n",
       "    </tr>\n",
       "  </thead>\n",
       "  <tbody>\n",
       "    <tr>\n",
       "      <th>7</th>\n",
       "      <td>Add a subscription form to all the main pages....</td>\n",
       "      <td>112.0</td>\n",
       "    </tr>\n",
       "    <tr>\n",
       "      <th>2</th>\n",
       "      <td>Add product recommendation blocks to the store...</td>\n",
       "      <td>56.0</td>\n",
       "    </tr>\n",
       "    <tr>\n",
       "      <th>0</th>\n",
       "      <td>Add two new channels for attracting traffic. T...</td>\n",
       "      <td>40.0</td>\n",
       "    </tr>\n",
       "    <tr>\n",
       "      <th>6</th>\n",
       "      <td>Show banners with current offers and sales on ...</td>\n",
       "      <td>40.0</td>\n",
       "    </tr>\n",
       "    <tr>\n",
       "      <th>8</th>\n",
       "      <td>Launch a promotion that gives users discounts ...</td>\n",
       "      <td>16.2</td>\n",
       "    </tr>\n",
       "    <tr>\n",
       "      <th>3</th>\n",
       "      <td>Change the category structure. This will incre...</td>\n",
       "      <td>9.0</td>\n",
       "    </tr>\n",
       "    <tr>\n",
       "      <th>1</th>\n",
       "      <td>Launch your own delivery service. This will sh...</td>\n",
       "      <td>4.0</td>\n",
       "    </tr>\n",
       "    <tr>\n",
       "      <th>5</th>\n",
       "      <td>Add a customer review page. This will increase...</td>\n",
       "      <td>4.0</td>\n",
       "    </tr>\n",
       "    <tr>\n",
       "      <th>4</th>\n",
       "      <td>Change the background color on the main page. ...</td>\n",
       "      <td>3.0</td>\n",
       "    </tr>\n",
       "  </tbody>\n",
       "</table>\n",
       "</div>"
      ],
      "text/plain": [
       "                                          hypothesis   RICE\n",
       "7  Add a subscription form to all the main pages....  112.0\n",
       "2  Add product recommendation blocks to the store...   56.0\n",
       "0  Add two new channels for attracting traffic. T...   40.0\n",
       "6  Show banners with current offers and sales on ...   40.0\n",
       "8  Launch a promotion that gives users discounts ...   16.2\n",
       "3  Change the category structure. This will incre...    9.0\n",
       "1  Launch your own delivery service. This will sh...    4.0\n",
       "5  Add a customer review page. This will increase...    4.0\n",
       "4  Change the background color on the main page. ...    3.0"
      ]
     },
     "execution_count": 26,
     "metadata": {},
     "output_type": "execute_result"
    }
   ],
   "source": [
    "# Menghitung nilai RICE\n",
    "data_hypo['RICE'] = (data_hypo['reach'] * data_hypo['impact'] * data_hypo['confidence']) / data_hypo['effort']\n",
    "\n",
    "# Menampilkan kolom 'hypothesis dan 'RICE', diurutkan menurun berdasarkan nilai 'RICE'\n",
    "sorted_data_rice = data_hypo[['hypothesis', 'RICE']].sort_values(by='RICE', ascending=False)\n",
    "\n",
    "#Menampilkan hasil setelah diurutkan\n",
    "sorted_data_rice"
   ]
  },
  {
   "cell_type": "code",
   "execution_count": 27,
   "metadata": {},
   "outputs": [
    {
     "data": {
      "text/html": [
       "<div>\n",
       "<style scoped>\n",
       "    .dataframe tbody tr th:only-of-type {\n",
       "        vertical-align: middle;\n",
       "    }\n",
       "\n",
       "    .dataframe tbody tr th {\n",
       "        vertical-align: top;\n",
       "    }\n",
       "\n",
       "    .dataframe thead th {\n",
       "        text-align: right;\n",
       "    }\n",
       "</style>\n",
       "<table border=\"1\" class=\"dataframe\">\n",
       "  <thead>\n",
       "    <tr style=\"text-align: right;\">\n",
       "      <th></th>\n",
       "      <th>hypothesis</th>\n",
       "      <th>reach</th>\n",
       "      <th>impact</th>\n",
       "      <th>confidence</th>\n",
       "      <th>effort</th>\n",
       "      <th>ICE</th>\n",
       "      <th>RICE</th>\n",
       "    </tr>\n",
       "  </thead>\n",
       "  <tbody>\n",
       "    <tr>\n",
       "      <th>0</th>\n",
       "      <td>Add two new channels for attracting traffic. T...</td>\n",
       "      <td>3.0</td>\n",
       "      <td>10.0</td>\n",
       "      <td>8.0</td>\n",
       "      <td>6.0</td>\n",
       "      <td>13.333333</td>\n",
       "      <td>40.0</td>\n",
       "    </tr>\n",
       "    <tr>\n",
       "      <th>1</th>\n",
       "      <td>Launch your own delivery service. This will sh...</td>\n",
       "      <td>2.0</td>\n",
       "      <td>5.0</td>\n",
       "      <td>4.0</td>\n",
       "      <td>10.0</td>\n",
       "      <td>2.000000</td>\n",
       "      <td>4.0</td>\n",
       "    </tr>\n",
       "    <tr>\n",
       "      <th>2</th>\n",
       "      <td>Add product recommendation blocks to the store...</td>\n",
       "      <td>8.0</td>\n",
       "      <td>3.0</td>\n",
       "      <td>7.0</td>\n",
       "      <td>3.0</td>\n",
       "      <td>7.000000</td>\n",
       "      <td>56.0</td>\n",
       "    </tr>\n",
       "    <tr>\n",
       "      <th>3</th>\n",
       "      <td>Change the category structure. This will incre...</td>\n",
       "      <td>8.0</td>\n",
       "      <td>3.0</td>\n",
       "      <td>3.0</td>\n",
       "      <td>8.0</td>\n",
       "      <td>1.125000</td>\n",
       "      <td>9.0</td>\n",
       "    </tr>\n",
       "    <tr>\n",
       "      <th>4</th>\n",
       "      <td>Change the background color on the main page. ...</td>\n",
       "      <td>3.0</td>\n",
       "      <td>1.0</td>\n",
       "      <td>1.0</td>\n",
       "      <td>1.0</td>\n",
       "      <td>1.000000</td>\n",
       "      <td>3.0</td>\n",
       "    </tr>\n",
       "    <tr>\n",
       "      <th>5</th>\n",
       "      <td>Add a customer review page. This will increase...</td>\n",
       "      <td>3.0</td>\n",
       "      <td>2.0</td>\n",
       "      <td>2.0</td>\n",
       "      <td>3.0</td>\n",
       "      <td>1.333333</td>\n",
       "      <td>4.0</td>\n",
       "    </tr>\n",
       "    <tr>\n",
       "      <th>6</th>\n",
       "      <td>Show banners with current offers and sales on ...</td>\n",
       "      <td>5.0</td>\n",
       "      <td>3.0</td>\n",
       "      <td>8.0</td>\n",
       "      <td>3.0</td>\n",
       "      <td>8.000000</td>\n",
       "      <td>40.0</td>\n",
       "    </tr>\n",
       "    <tr>\n",
       "      <th>7</th>\n",
       "      <td>Add a subscription form to all the main pages....</td>\n",
       "      <td>10.0</td>\n",
       "      <td>7.0</td>\n",
       "      <td>8.0</td>\n",
       "      <td>5.0</td>\n",
       "      <td>11.200000</td>\n",
       "      <td>112.0</td>\n",
       "    </tr>\n",
       "    <tr>\n",
       "      <th>8</th>\n",
       "      <td>Launch a promotion that gives users discounts ...</td>\n",
       "      <td>1.0</td>\n",
       "      <td>9.0</td>\n",
       "      <td>9.0</td>\n",
       "      <td>5.0</td>\n",
       "      <td>16.200000</td>\n",
       "      <td>16.2</td>\n",
       "    </tr>\n",
       "  </tbody>\n",
       "</table>\n",
       "</div>"
      ],
      "text/plain": [
       "                                          hypothesis  reach  impact  \\\n",
       "0  Add two new channels for attracting traffic. T...    3.0    10.0   \n",
       "1  Launch your own delivery service. This will sh...    2.0     5.0   \n",
       "2  Add product recommendation blocks to the store...    8.0     3.0   \n",
       "3  Change the category structure. This will incre...    8.0     3.0   \n",
       "4  Change the background color on the main page. ...    3.0     1.0   \n",
       "5  Add a customer review page. This will increase...    3.0     2.0   \n",
       "6  Show banners with current offers and sales on ...    5.0     3.0   \n",
       "7  Add a subscription form to all the main pages....   10.0     7.0   \n",
       "8  Launch a promotion that gives users discounts ...    1.0     9.0   \n",
       "\n",
       "   confidence  effort        ICE   RICE  \n",
       "0         8.0     6.0  13.333333   40.0  \n",
       "1         4.0    10.0   2.000000    4.0  \n",
       "2         7.0     3.0   7.000000   56.0  \n",
       "3         3.0     8.0   1.125000    9.0  \n",
       "4         1.0     1.0   1.000000    3.0  \n",
       "5         2.0     3.0   1.333333    4.0  \n",
       "6         8.0     3.0   8.000000   40.0  \n",
       "7         8.0     5.0  11.200000  112.0  \n",
       "8         9.0     5.0  16.200000   16.2  "
      ]
     },
     "execution_count": 27,
     "metadata": {},
     "output_type": "execute_result"
    }
   ],
   "source": [
    "#Menampilkan data_hypo latest\n",
    "data_hypo"
   ]
  },
  {
   "cell_type": "markdown",
   "metadata": {},
   "source": [
    "### Perubahan Prioritas Hipotesis"
   ]
  },
  {
   "cell_type": "markdown",
   "metadata": {},
   "source": [
    "Menunjukkan perubahan prioritas hipotesis saat RICE diterapkan untuk menggantikan ICE. \n",
    "Berikan penjelasan terkait perubahan tersebut."
   ]
  },
  {
   "cell_type": "markdown",
   "metadata": {},
   "source": [
    "Dalam data_hypo, terdapat perubahan prioritas hipotesis saat RICE diterapkan untuk menggantikan ICE.\n",
    "Berikut analisanya sebelumnya saat menggunakan skor ICE, nilai tertinggi dianggap sebagai prioritas utama. \n",
    "Namun setelah skor RICE diterapkan, perubahan prioritas terjasi, karena ikut mempertimbangkan faktor \"reach\" dalam perhitungan skor.\n",
    "\n",
    "\n",
    "Berikut perubahan prioritas hipotesis dalam data_hypo :\n",
    "\n",
    "    Record 1. 'Add two new channels for attracting traffic. This will bring 30% more users'\n",
    "        Nilai ICE: 13.333333\n",
    "        Nilai RICE: 40.0\n",
    "        \n",
    "    Record 2. 'Launch your own delivery service. This will shorten delivery time'\n",
    "        Nilai ICE: 2.000000\n",
    "        Nilai RICE: 4.0\n",
    "        \n",
    "    Record 3. 'Add product recommendation blocks to the store's site. This will increase conversion and average purchase size'\n",
    "        Nilai ICE: 7.000000\n",
    "        Nilai RICE: 56.0\n",
    "\n",
    "\n",
    "   Dari ke 3 contoh record diatas dapat disimpulkan perubahan prioritas dalam data_hypo terjadi karena RICE mempertimbangkan faktor jangkauan pengguna dalam menentukan prioritas. dan jangkauan yang luas akan mendapatkan skor RICE yang lebih tinggi, dan dengan demikian, naik dalam prioritas. Ini membantu fokus pada hipotesis yang memiliki potensi dampak yang lebih besar"
   ]
  },
  {
   "cell_type": "markdown",
   "metadata": {},
   "source": [
    "## Bagian 2. Analisis A/B Testing"
   ]
  },
  {
   "cell_type": "markdown",
   "metadata": {},
   "source": [
    "Menganalisis A/B testing:"
   ]
  },
  {
   "cell_type": "markdown",
   "metadata": {},
   "source": [
    "### Membuat Metrik Kumulatif "
   ]
  },
  {
   "cell_type": "code",
   "execution_count": 28,
   "metadata": {},
   "outputs": [
    {
     "data": {
      "text/html": [
       "<div>\n",
       "<style scoped>\n",
       "    .dataframe tbody tr th:only-of-type {\n",
       "        vertical-align: middle;\n",
       "    }\n",
       "\n",
       "    .dataframe tbody tr th {\n",
       "        vertical-align: top;\n",
       "    }\n",
       "\n",
       "    .dataframe thead th {\n",
       "        text-align: right;\n",
       "    }\n",
       "</style>\n",
       "<table border=\"1\" class=\"dataframe\">\n",
       "  <thead>\n",
       "    <tr style=\"text-align: right;\">\n",
       "      <th></th>\n",
       "      <th>date</th>\n",
       "      <th>group</th>\n",
       "    </tr>\n",
       "  </thead>\n",
       "  <tbody>\n",
       "    <tr>\n",
       "      <th>0</th>\n",
       "      <td>2019-08-15</td>\n",
       "      <td>B</td>\n",
       "    </tr>\n",
       "    <tr>\n",
       "      <th>2</th>\n",
       "      <td>2019-08-15</td>\n",
       "      <td>A</td>\n",
       "    </tr>\n",
       "    <tr>\n",
       "      <th>45</th>\n",
       "      <td>2019-08-16</td>\n",
       "      <td>A</td>\n",
       "    </tr>\n",
       "    <tr>\n",
       "      <th>47</th>\n",
       "      <td>2019-08-16</td>\n",
       "      <td>B</td>\n",
       "    </tr>\n",
       "    <tr>\n",
       "      <th>55</th>\n",
       "      <td>2019-08-01</td>\n",
       "      <td>A</td>\n",
       "    </tr>\n",
       "    <tr>\n",
       "      <th>...</th>\n",
       "      <td>...</td>\n",
       "      <td>...</td>\n",
       "    </tr>\n",
       "    <tr>\n",
       "      <th>1068</th>\n",
       "      <td>2019-08-12</td>\n",
       "      <td>A</td>\n",
       "    </tr>\n",
       "    <tr>\n",
       "      <th>1114</th>\n",
       "      <td>2019-08-13</td>\n",
       "      <td>B</td>\n",
       "    </tr>\n",
       "    <tr>\n",
       "      <th>1116</th>\n",
       "      <td>2019-08-13</td>\n",
       "      <td>A</td>\n",
       "    </tr>\n",
       "    <tr>\n",
       "      <th>1149</th>\n",
       "      <td>2019-08-14</td>\n",
       "      <td>B</td>\n",
       "    </tr>\n",
       "    <tr>\n",
       "      <th>1150</th>\n",
       "      <td>2019-08-14</td>\n",
       "      <td>A</td>\n",
       "    </tr>\n",
       "  </tbody>\n",
       "</table>\n",
       "<p>62 rows × 2 columns</p>\n",
       "</div>"
      ],
      "text/plain": [
       "           date group\n",
       "0    2019-08-15     B\n",
       "2    2019-08-15     A\n",
       "45   2019-08-16     A\n",
       "47   2019-08-16     B\n",
       "55   2019-08-01     A\n",
       "...         ...   ...\n",
       "1068 2019-08-12     A\n",
       "1114 2019-08-13     B\n",
       "1116 2019-08-13     A\n",
       "1149 2019-08-14     B\n",
       "1150 2019-08-14     A\n",
       "\n",
       "[62 rows x 2 columns]"
      ]
     },
     "execution_count": 28,
     "metadata": {},
     "output_type": "execute_result"
    }
   ],
   "source": [
    "datesgroups = data_order[['date', 'group']].drop_duplicates()\n",
    "datesgroups"
   ]
  },
  {
   "cell_type": "code",
   "execution_count": 29,
   "metadata": {},
   "outputs": [],
   "source": [
    "#Membuat variabel ordersAggregated dengan informasi yang diminta:\n",
    "ordersAggregated = datesgroups.apply(lambda x: data_order[np.logical_and(data_order['date'] <= x['date'], data_order['group'] == x['group'])].agg({\n",
    "    'date' : 'max',\n",
    "    'group' : 'max',\n",
    "    'transaction_id' : pd.Series.nunique,\n",
    "    'visitor_id' : pd.Series.nunique,\n",
    "    'revenue' : 'sum'\n",
    "}), axis=1).sort_values(by=['date','group'])\n"
   ]
  },
  {
   "cell_type": "code",
   "execution_count": 30,
   "metadata": {},
   "outputs": [],
   "source": [
    "# Membuat variabel visitorsAggregated dengan jumlah pengunjung yang berbeda dalam kelompok uji hingga tanggal\n",
    "visitorsAggregated = datesgroups.apply(lambda x: data_visits\n",
    "                                       [np.logical_and (data_visits['date'] <= x['date'], \n",
    "                                        data_visits['group'] == x['group'])].agg({\n",
    "    'date' : 'max',\n",
    "    'group' : 'max',\n",
    "    'visits' : 'sum'\n",
    "}), axis=1).sort_values(by=['date','group'])\n"
   ]
  },
  {
   "cell_type": "code",
   "execution_count": 31,
   "metadata": {},
   "outputs": [],
   "source": [
    "#Mengurutkan ordersAggregated dan visitorsAggregated berdasarkan kolom 'date' dan 'group'\n",
    "ordersAggregated = ordersAggregated.sort_values(by=['date', 'group'])\n",
    "visitorsAggregated = visitorsAggregated.sort_values(by=['date', 'group'])\n"
   ]
  },
  {
   "cell_type": "code",
   "execution_count": 32,
   "metadata": {},
   "outputs": [],
   "source": [
    "# Untuk menggabungkan DataFrame ordersAggregated dan visitorsAggregated berdasarkan kolom 'date' dan 'group'\n",
    "cumulativeData = ordersAggregated.merge(visitorsAggregated, on=['date', 'group'])\n"
   ]
  },
  {
   "cell_type": "code",
   "execution_count": 33,
   "metadata": {},
   "outputs": [],
   "source": [
    "#memberikan nama kolom-kolom di DataFrame cumulativeData:\n",
    "cumulativeData.columns = ['date', 'group', 'orders', 'buyers', 'revenue', 'visitors']\n"
   ]
  },
  {
   "cell_type": "code",
   "execution_count": 34,
   "metadata": {},
   "outputs": [
    {
     "data": {
      "text/html": [
       "<div>\n",
       "<style scoped>\n",
       "    .dataframe tbody tr th:only-of-type {\n",
       "        vertical-align: middle;\n",
       "    }\n",
       "\n",
       "    .dataframe tbody tr th {\n",
       "        vertical-align: top;\n",
       "    }\n",
       "\n",
       "    .dataframe thead th {\n",
       "        text-align: right;\n",
       "    }\n",
       "</style>\n",
       "<table border=\"1\" class=\"dataframe\">\n",
       "  <thead>\n",
       "    <tr style=\"text-align: right;\">\n",
       "      <th></th>\n",
       "      <th>date</th>\n",
       "      <th>group</th>\n",
       "      <th>orders</th>\n",
       "      <th>buyers</th>\n",
       "      <th>revenue</th>\n",
       "      <th>visitors</th>\n",
       "    </tr>\n",
       "  </thead>\n",
       "  <tbody>\n",
       "    <tr>\n",
       "      <th>0</th>\n",
       "      <td>2019-08-01</td>\n",
       "      <td>A</td>\n",
       "      <td>24</td>\n",
       "      <td>20</td>\n",
       "      <td>2356.8</td>\n",
       "      <td>719</td>\n",
       "    </tr>\n",
       "    <tr>\n",
       "      <th>1</th>\n",
       "      <td>2019-08-01</td>\n",
       "      <td>B</td>\n",
       "      <td>21</td>\n",
       "      <td>20</td>\n",
       "      <td>1620.0</td>\n",
       "      <td>713</td>\n",
       "    </tr>\n",
       "    <tr>\n",
       "      <th>2</th>\n",
       "      <td>2019-08-02</td>\n",
       "      <td>A</td>\n",
       "      <td>44</td>\n",
       "      <td>38</td>\n",
       "      <td>3860.3</td>\n",
       "      <td>1338</td>\n",
       "    </tr>\n",
       "    <tr>\n",
       "      <th>3</th>\n",
       "      <td>2019-08-02</td>\n",
       "      <td>B</td>\n",
       "      <td>45</td>\n",
       "      <td>43</td>\n",
       "      <td>4243.8</td>\n",
       "      <td>1294</td>\n",
       "    </tr>\n",
       "    <tr>\n",
       "      <th>4</th>\n",
       "      <td>2019-08-03</td>\n",
       "      <td>A</td>\n",
       "      <td>68</td>\n",
       "      <td>62</td>\n",
       "      <td>5675.5</td>\n",
       "      <td>1845</td>\n",
       "    </tr>\n",
       "  </tbody>\n",
       "</table>\n",
       "</div>"
      ],
      "text/plain": [
       "        date group  orders  buyers  revenue  visitors\n",
       "0 2019-08-01     A      24      20   2356.8       719\n",
       "1 2019-08-01     B      21      20   1620.0       713\n",
       "2 2019-08-02     A      44      38   3860.3      1338\n",
       "3 2019-08-02     B      45      43   4243.8      1294\n",
       "4 2019-08-03     A      68      62   5675.5      1845"
      ]
     },
     "execution_count": 34,
     "metadata": {},
     "output_type": "execute_result"
    }
   ],
   "source": [
    "#menampilkan lima baris pertama\n",
    "cumulativeData.head(5)\n"
   ]
  },
  {
   "cell_type": "code",
   "execution_count": 35,
   "metadata": {},
   "outputs": [
    {
     "data": {
      "text/html": [
       "<div>\n",
       "<style scoped>\n",
       "    .dataframe tbody tr th:only-of-type {\n",
       "        vertical-align: middle;\n",
       "    }\n",
       "\n",
       "    .dataframe tbody tr th {\n",
       "        vertical-align: top;\n",
       "    }\n",
       "\n",
       "    .dataframe thead th {\n",
       "        text-align: right;\n",
       "    }\n",
       "</style>\n",
       "<table border=\"1\" class=\"dataframe\">\n",
       "  <thead>\n",
       "    <tr style=\"text-align: right;\">\n",
       "      <th></th>\n",
       "      <th>date</th>\n",
       "      <th>group</th>\n",
       "      <th>orders</th>\n",
       "      <th>buyers</th>\n",
       "      <th>revenue</th>\n",
       "      <th>visitors</th>\n",
       "    </tr>\n",
       "  </thead>\n",
       "  <tbody>\n",
       "    <tr>\n",
       "      <th>0</th>\n",
       "      <td>2019-08-01</td>\n",
       "      <td>A</td>\n",
       "      <td>24</td>\n",
       "      <td>20</td>\n",
       "      <td>2356.8</td>\n",
       "      <td>719</td>\n",
       "    </tr>\n",
       "    <tr>\n",
       "      <th>1</th>\n",
       "      <td>2019-08-01</td>\n",
       "      <td>B</td>\n",
       "      <td>21</td>\n",
       "      <td>20</td>\n",
       "      <td>1620.0</td>\n",
       "      <td>713</td>\n",
       "    </tr>\n",
       "    <tr>\n",
       "      <th>2</th>\n",
       "      <td>2019-08-02</td>\n",
       "      <td>A</td>\n",
       "      <td>44</td>\n",
       "      <td>38</td>\n",
       "      <td>3860.3</td>\n",
       "      <td>1338</td>\n",
       "    </tr>\n",
       "    <tr>\n",
       "      <th>3</th>\n",
       "      <td>2019-08-02</td>\n",
       "      <td>B</td>\n",
       "      <td>45</td>\n",
       "      <td>43</td>\n",
       "      <td>4243.8</td>\n",
       "      <td>1294</td>\n",
       "    </tr>\n",
       "    <tr>\n",
       "      <th>4</th>\n",
       "      <td>2019-08-03</td>\n",
       "      <td>A</td>\n",
       "      <td>68</td>\n",
       "      <td>62</td>\n",
       "      <td>5675.5</td>\n",
       "      <td>1845</td>\n",
       "    </tr>\n",
       "    <tr>\n",
       "      <th>...</th>\n",
       "      <td>...</td>\n",
       "      <td>...</td>\n",
       "      <td>...</td>\n",
       "      <td>...</td>\n",
       "      <td>...</td>\n",
       "      <td>...</td>\n",
       "    </tr>\n",
       "    <tr>\n",
       "      <th>57</th>\n",
       "      <td>2019-08-29</td>\n",
       "      <td>B</td>\n",
       "      <td>596</td>\n",
       "      <td>544</td>\n",
       "      <td>87343.0</td>\n",
       "      <td>17708</td>\n",
       "    </tr>\n",
       "    <tr>\n",
       "      <th>58</th>\n",
       "      <td>2019-08-30</td>\n",
       "      <td>A</td>\n",
       "      <td>545</td>\n",
       "      <td>493</td>\n",
       "      <td>63563.5</td>\n",
       "      <td>18037</td>\n",
       "    </tr>\n",
       "    <tr>\n",
       "      <th>59</th>\n",
       "      <td>2019-08-30</td>\n",
       "      <td>B</td>\n",
       "      <td>620</td>\n",
       "      <td>567</td>\n",
       "      <td>90736.3</td>\n",
       "      <td>18198</td>\n",
       "    </tr>\n",
       "    <tr>\n",
       "      <th>60</th>\n",
       "      <td>2019-08-31</td>\n",
       "      <td>A</td>\n",
       "      <td>557</td>\n",
       "      <td>503</td>\n",
       "      <td>64554.9</td>\n",
       "      <td>18736</td>\n",
       "    </tr>\n",
       "    <tr>\n",
       "      <th>61</th>\n",
       "      <td>2019-08-31</td>\n",
       "      <td>B</td>\n",
       "      <td>640</td>\n",
       "      <td>586</td>\n",
       "      <td>92840.6</td>\n",
       "      <td>18916</td>\n",
       "    </tr>\n",
       "  </tbody>\n",
       "</table>\n",
       "<p>62 rows × 6 columns</p>\n",
       "</div>"
      ],
      "text/plain": [
       "         date group  orders  buyers  revenue  visitors\n",
       "0  2019-08-01     A      24      20   2356.8       719\n",
       "1  2019-08-01     B      21      20   1620.0       713\n",
       "2  2019-08-02     A      44      38   3860.3      1338\n",
       "3  2019-08-02     B      45      43   4243.8      1294\n",
       "4  2019-08-03     A      68      62   5675.5      1845\n",
       "..        ...   ...     ...     ...      ...       ...\n",
       "57 2019-08-29     B     596     544  87343.0     17708\n",
       "58 2019-08-30     A     545     493  63563.5     18037\n",
       "59 2019-08-30     B     620     567  90736.3     18198\n",
       "60 2019-08-31     A     557     503  64554.9     18736\n",
       "61 2019-08-31     B     640     586  92840.6     18916\n",
       "\n",
       "[62 rows x 6 columns]"
      ]
     },
     "execution_count": 35,
     "metadata": {},
     "output_type": "execute_result"
    }
   ],
   "source": [
    "cumulativeData"
   ]
  },
  {
   "cell_type": "markdown",
   "metadata": {},
   "source": [
    "### Gambaran Pendapatan Kumulatif Kelompok"
   ]
  },
  {
   "cell_type": "markdown",
   "metadata": {},
   "source": [
    "1) Gambarkan pendapatan kumulatif berdasarkan kelompok. \n",
    "\n",
    "Buatlah kesimpulan dan asumsinya."
   ]
  },
  {
   "cell_type": "code",
   "execution_count": 36,
   "metadata": {},
   "outputs": [],
   "source": [
    "# Filter data cumulativeData untuk kelompok A\n",
    "cumulativeRevenueA = cumulativeData[cumulativeData['group'] == 'A'][['date', 'revenue','orders', 'group']]\n",
    "\n",
    "# Filter data cumulativeData untuk kelompok B\n",
    "cumulativeRevenueB = cumulativeData[cumulativeData['group'] == 'B'][['date', 'revenue', 'orders','group']]\n"
   ]
  },
  {
   "cell_type": "code",
   "execution_count": 37,
   "metadata": {},
   "outputs": [
    {
     "data": {
      "text/html": [
       "<div>\n",
       "<style scoped>\n",
       "    .dataframe tbody tr th:only-of-type {\n",
       "        vertical-align: middle;\n",
       "    }\n",
       "\n",
       "    .dataframe tbody tr th {\n",
       "        vertical-align: top;\n",
       "    }\n",
       "\n",
       "    .dataframe thead th {\n",
       "        text-align: right;\n",
       "    }\n",
       "</style>\n",
       "<table border=\"1\" class=\"dataframe\">\n",
       "  <thead>\n",
       "    <tr style=\"text-align: right;\">\n",
       "      <th></th>\n",
       "      <th>date</th>\n",
       "      <th>revenue</th>\n",
       "      <th>orders</th>\n",
       "      <th>group</th>\n",
       "    </tr>\n",
       "  </thead>\n",
       "  <tbody>\n",
       "    <tr>\n",
       "      <th>0</th>\n",
       "      <td>2019-08-01</td>\n",
       "      <td>2356.8</td>\n",
       "      <td>24</td>\n",
       "      <td>A</td>\n",
       "    </tr>\n",
       "    <tr>\n",
       "      <th>2</th>\n",
       "      <td>2019-08-02</td>\n",
       "      <td>3860.3</td>\n",
       "      <td>44</td>\n",
       "      <td>A</td>\n",
       "    </tr>\n",
       "    <tr>\n",
       "      <th>4</th>\n",
       "      <td>2019-08-03</td>\n",
       "      <td>5675.5</td>\n",
       "      <td>68</td>\n",
       "      <td>A</td>\n",
       "    </tr>\n",
       "    <tr>\n",
       "      <th>6</th>\n",
       "      <td>2019-08-04</td>\n",
       "      <td>6822.1</td>\n",
       "      <td>84</td>\n",
       "      <td>A</td>\n",
       "    </tr>\n",
       "    <tr>\n",
       "      <th>8</th>\n",
       "      <td>2019-08-05</td>\n",
       "      <td>8810.2</td>\n",
       "      <td>109</td>\n",
       "      <td>A</td>\n",
       "    </tr>\n",
       "  </tbody>\n",
       "</table>\n",
       "</div>"
      ],
      "text/plain": [
       "        date  revenue  orders group\n",
       "0 2019-08-01   2356.8      24     A\n",
       "2 2019-08-02   3860.3      44     A\n",
       "4 2019-08-03   5675.5      68     A\n",
       "6 2019-08-04   6822.1      84     A\n",
       "8 2019-08-05   8810.2     109     A"
      ]
     },
     "execution_count": 37,
     "metadata": {},
     "output_type": "execute_result"
    }
   ],
   "source": [
    "cumulativeRevenueA.head()"
   ]
  },
  {
   "cell_type": "code",
   "execution_count": 38,
   "metadata": {},
   "outputs": [
    {
     "data": {
      "text/html": [
       "<div>\n",
       "<style scoped>\n",
       "    .dataframe tbody tr th:only-of-type {\n",
       "        vertical-align: middle;\n",
       "    }\n",
       "\n",
       "    .dataframe tbody tr th {\n",
       "        vertical-align: top;\n",
       "    }\n",
       "\n",
       "    .dataframe thead th {\n",
       "        text-align: right;\n",
       "    }\n",
       "</style>\n",
       "<table border=\"1\" class=\"dataframe\">\n",
       "  <thead>\n",
       "    <tr style=\"text-align: right;\">\n",
       "      <th></th>\n",
       "      <th>date</th>\n",
       "      <th>revenue</th>\n",
       "      <th>orders</th>\n",
       "      <th>group</th>\n",
       "    </tr>\n",
       "  </thead>\n",
       "  <tbody>\n",
       "    <tr>\n",
       "      <th>1</th>\n",
       "      <td>2019-08-01</td>\n",
       "      <td>1620.0</td>\n",
       "      <td>21</td>\n",
       "      <td>B</td>\n",
       "    </tr>\n",
       "    <tr>\n",
       "      <th>3</th>\n",
       "      <td>2019-08-02</td>\n",
       "      <td>4243.8</td>\n",
       "      <td>45</td>\n",
       "      <td>B</td>\n",
       "    </tr>\n",
       "    <tr>\n",
       "      <th>5</th>\n",
       "      <td>2019-08-03</td>\n",
       "      <td>6050.6</td>\n",
       "      <td>61</td>\n",
       "      <td>B</td>\n",
       "    </tr>\n",
       "    <tr>\n",
       "      <th>7</th>\n",
       "      <td>2019-08-04</td>\n",
       "      <td>7767.9</td>\n",
       "      <td>78</td>\n",
       "      <td>B</td>\n",
       "    </tr>\n",
       "    <tr>\n",
       "      <th>9</th>\n",
       "      <td>2019-08-05</td>\n",
       "      <td>9262.9</td>\n",
       "      <td>101</td>\n",
       "      <td>B</td>\n",
       "    </tr>\n",
       "  </tbody>\n",
       "</table>\n",
       "</div>"
      ],
      "text/plain": [
       "        date  revenue  orders group\n",
       "1 2019-08-01   1620.0      21     B\n",
       "3 2019-08-02   4243.8      45     B\n",
       "5 2019-08-03   6050.6      61     B\n",
       "7 2019-08-04   7767.9      78     B\n",
       "9 2019-08-05   9262.9     101     B"
      ]
     },
     "execution_count": 38,
     "metadata": {},
     "output_type": "execute_result"
    }
   ],
   "source": [
    "cumulativeRevenueB.head()"
   ]
  },
  {
   "cell_type": "code",
   "execution_count": 39,
   "metadata": {},
   "outputs": [
    {
     "data": {
      "image/png": "[encoded data removed]",
      "text/plain": [
       "<Figure size 720x432 with 1 Axes>"
      ]
     },
     "metadata": {
      "needs_background": "light"
     },
     "output_type": "display_data"
    }
   ],
   "source": [
    "# Membuat grafik dengan ukuran (10, 6)\n",
    "plt.figure(figsize=(10, 6))\n",
    "\n",
    "# Membuat grafik pendapatan kumulatif harian untuk kelompok A\n",
    "plt.plot(cumulativeRevenueA['date'], cumulativeRevenueA['revenue'], label='A')\n",
    "\n",
    "# Membuat grafik pendapatan kumulatif harian untuk kelompok B\n",
    "plt.plot(cumulativeRevenueB['date'], cumulativeRevenueB['revenue'], label='B')\n",
    "\n",
    "# Menampilkan legenda pada grafik\n",
    "plt.legend()\n",
    "\n",
    "# Memberi label pada sumbu x\n",
    "plt.xlabel('Date')\n",
    "plt.xticks(rotation=45)\n",
    "\n",
    "# Memberi label pada sumbu y\n",
    "plt.ylabel('Cumulative Revenue')\n",
    "plt.title('Cumulative Revenue by Group')\n",
    "\n",
    "# Menampilkan grafik\n",
    "plt.show()"
   ]
  },
  {
   "cell_type": "markdown",
   "metadata": {},
   "source": [
    "Berdasarkan grafik pendapatan kumulatif harian untuk kelompok A dan B, dapat diambil beberapa kesimpulan dan asumsi:\n",
    "\n",
    "1. Pendapatan kumulatif harian cenderung meningkat seiring berjalannya waktu untuk kedua kelompok A dan B. Ini menunjukkan adanya peningkatan pendapatan dari pesanan seiring berjalannya waktu.\n",
    "\n",
    "2. Kelompok A dan B memiliki tren pendapatan kumulatif yang relatif serupa sepanjang periode yang diamati. Meskipun ada fluktuasi harian, baik kelompok A maupun B mengalami peningkatan pendapatan secara keseluruhan.\n",
    "\n",
    "3. Pada beberapa titik tertentu, terlihat bahwa kelompok B memiliki pendapatan kumulatif yang sedikit lebih tinggi daripada kelompok A. Namun, perbedaan ini tidak konsisten dan dapat dipengaruhi oleh variasi harian dalam jumlah pesanan.\n",
    "\n",
    "4. Asumsi yang mungkin adalah bahwa pengujian A/B yang dilakukan mungkin tidak memberikan perbedaan signifikan dalam pendapatan antara kelompok A dan B. Meskipun ada variasi harian, tren umum pendapatan kumulatif serupa di antara kedua kelompok.\n",
    "\n"
   ]
  },
  {
   "cell_type": "markdown",
   "metadata": {},
   "source": [
    "### Gambaran Pesanan Rata-rata Kumulatif"
   ]
  },
  {
   "cell_type": "markdown",
   "metadata": {},
   "source": [
    "2) Gambarkan ukuran pesanan rata-rata kumulatif berdasarkan kelompok. \n",
    "\n",
    "Buatlah kesimpulan dan asumsinya."
   ]
  },
  {
   "cell_type": "code",
   "execution_count": 40,
   "metadata": {},
   "outputs": [
    {
     "data": {
      "text/html": [
       "<div>\n",
       "<style scoped>\n",
       "    .dataframe tbody tr th:only-of-type {\n",
       "        vertical-align: middle;\n",
       "    }\n",
       "\n",
       "    .dataframe tbody tr th {\n",
       "        vertical-align: top;\n",
       "    }\n",
       "\n",
       "    .dataframe thead th {\n",
       "        text-align: right;\n",
       "    }\n",
       "</style>\n",
       "<table border=\"1\" class=\"dataframe\">\n",
       "  <thead>\n",
       "    <tr style=\"text-align: right;\">\n",
       "      <th></th>\n",
       "      <th>date</th>\n",
       "      <th>revenue</th>\n",
       "      <th>orders</th>\n",
       "      <th>group</th>\n",
       "      <th>avg_orderA</th>\n",
       "    </tr>\n",
       "  </thead>\n",
       "  <tbody>\n",
       "    <tr>\n",
       "      <th>0</th>\n",
       "      <td>2019-08-01</td>\n",
       "      <td>2356.8</td>\n",
       "      <td>24</td>\n",
       "      <td>A</td>\n",
       "      <td>98.200000</td>\n",
       "    </tr>\n",
       "    <tr>\n",
       "      <th>2</th>\n",
       "      <td>2019-08-02</td>\n",
       "      <td>3860.3</td>\n",
       "      <td>44</td>\n",
       "      <td>A</td>\n",
       "      <td>87.734091</td>\n",
       "    </tr>\n",
       "    <tr>\n",
       "      <th>4</th>\n",
       "      <td>2019-08-03</td>\n",
       "      <td>5675.5</td>\n",
       "      <td>68</td>\n",
       "      <td>A</td>\n",
       "      <td>83.463235</td>\n",
       "    </tr>\n",
       "    <tr>\n",
       "      <th>6</th>\n",
       "      <td>2019-08-04</td>\n",
       "      <td>6822.1</td>\n",
       "      <td>84</td>\n",
       "      <td>A</td>\n",
       "      <td>81.215476</td>\n",
       "    </tr>\n",
       "    <tr>\n",
       "      <th>8</th>\n",
       "      <td>2019-08-05</td>\n",
       "      <td>8810.2</td>\n",
       "      <td>109</td>\n",
       "      <td>A</td>\n",
       "      <td>80.827523</td>\n",
       "    </tr>\n",
       "  </tbody>\n",
       "</table>\n",
       "</div>"
      ],
      "text/plain": [
       "        date  revenue  orders group  avg_orderA\n",
       "0 2019-08-01   2356.8      24     A   98.200000\n",
       "2 2019-08-02   3860.3      44     A   87.734091\n",
       "4 2019-08-03   5675.5      68     A   83.463235\n",
       "6 2019-08-04   6822.1      84     A   81.215476\n",
       "8 2019-08-05   8810.2     109     A   80.827523"
      ]
     },
     "execution_count": 40,
     "metadata": {},
     "output_type": "execute_result"
    }
   ],
   "source": [
    "#Menghitung nilai kumulatif rata-rata nilai pesanan di group A\n",
    "cumulativeRevenueA['avg_orderA'] = cumulativeRevenueA['revenue'] / cumulativeRevenueA['orders']\n",
    "cumulativeRevenueA.head()"
   ]
  },
  {
   "cell_type": "code",
   "execution_count": 41,
   "metadata": {},
   "outputs": [
    {
     "data": {
      "text/html": [
       "<div>\n",
       "<style scoped>\n",
       "    .dataframe tbody tr th:only-of-type {\n",
       "        vertical-align: middle;\n",
       "    }\n",
       "\n",
       "    .dataframe tbody tr th {\n",
       "        vertical-align: top;\n",
       "    }\n",
       "\n",
       "    .dataframe thead th {\n",
       "        text-align: right;\n",
       "    }\n",
       "</style>\n",
       "<table border=\"1\" class=\"dataframe\">\n",
       "  <thead>\n",
       "    <tr style=\"text-align: right;\">\n",
       "      <th></th>\n",
       "      <th>date</th>\n",
       "      <th>revenue</th>\n",
       "      <th>orders</th>\n",
       "      <th>group</th>\n",
       "      <th>avg_orderB</th>\n",
       "    </tr>\n",
       "  </thead>\n",
       "  <tbody>\n",
       "    <tr>\n",
       "      <th>1</th>\n",
       "      <td>2019-08-01</td>\n",
       "      <td>1620.0</td>\n",
       "      <td>21</td>\n",
       "      <td>B</td>\n",
       "      <td>77.142857</td>\n",
       "    </tr>\n",
       "    <tr>\n",
       "      <th>3</th>\n",
       "      <td>2019-08-02</td>\n",
       "      <td>4243.8</td>\n",
       "      <td>45</td>\n",
       "      <td>B</td>\n",
       "      <td>94.306667</td>\n",
       "    </tr>\n",
       "    <tr>\n",
       "      <th>5</th>\n",
       "      <td>2019-08-03</td>\n",
       "      <td>6050.6</td>\n",
       "      <td>61</td>\n",
       "      <td>B</td>\n",
       "      <td>99.190164</td>\n",
       "    </tr>\n",
       "    <tr>\n",
       "      <th>7</th>\n",
       "      <td>2019-08-04</td>\n",
       "      <td>7767.9</td>\n",
       "      <td>78</td>\n",
       "      <td>B</td>\n",
       "      <td>99.588462</td>\n",
       "    </tr>\n",
       "    <tr>\n",
       "      <th>9</th>\n",
       "      <td>2019-08-05</td>\n",
       "      <td>9262.9</td>\n",
       "      <td>101</td>\n",
       "      <td>B</td>\n",
       "      <td>91.711881</td>\n",
       "    </tr>\n",
       "  </tbody>\n",
       "</table>\n",
       "</div>"
      ],
      "text/plain": [
       "        date  revenue  orders group  avg_orderB\n",
       "1 2019-08-01   1620.0      21     B   77.142857\n",
       "3 2019-08-02   4243.8      45     B   94.306667\n",
       "5 2019-08-03   6050.6      61     B   99.190164\n",
       "7 2019-08-04   7767.9      78     B   99.588462\n",
       "9 2019-08-05   9262.9     101     B   91.711881"
      ]
     },
     "execution_count": 41,
     "metadata": {},
     "output_type": "execute_result"
    }
   ],
   "source": [
    "#Menghitung nilai kumulatif rata-rata nilai pesanan di group B\n",
    "cumulativeRevenueB['avg_orderB']  = cumulativeRevenueB['revenue'] / cumulativeRevenueB['orders']\n",
    "cumulativeRevenueB.head()"
   ]
  },
  {
   "cell_type": "code",
   "execution_count": 42,
   "metadata": {},
   "outputs": [
    {
     "data": {
      "image/png": "[encoded data removed]",
      "text/plain": [
       "<Figure size 720x432 with 1 Axes>"
      ]
     },
     "metadata": {
      "needs_background": "light"
     },
     "output_type": "display_data"
    }
   ],
   "source": [
    "plt.figure(figsize=(10, 6))\n",
    "\n",
    "plt.plot(cumulativeRevenueA['date'], cumulativeRevenueA['revenue'] / cumulativeRevenueA['orders'], label='A')\n",
    "plt.plot(cumulativeRevenueB['date'], cumulativeRevenueB['revenue'] / cumulativeRevenueB['orders'], label='B')\n",
    "\n",
    "plt.xlabel('Date')\n",
    "plt.ylabel('Average Purchase Amount')\n",
    "plt.title('Cumulative Average Purchase Amount by Group')\n",
    "plt.xticks(rotation=45)\n",
    "plt.legend()\n",
    "\n",
    "plt.show()\n"
   ]
  },
  {
   "cell_type": "markdown",
   "metadata": {},
   "source": [
    "Metrik kumulatif kelompok BIRU secara konsisten lebih rendah daripada metrik kumulatif kelompok KUNING. Pada awal pengujian, dapat terlihat bahwa fluktuasi konversi terjadi pada kedua kelompok. Grafik tersebut menjadi stabil hanya menjelang akhir pengujian.\n",
    "\n",
    "kelompok KUNING signifikan nilainya terus meningkat dari waktu- ke waktu di bandingkan kelompok BIRU"
   ]
  },
  {
   "cell_type": "markdown",
   "metadata": {},
   "source": [
    "### Gambarkan Perbedaan Relatif"
   ]
  },
  {
   "cell_type": "markdown",
   "metadata": {},
   "source": [
    "3) Gambarkan perbedaan relatif untuk ukuran pesanan rata-rata kumulatif kelompok B yang dibandingkan dengan kelompok A. \n",
    "\n",
    "Buatlah kesimpulan dan asumsinya."
   ]
  },
  {
   "cell_type": "code",
   "execution_count": 43,
   "metadata": {},
   "outputs": [
    {
     "data": {
      "text/html": [
       "<div>\n",
       "<style scoped>\n",
       "    .dataframe tbody tr th:only-of-type {\n",
       "        vertical-align: middle;\n",
       "    }\n",
       "\n",
       "    .dataframe tbody tr th {\n",
       "        vertical-align: top;\n",
       "    }\n",
       "\n",
       "    .dataframe thead th {\n",
       "        text-align: right;\n",
       "    }\n",
       "</style>\n",
       "<table border=\"1\" class=\"dataframe\">\n",
       "  <thead>\n",
       "    <tr style=\"text-align: right;\">\n",
       "      <th></th>\n",
       "      <th>date</th>\n",
       "      <th>revenueA</th>\n",
       "      <th>ordersA</th>\n",
       "      <th>groupA</th>\n",
       "      <th>avg_orderA</th>\n",
       "      <th>revenueB</th>\n",
       "      <th>ordersB</th>\n",
       "      <th>groupB</th>\n",
       "      <th>avg_orderB</th>\n",
       "    </tr>\n",
       "  </thead>\n",
       "  <tbody>\n",
       "    <tr>\n",
       "      <th>0</th>\n",
       "      <td>2019-08-01</td>\n",
       "      <td>2356.8</td>\n",
       "      <td>24</td>\n",
       "      <td>A</td>\n",
       "      <td>98.200000</td>\n",
       "      <td>1620.0</td>\n",
       "      <td>21</td>\n",
       "      <td>B</td>\n",
       "      <td>77.142857</td>\n",
       "    </tr>\n",
       "    <tr>\n",
       "      <th>1</th>\n",
       "      <td>2019-08-02</td>\n",
       "      <td>3860.3</td>\n",
       "      <td>44</td>\n",
       "      <td>A</td>\n",
       "      <td>87.734091</td>\n",
       "      <td>4243.8</td>\n",
       "      <td>45</td>\n",
       "      <td>B</td>\n",
       "      <td>94.306667</td>\n",
       "    </tr>\n",
       "    <tr>\n",
       "      <th>2</th>\n",
       "      <td>2019-08-03</td>\n",
       "      <td>5675.5</td>\n",
       "      <td>68</td>\n",
       "      <td>A</td>\n",
       "      <td>83.463235</td>\n",
       "      <td>6050.6</td>\n",
       "      <td>61</td>\n",
       "      <td>B</td>\n",
       "      <td>99.190164</td>\n",
       "    </tr>\n",
       "    <tr>\n",
       "      <th>3</th>\n",
       "      <td>2019-08-04</td>\n",
       "      <td>6822.1</td>\n",
       "      <td>84</td>\n",
       "      <td>A</td>\n",
       "      <td>81.215476</td>\n",
       "      <td>7767.9</td>\n",
       "      <td>78</td>\n",
       "      <td>B</td>\n",
       "      <td>99.588462</td>\n",
       "    </tr>\n",
       "    <tr>\n",
       "      <th>4</th>\n",
       "      <td>2019-08-05</td>\n",
       "      <td>8810.2</td>\n",
       "      <td>109</td>\n",
       "      <td>A</td>\n",
       "      <td>80.827523</td>\n",
       "      <td>9262.9</td>\n",
       "      <td>101</td>\n",
       "      <td>B</td>\n",
       "      <td>91.711881</td>\n",
       "    </tr>\n",
       "    <tr>\n",
       "      <th>5</th>\n",
       "      <td>2019-08-06</td>\n",
       "      <td>9600.0</td>\n",
       "      <td>127</td>\n",
       "      <td>A</td>\n",
       "      <td>75.590551</td>\n",
       "      <td>13069.3</td>\n",
       "      <td>129</td>\n",
       "      <td>B</td>\n",
       "      <td>101.312403</td>\n",
       "    </tr>\n",
       "    <tr>\n",
       "      <th>6</th>\n",
       "      <td>2019-08-07</td>\n",
       "      <td>11842.9</td>\n",
       "      <td>145</td>\n",
       "      <td>A</td>\n",
       "      <td>81.675172</td>\n",
       "      <td>16600.8</td>\n",
       "      <td>153</td>\n",
       "      <td>B</td>\n",
       "      <td>108.501961</td>\n",
       "    </tr>\n",
       "    <tr>\n",
       "      <th>7</th>\n",
       "      <td>2019-08-08</td>\n",
       "      <td>13373.3</td>\n",
       "      <td>161</td>\n",
       "      <td>A</td>\n",
       "      <td>83.063975</td>\n",
       "      <td>20088.6</td>\n",
       "      <td>180</td>\n",
       "      <td>B</td>\n",
       "      <td>111.603333</td>\n",
       "    </tr>\n",
       "    <tr>\n",
       "      <th>8</th>\n",
       "      <td>2019-08-09</td>\n",
       "      <td>16320.4</td>\n",
       "      <td>177</td>\n",
       "      <td>A</td>\n",
       "      <td>92.205650</td>\n",
       "      <td>22646.7</td>\n",
       "      <td>205</td>\n",
       "      <td>B</td>\n",
       "      <td>110.471707</td>\n",
       "    </tr>\n",
       "    <tr>\n",
       "      <th>9</th>\n",
       "      <td>2019-08-10</td>\n",
       "      <td>19608.6</td>\n",
       "      <td>193</td>\n",
       "      <td>A</td>\n",
       "      <td>101.598964</td>\n",
       "      <td>24367.1</td>\n",
       "      <td>228</td>\n",
       "      <td>B</td>\n",
       "      <td>106.873246</td>\n",
       "    </tr>\n",
       "    <tr>\n",
       "      <th>10</th>\n",
       "      <td>2019-08-11</td>\n",
       "      <td>20838.3</td>\n",
       "      <td>206</td>\n",
       "      <td>A</td>\n",
       "      <td>101.156796</td>\n",
       "      <td>25228.3</td>\n",
       "      <td>241</td>\n",
       "      <td>B</td>\n",
       "      <td>104.681743</td>\n",
       "    </tr>\n",
       "    <tr>\n",
       "      <th>11</th>\n",
       "      <td>2019-08-12</td>\n",
       "      <td>24749.1</td>\n",
       "      <td>230</td>\n",
       "      <td>A</td>\n",
       "      <td>107.604783</td>\n",
       "      <td>27474.0</td>\n",
       "      <td>264</td>\n",
       "      <td>B</td>\n",
       "      <td>104.068182</td>\n",
       "    </tr>\n",
       "    <tr>\n",
       "      <th>12</th>\n",
       "      <td>2019-08-13</td>\n",
       "      <td>28846.0</td>\n",
       "      <td>244</td>\n",
       "      <td>A</td>\n",
       "      <td>118.221311</td>\n",
       "      <td>29384.0</td>\n",
       "      <td>285</td>\n",
       "      <td>B</td>\n",
       "      <td>103.101754</td>\n",
       "    </tr>\n",
       "    <tr>\n",
       "      <th>13</th>\n",
       "      <td>2019-08-14</td>\n",
       "      <td>29910.8</td>\n",
       "      <td>268</td>\n",
       "      <td>A</td>\n",
       "      <td>111.607463</td>\n",
       "      <td>32095.7</td>\n",
       "      <td>308</td>\n",
       "      <td>B</td>\n",
       "      <td>104.206818</td>\n",
       "    </tr>\n",
       "    <tr>\n",
       "      <th>14</th>\n",
       "      <td>2019-08-15</td>\n",
       "      <td>31319.0</td>\n",
       "      <td>283</td>\n",
       "      <td>A</td>\n",
       "      <td>110.667845</td>\n",
       "      <td>37457.6</td>\n",
       "      <td>339</td>\n",
       "      <td>B</td>\n",
       "      <td>110.494395</td>\n",
       "    </tr>\n",
       "    <tr>\n",
       "      <th>15</th>\n",
       "      <td>2019-08-16</td>\n",
       "      <td>32918.1</td>\n",
       "      <td>301</td>\n",
       "      <td>A</td>\n",
       "      <td>109.362458</td>\n",
       "      <td>40155.3</td>\n",
       "      <td>359</td>\n",
       "      <td>B</td>\n",
       "      <td>111.853203</td>\n",
       "    </tr>\n",
       "    <tr>\n",
       "      <th>16</th>\n",
       "      <td>2019-08-17</td>\n",
       "      <td>33723.6</td>\n",
       "      <td>311</td>\n",
       "      <td>A</td>\n",
       "      <td>108.436013</td>\n",
       "      <td>41436.8</td>\n",
       "      <td>373</td>\n",
       "      <td>B</td>\n",
       "      <td>111.090617</td>\n",
       "    </tr>\n",
       "    <tr>\n",
       "      <th>17</th>\n",
       "      <td>2019-08-18</td>\n",
       "      <td>34895.4</td>\n",
       "      <td>328</td>\n",
       "      <td>A</td>\n",
       "      <td>106.388415</td>\n",
       "      <td>42481.7</td>\n",
       "      <td>382</td>\n",
       "      <td>B</td>\n",
       "      <td>111.208639</td>\n",
       "    </tr>\n",
       "    <tr>\n",
       "      <th>18</th>\n",
       "      <td>2019-08-19</td>\n",
       "      <td>37884.5</td>\n",
       "      <td>350</td>\n",
       "      <td>A</td>\n",
       "      <td>108.241429</td>\n",
       "      <td>64546.6</td>\n",
       "      <td>403</td>\n",
       "      <td>B</td>\n",
       "      <td>160.165261</td>\n",
       "    </tr>\n",
       "    <tr>\n",
       "      <th>19</th>\n",
       "      <td>2019-08-20</td>\n",
       "      <td>39116.8</td>\n",
       "      <td>362</td>\n",
       "      <td>A</td>\n",
       "      <td>108.057459</td>\n",
       "      <td>66871.2</td>\n",
       "      <td>423</td>\n",
       "      <td>B</td>\n",
       "      <td>158.087943</td>\n",
       "    </tr>\n",
       "    <tr>\n",
       "      <th>20</th>\n",
       "      <td>2019-08-21</td>\n",
       "      <td>41872.3</td>\n",
       "      <td>385</td>\n",
       "      <td>A</td>\n",
       "      <td>108.759221</td>\n",
       "      <td>69427.1</td>\n",
       "      <td>437</td>\n",
       "      <td>B</td>\n",
       "      <td>158.872082</td>\n",
       "    </tr>\n",
       "    <tr>\n",
       "      <th>21</th>\n",
       "      <td>2019-08-22</td>\n",
       "      <td>43655.6</td>\n",
       "      <td>401</td>\n",
       "      <td>A</td>\n",
       "      <td>108.866833</td>\n",
       "      <td>71987.9</td>\n",
       "      <td>462</td>\n",
       "      <td>B</td>\n",
       "      <td>155.817965</td>\n",
       "    </tr>\n",
       "    <tr>\n",
       "      <th>22</th>\n",
       "      <td>2019-08-23</td>\n",
       "      <td>45543.6</td>\n",
       "      <td>426</td>\n",
       "      <td>A</td>\n",
       "      <td>106.909859</td>\n",
       "      <td>73787.4</td>\n",
       "      <td>477</td>\n",
       "      <td>B</td>\n",
       "      <td>154.690566</td>\n",
       "    </tr>\n",
       "    <tr>\n",
       "      <th>23</th>\n",
       "      <td>2019-08-24</td>\n",
       "      <td>47546.3</td>\n",
       "      <td>441</td>\n",
       "      <td>A</td>\n",
       "      <td>107.814739</td>\n",
       "      <td>75314.6</td>\n",
       "      <td>493</td>\n",
       "      <td>B</td>\n",
       "      <td>152.767951</td>\n",
       "    </tr>\n",
       "    <tr>\n",
       "      <th>24</th>\n",
       "      <td>2019-08-25</td>\n",
       "      <td>48625.2</td>\n",
       "      <td>451</td>\n",
       "      <td>A</td>\n",
       "      <td>107.816408</td>\n",
       "      <td>76941.1</td>\n",
       "      <td>507</td>\n",
       "      <td>B</td>\n",
       "      <td>151.757594</td>\n",
       "    </tr>\n",
       "    <tr>\n",
       "      <th>25</th>\n",
       "      <td>2019-08-26</td>\n",
       "      <td>51090.0</td>\n",
       "      <td>467</td>\n",
       "      <td>A</td>\n",
       "      <td>109.400428</td>\n",
       "      <td>79841.5</td>\n",
       "      <td>532</td>\n",
       "      <td>B</td>\n",
       "      <td>150.078008</td>\n",
       "    </tr>\n",
       "    <tr>\n",
       "      <th>26</th>\n",
       "      <td>2019-08-27</td>\n",
       "      <td>55601.1</td>\n",
       "      <td>495</td>\n",
       "      <td>A</td>\n",
       "      <td>112.325455</td>\n",
       "      <td>82161.3</td>\n",
       "      <td>548</td>\n",
       "      <td>B</td>\n",
       "      <td>149.929380</td>\n",
       "    </tr>\n",
       "    <tr>\n",
       "      <th>27</th>\n",
       "      <td>2019-08-28</td>\n",
       "      <td>57203.7</td>\n",
       "      <td>512</td>\n",
       "      <td>A</td>\n",
       "      <td>111.725977</td>\n",
       "      <td>83719.3</td>\n",
       "      <td>576</td>\n",
       "      <td>B</td>\n",
       "      <td>145.346007</td>\n",
       "    </tr>\n",
       "    <tr>\n",
       "      <th>28</th>\n",
       "      <td>2019-08-29</td>\n",
       "      <td>62199.2</td>\n",
       "      <td>534</td>\n",
       "      <td>A</td>\n",
       "      <td>116.477903</td>\n",
       "      <td>87343.0</td>\n",
       "      <td>596</td>\n",
       "      <td>B</td>\n",
       "      <td>146.548658</td>\n",
       "    </tr>\n",
       "    <tr>\n",
       "      <th>29</th>\n",
       "      <td>2019-08-30</td>\n",
       "      <td>63563.5</td>\n",
       "      <td>545</td>\n",
       "      <td>A</td>\n",
       "      <td>116.630275</td>\n",
       "      <td>90736.3</td>\n",
       "      <td>620</td>\n",
       "      <td>B</td>\n",
       "      <td>146.348871</td>\n",
       "    </tr>\n",
       "    <tr>\n",
       "      <th>30</th>\n",
       "      <td>2019-08-31</td>\n",
       "      <td>64554.9</td>\n",
       "      <td>557</td>\n",
       "      <td>A</td>\n",
       "      <td>115.897487</td>\n",
       "      <td>92840.6</td>\n",
       "      <td>640</td>\n",
       "      <td>B</td>\n",
       "      <td>145.063438</td>\n",
       "    </tr>\n",
       "  </tbody>\n",
       "</table>\n",
       "</div>"
      ],
      "text/plain": [
       "         date  revenueA  ordersA groupA  avg_orderA  revenueB  ordersB groupB  \\\n",
       "0  2019-08-01    2356.8       24      A   98.200000    1620.0       21      B   \n",
       "1  2019-08-02    3860.3       44      A   87.734091    4243.8       45      B   \n",
       "2  2019-08-03    5675.5       68      A   83.463235    6050.6       61      B   \n",
       "3  2019-08-04    6822.1       84      A   81.215476    7767.9       78      B   \n",
       "4  2019-08-05    8810.2      109      A   80.827523    9262.9      101      B   \n",
       "5  2019-08-06    9600.0      127      A   75.590551   13069.3      129      B   \n",
       "6  2019-08-07   11842.9      145      A   81.675172   16600.8      153      B   \n",
       "7  2019-08-08   13373.3      161      A   83.063975   20088.6      180      B   \n",
       "8  2019-08-09   16320.4      177      A   92.205650   22646.7      205      B   \n",
       "9  2019-08-10   19608.6      193      A  101.598964   24367.1      228      B   \n",
       "10 2019-08-11   20838.3      206      A  101.156796   25228.3      241      B   \n",
       "11 2019-08-12   24749.1      230      A  107.604783   27474.0      264      B   \n",
       "12 2019-08-13   28846.0      244      A  118.221311   29384.0      285      B   \n",
       "13 2019-08-14   29910.8      268      A  111.607463   32095.7      308      B   \n",
       "14 2019-08-15   31319.0      283      A  110.667845   37457.6      339      B   \n",
       "15 2019-08-16   32918.1      301      A  109.362458   40155.3      359      B   \n",
       "16 2019-08-17   33723.6      311      A  108.436013   41436.8      373      B   \n",
       "17 2019-08-18   34895.4      328      A  106.388415   42481.7      382      B   \n",
       "18 2019-08-19   37884.5      350      A  108.241429   64546.6      403      B   \n",
       "19 2019-08-20   39116.8      362      A  108.057459   66871.2      423      B   \n",
       "20 2019-08-21   41872.3      385      A  108.759221   69427.1      437      B   \n",
       "21 2019-08-22   43655.6      401      A  108.866833   71987.9      462      B   \n",
       "22 2019-08-23   45543.6      426      A  106.909859   73787.4      477      B   \n",
       "23 2019-08-24   47546.3      441      A  107.814739   75314.6      493      B   \n",
       "24 2019-08-25   48625.2      451      A  107.816408   76941.1      507      B   \n",
       "25 2019-08-26   51090.0      467      A  109.400428   79841.5      532      B   \n",
       "26 2019-08-27   55601.1      495      A  112.325455   82161.3      548      B   \n",
       "27 2019-08-28   57203.7      512      A  111.725977   83719.3      576      B   \n",
       "28 2019-08-29   62199.2      534      A  116.477903   87343.0      596      B   \n",
       "29 2019-08-30   63563.5      545      A  116.630275   90736.3      620      B   \n",
       "30 2019-08-31   64554.9      557      A  115.897487   92840.6      640      B   \n",
       "\n",
       "    avg_orderB  \n",
       "0    77.142857  \n",
       "1    94.306667  \n",
       "2    99.190164  \n",
       "3    99.588462  \n",
       "4    91.711881  \n",
       "5   101.312403  \n",
       "6   108.501961  \n",
       "7   111.603333  \n",
       "8   110.471707  \n",
       "9   106.873246  \n",
       "10  104.681743  \n",
       "11  104.068182  \n",
       "12  103.101754  \n",
       "13  104.206818  \n",
       "14  110.494395  \n",
       "15  111.853203  \n",
       "16  111.090617  \n",
       "17  111.208639  \n",
       "18  160.165261  \n",
       "19  158.087943  \n",
       "20  158.872082  \n",
       "21  155.817965  \n",
       "22  154.690566  \n",
       "23  152.767951  \n",
       "24  151.757594  \n",
       "25  150.078008  \n",
       "26  149.929380  \n",
       "27  145.346007  \n",
       "28  146.548658  \n",
       "29  146.348871  \n",
       "30  145.063438  "
      ]
     },
     "execution_count": 43,
     "metadata": {},
     "output_type": "execute_result"
    }
   ],
   "source": [
    "mergedCumulativeRevenue = cumulativeRevenueA.merge(cumulativeRevenueB, left_on='date', right_on='date', how='left', suffixes=['A', 'B'])\n",
    "mergedCumulativeRevenue"
   ]
  },
  {
   "cell_type": "code",
   "execution_count": 44,
   "metadata": {},
   "outputs": [
    {
     "data": {
      "image/png": "[encoded data removed]",
      "text/plain": [
       "<Figure size 720x432 with 1 Axes>"
      ]
     },
     "metadata": {
      "needs_background": "light"
     },
     "output_type": "display_data"
    }
   ],
   "source": [
    "# Menghitung perbedaan relatif antara jumlah pembelian rata-rata kelompok B dan kelompok A\n",
    "relative_difference = mergedCumulativeRevenue['revenueB'] / mergedCumulativeRevenue['ordersB'] - mergedCumulativeRevenue['revenueA'] / mergedCumulativeRevenue['ordersA']\n",
    "\n",
    "plt.figure(figsize=(10, 6))\n",
    "# Menggambar grafik perbedaan relatif\n",
    "plt.plot(mergedCumulativeRevenue['date'], relative_difference, label='Relative Difference (B-A)')\n",
    "plt.axhline(y=0, color='black', linestyle='--')\n",
    "\n",
    "# Menambahkan label dan judul\n",
    "plt.xlabel('Date')\n",
    "plt.ylabel('Relative Difference')\n",
    "plt.title('Relative Difference of Cumulative Average Purchase')\n",
    "plt.xticks(rotation=45)\n",
    "\n",
    "# Menampilkan legenda\n",
    "plt.legend()\n",
    "\n",
    "# Menampilkan grafik\n",
    "plt.show()\n"
   ]
  },
  {
   "cell_type": "markdown",
   "metadata": {},
   "source": [
    "### Menghitung Tingkat Konversi Setiap Kelompok "
   ]
  },
  {
   "cell_type": "markdown",
   "metadata": {},
   "source": [
    "4) Hitung tingkat konversi setiap kelompok sebagai rasio pesanan terhadap jumlah kunjungan setiap hari. \n",
    "\n",
    "Buat grafik tingkat konversi harian dari kedua kelompok dan jelaskan perbedaannya. \n",
    "\n",
    "Buatlah kesimpulan dan asumsinya."
   ]
  },
  {
   "cell_type": "code",
   "execution_count": 45,
   "metadata": {},
   "outputs": [],
   "source": [
    "# Menambahkan kolom 'conversion' ke cumulativeData\n",
    "cumulativeData['conversion'] = cumulativeData['orders'] / cumulativeData['visitors']"
   ]
  },
  {
   "cell_type": "code",
   "execution_count": 46,
   "metadata": {},
   "outputs": [],
   "source": [
    "# Filter data cumulativeData untuk kelompok A\n",
    "cumulativeDataA = cumulativeData[cumulativeData['group'] == 'A']\n",
    "\n",
    "# Filter data cumulativeData untuk kelompok B\n",
    "cumulativeDataB = cumulativeData[cumulativeData['group'] == 'B']"
   ]
  },
  {
   "cell_type": "code",
   "execution_count": 47,
   "metadata": {},
   "outputs": [
    {
     "data": {
      "image/png": "[encoded data removed]",
      "text/plain": [
       "<Figure size 720x432 with 1 Axes>"
      ]
     },
     "metadata": {
      "needs_background": "light"
     },
     "output_type": "display_data"
    }
   ],
   "source": [
    "\n",
    "# Mengatur skala sumbu\n",
    "#plt.axis([pd.to_datetime('2019-03-10'), pd.to_datetime('2019-04-23'), 0, 0.05])\n",
    "plt.figure(figsize=(10, 6))\n",
    "# Menggambar grafik konversi kumulatif harian untuk kelompok A\n",
    "plt.plot(cumulativeDataA['date'], cumulativeDataA['conversion'], label='A')\n",
    "\n",
    "# Menggambar grafik konversi kumulatif harian untuk kelompok B\n",
    "plt.plot(cumulativeDataB['date'], cumulativeDataB['conversion'], label='B')\n",
    "\n",
    "# Menambahkan label dan judul\n",
    "plt.xlabel('Date')\n",
    "plt.ylabel('Conversion Rate')\n",
    "plt.title('Cumulative Daily Conversion Rate')\n",
    "plt.xticks(rotation=45)\n",
    "\n",
    "# Menampilkan legenda\n",
    "plt.legend()\n",
    "\n",
    "# Menampilkan grafik\n",
    "plt.show()\n"
   ]
  },
  {
   "cell_type": "markdown",
   "metadata": {},
   "source": [
    "Berdasarkan grafik konversi kumulatif harian untuk kelompok A dan B, terdapat beberapa kesimpulan dan asumsi yang dapat diambil:\n",
    "\n",
    "Metrik kumulatif kelompok BIRU secara konsisten lebih rendah daripada metrik kumulatif kelompok KUNING. Pada awal pengujian, dapat terlihat bahwa fluktuasi konversi terjadi pada kedua kelompok. Grafik tersebut menjadi stabil hanya menjelang akhir pengujian.\n"
   ]
  },
  {
   "cell_type": "code",
   "execution_count": 48,
   "metadata": {},
   "outputs": [],
   "source": [
    "mergedCumulativeConversions = cumulativeDataA[['date','conversion']].merge(cumulativeDataB[['date','conversion']], left_on='date', right_on='date', how='left', suffixes=['A', 'B'])\n"
   ]
  },
  {
   "cell_type": "code",
   "execution_count": 49,
   "metadata": {},
   "outputs": [
    {
     "data": {
      "image/png": "[encoded data removed]",
      "text/plain": [
       "<Figure size 432x288 with 1 Axes>"
      ]
     },
     "metadata": {
      "needs_background": "light"
     },
     "output_type": "display_data"
    }
   ],
   "source": [
    "plt.plot(mergedCumulativeConversions['date'], mergedCumulativeConversions['conversionB'] / mergedCumulativeConversions['conversionA'] - 1, label='Relative Conversion B vs A')\n",
    "plt.axhline(y=0, color='black', linestyle='--')\n",
    "plt.axhline(y=0.2, color='grey', linestyle='--')\n",
    "plt.legend()\n",
    "\n",
    "#plt.axis([pd.to_datetime('2019-03-10'), pd.to_datetime('2019-04-23'), -0.5, 0.5])\n",
    "plt.xlabel('Date')\n",
    "plt.ylabel('Relative Conversion')\n",
    "plt.title('Relative Conversion of Group B compared to Group A')\n",
    "plt.xticks(rotation=45)\n",
    "\n",
    "plt.show()\n"
   ]
  },
  {
   "cell_type": "markdown",
   "metadata": {},
   "source": [
    "Berdasarkan grafik perbedaan relatif antara tingkat konversi kumulatif kelompok B dibandingkan dengan kelompok A, dapat kita tarik beberapa kesimpulan dan asumsi:\n",
    "\n",
    "1. Kelompok B secara konsisten menunjukkan tingkat konversi yang lebih baik daripada kelompok A. Seiring dengan berjalannya waktu, perbedaan ini terus meningkat. Jika terdapat cukup data untuk mencapai tingkat signifikansi, sebaiknya kita lanjutkan pengujian, karena kelompok B sudah dipastikan lebih baik daripada A."
   ]
  },
  {
   "cell_type": "markdown",
   "metadata": {},
   "source": [
    "### Membuat Scatter Chart Jumlah Pesanan"
   ]
  },
  {
   "cell_type": "markdown",
   "metadata": {},
   "source": [
    "5) Buatlah diagram tebar (scatter chart) untuk jumlah pesanan per pengguna. \n",
    "\n",
    "Buatlah kesimpulan dan asumsinya."
   ]
  },
  {
   "cell_type": "code",
   "execution_count": 50,
   "metadata": {},
   "outputs": [
    {
     "data": {
      "text/html": [
       "<div>\n",
       "<style scoped>\n",
       "    .dataframe tbody tr th:only-of-type {\n",
       "        vertical-align: middle;\n",
       "    }\n",
       "\n",
       "    .dataframe tbody tr th {\n",
       "        vertical-align: top;\n",
       "    }\n",
       "\n",
       "    .dataframe thead th {\n",
       "        text-align: right;\n",
       "    }\n",
       "</style>\n",
       "<table border=\"1\" class=\"dataframe\">\n",
       "  <thead>\n",
       "    <tr style=\"text-align: right;\">\n",
       "      <th></th>\n",
       "      <th>transaction_id</th>\n",
       "      <th>visitor_id</th>\n",
       "      <th>date</th>\n",
       "      <th>revenue</th>\n",
       "      <th>group</th>\n",
       "    </tr>\n",
       "  </thead>\n",
       "  <tbody>\n",
       "    <tr>\n",
       "      <th>0</th>\n",
       "      <td>3667963787</td>\n",
       "      <td>3312258926</td>\n",
       "      <td>2019-08-15</td>\n",
       "      <td>30.4</td>\n",
       "      <td>B</td>\n",
       "    </tr>\n",
       "    <tr>\n",
       "      <th>1</th>\n",
       "      <td>2804400009</td>\n",
       "      <td>3642806036</td>\n",
       "      <td>2019-08-15</td>\n",
       "      <td>15.2</td>\n",
       "      <td>B</td>\n",
       "    </tr>\n",
       "    <tr>\n",
       "      <th>2</th>\n",
       "      <td>2961555356</td>\n",
       "      <td>4069496402</td>\n",
       "      <td>2019-08-15</td>\n",
       "      <td>10.2</td>\n",
       "      <td>A</td>\n",
       "    </tr>\n",
       "    <tr>\n",
       "      <th>3</th>\n",
       "      <td>3797467345</td>\n",
       "      <td>1196621759</td>\n",
       "      <td>2019-08-15</td>\n",
       "      <td>155.1</td>\n",
       "      <td>B</td>\n",
       "    </tr>\n",
       "    <tr>\n",
       "      <th>4</th>\n",
       "      <td>2282983706</td>\n",
       "      <td>2322279887</td>\n",
       "      <td>2019-08-15</td>\n",
       "      <td>40.5</td>\n",
       "      <td>B</td>\n",
       "    </tr>\n",
       "  </tbody>\n",
       "</table>\n",
       "</div>"
      ],
      "text/plain": [
       "   transaction_id  visitor_id       date  revenue group\n",
       "0      3667963787  3312258926 2019-08-15     30.4     B\n",
       "1      2804400009  3642806036 2019-08-15     15.2     B\n",
       "2      2961555356  4069496402 2019-08-15     10.2     A\n",
       "3      3797467345  1196621759 2019-08-15    155.1     B\n",
       "4      2282983706  2322279887 2019-08-15     40.5     B"
      ]
     },
     "execution_count": 50,
     "metadata": {},
     "output_type": "execute_result"
    }
   ],
   "source": [
    "data_order.head(5)"
   ]
  },
  {
   "cell_type": "code",
   "execution_count": 51,
   "metadata": {},
   "outputs": [
    {
     "data": {
      "text/html": [
       "<div>\n",
       "<style scoped>\n",
       "    .dataframe tbody tr th:only-of-type {\n",
       "        vertical-align: middle;\n",
       "    }\n",
       "\n",
       "    .dataframe tbody tr th {\n",
       "        vertical-align: top;\n",
       "    }\n",
       "\n",
       "    .dataframe thead th {\n",
       "        text-align: right;\n",
       "    }\n",
       "</style>\n",
       "<table border=\"1\" class=\"dataframe\">\n",
       "  <thead>\n",
       "    <tr style=\"text-align: right;\">\n",
       "      <th></th>\n",
       "      <th>visitor_id</th>\n",
       "      <th>orders</th>\n",
       "    </tr>\n",
       "  </thead>\n",
       "  <tbody>\n",
       "    <tr>\n",
       "      <th>1023</th>\n",
       "      <td>4256040402</td>\n",
       "      <td>11</td>\n",
       "    </tr>\n",
       "    <tr>\n",
       "      <th>591</th>\n",
       "      <td>2458001652</td>\n",
       "      <td>11</td>\n",
       "    </tr>\n",
       "    <tr>\n",
       "      <th>569</th>\n",
       "      <td>2378935119</td>\n",
       "      <td>9</td>\n",
       "    </tr>\n",
       "    <tr>\n",
       "      <th>487</th>\n",
       "      <td>2038680547</td>\n",
       "      <td>8</td>\n",
       "    </tr>\n",
       "    <tr>\n",
       "      <th>44</th>\n",
       "      <td>199603092</td>\n",
       "      <td>5</td>\n",
       "    </tr>\n",
       "    <tr>\n",
       "      <th>744</th>\n",
       "      <td>3062433592</td>\n",
       "      <td>5</td>\n",
       "    </tr>\n",
       "    <tr>\n",
       "      <th>55</th>\n",
       "      <td>237748145</td>\n",
       "      <td>5</td>\n",
       "    </tr>\n",
       "    <tr>\n",
       "      <th>917</th>\n",
       "      <td>3803269165</td>\n",
       "      <td>5</td>\n",
       "    </tr>\n",
       "    <tr>\n",
       "      <th>299</th>\n",
       "      <td>1230306981</td>\n",
       "      <td>5</td>\n",
       "    </tr>\n",
       "    <tr>\n",
       "      <th>897</th>\n",
       "      <td>3717692402</td>\n",
       "      <td>5</td>\n",
       "    </tr>\n",
       "  </tbody>\n",
       "</table>\n",
       "</div>"
      ],
      "text/plain": [
       "      visitor_id  orders\n",
       "1023  4256040402      11\n",
       "591   2458001652      11\n",
       "569   2378935119       9\n",
       "487   2038680547       8\n",
       "44     199603092       5\n",
       "744   3062433592       5\n",
       "55     237748145       5\n",
       "917   3803269165       5\n",
       "299   1230306981       5\n",
       "897   3717692402       5"
      ]
     },
     "execution_count": 51,
     "metadata": {},
     "output_type": "execute_result"
    }
   ],
   "source": [
    "# Menghitung jumlah pesanan per pengguna\n",
    "ordersByUsers = (data_order.drop(['group', 'revenue', 'date'], axis=1).groupby('visitor_id', as_index=False).agg({'transaction_id': pd.Series.nunique}))\n",
    "\n",
    "# Mengubah nama kolom\n",
    "ordersByUsers.columns = ['visitor_id', 'orders']\n",
    "\n",
    "# Mengurutkan data berdasarkan jumlah pesanan dalam urutan turun\n",
    "#ordersByUsers = ordersByUsers.sort_values(by='orders', ascending=False)\n",
    "\n",
    "# Menampilkan 10 baris pertama\n",
    "ordersByUsers.sort_values(by='orders', ascending=False).head(10)\n"
   ]
  },
  {
   "cell_type": "code",
   "execution_count": 52,
   "metadata": {
    "scrolled": true
   },
   "outputs": [
    {
     "data": {
      "text/plain": [
       "(array([937.,  64.,  17.,   3.,   6.,   0.,   0.,   1.,   1.,   2.]),\n",
       " array([ 1.,  2.,  3.,  4.,  5.,  6.,  7.,  8.,  9., 10., 11.]),\n",
       " <BarContainer object of 10 artists>)"
      ]
     },
     "execution_count": 52,
     "metadata": {},
     "output_type": "execute_result"
    },
    {
     "data": {
      "image/png": "[encoded data removed]",
      "text/plain": [
       "<Figure size 432x288 with 1 Axes>"
      ]
     },
     "metadata": {
      "needs_background": "light"
     },
     "output_type": "display_data"
    }
   ],
   "source": [
    "plt.hist(ordersByUsers['orders'])"
   ]
  },
  {
   "cell_type": "code",
   "execution_count": 53,
   "metadata": {
    "scrolled": true
   },
   "outputs": [
    {
     "data": {
      "text/plain": [
       "<matplotlib.collections.PathCollection at 0x7f7392a00160>"
      ]
     },
     "execution_count": 53,
     "metadata": {},
     "output_type": "execute_result"
    },
    {
     "data": {
      "image/png": "[encoded data removed]",
      "text/plain": [
       "<Figure size 432x288 with 1 Axes>"
      ]
     },
     "metadata": {
      "needs_background": "light"
     },
     "output_type": "display_data"
    }
   ],
   "source": [
    "x_values = pd.Series(range(0, len(ordersByUsers)))\n",
    "\n",
    "plt.scatter(x_values, ordersByUsers['orders'])"
   ]
  },
  {
   "cell_type": "markdown",
   "metadata": {},
   "source": [
    "Beberapa pengguna melakukan sedikit pesanan, sementara yang lain melakukan pesanan dalam jumlah yang lebih besar.\n",
    "Terdapat beberapa titik data yang terlihat sebagai outlier, yaitu pengguna-pengguna yang melakukan pesanan dalam jumlah yang sangat tinggi\n",
    "Jumlah pesanan cenderung bervariasi secara acak dan tidak menunjukkan tren naik atau turun yang konsisten."
   ]
  },
  {
   "cell_type": "markdown",
   "metadata": {},
   "source": [
    "### Menghitung Persentil Ke-95 Dan Ke-99 Pesanan Per Pengguna"
   ]
  },
  {
   "cell_type": "markdown",
   "metadata": {},
   "source": [
    "6) Hitung persentil ke-95 dan ke-99 untuk jumlah pesanan per pengguna. \n",
    "\n",
    "Tentukan titik ketika suatu titik data berubah menjadi anomali."
   ]
  },
  {
   "cell_type": "code",
   "execution_count": 54,
   "metadata": {},
   "outputs": [
    {
     "name": "stdout",
     "output_type": "stream",
     "text": [
      "Persentil ke-95:  2.0\n",
      "Persentil ke-99:  4.0\n"
     ]
    }
   ],
   "source": [
    "# Menghitung persentil sampel ke-95 dan ke-99\n",
    "percentiles = np.percentile(ordersByUsers['orders'], [95, 99])\n",
    "\n",
    "# Menampilkan hasilnya\n",
    "print(\"Persentil ke-95: \", percentiles[0])\n",
    "print(\"Persentil ke-99: \", percentiles[1])\n"
   ]
  },
  {
   "cell_type": "markdown",
   "metadata": {},
   "source": [
    "### Membuat Scatter Chart Harga Pesanan"
   ]
  },
  {
   "cell_type": "markdown",
   "metadata": {},
   "source": [
    "7) Buatlah diagram tebar (scatter chart) untuk harga pesanan. Buatlah kesimpulan dan asumsinya."
   ]
  },
  {
   "cell_type": "code",
   "execution_count": 55,
   "metadata": {},
   "outputs": [
    {
     "data": {
      "text/plain": [
       "<matplotlib.collections.PathCollection at 0x7f739295f6d0>"
      ]
     },
     "execution_count": 55,
     "metadata": {},
     "output_type": "execute_result"
    },
    {
     "data": {
      "image/png": "[encoded data removed]",
      "text/plain": [
       "<Figure size 432x288 with 1 Axes>"
      ]
     },
     "metadata": {
      "needs_background": "light"
     },
     "output_type": "display_data"
    }
   ],
   "source": [
    "x_values = pd.Series(range(0,len(data_order['revenue'])))\n",
    "\n",
    "plt.scatter(x_values, data_order['revenue'])"
   ]
  },
  {
   "cell_type": "markdown",
   "metadata": {},
   "source": [
    "Terdapat variasi yang signifikan dalam pendapatan pesanan. Beberapa titik data memiliki pendapatan yang tinggi, sementara yang lain memiliki pendapatan yang rendah. \n",
    "\n",
    "Terdapat beberapa titik data yang terlihat sebagai outlier, yaitu titik-titik data yang berjarak jauh dari pola umum data. "
   ]
  },
  {
   "cell_type": "markdown",
   "metadata": {},
   "source": [
    "### Menghitung Persentil Ke-95 Dan Ke-99 Harga Pesanan"
   ]
  },
  {
   "cell_type": "markdown",
   "metadata": {},
   "source": [
    "8) Hitung persentil ke-95 dan ke-99 untuk harga pesanan. \n",
    "\n",
    "Tentukan titik ketika suatu titik data berubah menjadi anomali."
   ]
  },
  {
   "cell_type": "code",
   "execution_count": 56,
   "metadata": {},
   "outputs": [
    {
     "name": "stdout",
     "output_type": "stream",
     "text": [
      "Persentil ke-95:  435.54\n",
      "Persentil ke-99:  900.9039999999999\n"
     ]
    }
   ],
   "source": [
    "percentile_95 = np.percentile(data_order['revenue'], 95)\n",
    "percentile_99 = np.percentile(data_order['revenue'], 99)\n",
    "\n",
    "print(\"Persentil ke-95: \", percentile_95)\n",
    "print(\"Persentil ke-99: \", percentile_99)\n"
   ]
  },
  {
   "cell_type": "markdown",
   "metadata": {},
   "source": [
    "### Statistik Perbedaan Konversi "
   ]
  },
  {
   "cell_type": "markdown",
   "metadata": {},
   "source": [
    "09) Temukan signifikansi statistik perbedaan konversi antar kelompok menggunakan data mentah. \n",
    "\n",
    "Buatlah kesimpulan dan asumsinya."
   ]
  },
  {
   "cell_type": "code",
   "execution_count": 57,
   "metadata": {},
   "outputs": [
    {
     "name": "stdout",
     "output_type": "stream",
     "text": [
      "Nilai p: 0.01679\n",
      "Perbedaan relatif konversi: 0.138\n"
     ]
    }
   ],
   "source": [
    "import scipy.stats as stats\n",
    "\n",
    "# Variabel ordersByUsersA dan ordersByUsersB\n",
    "ordersByUsersA = (data_order[data_order['group'] == 'A'].groupby('visitor_id', as_index=False).agg({'transaction_id': pd.Series.nunique}))\n",
    "ordersByUsersA.columns = ['visitor_id', 'orders']\n",
    "\n",
    "ordersByUsersB = (data_order[data_order['group'] == 'B'].groupby('visitor_id', as_index=False).agg({'transaction_id': pd.Series.nunique}))\n",
    "ordersByUsersB.columns = ['visitor_id', 'orders']\n",
    "\n",
    "# Variabel sampleA dan sampleB\n",
    "sampleA = pd.concat([ordersByUsersA['orders'],pd.Series(0, index=np.arange(data_visits[data_visits['group'] == 'A']\n",
    "                                    ['visits'].sum()- len(ordersByUsersA['orders'])),\n",
    "                                    name='orders',),],axis=0,)\n",
    "\n",
    "sampleB = pd.concat([ordersByUsersB['orders'],pd.Series(0, index=np.arange(data_visits[data_visits['group'] == 'B']\n",
    "                                    ['visits'].sum() - len(ordersByUsersB['orders'])),\n",
    "                                    name='orders',),], axis=0,)\n",
    "\n",
    "# Menampilkan nilai p\n",
    "print('Nilai p: {0:.5f}'.format(stats.mannwhitneyu(sampleA, sampleB)[1]))\n",
    "\n",
    "# Menampilkan perbedaan relatif konversi\n",
    "print('Perbedaan relatif konversi: {0:.3f}'.format(sampleB.mean() / sampleA.mean() - 1))\n"
   ]
  },
  {
   "cell_type": "markdown",
   "metadata": {},
   "source": [
    "Kesimpulan: \n",
    "\n",
    "berdasarkan data mentah yang kita gunakan, ternyata terdapat perbedaan antara kelompok A dan B.\n",
    "Baris pertama dari output yang dihasilkan memberi kita nilai p sebesar 0,01679, yang mana lebih kecil dari 0,05. Oleh karena itu, kita dapat menolak hipotesis nol karena tidak ditemukan perbedaan yang signifikan secara statistik dalam konversi antar kelompok. Akan tetapi, penurunan relatif dari kelompok B adalah 13,8% (baris kedua dari output)."
   ]
  },
  {
   "cell_type": "markdown",
   "metadata": {},
   "source": [
    "### Statistik Perbedaan Ukuran"
   ]
  },
  {
   "cell_type": "markdown",
   "metadata": {},
   "source": [
    "10) Temukan signifikansi statistik perbedaan ukuran pesanan rata-rata antar kelompok menggunakan data mentah.\n",
    "\n",
    "Buatlah kesimpulan dan asumsinya."
   ]
  },
  {
   "cell_type": "code",
   "execution_count": 58,
   "metadata": {},
   "outputs": [
    {
     "name": "stdout",
     "output_type": "stream",
     "text": [
      "Nilai p: 0.692\n",
      "Perbedaan relatif konversi: 0.252\n"
     ]
    }
   ],
   "source": [
    "print('Nilai p: {0:.3f}'.format(stats.mannwhitneyu(data_order[data_order['group'] == 'A']['revenue'],\n",
    "            data_order[data_order['group'] == 'B']['revenue'],)[1]))\n",
    "\n",
    "print('Perbedaan relatif konversi: {0:.3f}'.format(data_order[data_order['group'] == 'B']['revenue'].mean()\n",
    "        / data_order[data_order['group'] == 'A']['revenue'].mean()- 1))\n"
   ]
  },
  {
   "cell_type": "markdown",
   "metadata": {},
   "source": [
    "Kesimpulan: \n",
    "\n",
    "Berdasarkan data mentah yang kita gunakan, ternyata tidak ada perbedaan antara kelompok A dan B.\n",
    "Baris pertama dari output yang dihasilkan memberi kita nilai p sebesar 0,692 yang mana lebih besar dari 0,05. Oleh karena itu, kita tidak dapat menolak hipotesis nol karena tidak ditemukan perbedaan yang signifikan secara statistik dalam konversi antar kelompok. Akan tetapi, penurunan relatif dari kelompok B adalah 25,2% (baris kedua dari output)."
   ]
  },
  {
   "cell_type": "markdown",
   "metadata": {},
   "source": [
    "### Statistik Perbedaan Konversi Yang Telah Difilter"
   ]
  },
  {
   "cell_type": "markdown",
   "metadata": {},
   "source": [
    "11) Temukan signifikansi statistik perbedaan konversi antar kelompok menggunakan data yang telah difilter.\n",
    "\n",
    "Buatlah kesimpulan dan asumsinya."
   ]
  },
  {
   "cell_type": "markdown",
   "metadata": {},
   "source": [
    "Mari kita hitung jumlah total pengguna yang tidak wajar dengan metode shape()."
   ]
  },
  {
   "cell_type": "code",
   "execution_count": 59,
   "metadata": {},
   "outputs": [
    {
     "name": "stdout",
     "output_type": "stream",
     "text": [
      "227    2038680547\n",
      "326    2378935119\n",
      "278    2458001652\n",
      "499    4256040402\n",
      "Name: visitor_id, dtype: int64\n",
      "(4,)\n"
     ]
    }
   ],
   "source": [
    "# Mari kita hitung jumlah total pengguna yang tidak wajar dengan metode shape().\n",
    "usersWithManyOrders = pd.concat([ordersByUsersA[ordersByUsersA['orders'] > 4]['visitor_id'], ordersByUsersB[ordersByUsersB['orders'] > 4]['visitor_id']], axis = 0)\n",
    "usersWithExpensiveOrders = data_order[data_order['revenue'] > 20000]['visitor_id']\n",
    "\n",
    "abnormalUsers = pd.concat([usersWithManyOrders, usersWithExpensiveOrders], axis = 0).drop_duplicates().sort_values()\n",
    "\n",
    "print(abnormalUsers.head(5))\n",
    "print(abnormalUsers.shape)"
   ]
  },
  {
   "cell_type": "markdown",
   "metadata": {},
   "source": [
    "Secara total, kita memiliki 4 pengguna yang tidak wajar."
   ]
  },
  {
   "cell_type": "markdown",
   "metadata": {},
   "source": [
    "Mari kita cari tahu dampak tindakan mereka terhadap hasil pengujian. Kita akan menghitung signifikansi statistik dari perbedaan konversi antar kelompok menggunakan data yang telah difilter. "
   ]
  },
  {
   "cell_type": "code",
   "execution_count": 60,
   "metadata": {},
   "outputs": [],
   "source": [
    "# kita akan menyiapkan sampel jumlah pesanan per pengguna untuk setiap kelompok uji:\n",
    "sampleAFiltered = pd.concat([ordersByUsersA[np.logical_not(ordersByUsersA['visitor_id'].isin(abnormalUsers))]['orders'],pd.Series(0, index=np.arange(data_visits[data_visits['group']=='A']['visits'].sum() - len(ordersByUsersA['orders'])),name='orders')],axis=0)\n",
    "\n",
    "sampleBFiltered = pd.concat([ordersByUsersB[np.logical_not(ordersByUsersB['visitor_id'].isin(abnormalUsers))]['orders'],pd.Series(0, index=np.arange(data_visits[data_visits['group']=='B']['visits'].sum() - len(ordersByUsersB['orders'])),name='orders')],axis=0)"
   ]
  },
  {
   "cell_type": "code",
   "execution_count": 61,
   "metadata": {},
   "outputs": [
    {
     "name": "stdout",
     "output_type": "stream",
     "text": [
      "Nilai p: 0.016\n",
      "0.149\n"
     ]
    }
   ],
   "source": [
    "\n",
    "print(\"Nilai p: {0:.3f}\".format(stats.mannwhitneyu(sampleAFiltered, sampleBFiltered)[1]))\n",
    "print(\"{0:.3f}\".format(sampleBFiltered.mean()/sampleAFiltered.mean()-1))"
   ]
  },
  {
   "cell_type": "raw",
   "metadata": {},
   "source": [
    "Nilai p jauh lebih rendah dari 0,05, sehingga kita bisa menolak hipotesis nol dan menyimpulkan bahwa ukuran pesanan rata-rata antar kelompok adalah berbeda. Namun, kita menerima bahwa terdapat perbedaan signifikan antara kedua kelompok untuk ukuran pesanan rata-rata ."
   ]
  },
  {
   "cell_type": "markdown",
   "metadata": {},
   "source": [
    "### Statistik Perbedaan Ukuran Yang Telah Difilter"
   ]
  },
  {
   "cell_type": "markdown",
   "metadata": {},
   "source": [
    "12) Temukan signifikansi statistik perbedaan ukuran pesanan rata-rata antar kelompok menggunakan data yang telah difilter. \n",
    "\n",
    "Buatlah kesimpulan dan asumsinya."
   ]
  },
  {
   "cell_type": "code",
   "execution_count": 62,
   "metadata": {},
   "outputs": [
    {
     "name": "stdout",
     "output_type": "stream",
     "text": [
      "0.960\n",
      "0.235\n"
     ]
    }
   ],
   "source": [
    "# Mari kita lihat apa yang terjadi pada nilai ukuran pesanan rata-rata:\n",
    "\n",
    "print('{0:.3f}'.format(stats.mannwhitneyu(\n",
    "    data_order[np.logical_and(\n",
    "        data_order['group']=='A',\n",
    "        np.logical_not(data_order['visitor_id'].isin(abnormalUsers)))]['revenue'],\n",
    "    data_order[np.logical_and(\n",
    "        data_order['group']=='B',\n",
    "        np.logical_not(data_order['visitor_id'].isin(abnormalUsers)))]['revenue'])[1]))\n",
    "\n",
    "print('{0:.3f}'.format(\n",
    "    data_order[np.logical_and(data_order['group']=='B',np.logical_not(data_order['visitor_id'].isin(abnormalUsers)))]['revenue'].mean()/\n",
    "    data_order[np.logical_and(\n",
    "        data_order['group']=='A',\n",
    "        np.logical_not(data_order['visitor_id'].isin(abnormalUsers)))]['revenue'].mean() - 1))"
   ]
  },
  {
   "cell_type": "markdown",
   "metadata": {},
   "source": [
    "Nilai p meningkat, namun sekarang perbedaan antar segmen adalah 23,5%.\n",
    "Meskipun kesimpulan umum kita terhadap pengujian ini tidak berubah, contoh ini menunjukkan secara jelas bagaimana anomali dapat memengaruhi hasil A/B testing!\n"
   ]
  },
  {
   "cell_type": "markdown",
   "metadata": {},
   "source": [
    "### Keputusan berdasarkan hasil pengujian"
   ]
  },
  {
   "cell_type": "markdown",
   "metadata": {},
   "source": [
    "13) Buatlah keputusan berdasarkan hasil pengujian. Keputusan yang memungkinkan adalah: \n",
    "\n",
    "1. Menghentikan pengujian, serta mempertimbangkan salah satu kelompok sebagai pemimpin. \n",
    "2. Menghentikan pengujian, serta menyimpulkan bahwa tidak ada perbedaan antara kedua kelompok. \n",
    "3. Melanjutkan pengujian."
   ]
  },
  {
   "cell_type": "markdown",
   "metadata": {},
   "source": [
    "Kesimpulan apa yang bisa kita ambil dari pengujian ini?\n",
    "Berikut adalah fakta-faktanya:\n",
    "1. Baik data mentah maupun data yang telah difilter, keduanya menunjukkan perbedaan yang signifikan secara statistik dalam hal konversi antar kelompok.\n",
    "2. Baik data mentah maupun data yang telah difilter, keduanya tidak menunjukkan perbedaan yang signifikan secara statistik dalam hal ukuran pesanan rata-rata antar kelompok.\n",
    "3. Grafik yang menunjukkan perbedaan konversi antar kelompok menunjukkan bahwa hasil kelompok B lebih baik, dan memperlihatkan peningkatan secara signifikan:"
   ]
  },
  {
   "cell_type": "markdown",
   "metadata": {},
   "source": [
    "Menghentikan pengujian, serta mempertimbangkan salah satu kelompok sebagai pemimpin.."
   ]
  },
  {
   "cell_type": "markdown",
   "metadata": {},
   "source": [
    "Berdasarkan fakta-fakta tersebut, dapat disimpulkan bahwa pengujian ini tidak berjalan dengan baik dan harus dihentikan. Tidak ada gunanya untuk melanjutkan pengujian ini, karena probabilitas bahwa segmen B akan menjadi lebih baik daripada segmen A hampir tidak ada."
   ]
  },
  {
   "cell_type": "markdown",
   "metadata": {},
   "source": [
    "## Kesimpulan "
   ]
  },
  {
   "cell_type": "markdown",
   "metadata": {},
   "source": [
    "saya telah berhasil menyelesaikan beberapa tugas sulit dalam bab ini. \n",
    "\n",
    "Berikut adalah hal-hal yang Anda temukan:\n",
    "Terdapat perbedaan yang signifikan secara statistik dalam hal konversi antar kelompok, baik berdasarkan data mentah maupun data yang difilter.\n",
    "\n",
    "Data mentah awalnya tidak menunjukkan perbedaan yang signifikan secara statistik antar kelompok dalam hal ukuran pembelian rata-rata. Akan tetapi, setelah anomali dihilangkan, ternyata perbedaannya secara statistik sangatlah signifikan.\n",
    "\n",
    "Grafik perbedaan konversi antar kelompok menunjukkan bahwa hasil kelompok B lebih baik daripada kelompok A: hasil dari kelompok B cenderung meningkat atau stabil mendekati nilai rata-rata."
   ]
  },
  {
   "cell_type": "markdown",
   "metadata": {},
   "source": [
    "Berdasarkan fakta-fakta yang telah kami sebutkan di atas, apa yang harus kita lakukan selanjutnya?\n",
    "Menghentikan pengujian, menganggapnya sudah berhasil, dan melanjutkan ke hipotesis berikutnya."
   ]
  },
  {
   "cell_type": "code",
   "execution_count": null,
   "metadata": {},
   "outputs": [],
   "source": []
  }
 ],
 "metadata": {
  "kernelspec": {
   "display_name": "Python 3 (ipykernel)",
   "language": "python",
   "name": "python3"
  },
  "language_info": {
   "codemirror_mode": {
    "name": "ipython",
    "version": 3
   },
   "file_extension": ".py",
   "mimetype": "text/x-python",
   "name": "python",
   "nbconvert_exporter": "python",
   "pygments_lexer": "ipython3",
   "version": "3.11.3"
  },
  "toc": {
   "base_numbering": 1,
   "nav_menu": {},
   "number_sections": true,
   "sideBar": true,
   "skip_h1_title": true,
   "title_cell": "Table of Contents",
   "title_sidebar": "Contents",
   "toc_cell": false,
   "toc_position": {
    "height": "calc(100% - 180px)",
    "left": "10px",
    "top": "150px",
    "width": "326px"
   },
   "toc_section_display": true,
   "toc_window_display": true
  }
 },
 "nbformat": 4,
 "nbformat_minor": 2
}
