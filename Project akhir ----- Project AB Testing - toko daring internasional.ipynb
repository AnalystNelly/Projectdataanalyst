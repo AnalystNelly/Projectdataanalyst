{
 "cells": [
  {
   "cell_type": "markdown",
   "metadata": {},
   "source": [
    "Anda telah menerima sebuah tugas analitik dari suatu toko daring internasional. Pendahulu Anda gagal untuk menyelesaikan tugas ini: dia sempat menjalankan A/B testing sebelum akhirnya berhenti dari pekerjaannya (katanya sih, demi beternak ayam di kampung). Dia pun hanya meninggalkan spesifikasi teknis dan hasil dari eksperimen yang dilakukannya."
   ]
  },
  {
   "cell_type": "markdown",
   "metadata": {},
   "source": [
    "## Mengunduh data dan menyiapkannya untuk analisis "
   ]
  },
  {
   "cell_type": "markdown",
   "metadata": {},
   "source": [
    "Untuk mengakses dataset pada platform"
   ]
  },
  {
   "cell_type": "markdown",
   "metadata": {},
   "source": [
    "### Memuat Library"
   ]
  },
  {
   "cell_type": "code",
   "execution_count": 1,
   "metadata": {},
   "outputs": [],
   "source": [
    "# Muat semua library\n",
    "import pandas as pd\n",
    "import numpy as np\n",
    "import matplotlib.pyplot as plt\n",
    "import statsmodels.api as sm"
   ]
  },
  {
   "cell_type": "markdown",
   "metadata": {},
   "source": [
    "## Load The Dataset"
   ]
  },
  {
   "cell_type": "code",
   "execution_count": 2,
   "metadata": {},
   "outputs": [],
   "source": [
    "# load the dataset\n",
    "\n",
    "# Memuat dataset kalender event pemasaran untuk tahun 2020\n",
    "#data_hypo = pd.read_csv('/datasets/hypotheses_us.csv')\n",
    "#data_marketing = pd.read_csv('/datasets/ab_project_marketing_events_us.csv', sep=',')\n",
    "data_marketing = pd.read_csv('ab_project_marketing_events_us.csv', sep=',')\n",
    "\n",
    "# Memuat dataset semua pengguna yang mendaftar di toko daring dari tanggal 7 sampai 21 Desember 2020\n",
    "#data_users = pd.read_csv('/datasets/final_ab_new_users_upd_us.csv', sep=',')\n",
    "data_users = pd.read_csv('final_ab_new_users_upd_us.csv', sep=',')\n",
    "\n",
    "# Memuat dataset semua peristiwa dari pengguna baru sepanjang periode 7 Desember 2020 sampai 1 Januari 2021\n",
    "#data_events = pd.read_csv('/datasets/final_ab_events_upd_us.csv', sep=',')\n",
    "data_events = pd.read_csv('final_ab_events_upd_us.csv', sep=',')\n",
    "\n",
    "# Memuat dataset berisi daftar peserta eksperimen\n",
    "#data_participants = pd.read_csv('/datasets/final_ab_participants_upd_us.csv', sep=',')\n",
    "data_participants = pd.read_csv('final_ab_participants_upd_us.csv', sep=',')\n",
    "\n"
   ]
  },
  {
   "cell_type": "markdown",
   "metadata": {},
   "source": [
    "### Analisis Data Eksploratif (Python)"
   ]
  },
  {
   "cell_type": "markdown",
   "metadata": {},
   "source": [
    "#### Data Cleaning - dataset data_marketing"
   ]
  },
  {
   "cell_type": "code",
   "execution_count": 3,
   "metadata": {},
   "outputs": [
    {
     "name": "stdout",
     "output_type": "stream",
     "text": [
      "<class 'pandas.core.frame.DataFrame'>\n",
      "RangeIndex: 14 entries, 0 to 13\n",
      "Data columns (total 4 columns):\n",
      " #   Column     Non-Null Count  Dtype \n",
      "---  ------     --------------  ----- \n",
      " 0   name       14 non-null     object\n",
      " 1   regions    14 non-null     object\n",
      " 2   start_dt   14 non-null     object\n",
      " 3   finish_dt  14 non-null     object\n",
      "dtypes: object(4)\n",
      "memory usage: 580.0+ bytes\n"
     ]
    }
   ],
   "source": [
    "# Menampilkan informasi di dataset data_marketing\n",
    "data_marketing.info()"
   ]
  },
  {
   "cell_type": "code",
   "execution_count": 4,
   "metadata": {},
   "outputs": [
    {
     "data": {
      "text/html": [
       "<div>\n",
       "<style scoped>\n",
       "    .dataframe tbody tr th:only-of-type {\n",
       "        vertical-align: middle;\n",
       "    }\n",
       "\n",
       "    .dataframe tbody tr th {\n",
       "        vertical-align: top;\n",
       "    }\n",
       "\n",
       "    .dataframe thead th {\n",
       "        text-align: right;\n",
       "    }\n",
       "</style>\n",
       "<table border=\"1\" class=\"dataframe\">\n",
       "  <thead>\n",
       "    <tr style=\"text-align: right;\">\n",
       "      <th></th>\n",
       "      <th>name</th>\n",
       "      <th>regions</th>\n",
       "      <th>start_dt</th>\n",
       "      <th>finish_dt</th>\n",
       "    </tr>\n",
       "  </thead>\n",
       "  <tbody>\n",
       "    <tr>\n",
       "      <th>0</th>\n",
       "      <td>Christmas&amp;New Year Promo</td>\n",
       "      <td>EU, N.America</td>\n",
       "      <td>2020-12-25</td>\n",
       "      <td>2021-01-03</td>\n",
       "    </tr>\n",
       "    <tr>\n",
       "      <th>1</th>\n",
       "      <td>St. Valentine's Day Giveaway</td>\n",
       "      <td>EU, CIS, APAC, N.America</td>\n",
       "      <td>2020-02-14</td>\n",
       "      <td>2020-02-16</td>\n",
       "    </tr>\n",
       "    <tr>\n",
       "      <th>2</th>\n",
       "      <td>St. Patric's Day Promo</td>\n",
       "      <td>EU, N.America</td>\n",
       "      <td>2020-03-17</td>\n",
       "      <td>2020-03-19</td>\n",
       "    </tr>\n",
       "    <tr>\n",
       "      <th>3</th>\n",
       "      <td>Easter Promo</td>\n",
       "      <td>EU, CIS, APAC, N.America</td>\n",
       "      <td>2020-04-12</td>\n",
       "      <td>2020-04-19</td>\n",
       "    </tr>\n",
       "    <tr>\n",
       "      <th>4</th>\n",
       "      <td>4th of July Promo</td>\n",
       "      <td>N.America</td>\n",
       "      <td>2020-07-04</td>\n",
       "      <td>2020-07-11</td>\n",
       "    </tr>\n",
       "  </tbody>\n",
       "</table>\n",
       "</div>"
      ],
      "text/plain": [
       "                           name                   regions    start_dt  \\\n",
       "0      Christmas&New Year Promo             EU, N.America  2020-12-25   \n",
       "1  St. Valentine's Day Giveaway  EU, CIS, APAC, N.America  2020-02-14   \n",
       "2        St. Patric's Day Promo             EU, N.America  2020-03-17   \n",
       "3                  Easter Promo  EU, CIS, APAC, N.America  2020-04-12   \n",
       "4             4th of July Promo                 N.America  2020-07-04   \n",
       "\n",
       "    finish_dt  \n",
       "0  2021-01-03  \n",
       "1  2020-02-16  \n",
       "2  2020-03-19  \n",
       "3  2020-04-19  \n",
       "4  2020-07-11  "
      ]
     },
     "execution_count": 4,
     "metadata": {},
     "output_type": "execute_result"
    }
   ],
   "source": [
    "#Menampilakn 10 row teratas\n",
    "data_marketing.head()"
   ]
  },
  {
   "cell_type": "code",
   "execution_count": 5,
   "metadata": {},
   "outputs": [],
   "source": [
    "# Mengubah tipe data kolom tanggal start_dt dan finish_dt menjadi datetime\n",
    "data_marketing['start_dt'] = pd.to_datetime(data_marketing['start_dt'])\n",
    "data_marketing['finish_dt'] = pd.to_datetime(data_marketing['finish_dt'])\n"
   ]
  },
  {
   "cell_type": "code",
   "execution_count": 6,
   "metadata": {},
   "outputs": [
    {
     "data": {
      "text/html": [
       "<div>\n",
       "<style scoped>\n",
       "    .dataframe tbody tr th:only-of-type {\n",
       "        vertical-align: middle;\n",
       "    }\n",
       "\n",
       "    .dataframe tbody tr th {\n",
       "        vertical-align: top;\n",
       "    }\n",
       "\n",
       "    .dataframe thead th {\n",
       "        text-align: right;\n",
       "    }\n",
       "</style>\n",
       "<table border=\"1\" class=\"dataframe\">\n",
       "  <thead>\n",
       "    <tr style=\"text-align: right;\">\n",
       "      <th></th>\n",
       "      <th>name</th>\n",
       "      <th>regions</th>\n",
       "      <th>start_dt</th>\n",
       "      <th>finish_dt</th>\n",
       "    </tr>\n",
       "  </thead>\n",
       "  <tbody>\n",
       "  </tbody>\n",
       "</table>\n",
       "</div>"
      ],
      "text/plain": [
       "Empty DataFrame\n",
       "Columns: [name, regions, start_dt, finish_dt]\n",
       "Index: []"
      ]
     },
     "execution_count": 6,
     "metadata": {},
     "output_type": "execute_result"
    }
   ],
   "source": [
    "#Mengecek data ganda\n",
    "duplicate_marketing = data_marketing[data_marketing.duplicated()]\n",
    "\n",
    "# Menampilkan nilai duplikat\n",
    "duplicate_marketing"
   ]
  },
  {
   "cell_type": "code",
   "execution_count": 7,
   "metadata": {},
   "outputs": [
    {
     "data": {
      "text/plain": [
       "name         0\n",
       "regions      0\n",
       "start_dt     0\n",
       "finish_dt    0\n",
       "dtype: int64"
      ]
     },
     "execution_count": 7,
     "metadata": {},
     "output_type": "execute_result"
    }
   ],
   "source": [
    "#Mengecek data hilang\n",
    "data_marketing.isnull().sum()\n"
   ]
  },
  {
   "cell_type": "code",
   "execution_count": 8,
   "metadata": {},
   "outputs": [
    {
     "data": {
      "text/html": [
       "<div>\n",
       "<style scoped>\n",
       "    .dataframe tbody tr th:only-of-type {\n",
       "        vertical-align: middle;\n",
       "    }\n",
       "\n",
       "    .dataframe tbody tr th {\n",
       "        vertical-align: top;\n",
       "    }\n",
       "\n",
       "    .dataframe thead th {\n",
       "        text-align: right;\n",
       "    }\n",
       "</style>\n",
       "<table border=\"1\" class=\"dataframe\">\n",
       "  <thead>\n",
       "    <tr style=\"text-align: right;\">\n",
       "      <th></th>\n",
       "      <th>name</th>\n",
       "      <th>regions</th>\n",
       "      <th>start_dt</th>\n",
       "      <th>finish_dt</th>\n",
       "    </tr>\n",
       "  </thead>\n",
       "  <tbody>\n",
       "    <tr>\n",
       "      <th>0</th>\n",
       "      <td>Christmas&amp;New Year Promo</td>\n",
       "      <td>EU, N.America</td>\n",
       "      <td>2020-12-25</td>\n",
       "      <td>2021-01-03</td>\n",
       "    </tr>\n",
       "    <tr>\n",
       "      <th>1</th>\n",
       "      <td>St. Valentine's Day Giveaway</td>\n",
       "      <td>EU, CIS, APAC, N.America</td>\n",
       "      <td>2020-02-14</td>\n",
       "      <td>2020-02-16</td>\n",
       "    </tr>\n",
       "    <tr>\n",
       "      <th>2</th>\n",
       "      <td>St. Patric's Day Promo</td>\n",
       "      <td>EU, N.America</td>\n",
       "      <td>2020-03-17</td>\n",
       "      <td>2020-03-19</td>\n",
       "    </tr>\n",
       "    <tr>\n",
       "      <th>3</th>\n",
       "      <td>Easter Promo</td>\n",
       "      <td>EU, CIS, APAC, N.America</td>\n",
       "      <td>2020-04-12</td>\n",
       "      <td>2020-04-19</td>\n",
       "    </tr>\n",
       "    <tr>\n",
       "      <th>4</th>\n",
       "      <td>4th of July Promo</td>\n",
       "      <td>N.America</td>\n",
       "      <td>2020-07-04</td>\n",
       "      <td>2020-07-11</td>\n",
       "    </tr>\n",
       "  </tbody>\n",
       "</table>\n",
       "</div>"
      ],
      "text/plain": [
       "                           name                   regions   start_dt  \\\n",
       "0      Christmas&New Year Promo             EU, N.America 2020-12-25   \n",
       "1  St. Valentine's Day Giveaway  EU, CIS, APAC, N.America 2020-02-14   \n",
       "2        St. Patric's Day Promo             EU, N.America 2020-03-17   \n",
       "3                  Easter Promo  EU, CIS, APAC, N.America 2020-04-12   \n",
       "4             4th of July Promo                 N.America 2020-07-04   \n",
       "\n",
       "   finish_dt  \n",
       "0 2021-01-03  \n",
       "1 2020-02-16  \n",
       "2 2020-03-19  \n",
       "3 2020-04-19  \n",
       "4 2020-07-11  "
      ]
     },
     "execution_count": 8,
     "metadata": {},
     "output_type": "execute_result"
    }
   ],
   "source": [
    "data_marketing.head()"
   ]
  },
  {
   "cell_type": "code",
   "execution_count": 9,
   "metadata": {
    "scrolled": true
   },
   "outputs": [
    {
     "name": "stdout",
     "output_type": "stream",
     "text": [
      "<class 'pandas.core.frame.DataFrame'>\n",
      "RangeIndex: 14 entries, 0 to 13\n",
      "Data columns (total 4 columns):\n",
      " #   Column     Non-Null Count  Dtype         \n",
      "---  ------     --------------  -----         \n",
      " 0   name       14 non-null     object        \n",
      " 1   regions    14 non-null     object        \n",
      " 2   start_dt   14 non-null     datetime64[ns]\n",
      " 3   finish_dt  14 non-null     datetime64[ns]\n",
      "dtypes: datetime64[ns](2), object(2)\n",
      "memory usage: 580.0+ bytes\n"
     ]
    }
   ],
   "source": [
    "data_marketing.info()"
   ]
  },
  {
   "cell_type": "markdown",
   "metadata": {},
   "source": [
    "#### Data Cleaning - dataset data_users"
   ]
  },
  {
   "cell_type": "code",
   "execution_count": 10,
   "metadata": {},
   "outputs": [
    {
     "name": "stdout",
     "output_type": "stream",
     "text": [
      "<class 'pandas.core.frame.DataFrame'>\n",
      "RangeIndex: 58703 entries, 0 to 58702\n",
      "Data columns (total 4 columns):\n",
      " #   Column      Non-Null Count  Dtype \n",
      "---  ------      --------------  ----- \n",
      " 0   user_id     58703 non-null  object\n",
      " 1   first_date  58703 non-null  object\n",
      " 2   region      58703 non-null  object\n",
      " 3   device      58703 non-null  object\n",
      "dtypes: object(4)\n",
      "memory usage: 1.8+ MB\n"
     ]
    }
   ],
   "source": [
    "# Menampilkan informasi di dataset data_users\n",
    "data_users.info()"
   ]
  },
  {
   "cell_type": "code",
   "execution_count": 11,
   "metadata": {},
   "outputs": [],
   "source": [
    "# Mengubah tipe data kolom tanggal first_date menjadi datetime\n",
    "data_users['first_date'] = pd.to_datetime(data_users['first_date'])\n"
   ]
  },
  {
   "cell_type": "code",
   "execution_count": 12,
   "metadata": {},
   "outputs": [
    {
     "data": {
      "text/html": [
       "<div>\n",
       "<style scoped>\n",
       "    .dataframe tbody tr th:only-of-type {\n",
       "        vertical-align: middle;\n",
       "    }\n",
       "\n",
       "    .dataframe tbody tr th {\n",
       "        vertical-align: top;\n",
       "    }\n",
       "\n",
       "    .dataframe thead th {\n",
       "        text-align: right;\n",
       "    }\n",
       "</style>\n",
       "<table border=\"1\" class=\"dataframe\">\n",
       "  <thead>\n",
       "    <tr style=\"text-align: right;\">\n",
       "      <th></th>\n",
       "      <th>user_id</th>\n",
       "      <th>first_date</th>\n",
       "      <th>region</th>\n",
       "      <th>device</th>\n",
       "    </tr>\n",
       "  </thead>\n",
       "  <tbody>\n",
       "    <tr>\n",
       "      <th>0</th>\n",
       "      <td>D72A72121175D8BE</td>\n",
       "      <td>2020-12-07</td>\n",
       "      <td>EU</td>\n",
       "      <td>PC</td>\n",
       "    </tr>\n",
       "    <tr>\n",
       "      <th>1</th>\n",
       "      <td>F1C668619DFE6E65</td>\n",
       "      <td>2020-12-07</td>\n",
       "      <td>N.America</td>\n",
       "      <td>Android</td>\n",
       "    </tr>\n",
       "    <tr>\n",
       "      <th>2</th>\n",
       "      <td>2E1BF1D4C37EA01F</td>\n",
       "      <td>2020-12-07</td>\n",
       "      <td>EU</td>\n",
       "      <td>PC</td>\n",
       "    </tr>\n",
       "    <tr>\n",
       "      <th>3</th>\n",
       "      <td>50734A22C0C63768</td>\n",
       "      <td>2020-12-07</td>\n",
       "      <td>EU</td>\n",
       "      <td>iPhone</td>\n",
       "    </tr>\n",
       "    <tr>\n",
       "      <th>4</th>\n",
       "      <td>E1BDDCE0DAFA2679</td>\n",
       "      <td>2020-12-07</td>\n",
       "      <td>N.America</td>\n",
       "      <td>iPhone</td>\n",
       "    </tr>\n",
       "  </tbody>\n",
       "</table>\n",
       "</div>"
      ],
      "text/plain": [
       "            user_id first_date     region   device\n",
       "0  D72A72121175D8BE 2020-12-07         EU       PC\n",
       "1  F1C668619DFE6E65 2020-12-07  N.America  Android\n",
       "2  2E1BF1D4C37EA01F 2020-12-07         EU       PC\n",
       "3  50734A22C0C63768 2020-12-07         EU   iPhone\n",
       "4  E1BDDCE0DAFA2679 2020-12-07  N.America   iPhone"
      ]
     },
     "execution_count": 12,
     "metadata": {},
     "output_type": "execute_result"
    }
   ],
   "source": [
    "#Menampilakn 10 row teratas\n",
    "data_users.head()"
   ]
  },
  {
   "cell_type": "code",
   "execution_count": 13,
   "metadata": {},
   "outputs": [
    {
     "data": {
      "text/html": [
       "<div>\n",
       "<style scoped>\n",
       "    .dataframe tbody tr th:only-of-type {\n",
       "        vertical-align: middle;\n",
       "    }\n",
       "\n",
       "    .dataframe tbody tr th {\n",
       "        vertical-align: top;\n",
       "    }\n",
       "\n",
       "    .dataframe thead th {\n",
       "        text-align: right;\n",
       "    }\n",
       "</style>\n",
       "<table border=\"1\" class=\"dataframe\">\n",
       "  <thead>\n",
       "    <tr style=\"text-align: right;\">\n",
       "      <th></th>\n",
       "      <th>user_id</th>\n",
       "      <th>first_date</th>\n",
       "      <th>region</th>\n",
       "      <th>device</th>\n",
       "    </tr>\n",
       "  </thead>\n",
       "  <tbody>\n",
       "  </tbody>\n",
       "</table>\n",
       "</div>"
      ],
      "text/plain": [
       "Empty DataFrame\n",
       "Columns: [user_id, first_date, region, device]\n",
       "Index: []"
      ]
     },
     "execution_count": 13,
     "metadata": {},
     "output_type": "execute_result"
    }
   ],
   "source": [
    "#Mengecek data ganda\n",
    "duplicate_users = data_users[data_users.duplicated()]\n",
    "\n",
    "# Menampilkan nilai duplikat\n",
    "duplicate_users"
   ]
  },
  {
   "cell_type": "code",
   "execution_count": 14,
   "metadata": {},
   "outputs": [
    {
     "data": {
      "text/plain": [
       "user_id       0\n",
       "first_date    0\n",
       "region        0\n",
       "device        0\n",
       "dtype: int64"
      ]
     },
     "execution_count": 14,
     "metadata": {},
     "output_type": "execute_result"
    }
   ],
   "source": [
    "#Mengecek data hilang\n",
    "data_users.isnull().sum()\n"
   ]
  },
  {
   "cell_type": "code",
   "execution_count": 15,
   "metadata": {},
   "outputs": [
    {
     "name": "stdout",
     "output_type": "stream",
     "text": [
      "                user_id first_date     region   device\n",
      "0      D72A72121175D8BE 2020-12-07         EU       PC\n",
      "1      F1C668619DFE6E65 2020-12-07  N.America  Android\n",
      "2      2E1BF1D4C37EA01F 2020-12-07         EU       PC\n",
      "3      50734A22C0C63768 2020-12-07         EU   iPhone\n",
      "4      E1BDDCE0DAFA2679 2020-12-07  N.America   iPhone\n",
      "...                 ...        ...        ...      ...\n",
      "58698  1DB53B933257165D 2020-12-20         EU  Android\n",
      "58699  538643EB4527ED03 2020-12-20         EU      Mac\n",
      "58700  7ADEE837D5D8CBBD 2020-12-20         EU       PC\n",
      "58701  1C7D23927835213F 2020-12-20         EU   iPhone\n",
      "58702  8F04273BB2860229 2020-12-20         EU  Android\n",
      "\n",
      "[47363 rows x 4 columns]\n"
     ]
    }
   ],
   "source": [
    "from datetime import datetime\n",
    "\n",
    "# Konversi string tanggal ke format datetime\n",
    "cutoff_date = datetime(2020, 12, 21)\n",
    "\n",
    "# Filter data_users berdasarkan first_date\n",
    "data_users = data_users[data_users['first_date'] < cutoff_date]\n",
    "\n",
    "# Tampilkan hasil filter\n",
    "print(data_users)\n"
   ]
  },
  {
   "cell_type": "markdown",
   "metadata": {},
   "source": [
    "#### Data Cleaning - dataset data_events"
   ]
  },
  {
   "cell_type": "code",
   "execution_count": 16,
   "metadata": {},
   "outputs": [
    {
     "name": "stdout",
     "output_type": "stream",
     "text": [
      "<class 'pandas.core.frame.DataFrame'>\n",
      "RangeIndex: 423761 entries, 0 to 423760\n",
      "Data columns (total 4 columns):\n",
      " #   Column      Non-Null Count   Dtype  \n",
      "---  ------      --------------   -----  \n",
      " 0   user_id     423761 non-null  object \n",
      " 1   event_dt    423761 non-null  object \n",
      " 2   event_name  423761 non-null  object \n",
      " 3   details     60314 non-null   float64\n",
      "dtypes: float64(1), object(3)\n",
      "memory usage: 12.9+ MB\n"
     ]
    }
   ],
   "source": [
    "# Menampilkan informasi di dataset data_events\n",
    "data_events.info()"
   ]
  },
  {
   "cell_type": "code",
   "execution_count": 17,
   "metadata": {},
   "outputs": [
    {
     "data": {
      "text/html": [
       "<div>\n",
       "<style scoped>\n",
       "    .dataframe tbody tr th:only-of-type {\n",
       "        vertical-align: middle;\n",
       "    }\n",
       "\n",
       "    .dataframe tbody tr th {\n",
       "        vertical-align: top;\n",
       "    }\n",
       "\n",
       "    .dataframe thead th {\n",
       "        text-align: right;\n",
       "    }\n",
       "</style>\n",
       "<table border=\"1\" class=\"dataframe\">\n",
       "  <thead>\n",
       "    <tr style=\"text-align: right;\">\n",
       "      <th></th>\n",
       "      <th>user_id</th>\n",
       "      <th>event_dt</th>\n",
       "      <th>event_name</th>\n",
       "      <th>details</th>\n",
       "    </tr>\n",
       "  </thead>\n",
       "  <tbody>\n",
       "    <tr>\n",
       "      <th>0</th>\n",
       "      <td>E1BDDCE0DAFA2679</td>\n",
       "      <td>2020-12-07 20:22:03</td>\n",
       "      <td>purchase</td>\n",
       "      <td>99.99</td>\n",
       "    </tr>\n",
       "    <tr>\n",
       "      <th>1</th>\n",
       "      <td>7B6452F081F49504</td>\n",
       "      <td>2020-12-07 09:22:53</td>\n",
       "      <td>purchase</td>\n",
       "      <td>9.99</td>\n",
       "    </tr>\n",
       "    <tr>\n",
       "      <th>2</th>\n",
       "      <td>9CD9F34546DF254C</td>\n",
       "      <td>2020-12-07 12:59:29</td>\n",
       "      <td>purchase</td>\n",
       "      <td>4.99</td>\n",
       "    </tr>\n",
       "    <tr>\n",
       "      <th>3</th>\n",
       "      <td>96F27A054B191457</td>\n",
       "      <td>2020-12-07 04:02:40</td>\n",
       "      <td>purchase</td>\n",
       "      <td>4.99</td>\n",
       "    </tr>\n",
       "    <tr>\n",
       "      <th>4</th>\n",
       "      <td>1FD7660FDF94CA1F</td>\n",
       "      <td>2020-12-07 10:15:09</td>\n",
       "      <td>purchase</td>\n",
       "      <td>4.99</td>\n",
       "    </tr>\n",
       "  </tbody>\n",
       "</table>\n",
       "</div>"
      ],
      "text/plain": [
       "            user_id             event_dt event_name  details\n",
       "0  E1BDDCE0DAFA2679  2020-12-07 20:22:03   purchase    99.99\n",
       "1  7B6452F081F49504  2020-12-07 09:22:53   purchase     9.99\n",
       "2  9CD9F34546DF254C  2020-12-07 12:59:29   purchase     4.99\n",
       "3  96F27A054B191457  2020-12-07 04:02:40   purchase     4.99\n",
       "4  1FD7660FDF94CA1F  2020-12-07 10:15:09   purchase     4.99"
      ]
     },
     "execution_count": 17,
     "metadata": {},
     "output_type": "execute_result"
    }
   ],
   "source": [
    "#Menampilakn 10 row teratas\n",
    "data_events.head()"
   ]
  },
  {
   "cell_type": "code",
   "execution_count": 18,
   "metadata": {},
   "outputs": [],
   "source": [
    "# Mengubah tipe data kolom tanggal dan waktu event_dt menjadi datetime\n",
    "data_events['event_dt'] = pd.to_datetime(data_events['event_dt'])\n"
   ]
  },
  {
   "cell_type": "code",
   "execution_count": 19,
   "metadata": {},
   "outputs": [
    {
     "data": {
      "text/html": [
       "<div>\n",
       "<style scoped>\n",
       "    .dataframe tbody tr th:only-of-type {\n",
       "        vertical-align: middle;\n",
       "    }\n",
       "\n",
       "    .dataframe tbody tr th {\n",
       "        vertical-align: top;\n",
       "    }\n",
       "\n",
       "    .dataframe thead th {\n",
       "        text-align: right;\n",
       "    }\n",
       "</style>\n",
       "<table border=\"1\" class=\"dataframe\">\n",
       "  <thead>\n",
       "    <tr style=\"text-align: right;\">\n",
       "      <th></th>\n",
       "      <th>user_id</th>\n",
       "      <th>event_dt</th>\n",
       "      <th>event_name</th>\n",
       "      <th>details</th>\n",
       "    </tr>\n",
       "  </thead>\n",
       "  <tbody>\n",
       "  </tbody>\n",
       "</table>\n",
       "</div>"
      ],
      "text/plain": [
       "Empty DataFrame\n",
       "Columns: [user_id, event_dt, event_name, details]\n",
       "Index: []"
      ]
     },
     "execution_count": 19,
     "metadata": {},
     "output_type": "execute_result"
    }
   ],
   "source": [
    "#Mengecek data ganda\n",
    "duplicate_events = data_events[data_events.duplicated()]\n",
    "\n",
    "# Menampilkan nilai duplikat\n",
    "duplicate_events"
   ]
  },
  {
   "cell_type": "code",
   "execution_count": 20,
   "metadata": {},
   "outputs": [
    {
     "data": {
      "text/plain": [
       "user_id            0\n",
       "event_dt           0\n",
       "event_name         0\n",
       "details       363447\n",
       "dtype: int64"
      ]
     },
     "execution_count": 20,
     "metadata": {},
     "output_type": "execute_result"
    }
   ],
   "source": [
    "#Mengecek data hilang\n",
    "data_events.isnull().sum()\n"
   ]
  },
  {
   "cell_type": "markdown",
   "metadata": {},
   "source": [
    "#### Data Cleaning - dataset data_participants"
   ]
  },
  {
   "cell_type": "code",
   "execution_count": 21,
   "metadata": {},
   "outputs": [
    {
     "name": "stdout",
     "output_type": "stream",
     "text": [
      "<class 'pandas.core.frame.DataFrame'>\n",
      "RangeIndex: 14525 entries, 0 to 14524\n",
      "Data columns (total 3 columns):\n",
      " #   Column   Non-Null Count  Dtype \n",
      "---  ------   --------------  ----- \n",
      " 0   user_id  14525 non-null  object\n",
      " 1   group    14525 non-null  object\n",
      " 2   ab_test  14525 non-null  object\n",
      "dtypes: object(3)\n",
      "memory usage: 340.6+ KB\n"
     ]
    }
   ],
   "source": [
    "# Menampilkan informasi di dataset data_participants\n",
    "data_participants.info()"
   ]
  },
  {
   "cell_type": "code",
   "execution_count": 22,
   "metadata": {},
   "outputs": [
    {
     "data": {
      "text/html": [
       "<div>\n",
       "<style scoped>\n",
       "    .dataframe tbody tr th:only-of-type {\n",
       "        vertical-align: middle;\n",
       "    }\n",
       "\n",
       "    .dataframe tbody tr th {\n",
       "        vertical-align: top;\n",
       "    }\n",
       "\n",
       "    .dataframe thead th {\n",
       "        text-align: right;\n",
       "    }\n",
       "</style>\n",
       "<table border=\"1\" class=\"dataframe\">\n",
       "  <thead>\n",
       "    <tr style=\"text-align: right;\">\n",
       "      <th></th>\n",
       "      <th>user_id</th>\n",
       "      <th>group</th>\n",
       "      <th>ab_test</th>\n",
       "    </tr>\n",
       "  </thead>\n",
       "  <tbody>\n",
       "    <tr>\n",
       "      <th>0</th>\n",
       "      <td>D1ABA3E2887B6A73</td>\n",
       "      <td>A</td>\n",
       "      <td>recommender_system_test</td>\n",
       "    </tr>\n",
       "    <tr>\n",
       "      <th>1</th>\n",
       "      <td>A7A3664BD6242119</td>\n",
       "      <td>A</td>\n",
       "      <td>recommender_system_test</td>\n",
       "    </tr>\n",
       "    <tr>\n",
       "      <th>2</th>\n",
       "      <td>DABC14FDDFADD29E</td>\n",
       "      <td>A</td>\n",
       "      <td>recommender_system_test</td>\n",
       "    </tr>\n",
       "    <tr>\n",
       "      <th>3</th>\n",
       "      <td>04988C5DF189632E</td>\n",
       "      <td>A</td>\n",
       "      <td>recommender_system_test</td>\n",
       "    </tr>\n",
       "    <tr>\n",
       "      <th>4</th>\n",
       "      <td>4FF2998A348C484F</td>\n",
       "      <td>A</td>\n",
       "      <td>recommender_system_test</td>\n",
       "    </tr>\n",
       "  </tbody>\n",
       "</table>\n",
       "</div>"
      ],
      "text/plain": [
       "            user_id group                  ab_test\n",
       "0  D1ABA3E2887B6A73     A  recommender_system_test\n",
       "1  A7A3664BD6242119     A  recommender_system_test\n",
       "2  DABC14FDDFADD29E     A  recommender_system_test\n",
       "3  04988C5DF189632E     A  recommender_system_test\n",
       "4  4FF2998A348C484F     A  recommender_system_test"
      ]
     },
     "execution_count": 22,
     "metadata": {},
     "output_type": "execute_result"
    }
   ],
   "source": [
    "#Menampilakn 10 row teratas\n",
    "data_participants.head()"
   ]
  },
  {
   "cell_type": "code",
   "execution_count": 23,
   "metadata": {},
   "outputs": [
    {
     "data": {
      "text/html": [
       "<div>\n",
       "<style scoped>\n",
       "    .dataframe tbody tr th:only-of-type {\n",
       "        vertical-align: middle;\n",
       "    }\n",
       "\n",
       "    .dataframe tbody tr th {\n",
       "        vertical-align: top;\n",
       "    }\n",
       "\n",
       "    .dataframe thead th {\n",
       "        text-align: right;\n",
       "    }\n",
       "</style>\n",
       "<table border=\"1\" class=\"dataframe\">\n",
       "  <thead>\n",
       "    <tr style=\"text-align: right;\">\n",
       "      <th></th>\n",
       "      <th>user_id</th>\n",
       "      <th>group</th>\n",
       "      <th>ab_test</th>\n",
       "    </tr>\n",
       "  </thead>\n",
       "  <tbody>\n",
       "  </tbody>\n",
       "</table>\n",
       "</div>"
      ],
      "text/plain": [
       "Empty DataFrame\n",
       "Columns: [user_id, group, ab_test]\n",
       "Index: []"
      ]
     },
     "execution_count": 23,
     "metadata": {},
     "output_type": "execute_result"
    }
   ],
   "source": [
    "#Mengecek data ganda\n",
    "duplicate_participants = data_participants[data_participants.duplicated()]\n",
    "\n",
    "# Menampilkan nilai duplikat\n",
    "duplicate_participants"
   ]
  },
  {
   "cell_type": "code",
   "execution_count": 24,
   "metadata": {},
   "outputs": [
    {
     "data": {
      "text/plain": [
       "user_id    0\n",
       "group      0\n",
       "ab_test    0\n",
       "dtype: int64"
      ]
     },
     "execution_count": 24,
     "metadata": {},
     "output_type": "execute_result"
    }
   ],
   "source": [
    "#Mengecek data hilang\n",
    "data_participants.isnull().sum()\n"
   ]
  },
  {
   "cell_type": "markdown",
   "metadata": {},
   "source": [
    "#### Mengatasi NIlai Hilang di dataset data_event"
   ]
  },
  {
   "cell_type": "code",
   "execution_count": 25,
   "metadata": {},
   "outputs": [
    {
     "data": {
      "text/plain": [
       "363447"
      ]
     },
     "execution_count": 25,
     "metadata": {},
     "output_type": "execute_result"
    }
   ],
   "source": [
    "# Menampilkan data \n",
    "data_events['details'].isnull().sum()"
   ]
  },
  {
   "cell_type": "code",
   "execution_count": 26,
   "metadata": {},
   "outputs": [
    {
     "data": {
      "text/plain": [
       "array(['purchase', 'product_cart', 'product_page', 'login'], dtype=object)"
      ]
     },
     "execution_count": 26,
     "metadata": {},
     "output_type": "execute_result"
    }
   ],
   "source": [
    "#Menampilkan data uni di kolom 'details'\n",
    "data_events['event_name'].unique()"
   ]
  },
  {
   "cell_type": "markdown",
   "metadata": {},
   "source": [
    "Mari kita cari tau nilai null di kolom 'details' memiliki nilai 'event_name' apa saja\n"
   ]
  },
  {
   "cell_type": "code",
   "execution_count": 27,
   "metadata": {},
   "outputs": [
    {
     "name": "stdout",
     "output_type": "stream",
     "text": [
      "                user_id            event_dt    event_name  details\n",
      "60314  2E1BF1D4C37EA01F 2020-12-07 09:05:47  product_cart      NaN\n",
      "60315  50734A22C0C63768 2020-12-07 13:24:03  product_cart      NaN\n",
      "60316  5EB159DA9DC94DBA 2020-12-07 22:54:02  product_cart      NaN\n",
      "60317  084A22B980BA8169 2020-12-07 15:25:55  product_cart      NaN\n",
      "60318  0FC21E6F8FAA8DEC 2020-12-07 06:56:27  product_cart      NaN\n"
     ]
    }
   ],
   "source": [
    "# Menampilkan data di mana kolom 'details' memiliki nilai null dan 'event_name' memiliki nilai != 'purchase'\n",
    "details_null_purchase = data_events[(data_events['details'].isnull()) & (data_events['event_name']!='purchase')]\n",
    "\n",
    "# Menampilkan 5 baris pertama dari data yang telah difilter\n",
    "print(details_null_purchase.head())\n"
   ]
  },
  {
   "cell_type": "markdown",
   "metadata": {},
   "source": [
    "Kesimpulan :\n",
    "    \n",
    " - Untuk kesimpulan sementara nilai dikolom 'details' memiliki keterkaitan dengan nilai yang ada di kolom 'event_name'. \n",
    " - Nilai null di kolom 'details' dikarenakan di kolom 'event_name' memiliki nilai selain 'purchase'. \n",
    " - Jadi hanya kolom event_name dengan nilai 'purchase' yang memiliki nilai di kolom 'details'. \n",
    " - selain dari 'purchase' nilai detailnya = null\n",
    " - kita akan mengisi nilai 0 dikolom 'details'"
   ]
  },
  {
   "cell_type": "code",
   "execution_count": 28,
   "metadata": {},
   "outputs": [],
   "source": [
    "# Mengisi nilai-nilai yang hilang dalam kolom 'details' dengan 0\n",
    "#data_events['details'].fillna(0, inplace=True)\n",
    "#data_events.loc[:, 'details'].fillna(0, inplace=True)\n",
    "data_events['details'] = data_events['details'].fillna(0)\n"
   ]
  },
  {
   "cell_type": "code",
   "execution_count": 29,
   "metadata": {},
   "outputs": [
    {
     "name": "stdout",
     "output_type": "stream",
     "text": [
      "<class 'pandas.core.frame.DataFrame'>\n",
      "RangeIndex: 423761 entries, 0 to 423760\n",
      "Data columns (total 4 columns):\n",
      " #   Column      Non-Null Count   Dtype         \n",
      "---  ------      --------------   -----         \n",
      " 0   user_id     423761 non-null  object        \n",
      " 1   event_dt    423761 non-null  datetime64[ns]\n",
      " 2   event_name  423761 non-null  object        \n",
      " 3   details     423761 non-null  float64       \n",
      "dtypes: datetime64[ns](1), float64(1), object(2)\n",
      "memory usage: 12.9+ MB\n"
     ]
    }
   ],
   "source": [
    "data_events.info()"
   ]
  },
  {
   "cell_type": "code",
   "execution_count": 30,
   "metadata": {},
   "outputs": [
    {
     "data": {
      "text/html": [
       "<div>\n",
       "<style scoped>\n",
       "    .dataframe tbody tr th:only-of-type {\n",
       "        vertical-align: middle;\n",
       "    }\n",
       "\n",
       "    .dataframe tbody tr th {\n",
       "        vertical-align: top;\n",
       "    }\n",
       "\n",
       "    .dataframe thead th {\n",
       "        text-align: right;\n",
       "    }\n",
       "</style>\n",
       "<table border=\"1\" class=\"dataframe\">\n",
       "  <thead>\n",
       "    <tr style=\"text-align: right;\">\n",
       "      <th></th>\n",
       "      <th>user_id</th>\n",
       "      <th>event_dt</th>\n",
       "      <th>event_name</th>\n",
       "      <th>details</th>\n",
       "    </tr>\n",
       "  </thead>\n",
       "  <tbody>\n",
       "    <tr>\n",
       "      <th>0</th>\n",
       "      <td>E1BDDCE0DAFA2679</td>\n",
       "      <td>2020-12-07 20:22:03</td>\n",
       "      <td>purchase</td>\n",
       "      <td>99.99</td>\n",
       "    </tr>\n",
       "    <tr>\n",
       "      <th>1</th>\n",
       "      <td>7B6452F081F49504</td>\n",
       "      <td>2020-12-07 09:22:53</td>\n",
       "      <td>purchase</td>\n",
       "      <td>9.99</td>\n",
       "    </tr>\n",
       "    <tr>\n",
       "      <th>2</th>\n",
       "      <td>9CD9F34546DF254C</td>\n",
       "      <td>2020-12-07 12:59:29</td>\n",
       "      <td>purchase</td>\n",
       "      <td>4.99</td>\n",
       "    </tr>\n",
       "    <tr>\n",
       "      <th>3</th>\n",
       "      <td>96F27A054B191457</td>\n",
       "      <td>2020-12-07 04:02:40</td>\n",
       "      <td>purchase</td>\n",
       "      <td>4.99</td>\n",
       "    </tr>\n",
       "    <tr>\n",
       "      <th>4</th>\n",
       "      <td>1FD7660FDF94CA1F</td>\n",
       "      <td>2020-12-07 10:15:09</td>\n",
       "      <td>purchase</td>\n",
       "      <td>4.99</td>\n",
       "    </tr>\n",
       "  </tbody>\n",
       "</table>\n",
       "</div>"
      ],
      "text/plain": [
       "            user_id            event_dt event_name  details\n",
       "0  E1BDDCE0DAFA2679 2020-12-07 20:22:03   purchase    99.99\n",
       "1  7B6452F081F49504 2020-12-07 09:22:53   purchase     9.99\n",
       "2  9CD9F34546DF254C 2020-12-07 12:59:29   purchase     4.99\n",
       "3  96F27A054B191457 2020-12-07 04:02:40   purchase     4.99\n",
       "4  1FD7660FDF94CA1F 2020-12-07 10:15:09   purchase     4.99"
      ]
     },
     "execution_count": 30,
     "metadata": {},
     "output_type": "execute_result"
    }
   ],
   "source": [
    "data_events.head()"
   ]
  },
  {
   "cell_type": "markdown",
   "metadata": {},
   "source": [
    "Kesimpulan : \n",
    "\n",
    "    Nilai di kolom 'details' tidak lagi kosong tetapi sudah berubah bernilai '0'. tidak ada lagi data yang memiliki nilai null di dataset data_events."
   ]
  },
  {
   "cell_type": "code",
   "execution_count": 31,
   "metadata": {},
   "outputs": [],
   "source": [
    "# Contoh salah satu user_id"
   ]
  },
  {
   "cell_type": "code",
   "execution_count": 32,
   "metadata": {},
   "outputs": [
    {
     "name": "stdout",
     "output_type": "stream",
     "text": [
      "                 user_id            event_dt    event_name  details\n",
      "60314   2E1BF1D4C37EA01F 2020-12-07 09:05:47  product_cart      0.0\n",
      "65344   2E1BF1D4C37EA01F 2020-12-10 04:13:53  product_cart      0.0\n",
      "69291   2E1BF1D4C37EA01F 2020-12-12 17:54:57  product_cart      0.0\n",
      "120436  2E1BF1D4C37EA01F 2020-12-07 09:05:46  product_page      0.0\n",
      "130799  2E1BF1D4C37EA01F 2020-12-10 04:13:53  product_page      0.0\n",
      "138778  2E1BF1D4C37EA01F 2020-12-12 17:54:57  product_page      0.0\n",
      "241298  2E1BF1D4C37EA01F 2020-12-07 09:05:46         login      0.0\n",
      "256883  2E1BF1D4C37EA01F 2020-12-10 04:13:53         login      0.0\n",
      "268928  2E1BF1D4C37EA01F 2020-12-12 17:54:57         login      0.0\n"
     ]
    }
   ],
   "source": [
    "# Menampilkan data dengan user_id tertentu\n",
    "data_events_user = data_events[data_events['user_id'] == '2E1BF1D4C37EA01F']\n",
    "\n",
    "# Menampilkan data yang telah dipilih\n",
    "print(data_events_user)\n"
   ]
  },
  {
   "cell_type": "markdown",
   "metadata": {},
   "source": [
    "Notes :\n",
    "\n",
    "    Untuk user_id '2E1BF1D4C37EA01F' tidak memiliki histori hingga ke purchase, namun hanya sampai product chart saja. "
   ]
  },
  {
   "cell_type": "code",
   "execution_count": 33,
   "metadata": {},
   "outputs": [
    {
     "name": "stdout",
     "output_type": "stream",
     "text": [
      "                 user_id            event_dt    event_name  details\n",
      "27169   0010A1C096941592 2020-12-17 21:07:27      purchase     4.99\n",
      "32301   0010A1C096941592 2020-12-19 04:34:37      purchase     4.99\n",
      "41197   0010A1C096941592 2020-12-21 21:05:23      purchase     4.99\n",
      "49838   0010A1C096941592 2020-12-23 11:52:09      purchase     9.99\n",
      "174870  0010A1C096941592 2020-12-17 21:07:27  product_page     0.00\n",
      "185301  0010A1C096941592 2020-12-19 04:34:38  product_page     0.00\n",
      "202967  0010A1C096941592 2020-12-21 21:05:24  product_page     0.00\n",
      "220156  0010A1C096941592 2020-12-23 11:52:10  product_page     0.00\n",
      "323395  0010A1C096941592 2020-12-17 21:07:27         login     0.00\n",
      "339150  0010A1C096941592 2020-12-19 04:34:37         login     0.00\n",
      "365882  0010A1C096941592 2020-12-21 21:05:23         login     0.00\n",
      "391795  0010A1C096941592 2020-12-23 11:52:09         login     0.00\n"
     ]
    }
   ],
   "source": [
    "# Menampilkan data dengan user_id tertentu\n",
    "data_events_user = data_events[data_events['user_id'] == '0010A1C096941592']\n",
    "\n",
    "# Menampilkan data yang telah dipilih\n",
    "print(data_events_user)\n"
   ]
  },
  {
   "cell_type": "markdown",
   "metadata": {},
   "source": [
    "Notes :\n",
    "\n",
    "Untuk user_id '0010A1C096941592' tidak memiliki histori 'product_cart' namun user_id ini sampai pada ke purchase, jadi ada 1 tahap yang dilewatkan. jadi konsumen ini , login, lihat product page lalu tertarik dan langsung memutuskan membeli, tanpa memasukkan productnya dulu ke dalam keranjang. \n",
    "\n",
    "Jika banyak konsumen yang cenderung memiliki perilaku seperti ini maka mungkin corong / funnel jumlah purchase lebih banyak dari product_page . "
   ]
  },
  {
   "cell_type": "code",
   "execution_count": 34,
   "metadata": {},
   "outputs": [
    {
     "name": "stdout",
     "output_type": "stream",
     "text": [
      "             user_id            event_dt  event_name\n",
      "6   000199F1887AE5E6 2020-12-14 09:56:09           3\n",
      "8   000199F1887AE5E6 2020-12-15 07:22:56           4\n",
      "9   000199F1887AE5E6 2020-12-20 06:36:35           3\n",
      "11  000199F1887AE5E6 2020-12-21 02:11:23           2\n",
      "12  000199F1887AE5E6 2020-12-21 02:11:24           2\n"
     ]
    }
   ],
   "source": [
    "# Grupkan data berdasarkan user_id dan event_dt, lalu hitung jumlah event_name yang berbeda\n",
    "data_events_unique_events = data_events.groupby(['user_id', 'event_dt'])['event_name'].nunique().reset_index()\n",
    "\n",
    "# Filter data hanya untuk kasus di mana jumlah event_name yang berbeda lebih dari 1\n",
    "data_multiple_event_names = data_events_unique_events[data_events_unique_events['event_name'] > 1]\n",
    "\n",
    "# Tampilkan data\n",
    "print(data_multiple_event_names.head())\n"
   ]
  },
  {
   "cell_type": "markdown",
   "metadata": {},
   "source": [
    "## analisis data eksplorati"
   ]
  },
  {
   "cell_type": "markdown",
   "metadata": {},
   "source": [
    "#### analisis konversi di berbagai tahapan corong"
   ]
  },
  {
   "cell_type": "markdown",
   "metadata": {},
   "source": [
    "Mengidentifikasi Tahapan Corong:"
   ]
  },
  {
   "cell_type": "code",
   "execution_count": 35,
   "metadata": {},
   "outputs": [
    {
     "name": "stdout",
     "output_type": "stream",
     "text": [
      "['purchase' 'product_cart' 'product_page' 'login']\n"
     ]
    }
   ],
   "source": [
    "# Mengidentifikasi tahap-tahap corong yang relevan\n",
    "tahap_corong = data_events['event_name'].unique()\n",
    "\n",
    "# Menampilkan nilai-nilai unik yang terkait dengan tahap-tahap corong\n",
    "print(tahap_corong)\n"
   ]
  },
  {
   "cell_type": "markdown",
   "metadata": {},
   "source": [
    "Hitung Jumlah Pengguna di Setiap Tahap:"
   ]
  },
  {
   "cell_type": "code",
   "execution_count": 36,
   "metadata": {},
   "outputs": [
    {
     "name": "stdout",
     "output_type": "stream",
     "text": [
      "event_name\n",
      "login           58696\n",
      "product_cart    19284\n",
      "product_page    38929\n",
      "purchase        19568\n",
      "Name: user_id, dtype: int64\n"
     ]
    }
   ],
   "source": [
    "# Menghitung jumlah unik pengguna yang melakukan setiap tahap corong\n",
    "jumlah_pengguna_per_tahap = data_events.groupby('event_name')['user_id'].nunique()\n",
    "\n",
    "# Menampilkan hasil perhitungan\n",
    "print(jumlah_pengguna_per_tahap)\n"
   ]
  },
  {
   "cell_type": "markdown",
   "metadata": {},
   "source": [
    "Hitung Konversi:"
   ]
  },
  {
   "cell_type": "code",
   "execution_count": 37,
   "metadata": {},
   "outputs": [
    {
     "name": "stdout",
     "output_type": "stream",
     "text": [
      "Konversi dari Login ke Product Page: 66.32%\n",
      "Konversi dari Product Page ke Product Cart: 49.54%\n",
      "Konversi dari Product Cart ke Purchase: 101.47%\n"
     ]
    }
   ],
   "source": [
    "# Hitung konversi dari login ke product_page\n",
    "konversi_login_to_page = (jumlah_pengguna_per_tahap['product_page'] / jumlah_pengguna_per_tahap['login']) * 100\n",
    "\n",
    "# Hitung konversi dari product_page ke product_cart\n",
    "konversi_page_to_cart = (jumlah_pengguna_per_tahap['product_cart'] / jumlah_pengguna_per_tahap['product_page']) * 100\n",
    "\n",
    "# Hitung konversi dari product_cart ke purchase\n",
    "konversi_cart_to_purchase = (jumlah_pengguna_per_tahap['purchase'] / jumlah_pengguna_per_tahap['product_cart']) * 100\n",
    "\n",
    "# Menampilkan hasil perhitungan\n",
    "print(f\"Konversi dari Login ke Product Page: {konversi_login_to_page:.2f}%\")\n",
    "print(f\"Konversi dari Product Page ke Product Cart: {konversi_page_to_cart:.2f}%\")\n",
    "print(f\"Konversi dari Product Cart ke Purchase: {konversi_cart_to_purchase:.2f}%\")\n"
   ]
  },
  {
   "cell_type": "markdown",
   "metadata": {},
   "source": [
    "Visualisasikan Konversi:"
   ]
  },
  {
   "cell_type": "code",
   "execution_count": 38,
   "metadata": {},
   "outputs": [
    {
     "data": {
      "image/png": "[encoded data removed]",
      "text/plain": [
       "<Figure size 1000x600 with 1 Axes>"
      ]
     },
     "metadata": {},
     "output_type": "display_data"
    }
   ],
   "source": [
    "import matplotlib.pyplot as plt\n",
    "\n",
    "# Tahapan corong\n",
    "tahap_corong = ['Login to Product Page', 'Product Page to Product Cart', 'Product Cart to Purchase']\n",
    "\n",
    "# Persentase konversi\n",
    "konversi = [konversi_login_to_page, konversi_page_to_cart, konversi_cart_to_purchase]\n",
    "\n",
    "# Membuat grafik batang\n",
    "plt.figure(figsize=(10, 6))\n",
    "plt.bar(tahap_corong, konversi, color=['blue', 'green', 'orange'])\n",
    "plt.xlabel('Tahap Corong')\n",
    "plt.ylabel('Konversi (%)')\n",
    "plt.title('Konversi di Berbagai Tahap Corong')\n",
    "plt.ylim(0, 110)  # Mengatur batas y-axis agar tidak melebihi 100%\n",
    "plt.show()\n"
   ]
  },
  {
   "cell_type": "markdown",
   "metadata": {},
   "source": [
    "Analisis Hasil:"
   ]
  },
  {
   "cell_type": "markdown",
   "metadata": {},
   "source": [
    "**Konversi dari Login ke Product Page (66.32%):**\n",
    "\n",
    "Konversi dari tahap login ke product_page terlihat kuat, dengan sekitar 66.32% pengguna yang berhasil mencapai product_page setelah login.\n",
    "Ini menunjukkan bahwa sebagian besar pengguna yang login melanjutkan untuk melihat halaman produk.\n",
    "\n",
    "**Konversi dari Product Page ke Product Cart (49.54%):**\n",
    "\n",
    "Konversi dari tahap product_page ke product_cart adalah sekitar 49.54%.\n",
    "Ada penurunan konversi yang signifikan dari product_page ke product_cart, yang mungkin perlu dianalisis lebih lanjut untuk memahami penyebabnya. Ini bisa menjadi area potensial untuk perbaikan. \n",
    "\n",
    "Namun bisa jadi penurunan ini terjadi akibat banyak konsumen yang men-skip memasukkan barang kedalam keranjang, dan langsung membelinya, bisa jadi ini akibat konsumen sudah yakin akan membeli product.\n",
    "\n",
    "**Konversi dari Product Cart ke Purchase (101.47%):**\n",
    "\n",
    "Konversi dari tahap product_cart ke purchase mencapai lebih dari 100%, yaitu sekitar 101.47%.\n",
    "Hasil ini mungkin perlu diperiksa lebih lanjut karena konversi yang melebihi 100% mungkin terkait dengan beberapa pengguna yang melakukan lebih dari satu pembelian."
   ]
  },
  {
   "cell_type": "markdown",
   "metadata": {},
   "source": [
    "#### Analisis jumlah peristiwa per pengguna terdistribusi secara merata di seluruh sampel"
   ]
  },
  {
   "cell_type": "code",
   "execution_count": 39,
   "metadata": {},
   "outputs": [
    {
     "data": {
      "text/plain": [
       "user_id\n",
       "0001710F4DDB1D1B     6\n",
       "000199F1887AE5E6    16\n",
       "0002499E372175C7     9\n",
       "0002CE61FF2C4011    12\n",
       "000456437D0EFFE1     4\n",
       "Name: event_name, dtype: int64"
      ]
     },
     "execution_count": 39,
     "metadata": {},
     "output_type": "execute_result"
    }
   ],
   "source": [
    "# Hitung Jumlah Peristiwa per Pengguna:\n",
    "peristiwa_per_pengguna = data_events.groupby('user_id')['event_name'].count()\n",
    "peristiwa_per_pengguna.head()"
   ]
  },
  {
   "cell_type": "code",
   "execution_count": 40,
   "metadata": {},
   "outputs": [
    {
     "data": {
      "image/png": "[encoded data removed]",
      "text/plain": [
       "<Figure size 640x480 with 1 Axes>"
      ]
     },
     "metadata": {},
     "output_type": "display_data"
    }
   ],
   "source": [
    "import matplotlib.pyplot as plt\n",
    "\n",
    "plt.hist(peristiwa_per_pengguna, bins=50, color='blue')\n",
    "plt.xlabel('Jumlah Peristiwa per Pengguna')\n",
    "plt.ylabel('Jumlah Pengguna')\n",
    "plt.title('Distribusi Jumlah Peristiwa per Pengguna')\n",
    "plt.show()\n"
   ]
  },
  {
   "cell_type": "code",
   "execution_count": 41,
   "metadata": {},
   "outputs": [
    {
     "name": "stdout",
     "output_type": "stream",
     "text": [
      "Rata-rata Jumlah Peristiwa per Pengguna: 7.218728174028585\n",
      "Median Jumlah Peristiwa per Pengguna: 6.0\n",
      "Deviasi Standar Jumlah Peristiwa per Pengguna: 4.122608828267511\n"
     ]
    }
   ],
   "source": [
    "print(\"Rata-rata Jumlah Peristiwa per Pengguna:\", peristiwa_per_pengguna.mean())\n",
    "print(\"Median Jumlah Peristiwa per Pengguna:\", peristiwa_per_pengguna.median())\n",
    "print(\"Deviasi Standar Jumlah Peristiwa per Pengguna:\", peristiwa_per_pengguna.std())\n"
   ]
  },
  {
   "cell_type": "code",
   "execution_count": 42,
   "metadata": {},
   "outputs": [
    {
     "name": "stdout",
     "output_type": "stream",
     "text": [
      "Nilai Q1 : 4.0\n",
      "Nilai Q3 : 9.0\n",
      "Nilai IQR : 5.0\n"
     ]
    }
   ],
   "source": [
    "#Hitung Quartile Pertama (Q1) dan Quartile Ketiga (Q3):\n",
    "Q1 = peristiwa_per_pengguna.quantile(0.25)\n",
    "Q3 = peristiwa_per_pengguna.quantile(0.75)\n",
    "\n",
    "#Hitung IQR (Interquartile Range):\n",
    "IQR = Q3 - Q1\n",
    "\n",
    "print(\"Nilai Q1 :\", Q1)\n",
    "print(\"Nilai Q3 :\", Q3)\n",
    "print(\"Nilai IQR :\", IQR)"
   ]
  },
  {
   "cell_type": "code",
   "execution_count": 43,
   "metadata": {},
   "outputs": [
    {
     "name": "stdout",
     "output_type": "stream",
     "text": [
      "upper_bound : 16.5\n",
      "lower_bound : -3.5\n"
     ]
    }
   ],
   "source": [
    "#Hitung Batas Atas (Upper Bound) dan Batas Bawah (Lower Bound):\n",
    "upper_bound = Q3 + 1.5 * IQR\n",
    "lower_bound = Q1 - 1.5 * IQR\n",
    "\n",
    "print(\"upper_bound :\", upper_bound)\n",
    "print(\"lower_bound :\", lower_bound)"
   ]
  },
  {
   "cell_type": "code",
   "execution_count": 44,
   "metadata": {},
   "outputs": [
    {
     "data": {
      "text/plain": [
       "user_id\n",
       "000921BDA987CB74    17\n",
       "00607344650B2FB0    21\n",
       "00671D9BA207FB9E    20\n",
       "007C037F5985AEE8    18\n",
       "007DD85374661639    17\n",
       "Name: event_name, dtype: int64"
      ]
     },
     "execution_count": 44,
     "metadata": {},
     "output_type": "execute_result"
    }
   ],
   "source": [
    "#Identifikasi Outlier:\n",
    "outliers = peristiwa_per_pengguna[(peristiwa_per_pengguna < lower_bound) | (peristiwa_per_pengguna > upper_bound)]\n",
    "outliers.head()"
   ]
  },
  {
   "cell_type": "code",
   "execution_count": 45,
   "metadata": {},
   "outputs": [
    {
     "data": {
      "text/plain": [
       "user_id\n",
       "0001710F4DDB1D1B     6\n",
       "000199F1887AE5E6    16\n",
       "0002499E372175C7     9\n",
       "0002CE61FF2C4011    12\n",
       "000456437D0EFFE1     4\n",
       "Name: event_name, dtype: int64"
      ]
     },
     "execution_count": 45,
     "metadata": {},
     "output_type": "execute_result"
    }
   ],
   "source": [
    "#Identifikasi no_outlier:\n",
    "no_outliers = peristiwa_per_pengguna[(peristiwa_per_pengguna >= lower_bound) & (peristiwa_per_pengguna <= upper_bound)]\n",
    "no_outliers.head()"
   ]
  },
  {
   "cell_type": "code",
   "execution_count": 46,
   "metadata": {},
   "outputs": [
    {
     "data": {
      "image/png": "[encoded data removed]",
      "text/plain": [
       "<Figure size 640x480 with 1 Axes>"
      ]
     },
     "metadata": {},
     "output_type": "display_data"
    }
   ],
   "source": [
    "import matplotlib.pyplot as plt\n",
    "\n",
    "plt.hist(no_outliers, bins=50, color='blue')\n",
    "plt.xlabel('Jumlah Peristiwa per Pengguna (Tanpa Outlier)')\n",
    "plt.ylabel('Jumlah Pengguna')\n",
    "plt.title('Distribusi Jumlah Peristiwa per Pengguna')\n",
    "plt.show()\n"
   ]
  },
  {
   "cell_type": "code",
   "execution_count": 47,
   "metadata": {},
   "outputs": [
    {
     "name": "stdout",
     "output_type": "stream",
     "text": [
      "                 user_id            event_dt event_name  details\n",
      "0       E1BDDCE0DAFA2679 2020-12-07 20:22:03   purchase    99.99\n",
      "1       7B6452F081F49504 2020-12-07 09:22:53   purchase     9.99\n",
      "2       9CD9F34546DF254C 2020-12-07 12:59:29   purchase     4.99\n",
      "3       96F27A054B191457 2020-12-07 04:02:40   purchase     4.99\n",
      "4       1FD7660FDF94CA1F 2020-12-07 10:15:09   purchase     4.99\n",
      "...                  ...                 ...        ...      ...\n",
      "423755  6181F3835EBE66BF 2020-12-30 12:00:00      login     0.00\n",
      "423756  245E85F65C358E08 2020-12-30 19:35:55      login     0.00\n",
      "423757  9385A108F5A0A7A7 2020-12-30 10:54:15      login     0.00\n",
      "423758  DB650B7559AC6EAC 2020-12-30 10:59:09      login     0.00\n",
      "423760  7AEC61159B672CC5 2020-12-30 11:36:13      login     0.00\n",
      "\n",
      "[392372 rows x 4 columns]\n"
     ]
    }
   ],
   "source": [
    "# Filter data_events berdasarkan user_id yang masuk dalam no_outliers\n",
    "data_events = data_events[data_events['user_id'].isin(no_outliers.index)]\n",
    "\n",
    "# Tampilkan hasil filter\n",
    "print(data_events)\n"
   ]
  },
  {
   "cell_type": "markdown",
   "metadata": {},
   "source": [
    "#### Analisis pengguna yang berada di kedua sampel"
   ]
  },
  {
   "cell_type": "markdown",
   "metadata": {},
   "source": [
    "Apakah ada pengguna yang berada di kedua sampel?"
   ]
  },
  {
   "cell_type": "code",
   "execution_count": 48,
   "metadata": {
    "scrolled": true
   },
   "outputs": [
    {
     "name": "stdout",
     "output_type": "stream",
     "text": [
      "Pengguna yang Berada di Kedua Grup (A dan B):\n",
      "FC3F3E4DA7C85F88\n",
      "FE2AF0E94DBD470E\n",
      "C5AD06762E628169\n",
      "25CE0629AC6B6971\n",
      "44EB15AD423DC31C\n",
      "E594B711ADD81DD8\n",
      "CFDED9167B27A57F\n",
      "C86F0150DA3B10F2\n",
      "5D72D0AEF96C50FD\n",
      "81AA83FBC31B6C0B\n",
      "697F116B31D05FCF\n",
      "F97D8746923ABA37\n",
      "0CC466ED84E0756D\n",
      "2170CB76798D36EE\n",
      "3656B8F3DEF02DA0\n",
      "DC41AFF8213BE01A\n",
      "AB94ADBD1345E896\n",
      "FEC0BCA6C323872F\n",
      "5813B74E3ED6094E\n",
      "C6C4C814B7B202E7\n",
      "F85FD73AAF991283\n",
      "BE3C02D74A664180\n",
      "A2212CF79158D340\n",
      "F5B4B562971760C6\n",
      "A4F18DF9C484EDC0\n",
      "F68F7886D0BCE784\n",
      "A4D5B31067614B05\n",
      "A791C2D62B213C96\n",
      "49D69A4901413D82\n",
      "2F52D15FF20EE730\n",
      "B242B046BC32ADDA\n",
      "6655D192F953E7CE\n",
      "D1FA009C9B514DD7\n",
      "CCE74CB0FBDD3533\n",
      "C389958204955C98\n",
      "5424E9D321EC3567\n",
      "68B3C70F0C0B4550\n",
      "412F5C9F04EE8F69\n",
      "A800CDEA85871EEF\n",
      "02313B9E82255F47\n",
      "37E78FED858E7061\n",
      "ABFF0B9BAD11BB5D\n",
      "83E9CFC64D61108E\n",
      "F507CB8030C885FB\n",
      "4803D52DB8782CC2\n",
      "8F5D7DE5A7B06249\n",
      "EF6DBFA129654B41\n",
      "D82DD23742E57665\n",
      "DE078758B0515023\n",
      "8CE0BDF8F59A752E\n",
      "A352755099619F01\n",
      "8BD80DB1522F7120\n",
      "65A33D1E2F637CE6\n",
      "123C3AC236BE84F0\n",
      "0BC7C730D40D19D3\n",
      "61D3434CE0D95AB7\n",
      "13B7E3DA955377BA\n",
      "E0DF3060D454B5AF\n",
      "2CDFC246EAEEAB13\n",
      "73CE2DE1253D58B4\n",
      "1C711C65356BCFBF\n",
      "FB158B12F907E8FB\n",
      "CD650095FD201699\n",
      "934134714E66295F\n",
      "133F64DC5E24F047\n",
      "CBA33B9DE421A616\n",
      "8A2FACABB19EDC70\n",
      "7F2C298110AA73B4\n",
      "743EFA16F928E18B\n",
      "97AD409895906A32\n",
      "71D1FF7218FB3F1E\n",
      "051D59BC38C3B3AA\n",
      "2AE10F8C21B66E8E\n",
      "9E0A3633886C080E\n",
      "10F028FB8193F8C1\n",
      "52EC082510DA513B\n",
      "F69BC50D9CC2A47B\n",
      "770B5C9E0E546E44\n",
      "F0B92123E5142CBB\n",
      "E7F4B5EBC0495D72\n",
      "2B8243043C2CD72F\n",
      "C5AE17CBD0B33628\n",
      "6A2064F288EF094F\n",
      "F10551276E3FDD53\n",
      "12A77BCF101643B5\n",
      "CA9D3DEA00836355\n",
      "A0028F574B5E5DC6\n",
      "A4312FFD172A4998\n",
      "A7EE379599B38AE0\n",
      "8B6B98D9A40E0A42\n",
      "A48676A84719B3A7\n",
      "3B62EE83708770A5\n",
      "4D921165CD2825D1\n",
      "B2716998187D5D74\n",
      "5AD2A85FFA7D7EBE\n",
      "D3A4F3513CC0AA2F\n",
      "E40FA02A8A53F693\n",
      "526BA4A669CC6CC2\n",
      "43525009898D1143\n",
      "6B0B075EA63618BE\n",
      "1675B921AC721DBE\n",
      "48CFE37563932DC2\n",
      "E02247CEF572ACCA\n",
      "84DC74ED5E60BA6A\n",
      "EF058AAD0A56A298\n",
      "D5DD44281759F7C8\n",
      "C26D3BB63817A267\n",
      "52667DF0F366C919\n",
      "8E2FDE8953DB6A48\n",
      "4CCE583A34A8362C\n",
      "52828376E649CA27\n",
      "C573C24EF423143C\n",
      "F9B39A46A299971D\n",
      "B6E4E414699EFC1F\n",
      "BD31CABB6D5C6561\n",
      "9270DB42112E3B14\n",
      "FAA7192A42F9F8DA\n",
      "D0562837FBB58AC5\n",
      "B931BC5D6FE1416C\n",
      "4C3B9B6D59E98D59\n",
      "CDED0FACF20CA716\n",
      "B997F98ED3AA6104\n",
      "DA8DABF19A0203FD\n",
      "5D0240D20EA50D8C\n",
      "27802765D2458B2B\n",
      "2ED365A23D725DB0\n",
      "C2E79843ED511E13\n",
      "B19324D874BEE1A5\n",
      "3FC3BE7BAA35F33F\n",
      "B7DBE079E5AB148E\n",
      "E7F87F9FBA3269B1\n",
      "C0DDE3AA2A89024F\n",
      "FB9FFB4BA8695C78\n",
      "DF72BA6A526F714F\n",
      "944C88D5DF108AED\n",
      "08589AA89496453B\n",
      "74C5CCDA7DF761EE\n",
      "0EBE4BDE16D19DC0\n",
      "C1FFA9A2B049B203\n",
      "4409E20FCD07CD14\n",
      "3AE5E3EE2C8A8727\n",
      "3E286601D309601C\n",
      "74285DE881A72F4C\n",
      "803230F1D8216380\n",
      "B42748BA986E4163\n",
      "8D4D2425F80F6A74\n",
      "0CA93D3A4A1D8389\n",
      "8EB3AE898305A358\n",
      "A9E0A8057A5F07D1\n",
      "C77D7125A7F73F33\n",
      "5A47441C0AC5FAEE\n",
      "D2F6FB926A64D196\n",
      "90AC003E691D70D4\n",
      "2F28A3B279E5494A\n",
      "3C37EE92E7960750\n",
      "E6FE73B8B903B31B\n",
      "24D3AAA91EFD597F\n",
      "F195464E8F2E0267\n",
      "3981FFA649C17699\n",
      "DA7D4CF1CBBADE49\n",
      "1C7C7C34158EB086\n",
      "2DC0C9E9D89D2352\n",
      "16BE66466549CD42\n",
      "1381632DA8AD52C0\n",
      "2A12B7DB3C6E84D6\n",
      "2828E6688DC580C4\n",
      "CC705D51C74418AD\n",
      "1382E5D05428EBCD\n",
      "544EE0E8D5E36FDA\n",
      "814DF3DA9DD71B8A\n",
      "8285135A01FF5488\n",
      "66821339106C8891\n",
      "9A8CD4B32D7511F1\n",
      "D649423E43336656\n",
      "17DD74F263374528\n",
      "341E8DBCD6C8B223\n",
      "8FB9E95B030D25C5\n",
      "94BE60EF959D177D\n",
      "0DABE6F3956778ED\n",
      "59390C0379937AB0\n",
      "1E8855206E49EFF8\n",
      "A731AAAEA9F5C533\n",
      "9A5549A4A85FCF06\n",
      "DA4D24731C8CCEB8\n",
      "958426148AFA05C5\n",
      "7C9CA3F88B8755F1\n",
      "505555B3CCA490C8\n",
      "2CA426D092054330\n",
      "AFFC4117AC279D49\n",
      "64CD9350DEEE01B6\n",
      "0ADFFFE9C0D60092\n",
      "EB215155BA578253\n",
      "0EA9AB1C2A159C77\n",
      "3D89F6FEA1926F70\n",
      "124B6B7F19141CCC\n",
      "B150C94FFD64D8B0\n",
      "27736FDA67EF07CB\n",
      "9429C337BF221E89\n",
      "1A4A33FE1C0FDD90\n",
      "4DAD6F609E7D7328\n",
      "8B2134D31A514E4E\n",
      "21E6AD81A122B126\n",
      "5A26996E38367C70\n",
      "EE8401B631ED63CE\n",
      "3279592816F7F6D2\n",
      "BF6D4EF4B54B3E94\n",
      "275A5125510426EB\n",
      "E0EEE04D9FDB4931\n",
      "DAD6760631314417\n",
      "68373F4331DDD2E6\n",
      "04F2CF340B4F3822\n",
      "BD5317D49443EA5E\n",
      "75AC3DC6E14554D0\n",
      "507ADD5337970C14\n",
      "00E68F103C66C1F7\n",
      "C176364EF5C025EA\n",
      "4BDA6084191118DF\n",
      "1796009027406E06\n",
      "C7CE76E3DBDC7533\n",
      "B854154628803E46\n",
      "5BDF2A772826F42C\n",
      "B06BF284879EED23\n",
      "C474F67E2204321C\n",
      "B05232A00CE7DA9B\n",
      "549A5092FD1BD5D9\n",
      "88EEB8C6C37A0521\n",
      "F7E2CAFE32DB0B14\n",
      "4949578BF1954CF5\n",
      "0980BF24051C806A\n",
      "783A96FF14C40478\n",
      "DF7F485FA44A60AF\n",
      "FB6F6BC119E1DBD5\n",
      "4F37FAAD74FB679C\n",
      "D0ECAB9DA4FE2E00\n",
      "7AFFAFC4121EB5B2\n",
      "5B4EFE916AD19741\n",
      "AA825CB62FB0EC0B\n",
      "8094961C0D414366\n",
      "6CAA4AF4C12A22B9\n",
      "CE27C7943C1BB6ED\n",
      "9FB7D7666F50835C\n",
      "EABF946459C4DA3A\n",
      "7B5B4C6306A09430\n",
      "340D9C518D3CBB8D\n",
      "ECC76B90EB71C492\n",
      "21AEB217BA764EAB\n",
      "4764F95CF4989E46\n",
      "AC7F4C4BDAD56C17\n",
      "0DB417842D3B79A2\n",
      "65678C4C3E6AF563\n",
      "5EC32E17A02C2131\n",
      "ACDFC703CACAC820\n",
      "1C5874DE0D952A0D\n",
      "C165E8C0C5DE19FF\n",
      "23F10CDFF7372B06\n",
      "32E13C1C0F6AC96E\n",
      "3F6CAEC76651E5AC\n",
      "D266B29CC73DD0F9\n",
      "BAAEE6D68FB90D22\n",
      "0082295A41A867B5\n",
      "5EBCE7B573FA0578\n",
      "10779B9305942526\n",
      "8F1195B887A60121\n",
      "B06B45B7C3E5E721\n",
      "7A4A6B4CC6FDB0FF\n",
      "F13CC3EF6739F4C0\n",
      "B2BB6F16652B21BF\n",
      "9C99E4676D6A8B44\n",
      "0EE3092A08562765\n",
      "CE48F47093B03425\n",
      "213C96A57E70B18F\n",
      "DF9C2411ADA62C66\n",
      "56F9D84470F97FF0\n",
      "9E68AB5C5C7FEFF4\n",
      "748DD5E33B6F98C3\n",
      "A8C57C0D4118F4D7\n",
      "3340B98CBEAEE766\n",
      "51DA2C882D0D7508\n",
      "C93F18A3865E93D6\n",
      "33CEAE52626CA99E\n",
      "ED11170D5BB9D744\n",
      "8A26EBC1BA92524B\n",
      "96749D41A2185B46\n",
      "2F46396B6766CFDB\n",
      "D2D8E67B7D0DE2D2\n",
      "C286A270CFB9925D\n",
      "0B0D84A866817D84\n",
      "E17D1ABC377C38CA\n",
      "C57E6C4AFF4FF31A\n",
      "60D456E636F6C031\n",
      "ED61DF6AA1B81F5B\n",
      "9431D6C9475CFD3A\n",
      "495E506B3D29645B\n",
      "29DF5A79ECFED897\n",
      "C26CED3FB9AFF742\n",
      "7CBA351852B6F25C\n",
      "4A61A28F35795FD1\n",
      "EEFDF8577ED817C0\n",
      "6DFDC639B8B85EF7\n",
      "9E656B4D34C68949\n",
      "DD9DDDB53DA30E40\n",
      "198FEF39910DCF76\n",
      "4E43940B0CF8D947\n",
      "AAE1914BDB419328\n",
      "0BA00E790AA510C1\n",
      "701B5B6292603C20\n",
      "79DF9D6EDC7A58CE\n",
      "0D77D907C24CDAC1\n",
      "D9128C07E09FF452\n",
      "9F32866BD479E689\n",
      "1E8329A6915FB27E\n",
      "AF72679D1CB8C3A5\n",
      "8683850A677DCC7A\n",
      "676A58D41A3E0A47\n",
      "2C662D285ED4136C\n",
      "49C45D71BDCE2F69\n",
      "5F89649C6337CE7D\n",
      "329E3207708990E1\n",
      "79656F14758D76BA\n",
      "D9C92EC5F9478381\n",
      "224F9E7FA339E6A9\n",
      "4A55475E078F40DC\n",
      "D7933558E33BF7D5\n",
      "DECA5C05A77980A1\n",
      "96BDD55846D1F7F6\n",
      "6786C23A54D59DD4\n",
      "EE9E527A761299B2\n",
      "4FE90CB247C78EC5\n",
      "AEB9B39AE54D3598\n",
      "6B72CFAE1935C789\n",
      "BEF16764A13AEC34\n",
      "FFF28D02B1EACBE1\n",
      "8C69C35FB5E142F8\n",
      "BBE0583F0240AABB\n",
      "502902B3C32C72FF\n",
      "894A2506B3A50D03\n",
      "8FC9D1BB3017BE66\n",
      "FE8F9858BBE502D9\n",
      "115ABCFDBDDB5950\n",
      "82F72EC6CDC1BA8F\n",
      "F71DD44DAB783CEB\n",
      "BA98FD8F84C838C7\n",
      "CF03E97B314C5632\n",
      "38189578561F38CB\n",
      "E391353FC3A4056D\n",
      "C89E24F4C723CEF4\n",
      "ABB61823786179CC\n",
      "FC2DA0D7EF375B27\n",
      "8FFA1D6F89AAEA40\n",
      "CBDE46A45FD5E6A4\n",
      "4B34A5BD1D1AEF0D\n",
      "430C998549E88DAE\n",
      "0A0141A363E2E051\n",
      "A6E6ECF8E4924633\n",
      "DD9FB2652AE4ACBA\n",
      "D1DFCE26FF3C713F\n",
      "70CE04E185154AD7\n",
      "4CF756542084F860\n",
      "649CE5D5A38BFA8B\n",
      "902F92052587344F\n",
      "B582D211C1BE1FFD\n",
      "067D05BD30F04F2E\n",
      "739656E0D7B50B30\n",
      "E68002AA33773AD5\n",
      "0FBF679EA1340786\n",
      "47ADBF580CF107E1\n",
      "9F0571C70D4BD33B\n",
      "B3059CB4FD2DE0FA\n",
      "84AAB026310D49C4\n",
      "D40A89E14F1C10BD\n",
      "1AD9F88DA92AC4E5\n",
      "98D45D3A9D7E3911\n",
      "EAFB9027A27D510C\n",
      "886E52074D084B18\n",
      "E0272BC86CC88DC7\n",
      "DD4352CDCF8C3D57\n",
      "E3780F6861A69868\n",
      "A35BD08F60AC00B8\n",
      "72742C5F312A1FEC\n",
      "94464DF2E5398E26\n",
      "E32D4C0315D6BFBE\n",
      "BE0FDC8CC0D5455D\n",
      "C0924D3FF1BEAA05\n",
      "63F5FC15B31DB5A6\n",
      "23E633E92EDCD195\n",
      "1E7B931452B2F965\n",
      "5B1F39B5D751B669\n",
      "E1EA339E17C0D568\n",
      "573EF5CB449265BE\n",
      "4122B8F30EB2271C\n",
      "AE49EDDFB9DABE03\n",
      "C4F3A9D7BB596E6E\n",
      "13AA9B89A2885F8E\n",
      "7D8970118A695D48\n",
      "6610064A4B2303D1\n",
      "C33D8C1C81C7AA23\n",
      "1D831F7D0F539AFA\n",
      "65A30CEC01FAB999\n",
      "C7750723906C925A\n",
      "928364C4C9F13FA8\n",
      "53732758D90FB1E4\n",
      "1B52830A832D33F5\n",
      "5207E56E697027E9\n",
      "24FB1A84E1C30291\n",
      "A3D5BA3E276CD84C\n",
      "F8564F547AFFC0B9\n",
      "3B3F68DC5779E517\n",
      "13AE4DFAC67ACEB3\n",
      "6A581C74EF4D5F44\n",
      "3FAA6AD64C3B47E8\n",
      "D9BAC4C97F9C107F\n",
      "E7CC63BF20618321\n",
      "75013CAAF42E90A9\n",
      "EA8341F38EFFE04C\n",
      "EE25BC8FA059151D\n",
      "0C2E77C6A381704A\n",
      "8FF91E21E27A330D\n",
      "9918D1C354A1383A\n",
      "BF1EB8E6FA3F19B8\n",
      "3A6D88AB973BD99D\n",
      "C04E36E535A6F740\n",
      "95401934D6D6D4FC\n",
      "A8C25A605F613665\n",
      "F1B93BAE75EE0FB2\n",
      "FEA0C585A53E7027\n",
      "C1E43A9B1D675927\n",
      "3F52D53AB33C9FD6\n",
      "BA9906DF9975512E\n",
      "30DEB75B33B92DC8\n",
      "C74B6E95352ADE79\n",
      "14AEC962812EB706\n",
      "88FB1EDF3E249223\n",
      "2D6A6472D7F46812\n",
      "565EF59DDD36B95B\n",
      "993BDE69A0DE0391\n",
      "23F551153080EBAB\n",
      "EF449601C94D2496\n",
      "59D9BD2A3172D3F4\n",
      "13FBEB715F4AAE10\n",
      "3DEA2F9B3EDA8B91\n",
      "CA6F4DAED160E5B1\n"
     ]
    }
   ],
   "source": [
    "#Gabungkan Data Grup A dan Grup B:\n",
    "data_group_a = data_participants[data_participants['group'] == 'A']\n",
    "data_group_b = data_participants[data_participants['group'] == 'B']\n",
    "\n",
    "# Gabungkan data Grup A dan Grup B berdasarkan kolom 'user_id'\n",
    "combined_data = data_group_a.merge(data_group_b, on='user_id', how='inner')\n",
    "\n",
    "# Ambil daftar user_id yang berada di kedua grup\n",
    "pengguna_di_grup_a_dan_b = combined_data['user_id'].unique()\n",
    "\n",
    "# Tampilkan daftar user_id yang berada di kedua grup\n",
    "print(\"Pengguna yang Berada di Kedua Grup (A dan B):\")\n",
    "for user_id in pengguna_di_grup_a_dan_b:\n",
    "    print(user_id)\n"
   ]
  },
  {
   "cell_type": "code",
   "execution_count": 49,
   "metadata": {},
   "outputs": [
    {
     "name": "stdout",
     "output_type": "stream",
     "text": [
      "Jumlah Pengguna yang Berada di Kedua Grup (A dan B): 441\n",
      "Jumlah Pengguna yang Berada di Grup A : 8214\n",
      "Jumlah Pengguna yang Berada di Grup B : 6311\n"
     ]
    }
   ],
   "source": [
    "\n",
    "# Menampilkan jumlah user_id yang ada di kedua grup\n",
    "print(\"Jumlah Pengguna yang Berada di Kedua Grup (A dan B):\", len(pengguna_di_grup_a_dan_b))\n",
    "print(\"Jumlah Pengguna yang Berada di Grup A :\", len(data_group_a))\n",
    "print(\"Jumlah Pengguna yang Berada di Grup B :\",len(data_group_b))"
   ]
  },
  {
   "cell_type": "markdown",
   "metadata": {},
   "source": [
    "Jadi ada 441 row di group A dan 441 row di group B"
   ]
  },
  {
   "cell_type": "code",
   "execution_count": 50,
   "metadata": {},
   "outputs": [
    {
     "name": "stdout",
     "output_type": "stream",
     "text": [
      "                user_id group                  ab_test\n",
      "0      D1ABA3E2887B6A73     A  recommender_system_test\n",
      "1      A7A3664BD6242119     A  recommender_system_test\n",
      "2      DABC14FDDFADD29E     A  recommender_system_test\n",
      "3      04988C5DF189632E     A  recommender_system_test\n",
      "4      4FF2998A348C484F     A  recommender_system_test\n",
      "...                 ...   ...                      ...\n",
      "14520  1D302F8688B91781     B        interface_eu_test\n",
      "14521  3DE51B726983B657     A        interface_eu_test\n",
      "14522  F501F79D332BE86C     A        interface_eu_test\n",
      "14523  63FBE257B05F2245     A        interface_eu_test\n",
      "14524  79F9ABFB029CF724     B        interface_eu_test\n",
      "\n",
      "[13643 rows x 3 columns]\n"
     ]
    }
   ],
   "source": [
    "# Filter data_participants untuk user_id yang tidak masuk dalam pengguna_di_grup_a_dan_b\n",
    "data_participants = data_participants[~data_participants['user_id'].isin(pengguna_di_grup_a_dan_b)]\n",
    "\n",
    "# Tampilkan hasil filter\n",
    "print(data_participants)\n",
    "\n"
   ]
  },
  {
   "cell_type": "markdown",
   "metadata": {},
   "source": [
    "Kesimpulan : \n",
    "\n",
    "    ada 13643 rows yang sudah di filter dari data ganda (group A dan B) \n",
    "    "
   ]
  },
  {
   "cell_type": "markdown",
   "metadata": {},
   "source": [
    "#### Analisis pendistribusian jumlah peristiwa berdasarkan hari"
   ]
  },
  {
   "cell_type": "markdown",
   "metadata": {},
   "source": [
    "Bagaimana pendistribusian jumlah peristiwa berdasarkan hari?"
   ]
  },
  {
   "cell_type": "code",
   "execution_count": 51,
   "metadata": {},
   "outputs": [
    {
     "name": "stdout",
     "output_type": "stream",
     "text": [
      "            user_id            event_dt event_name  details\n",
      "0  E1BDDCE0DAFA2679 2020-12-07 20:22:03   purchase    99.99\n",
      "1  7B6452F081F49504 2020-12-07 09:22:53   purchase     9.99\n",
      "2  9CD9F34546DF254C 2020-12-07 12:59:29   purchase     4.99\n",
      "3  96F27A054B191457 2020-12-07 04:02:40   purchase     4.99\n",
      "4  1FD7660FDF94CA1F 2020-12-07 10:15:09   purchase     4.99\n"
     ]
    }
   ],
   "source": [
    "# Filter data_events berdasarkan user_id yang masuk dalam no_outliers\n",
    "filtered_data_events = data_events[data_events['user_id'].isin(no_outliers.index)]\n",
    "\n",
    "# Tampilkan hasil filter\n",
    "print(filtered_data_events.head())\n"
   ]
  },
  {
   "cell_type": "code",
   "execution_count": 52,
   "metadata": {},
   "outputs": [],
   "source": [
    "# Ekstrak Kolom Tanggal (event_dt):\n",
    "# dari dataset data_events. Ini akan digunakan untuk mengelompokkan peristiwa berdasarkan hari\n",
    "\n",
    "data_events['event_date'] = data_events['event_dt'].dt.date\n"
   ]
  },
  {
   "cell_type": "code",
   "execution_count": 53,
   "metadata": {},
   "outputs": [
    {
     "name": "stdout",
     "output_type": "stream",
     "text": [
      "event_dt\n",
      "2020-12-07    10501\n",
      "2020-12-08    11413\n",
      "2020-12-09    10829\n",
      "2020-12-10    12628\n",
      "2020-12-11    12390\n",
      "2020-12-12    15976\n",
      "2020-12-13    19209\n",
      "2020-12-14    24107\n",
      "2020-12-15    21378\n",
      "2020-12-16    19108\n",
      "2020-12-17    20091\n",
      "2020-12-18    21174\n",
      "2020-12-19    22642\n",
      "2020-12-20    24821\n",
      "2020-12-21    30959\n",
      "2020-12-22    28027\n",
      "2020-12-23    24844\n",
      "2020-12-24    18159\n",
      "2020-12-26    13102\n",
      "2020-12-27    11491\n",
      "2020-12-28    10117\n",
      "2020-12-29     9334\n",
      "2020-12-30       72\n",
      "Name: event_name, dtype: int64\n"
     ]
    }
   ],
   "source": [
    "# Kelompokkan data di no_outliers berdasarkan tanggal (event_date) dan hitung jumlah peristiwa pada setiap tanggal\n",
    "daily_event_counts = filtered_data_events.groupby(filtered_data_events['event_dt'].dt.date)['event_name'].count()\n",
    "\n",
    "# Tampilkan hasil perhitungan\n",
    "print(daily_event_counts)\n"
   ]
  },
  {
   "cell_type": "code",
   "execution_count": 54,
   "metadata": {},
   "outputs": [
    {
     "data": {
      "image/png": "[encoded data removed]",
      "text/plain": [
       "<Figure size 1200x600 with 1 Axes>"
      ]
     },
     "metadata": {},
     "output_type": "display_data"
    }
   ],
   "source": [
    "# Visualisasikan Data: menggunakan grafik garis untuk visualisasi jumlah peristiwa per hari\n",
    "\n",
    "import matplotlib.pyplot as plt\n",
    "\n",
    "plt.figure(figsize=(12, 6))\n",
    "plt.plot(daily_event_counts.index, daily_event_counts.values, marker='o', linestyle='-')\n",
    "plt.title('Pendistribusian Jumlah Peristiwa per Hari')\n",
    "plt.xlabel('Tanggal')\n",
    "plt.ylabel('Jumlah Peristiwa')\n",
    "plt.xticks(rotation=45)\n",
    "plt.grid(True)\n",
    "plt.show()\n"
   ]
  },
  {
   "cell_type": "markdown",
   "metadata": {},
   "source": [
    "## Analisis ciri-ciri khusus yang harus dipertimbangkan sebelum memulai A/B testing"
   ]
  },
  {
   "cell_type": "markdown",
   "metadata": {},
   "source": [
    "Dalam melakukan A/B testing, ada beberapa ciri-ciri khusus dalam data yang perlu dipertimbangkan sebelum memulai uji A/B. Berikut adalah beberapa ciri-ciri yang mungkin perlu diperhatikan dalam data Anda:\n",
    "\n",
    "1. **Durasi Pengujian:** Periode pengujian (dari tanggal peluncuran hingga tanggal berakhir) harus cukup panjang untuk mengumpulkan data yang cukup untuk analisis yang signifikan. Terlalu pendeknya periode pengujian dapat menghasilkan hasil yang tidak dapat diandalkan.\n",
    "\n",
    "2. **Randomisasi:** Pastikan bahwa pengguna dalam grup A (kontrol) dan grup B (uji) dipilih secara acak dan tidak ada bias dalam pengelompokan. Pengelompokan yang tidak acak dapat memengaruhi hasil uji A/B.\n",
    "\n",
    "3. **Audience Heterogeneity:** Periksa apakah pengguna dalam kedua grup memiliki karakteristik yang serupa atau heterogen. Jika ada perbedaan yang signifikan dalam karakteristik pengguna, itu dapat memengaruhi hasil uji A/B.\n",
    "\n",
    "4. **Sampel yang Representatif:** Pastikan bahwa sampel pengguna yang terlibat dalam uji A/B adalah representatif dari populasi pengguna yang lebih besar. Sampel yang tidak representatif dapat menghasilkan kesimpulan yang tidak dapat diterapkan pada seluruh populasi.\n",
    "\n",
    "5. **Pengukuran Hasil:** Pastikan bahwa metrik yang digunakan untuk mengukur hasil uji A/B (seperti konversi) terukur dengan jelas dan tidak ambigu. Definisikan dengan jelas apa yang dianggap sebagai konversi.\n",
    "\n",
    "6. **Mengatasi Outlier:** Jika ada outlier dalam data, pertimbangkan apakah outlier tersebut harus diabaikan atau diatasi dengan cara tertentu.\n",
    "\n",
    "7. **Uji Statistik:** Gunakan uji statistik yang sesuai untuk menganalisis hasil uji A/B. Pastikan bahwa perbedaan antara grup A dan grup B signifikan secara statistik.\n",
    "\n",
    "8. **Interpretasi Hasil:** Setelah memperoleh hasil uji A/B, pastikan bahwa hasilnya diinterpretasikan secara benar dan berdasarkan pada analisis yang teliti.\n",
    "\n",
    "Pertimbangan-pertimbangan ini dapat membantu Anda menjalankan uji A/B yang lebih kuat dan memahami hasil dengan lebih baik. Selalu penting untuk memahami data Anda secara menyeluruh sebelum memulai uji A/B untuk menghindari bias atau kesalahan dalam interpretasi hasil."
   ]
  },
  {
   "cell_type": "markdown",
   "metadata": {},
   "source": [
    "## Analisis Data Evaluasi hasil A/B testing: Pandangan anda tentang hasil A/B testing "
   ]
  },
  {
   "cell_type": "markdown",
   "metadata": {},
   "source": [
    "### Membuat Metrik Kumulatif"
   ]
  },
  {
   "cell_type": "markdown",
   "metadata": {},
   "source": [
    "Menganalisis A/B testing:"
   ]
  },
  {
   "cell_type": "code",
   "execution_count": 55,
   "metadata": {},
   "outputs": [
    {
     "name": "stdout",
     "output_type": "stream",
     "text": [
      "    event_dt group  orders  buyers  revenue  visitors\n",
      "0 2020-12-07     A    1191     522  4203.34       522\n",
      "1 2020-12-07     B    1192     529  6153.25       529\n",
      "2 2020-12-08     A    1290     565  4273.33       565\n",
      "3 2020-12-08     B    1209     538  3338.31       538\n",
      "4 2020-12-09     A    1342     576  4718.17       576\n"
     ]
    }
   ],
   "source": [
    "import pandas as pd\n",
    "\n",
    "# Mengganti format tanggal menjadi format datetime jika diperlukan\n",
    "data_users['first_date'] = pd.to_datetime(data_users['first_date'].dt.date)\n",
    "data_events['event_dt'] = pd.to_datetime(data_events['event_dt'].dt.date)\n",
    "\n",
    "# Gabungkan data berdasarkan tanggal dan kelompok\n",
    "combined_data = data_events.merge(data_participants[['user_id', 'group']], on='user_id', how='left')\n",
    "combined_data = combined_data.merge(data_users[['user_id', 'region']], on='user_id', how='left')\n",
    "\n",
    "# Hitung data kumulatif\n",
    "cumulative_data = combined_data.groupby(['event_dt', 'group']).agg({\n",
    "    'event_name': 'count',\n",
    "    'user_id': 'nunique',\n",
    "    'details': 'sum'\n",
    "}).reset_index()\n",
    "\n",
    "cumulative_data = cumulative_data.rename(columns={\n",
    "    'event_name': 'orders',\n",
    "    'user_id': 'buyers',\n",
    "    'details': 'revenue'\n",
    "})\n",
    "\n",
    "# Hitung pengunjung kumulatif\n",
    "visitors_data = combined_data.groupby(['event_dt', 'group'])['user_id'].nunique().reset_index()\n",
    "visitors_data = visitors_data.rename(columns={'user_id': 'visitors'})\n",
    "\n",
    "# Gabungkan data pengunjung dengan data kumulatif\n",
    "cumulative_data = cumulative_data.merge(visitors_data, on=['event_dt', 'group'], how='left')\n",
    "\n",
    "# Urutkan data berdasarkan tanggal dan kelompok\n",
    "cumulative_data = cumulative_data.sort_values(['event_dt', 'group'])\n",
    "\n",
    "# Tampilkan hasil\n",
    "print(cumulative_data.head())\n"
   ]
  },
  {
   "cell_type": "markdown",
   "metadata": {},
   "source": [
    "### Gambarkan pendapatan kumulatif berdasarkan kelompok. Buatlah kesimpulan dan asumsinya.\n"
   ]
  },
  {
   "cell_type": "code",
   "execution_count": 56,
   "metadata": {},
   "outputs": [
    {
     "name": "stdout",
     "output_type": "stream",
     "text": [
      "Pendapatan kumulatif berdasarkan kelompok A :\n",
      "        date  revenue  orders group\n",
      "0 2020-12-07  4203.34    1191     A\n",
      "2 2020-12-08  4273.33    1290     A\n",
      "4 2020-12-09  4718.17    1342     A\n",
      "6 2020-12-10  3992.95    1426     A\n",
      "8 2020-12-11  4347.99    1451     A\n",
      "\n",
      "Pendapatan kumulatif berdasarkan kelompok B :\n",
      "        date  revenue  orders group\n",
      "1 2020-12-07  6153.25    1192     B\n",
      "3 2020-12-08  3338.31    1209     B\n",
      "5 2020-12-09  3313.33    1299     B\n",
      "7 2020-12-10  4598.27    1315     B\n",
      "9 2020-12-11  4003.46    1255     B\n"
     ]
    }
   ],
   "source": [
    "# Hitung pendapatan kumulatif berdasarkan kelompok A\n",
    "cumulativeRevenueA = cumulative_data[cumulative_data['group'] == 'A'][['event_dt', 'revenue', 'orders', 'group']]\n",
    "cumulativeRevenueA = cumulativeRevenueA.rename(columns={'event_dt': 'date'})\n",
    "\n",
    "# Hitung pendapatan kumulatif berdasarkan kelompok B\n",
    "cumulativeRevenueB = cumulative_data[cumulative_data['group'] == 'B'][['event_dt', 'revenue', 'orders', 'group']]\n",
    "cumulativeRevenueB = cumulativeRevenueB.rename(columns={'event_dt': 'date'})\n",
    "\n",
    "# Tampilkan hasilnya\n",
    "print(\"Pendapatan kumulatif berdasarkan kelompok A :\")\n",
    "print(cumulativeRevenueA.head())\n",
    "\n",
    "print(\"\\nPendapatan kumulatif berdasarkan kelompok B :\")\n",
    "print(cumulativeRevenueB.head())\n"
   ]
  },
  {
   "cell_type": "code",
   "execution_count": 57,
   "metadata": {},
   "outputs": [
    {
     "data": {
      "image/png": "[encoded data removed]",
      "text/plain": [
       "<Figure size 1200x600 with 1 Axes>"
      ]
     },
     "metadata": {},
     "output_type": "display_data"
    }
   ],
   "source": [
    "import matplotlib.pyplot as plt\n",
    "\n",
    "# Visualisasi pendapatan kumulatif kelompok A dan B dalam satu grafik\n",
    "plt.figure(figsize=(12, 6))\n",
    "plt.plot(cumulativeRevenueA['date'], cumulativeRevenueA['revenue'], label='Group A', color='blue')\n",
    "plt.plot(cumulativeRevenueB['date'], cumulativeRevenueB['revenue'], label='Group B', color='orange')\n",
    "plt.xlabel('Date')\n",
    "plt.ylabel('Cumulative Revenue')\n",
    "plt.title('Cumulative Revenue by Group A and B')\n",
    "plt.legend()\n",
    "plt.grid()\n",
    "plt.xticks(rotation=45)\n",
    "plt.show()\n"
   ]
  },
  {
   "cell_type": "markdown",
   "metadata": {},
   "source": [
    "Berdasarkan grafik pendapatan kumulatif harian untuk kelompok A dan B, dapat diambil beberapa kesimpulan dan asumsi:\n",
    "\n",
    "Perbandingan Pendapatan: Kelompok A memiliki pendapatan yang berfluktuasi dari hari ke hari, dengan puncaknya pada tanggal 21 Desember dan penurunan pada tanggal 29 Desember. Kelompok B, di sisi lain, memiliki tren yang berbeda, dengan pendapatan yang lebih tinggi pada tanggal 20 Desember dan kemudian penurunan seiring berjalannya waktu.\n",
    "\n",
    "Tren pendapatan dan jumlah pesanan antara kelompok A dan B cukup berbeda. Pendapatan kelompok A tampaknya memiliki fluktuasi yang lebih besar dibandingkan kelompok B.\n",
    "\n",
    "Hal ini mungkin memerlukan analisis lebih lanjut untuk memahami faktor-faktor yang mungkin memengaruhi perbedaan tersebut, seperti promosi, produk yang ditawarkan, atau perilaku pelanggan."
   ]
  },
  {
   "cell_type": "markdown",
   "metadata": {},
   "source": [
    "### Gambarkan ukuran pesanan rata-rata kumulatif berdasarkan kelompok. Buatlah kesimpulan dan asumsinya.\n"
   ]
  },
  {
   "cell_type": "code",
   "execution_count": 58,
   "metadata": {},
   "outputs": [],
   "source": [
    "import matplotlib.pyplot as plt\n",
    "\n",
    "# Hitung ukuran pesanan rata-rata kumulatif\n",
    "cumulative_data['average_order_size'] = cumulative_data['revenue'] / cumulative_data['orders']\n",
    "\n",
    "# Pisahkan data kelompok A dan B\n",
    "cumulativeDataA = cumulative_data[cumulative_data['group'] == 'A']\n",
    "cumulativeDataB = cumulative_data[cumulative_data['group'] == 'B']\n",
    "\n"
   ]
  },
  {
   "cell_type": "code",
   "execution_count": 59,
   "metadata": {},
   "outputs": [
    {
     "name": "stdout",
     "output_type": "stream",
     "text": [
      "ukuran pesanan rata-rata kumulatif A :\n",
      "    event_dt group  orders  buyers  revenue  visitors  average_order_size\n",
      "0 2020-12-07     A    1191     522  4203.34       522            3.529253\n",
      "2 2020-12-08     A    1290     565  4273.33       565            3.312659\n",
      "4 2020-12-09     A    1342     576  4718.17       576            3.515775\n",
      "6 2020-12-10     A    1426     606  3992.95       606            2.800105\n",
      "8 2020-12-11     A    1451     624  4347.99       624            2.996547\n",
      "\n",
      "ukuran pesanan rata-rata kumulatif B :\n",
      "    event_dt group  orders  buyers  revenue  visitors  average_order_size\n",
      "1 2020-12-07     B    1192     529  6153.25       529            5.162122\n",
      "3 2020-12-08     B    1209     538  3338.31       538            2.761216\n",
      "5 2020-12-09     B    1299     561  3313.33       561            2.550677\n",
      "7 2020-12-10     B    1315     567  4598.27       567            3.496783\n",
      "9 2020-12-11     B    1255     565  4003.46       565            3.190008\n"
     ]
    }
   ],
   "source": [
    "# Tampilkan hasilnya\n",
    "print(\"ukuran pesanan rata-rata kumulatif A :\")\n",
    "print(cumulativeDataA.head())\n",
    "\n",
    "print(\"\\nukuran pesanan rata-rata kumulatif B :\")\n",
    "print(cumulativeDataB.head())\n"
   ]
  },
  {
   "cell_type": "code",
   "execution_count": 60,
   "metadata": {},
   "outputs": [
    {
     "data": {
      "image/png": "[encoded data removed]",
      "text/plain": [
       "<Figure size 1200x600 with 1 Axes>"
      ]
     },
     "metadata": {},
     "output_type": "display_data"
    }
   ],
   "source": [
    "# Visualisasi ukuran pesanan rata-rata kumulatif\n",
    "plt.figure(figsize=(12, 6))\n",
    "plt.plot(cumulativeDataA['event_dt'], cumulativeDataA['average_order_size'], label='Group A', color='blue')\n",
    "plt.plot(cumulativeDataB['event_dt'], cumulativeDataB['average_order_size'], label='Group B', color='orange')\n",
    "plt.xlabel('Date')\n",
    "plt.ylabel('Cumulative Average Order Size')\n",
    "plt.title('Cumulative Average Order Size by Group A and B')\n",
    "plt.legend()\n",
    "plt.grid()\n",
    "plt.xticks(rotation=45)\n",
    "plt.show()\n"
   ]
  },
  {
   "cell_type": "markdown",
   "metadata": {},
   "source": [
    "Rata-Rata Ukuran Pesanan: Kelompok A memiliki ukuran pesanan rata-rata yang bervariasi dari hari ke hari, dengan nilai yang berkisar antara 2.800 hingga 5. Pada tanggal 16 Desember, ukuran pesanan tertinggi dicapai, sedangkan pada tanggal 13 dan 26 Desember, ukuran pesanan lebih rendah.\n",
    "\n",
    "Perbedaan dengan Kelompok B: Kelompok B memiliki ukuran pesanan rata-rata yang juga bervariasi dari hari ke hari, tetapi dengan fluktuasi yang lebih besar. Pada tanggal 7 Desember, ukuran pesanan tertinggi juga dicapai, tetapi pada tanggal 8 Desember, ada penurunan yang signifikan. Secara umum, kelompok B memiliki ukuran pesanan yang lebih tinggi daripada kelompok A, terutama pada tanggal 7 Desember.\n",
    "\n",
    "Variabilitas: Seperti yang terlihat dari fluktuasi harian, baik kelompok A maupun B mengalami variasi yang signifikan dalam ukuran pesanan rata-rata mereka."
   ]
  },
  {
   "cell_type": "markdown",
   "metadata": {},
   "source": [
    "### Gambarkan perbedaan relatif untuk ukuran pesanan rata-rata kumulatif kelompok B yang dibandingkan dengan kelompok A. Buatlah kesimpulan dan asumsinya.\n"
   ]
  },
  {
   "cell_type": "code",
   "execution_count": 61,
   "metadata": {},
   "outputs": [
    {
     "data": {
      "text/html": [
       "<div>\n",
       "<style scoped>\n",
       "    .dataframe tbody tr th:only-of-type {\n",
       "        vertical-align: middle;\n",
       "    }\n",
       "\n",
       "    .dataframe tbody tr th {\n",
       "        vertical-align: top;\n",
       "    }\n",
       "\n",
       "    .dataframe thead th {\n",
       "        text-align: right;\n",
       "    }\n",
       "</style>\n",
       "<table border=\"1\" class=\"dataframe\">\n",
       "  <thead>\n",
       "    <tr style=\"text-align: right;\">\n",
       "      <th></th>\n",
       "      <th>event_dt</th>\n",
       "      <th>group_A</th>\n",
       "      <th>orders_A</th>\n",
       "      <th>buyers_A</th>\n",
       "      <th>revenue_A</th>\n",
       "      <th>visitors_A</th>\n",
       "      <th>average_order_size_A</th>\n",
       "      <th>group_B</th>\n",
       "      <th>orders_B</th>\n",
       "      <th>buyers_B</th>\n",
       "      <th>revenue_B</th>\n",
       "      <th>visitors_B</th>\n",
       "      <th>average_order_size_B</th>\n",
       "    </tr>\n",
       "  </thead>\n",
       "  <tbody>\n",
       "    <tr>\n",
       "      <th>0</th>\n",
       "      <td>2020-12-07</td>\n",
       "      <td>A</td>\n",
       "      <td>1191</td>\n",
       "      <td>522</td>\n",
       "      <td>4203.34</td>\n",
       "      <td>522</td>\n",
       "      <td>3.529253</td>\n",
       "      <td>B</td>\n",
       "      <td>1192</td>\n",
       "      <td>529</td>\n",
       "      <td>6153.25</td>\n",
       "      <td>529</td>\n",
       "      <td>5.162122</td>\n",
       "    </tr>\n",
       "    <tr>\n",
       "      <th>1</th>\n",
       "      <td>2020-12-08</td>\n",
       "      <td>A</td>\n",
       "      <td>1290</td>\n",
       "      <td>565</td>\n",
       "      <td>4273.33</td>\n",
       "      <td>565</td>\n",
       "      <td>3.312659</td>\n",
       "      <td>B</td>\n",
       "      <td>1209</td>\n",
       "      <td>538</td>\n",
       "      <td>3338.31</td>\n",
       "      <td>538</td>\n",
       "      <td>2.761216</td>\n",
       "    </tr>\n",
       "    <tr>\n",
       "      <th>2</th>\n",
       "      <td>2020-12-09</td>\n",
       "      <td>A</td>\n",
       "      <td>1342</td>\n",
       "      <td>576</td>\n",
       "      <td>4718.17</td>\n",
       "      <td>576</td>\n",
       "      <td>3.515775</td>\n",
       "      <td>B</td>\n",
       "      <td>1299</td>\n",
       "      <td>561</td>\n",
       "      <td>3313.33</td>\n",
       "      <td>561</td>\n",
       "      <td>2.550677</td>\n",
       "    </tr>\n",
       "    <tr>\n",
       "      <th>3</th>\n",
       "      <td>2020-12-10</td>\n",
       "      <td>A</td>\n",
       "      <td>1426</td>\n",
       "      <td>606</td>\n",
       "      <td>3992.95</td>\n",
       "      <td>606</td>\n",
       "      <td>2.800105</td>\n",
       "      <td>B</td>\n",
       "      <td>1315</td>\n",
       "      <td>567</td>\n",
       "      <td>4598.27</td>\n",
       "      <td>567</td>\n",
       "      <td>3.496783</td>\n",
       "    </tr>\n",
       "    <tr>\n",
       "      <th>4</th>\n",
       "      <td>2020-12-11</td>\n",
       "      <td>A</td>\n",
       "      <td>1451</td>\n",
       "      <td>624</td>\n",
       "      <td>4347.99</td>\n",
       "      <td>624</td>\n",
       "      <td>2.996547</td>\n",
       "      <td>B</td>\n",
       "      <td>1255</td>\n",
       "      <td>565</td>\n",
       "      <td>4003.46</td>\n",
       "      <td>565</td>\n",
       "      <td>3.190008</td>\n",
       "    </tr>\n",
       "  </tbody>\n",
       "</table>\n",
       "</div>"
      ],
      "text/plain": [
       "    event_dt group_A  orders_A  buyers_A  revenue_A  visitors_A  \\\n",
       "0 2020-12-07       A      1191       522    4203.34         522   \n",
       "1 2020-12-08       A      1290       565    4273.33         565   \n",
       "2 2020-12-09       A      1342       576    4718.17         576   \n",
       "3 2020-12-10       A      1426       606    3992.95         606   \n",
       "4 2020-12-11       A      1451       624    4347.99         624   \n",
       "\n",
       "   average_order_size_A group_B  orders_B  buyers_B  revenue_B  visitors_B  \\\n",
       "0              3.529253       B      1192       529    6153.25         529   \n",
       "1              3.312659       B      1209       538    3338.31         538   \n",
       "2              3.515775       B      1299       561    3313.33         561   \n",
       "3              2.800105       B      1315       567    4598.27         567   \n",
       "4              2.996547       B      1255       565    4003.46         565   \n",
       "\n",
       "   average_order_size_B  \n",
       "0              5.162122  \n",
       "1              2.761216  \n",
       "2              2.550677  \n",
       "3              3.496783  \n",
       "4              3.190008  "
      ]
     },
     "execution_count": 61,
     "metadata": {},
     "output_type": "execute_result"
    }
   ],
   "source": [
    "# Menggabungkan data dari kelompok A dan B\n",
    "cumulativeDataAB = cumulativeDataA.merge(cumulativeDataB, on='event_dt', suffixes=('_A', '_B'))\n",
    "\n",
    "cumulativeDataAB.head()"
   ]
  },
  {
   "cell_type": "code",
   "execution_count": 62,
   "metadata": {},
   "outputs": [
    {
     "data": {
      "text/html": [
       "<div>\n",
       "<style scoped>\n",
       "    .dataframe tbody tr th:only-of-type {\n",
       "        vertical-align: middle;\n",
       "    }\n",
       "\n",
       "    .dataframe tbody tr th {\n",
       "        vertical-align: top;\n",
       "    }\n",
       "\n",
       "    .dataframe thead th {\n",
       "        text-align: right;\n",
       "    }\n",
       "</style>\n",
       "<table border=\"1\" class=\"dataframe\">\n",
       "  <thead>\n",
       "    <tr style=\"text-align: right;\">\n",
       "      <th></th>\n",
       "      <th>event_dt</th>\n",
       "      <th>group_A</th>\n",
       "      <th>orders_A</th>\n",
       "      <th>buyers_A</th>\n",
       "      <th>revenue_A</th>\n",
       "      <th>visitors_A</th>\n",
       "      <th>average_order_size_A</th>\n",
       "      <th>group_B</th>\n",
       "      <th>orders_B</th>\n",
       "      <th>buyers_B</th>\n",
       "      <th>revenue_B</th>\n",
       "      <th>visitors_B</th>\n",
       "      <th>average_order_size_B</th>\n",
       "      <th>relative_difference</th>\n",
       "    </tr>\n",
       "  </thead>\n",
       "  <tbody>\n",
       "    <tr>\n",
       "      <th>0</th>\n",
       "      <td>2020-12-07</td>\n",
       "      <td>A</td>\n",
       "      <td>1191</td>\n",
       "      <td>522</td>\n",
       "      <td>4203.34</td>\n",
       "      <td>522</td>\n",
       "      <td>3.529253</td>\n",
       "      <td>B</td>\n",
       "      <td>1192</td>\n",
       "      <td>529</td>\n",
       "      <td>6153.25</td>\n",
       "      <td>529</td>\n",
       "      <td>5.162122</td>\n",
       "      <td>1.632870</td>\n",
       "    </tr>\n",
       "    <tr>\n",
       "      <th>1</th>\n",
       "      <td>2020-12-08</td>\n",
       "      <td>A</td>\n",
       "      <td>1290</td>\n",
       "      <td>565</td>\n",
       "      <td>4273.33</td>\n",
       "      <td>565</td>\n",
       "      <td>3.312659</td>\n",
       "      <td>B</td>\n",
       "      <td>1209</td>\n",
       "      <td>538</td>\n",
       "      <td>3338.31</td>\n",
       "      <td>538</td>\n",
       "      <td>2.761216</td>\n",
       "      <td>-0.551443</td>\n",
       "    </tr>\n",
       "    <tr>\n",
       "      <th>2</th>\n",
       "      <td>2020-12-09</td>\n",
       "      <td>A</td>\n",
       "      <td>1342</td>\n",
       "      <td>576</td>\n",
       "      <td>4718.17</td>\n",
       "      <td>576</td>\n",
       "      <td>3.515775</td>\n",
       "      <td>B</td>\n",
       "      <td>1299</td>\n",
       "      <td>561</td>\n",
       "      <td>3313.33</td>\n",
       "      <td>561</td>\n",
       "      <td>2.550677</td>\n",
       "      <td>-0.965098</td>\n",
       "    </tr>\n",
       "    <tr>\n",
       "      <th>3</th>\n",
       "      <td>2020-12-10</td>\n",
       "      <td>A</td>\n",
       "      <td>1426</td>\n",
       "      <td>606</td>\n",
       "      <td>3992.95</td>\n",
       "      <td>606</td>\n",
       "      <td>2.800105</td>\n",
       "      <td>B</td>\n",
       "      <td>1315</td>\n",
       "      <td>567</td>\n",
       "      <td>4598.27</td>\n",
       "      <td>567</td>\n",
       "      <td>3.496783</td>\n",
       "      <td>0.696678</td>\n",
       "    </tr>\n",
       "    <tr>\n",
       "      <th>4</th>\n",
       "      <td>2020-12-11</td>\n",
       "      <td>A</td>\n",
       "      <td>1451</td>\n",
       "      <td>624</td>\n",
       "      <td>4347.99</td>\n",
       "      <td>624</td>\n",
       "      <td>2.996547</td>\n",
       "      <td>B</td>\n",
       "      <td>1255</td>\n",
       "      <td>565</td>\n",
       "      <td>4003.46</td>\n",
       "      <td>565</td>\n",
       "      <td>3.190008</td>\n",
       "      <td>0.193461</td>\n",
       "    </tr>\n",
       "  </tbody>\n",
       "</table>\n",
       "</div>"
      ],
      "text/plain": [
       "    event_dt group_A  orders_A  buyers_A  revenue_A  visitors_A  \\\n",
       "0 2020-12-07       A      1191       522    4203.34         522   \n",
       "1 2020-12-08       A      1290       565    4273.33         565   \n",
       "2 2020-12-09       A      1342       576    4718.17         576   \n",
       "3 2020-12-10       A      1426       606    3992.95         606   \n",
       "4 2020-12-11       A      1451       624    4347.99         624   \n",
       "\n",
       "   average_order_size_A group_B  orders_B  buyers_B  revenue_B  visitors_B  \\\n",
       "0              3.529253       B      1192       529    6153.25         529   \n",
       "1              3.312659       B      1209       538    3338.31         538   \n",
       "2              3.515775       B      1299       561    3313.33         561   \n",
       "3              2.800105       B      1315       567    4598.27         567   \n",
       "4              2.996547       B      1255       565    4003.46         565   \n",
       "\n",
       "   average_order_size_B  relative_difference  \n",
       "0              5.162122             1.632870  \n",
       "1              2.761216            -0.551443  \n",
       "2              2.550677            -0.965098  \n",
       "3              3.496783             0.696678  \n",
       "4              3.190008             0.193461  "
      ]
     },
     "execution_count": 62,
     "metadata": {},
     "output_type": "execute_result"
    }
   ],
   "source": [
    "# Menghitung perbedaan relatif dalam jumlah pembelian rata-rata\n",
    "cumulativeDataAB['relative_difference'] = (cumulativeDataAB['average_order_size_B'] - cumulativeDataAB['average_order_size_A']) \n",
    "\n",
    "cumulativeDataAB.head()"
   ]
  },
  {
   "cell_type": "code",
   "execution_count": 63,
   "metadata": {},
   "outputs": [
    {
     "data": {
      "image/png": "[encoded data removed]",
      "text/plain": [
       "<Figure size 1200x600 with 1 Axes>"
      ]
     },
     "metadata": {},
     "output_type": "display_data"
    }
   ],
   "source": [
    "# Visualisasi perbedaan relatif\n",
    "plt.figure(figsize=(12, 6))\n",
    "plt.plot(cumulativeDataAB['event_dt'], cumulativeDataAB['relative_difference'], label='Relative Difference (B vs A)', color='green')\n",
    "plt.axhline(y=0, color='red', linestyle='--', label='Zero Line')\n",
    "plt.xlabel('Date')\n",
    "plt.ylabel('Relative Difference')\n",
    "plt.title('Relative Difference in Cumulative Average Order Size (B vs A)')\n",
    "plt.legend()\n",
    "plt.grid()\n",
    "plt.xticks(rotation=45)\n",
    "plt.show()\n"
   ]
  },
  {
   "cell_type": "markdown",
   "metadata": {},
   "source": [
    "Berdasarkan grafik perbedaan relatif antara tingkat konversi kumulatif kelompok B dibandingkan dengan kelompok A, dapat kita tarik beberapa kesimpulan dan asumsi:\n",
    "\n",
    "Kelompok A secara konsisten menunjukkan tingkat konversi yang lebih baik daripada kelompok B. Seiring dengan berjalannya waktu, perbedaan ini terus meningkat. \n",
    "Jika terdapat cukup data untuk mencapai tingkat signifikansi, sebaiknya kita lanjutkan pengujian, karena kelompok A sudah dipastikan lebih baik daripada B."
   ]
  },
  {
   "cell_type": "markdown",
   "metadata": {},
   "source": [
    "### Hitung tingkat konversi setiap kelompok sebagai rasio pesanan terhadap jumlah kunjungan setiap hari. Buat grafik tingkat konversi harian dari kedua kelompok dan jelaskan perbedaannya. Buatlah kesimpulan dan asumsinya.\n"
   ]
  },
  {
   "cell_type": "code",
   "execution_count": 64,
   "metadata": {},
   "outputs": [],
   "source": [
    "# Menambahkan kolom 'conversion' ke cumulativeData\n",
    "cumulative_data['conversion'] = cumulative_data['orders'] / cumulative_data['visitors']\n",
    "\n",
    "# Filter data cumulativeData untuk kelompok A\n",
    "cumulativeDataA = cumulative_data[cumulative_data['group'] == 'A']\n",
    "\n",
    "# Filter data cumulativeData untuk kelompok B\n",
    "cumulativeDataB = cumulative_data[cumulative_data['group'] == 'B']\n"
   ]
  },
  {
   "cell_type": "code",
   "execution_count": 65,
   "metadata": {},
   "outputs": [
    {
     "name": "stdout",
     "output_type": "stream",
     "text": [
      "Tingkat konversi setiap kelompok A :\n",
      "    event_dt group  orders  buyers  revenue  visitors  average_order_size  \\\n",
      "0 2020-12-07     A    1191     522  4203.34       522            3.529253   \n",
      "2 2020-12-08     A    1290     565  4273.33       565            3.312659   \n",
      "4 2020-12-09     A    1342     576  4718.17       576            3.515775   \n",
      "6 2020-12-10     A    1426     606  3992.95       606            2.800105   \n",
      "8 2020-12-11     A    1451     624  4347.99       624            2.996547   \n",
      "\n",
      "   conversion  \n",
      "0    2.281609  \n",
      "2    2.283186  \n",
      "4    2.329861  \n",
      "6    2.353135  \n",
      "8    2.325321  \n",
      "\n",
      "Tingkat konversi setiap kelompok B :\n",
      "    event_dt group  orders  buyers  revenue  visitors  average_order_size  \\\n",
      "1 2020-12-07     B    1192     529  6153.25       529            5.162122   \n",
      "3 2020-12-08     B    1209     538  3338.31       538            2.761216   \n",
      "5 2020-12-09     B    1299     561  3313.33       561            2.550677   \n",
      "7 2020-12-10     B    1315     567  4598.27       567            3.496783   \n",
      "9 2020-12-11     B    1255     565  4003.46       565            3.190008   \n",
      "\n",
      "   conversion  \n",
      "1    2.253308  \n",
      "3    2.247212  \n",
      "5    2.315508  \n",
      "7    2.319224  \n",
      "9    2.221239  \n"
     ]
    }
   ],
   "source": [
    "# Tampilkan hasilnya\n",
    "print(\"Tingkat konversi setiap kelompok A :\")\n",
    "print(cumulativeDataA.head())\n",
    "\n",
    "print(\"\\nTingkat konversi setiap kelompok B :\")\n",
    "print(cumulativeDataB.head())\n"
   ]
  },
  {
   "cell_type": "code",
   "execution_count": 66,
   "metadata": {},
   "outputs": [
    {
     "data": {
      "image/png": "[encoded data removed]",
      "text/plain": [
       "<Figure size 1200x600 with 1 Axes>"
      ]
     },
     "metadata": {},
     "output_type": "display_data"
    }
   ],
   "source": [
    "plt.figure(figsize=(12, 6))\n",
    "plt.plot(cumulativeDataA['event_dt'], cumulativeDataA['conversion'], label='Conversion Rate A', color='blue')\n",
    "plt.plot(cumulativeDataB['event_dt'], cumulativeDataB['conversion'], label='Conversion Rate B', color='orange')\n",
    "plt.xlabel('Date')\n",
    "plt.ylabel('Conversion Rate')\n",
    "plt.title('Daily Conversion Rate for Groups A and B')\n",
    "plt.legend()\n",
    "plt.grid()\n",
    "plt.xticks(rotation=45)\n",
    "plt.show()\n"
   ]
  },
  {
   "cell_type": "markdown",
   "metadata": {},
   "source": [
    "Berdasarkan grafik konversi kumulatif harian untuk kelompok A dan B, terdapat beberapa kesimpulan dan asumsi yang dapat diambil:\n",
    "\n",
    "Metrik kumulatif kelompok BIRU secara konsisten lebih tinggi daripada metrik kumulatif kelompok KUNING. Pada awal pengujian, dapat terlihat stabilantara 2 kelompok. Grafik tersebut menjadi terlihat bahwa fluktuasi konversi terjadi pada kedua kelompok hanya menjelang akhir pengujian."
   ]
  },
  {
   "cell_type": "markdown",
   "metadata": {},
   "source": [
    "### Menggunakan uji z atau z-test untuk menguji perbedaan statistik"
   ]
  },
  {
   "cell_type": "markdown",
   "metadata": {},
   "source": [
    "Gunakan uji z atau z-test untuk menguji perbedaan statistik di antara proporsinya."
   ]
  },
  {
   "cell_type": "markdown",
   "metadata": {},
   "source": [
    "#### Temukan signifikansi perbedaan statistik konversi antar kelompok menggunakan data mentah. Buatlah kesimpulan dan asumsinya.\n"
   ]
  },
  {
   "cell_type": "code",
   "execution_count": 67,
   "metadata": {},
   "outputs": [],
   "source": [
    "import scipy.stats as stats\n",
    "\n",
    "# 1. Gabungkan data_event dan data_user berdasarkan 'user_id'\n",
    "combined_data = data_events.merge(data_participants, on='user_id', how='inner')\n",
    "\n",
    "data_group_A = combined_data[combined_data['group'] == 'A']\n",
    "data_group_B = combined_data[combined_data['group'] == 'B']\n"
   ]
  },
  {
   "cell_type": "code",
   "execution_count": 69,
   "metadata": {},
   "outputs": [
    {
     "name": "stdout",
     "output_type": "stream",
     "text": [
      "Konversi Kelompok A: 0.3331953071083506\n",
      "Konversi Kelompok B: 0.31609808102345416\n"
     ]
    }
   ],
   "source": [
    "\n",
    "# Hitung jumlah pengguna unik yang melakukan pembelian (purchase) untuk kelompok A dan B\n",
    "jumlah_pembelian_A = data_group_A[data_group_A['event_name'] == 'purchase']['user_id'].nunique()\n",
    "jumlah_pembelian_B = data_group_B[data_group_B['event_name'] == 'purchase']['user_id'].nunique()\n",
    "\n",
    "# Hitung jumlah pengguna unik total dalam kelompok A dan B\n",
    "jumlah_pengguna_A = data_group_A['user_id'].nunique()\n",
    "jumlah_pengguna_B = data_group_B['user_id'].nunique()\n",
    "\n",
    "# Hitung konversi untuk kelompok A dan B\n",
    "konversi_A = jumlah_pembelian_A / jumlah_pengguna_A\n",
    "konversi_B = jumlah_pembelian_B / jumlah_pengguna_B\n",
    "\n",
    "print(f\"Konversi Kelompok A: {konversi_A}\")\n",
    "print(f\"Konversi Kelompok B: {konversi_B}\")\n"
   ]
  },
  {
   "cell_type": "code",
   "execution_count": 70,
   "metadata": {},
   "outputs": [
    {
     "name": "stdout",
     "output_type": "stream",
     "text": [
      "Kita menolak hipotesis nol (H0). Ada perbedaan signifikan dalam tingkat konversi antara kelompok A dan B.\n",
      "p-value: 0.04004941291007169\n",
      "z_value: 2.053238905055263\n"
     ]
    }
   ],
   "source": [
    "import scipy.stats as stats\n",
    "\n",
    "# Combine data_event and data_user based on 'user_id'\n",
    "combined_data = data_events.merge(data_participants, on='user_id', how='inner')\n",
    "\n",
    "data_group_A = combined_data[combined_data['group'] == 'A']\n",
    "data_group_B = combined_data[combined_data['group'] == 'B']\n",
    "\n",
    "# Calculate the number of unique users who made a purchase for Group A and B\n",
    "jumlah_pembelian_A = data_group_A[data_group_A['event_name'] == 'purchase']['user_id'].nunique()\n",
    "jumlah_pembelian_B = data_group_B[data_group_B['event_name'] == 'purchase']['user_id'].nunique()\n",
    "\n",
    "# Calculate the total number of unique users in Group A and B\n",
    "jumlah_pengguna_A = data_group_A['user_id'].nunique()\n",
    "jumlah_pengguna_B = data_group_B['user_id'].nunique()\n",
    "\n",
    "# Calculate conversion rates for Group A and B\n",
    "konversi_A = jumlah_pembelian_A / jumlah_pengguna_A\n",
    "konversi_B = jumlah_pembelian_B / jumlah_pengguna_B\n",
    "\n",
    "# Significance level\n",
    "significance = 0.05\n",
    "\n",
    "# Calculate the p-value using the z-test\n",
    "p1 = jumlah_pembelian_A / jumlah_pengguna_A\n",
    "p2 = jumlah_pembelian_B / jumlah_pengguna_B\n",
    "p_combined = (jumlah_pembelian_A + jumlah_pembelian_B) / (jumlah_pengguna_A + jumlah_pengguna_B)\n",
    "difference = p1 - p2\n",
    "z_value = difference / np.sqrt(p_combined * (1 - p_combined) * (1 / jumlah_pengguna_A + 1 / jumlah_pengguna_B))\n",
    "distr = stats.norm(0, 1)\n",
    "p_value = (1 - distr.cdf(abs(z_value))) * 2\n",
    "\n",
    "# Determine whether to reject or accept H0\n",
    "if p_value < significance:\n",
    "    print(\"Kita menolak hipotesis nol (H0). Ada perbedaan signifikan dalam tingkat konversi antara kelompok A dan B.\")\n",
    "else:\n",
    "    print(\"Kita tidak menolak hipotesis nol (H0). Tidak ada perbedaan signifikan dalam tingkat konversi antara kelompok A dan B.\")\n",
    "    \n",
    "# Print the p-value\n",
    "print('p-value:', p_value)\n",
    "print('z_value:', z_value)"
   ]
  },
  {
   "cell_type": "markdown",
   "metadata": {},
   "source": [
    "Kesimpulan:\n",
    "\n",
    "berdasarkan data mentah yang kita gunakan, ternyata terdapat perbedaan antara kelompok A dan B. Baris pertama dari output yang dihasilkan memberi kita nilai p sebesar 0.040, yang mana lebih kecil dari 0,05. \n",
    "Oleh karena itu, kita dapat menerima hipotesis nol karena ditemukan perbedaan yang signifikan secara statistik dalam konversi antar kelompok. "
   ]
  },
  {
   "cell_type": "code",
   "execution_count": 122,
   "metadata": {},
   "outputs": [],
   "source": [
    "# significance = 0.05\n",
    "\n",
    "# purchases = np.array([(conversions.query('group == \"A\" and converted == 1')['converted'].count()), \n",
    "#                       conversions.query('group == \"B\" and converted == 1')['converted'].count()])\n",
    "# leads = np.array([(conversions.query('group == \"A\"')['group'].count()), \n",
    "#                   (conversions.query('group == \"B\"')['group'].count())])\n",
    "\n",
    "# p1 = purchases[0]/leads[0]\n",
    "# p2 = purchases[1]/leads[1]\n",
    "# p_combined = ((purchases[0]+purchases[1])/(leads[0]+leads[1]))\n",
    "# difference = p1 - p2\n",
    "\n",
    "# z_value = difference / mth.sqrt(p_combined * (1 - p_combined) * (1/leads[0]+1/leads[1]))\n",
    "\n",
    "# distr = st.norm(0,1)\n",
    "\n",
    "# p_value = (1 - distr.cdf(abs(z_value))) * 2\n",
    "\n",
    "# print('p-value:', p_value)"
   ]
  },
  {
   "cell_type": "markdown",
   "metadata": {},
   "source": [
    "#### Temukan perbedaan signifikansi statistik ukuran pesanan rata-rata antar kelompok. Buatlah kesimpulan dan asumsinya.\n"
   ]
  },
  {
   "cell_type": "code",
   "execution_count": 71,
   "metadata": {},
   "outputs": [
    {
     "name": "stdout",
     "output_type": "stream",
     "text": [
      "Tidak terdapat perbedaan signifikan dalam ukuran pesanan rata-rata antara kelompok A dan B.\n",
      "Z-Score: 0.25913352703725273\n",
      "P-Value: 0.7955322172276701\n"
     ]
    }
   ],
   "source": [
    "\n",
    "from statsmodels.stats.weightstats import ztest\n",
    "\n",
    "# Gabungkan data_event dan data_participants berdasarkan 'user_id'\n",
    "combined_data = data_events.merge(data_participants, on='user_id', how='inner')\n",
    "\n",
    "# Filter data untuk kelompok A dan B.\n",
    "data_group_A = combined_data[combined_data['group'] == 'A']\n",
    "data_group_B = combined_data[combined_data['group'] == 'B']\n",
    "\n",
    "# Data ukuran pesanan rata-rata\n",
    "average_order_size_A = data_group_A[data_group_A['event_name'] == 'purchase']['details']\n",
    "average_order_size_B = data_group_B[data_group_B['event_name'] == 'purchase']['details']\n",
    "\n",
    "# Lakukan uji z-test\n",
    "z_score, p_value = ztest(average_order_size_A, average_order_size_B, alternative='two-sided')\n",
    "\n",
    "# Tentukan tingkat signifikansi (alpha)\n",
    "alpha = 0.05\n",
    "\n",
    "# Evaluasi hasil uji\n",
    "if p_value < alpha:\n",
    "    print(\"Terdapat perbedaan signifikan dalam ukuran pesanan rata-rata antara kelompok A dan B.\")\n",
    "else:\n",
    "    print(\"Tidak terdapat perbedaan signifikan dalam ukuran pesanan rata-rata antara kelompok A dan B.\")\n",
    "\n",
    "print(f\"Z-Score: {z_score}\")\n",
    "print(f\"P-Value: {p_value}\")\n"
   ]
  },
  {
   "cell_type": "markdown",
   "metadata": {},
   "source": [
    "Berdasarkan hasil pengujian statistik, kita dapat menyimpulkan bahwa tidak terdapat perbedaan signifikan dalam konversi antara kelompok A dan B. \n",
    "\n",
    "Hal ini dinyatakan berdasarkan nilai p-value yang lebih besar dari tingkat signifikansi yang telah ditentukan (alpha = 0.05). Artinya, tidak terdapat perbedaan signifikan dalam tingkat konversi antara kedua kelompok tersebut bukanlah kebetulan, melainkan signifikan secara statistik."
   ]
  },
  {
   "cell_type": "markdown",
   "metadata": {},
   "source": [
    "#### Temukan perbedaan signifikansi statistik konversi antar kelompok menggunakan data yang telah difilter. Buatlah kesimpulan dan asumsinya.\n"
   ]
  },
  {
   "cell_type": "code",
   "execution_count": 72,
   "metadata": {},
   "outputs": [
    {
     "name": "stdout",
     "output_type": "stream",
     "text": [
      "Terdapat perbedaan signifikan dalam konversi antara kelompok A dan B.\n",
      "Z-Score: 3.519819574578731\n",
      "P-Value: 0.0004318404516487893\n"
     ]
    }
   ],
   "source": [
    "from statsmodels.stats.weightstats import ztest\n",
    "\n",
    "# Pisahkan data cumulative_data untuk kelompok A dan B.\n",
    "data_group_A = cumulative_data[cumulative_data['group'] == 'A']\n",
    "data_group_B = cumulative_data[cumulative_data['group'] == 'B']\n",
    "\n",
    "# Ambil kolom konversi dari data masing-masing kelompok.\n",
    "conversion_A = data_group_A['conversion']\n",
    "conversion_B = data_group_B['conversion']\n",
    "\n",
    "# Lakukan uji z-test\n",
    "z_score, p_value = ztest(conversion_A, conversion_B, alternative='two-sided')\n",
    "\n",
    "# Tentukan tingkat signifikansi (alpha)\n",
    "alpha = 0.05\n",
    "\n",
    "# Evaluasi hasil uji\n",
    "if p_value < alpha:\n",
    "    print(\"Terdapat perbedaan signifikan dalam konversi antara kelompok A dan B.\")\n",
    "else:\n",
    "    print(\"Tidak terdapat perbedaan signifikan dalam konversi antara kelompok A dan B.\")\n",
    "\n",
    "print(f\"Z-Score: {z_score}\")\n",
    "print(f\"P-Value: {p_value}\")\n"
   ]
  },
  {
   "cell_type": "markdown",
   "metadata": {},
   "source": [
    "Berdasarkan hasil pengujian statistik, dapat disimpulkan bahwa terdapat perbedaan signifikan dalam konversi antara kelompok A dan B. \n",
    "\n",
    "Nilai p-value yang lebih kecil dari tingkat signifikansi yang telah ditentukan (alpha = 0.05) menunjukkan bahwa perbedaan tersebut tidak terjadi secara kebetulan, melainkan signifikan secara statistik.\n"
   ]
  },
  {
   "cell_type": "markdown",
   "metadata": {},
   "source": [
    "#### Temukan signifikansi statistik perbedaan ukuran pesanan rata-rata antar kelompok menggunakan data yang telah difilter. Buatlah kesimpulan dan asumsinya.\n"
   ]
  },
  {
   "cell_type": "code",
   "execution_count": 73,
   "metadata": {},
   "outputs": [
    {
     "name": "stdout",
     "output_type": "stream",
     "text": [
      "Tidak terdapat perbedaan signifikan dalam ukuran pesanan rata-rata antara kelompok A dan B.\n",
      "Z-Score: 0.5727646015338514\n",
      "P-Value: 0.5668040899123874\n"
     ]
    }
   ],
   "source": [
    "from statsmodels.stats.weightstats import ztest\n",
    "\n",
    "# Pisahkan data cumulative_data untuk kelompok A dan B.\n",
    "data_group_A = cumulative_data[cumulative_data['group'] == 'A']\n",
    "data_group_B = cumulative_data[cumulative_data['group'] == 'B']\n",
    "\n",
    "# Ambil kolom average_order_size dari data masing-masing kelompok.\n",
    "average_order_size_A = data_group_A['revenue'] / data_group_A['orders']\n",
    "average_order_size_B = data_group_B['revenue'] / data_group_B['orders']\n",
    "\n",
    "# Lakukan uji z-test\n",
    "z_score, p_value = ztest(average_order_size_A, average_order_size_B, alternative='two-sided')\n",
    "\n",
    "# Tentukan tingkat signifikansi (alpha)\n",
    "alpha = 0.05\n",
    "\n",
    "# Evaluasi hasil uji\n",
    "if p_value < alpha:\n",
    "    print(\"Terdapat perbedaan signifikan dalam ukuran pesanan rata-rata antara kelompok A dan B.\")\n",
    "else:\n",
    "    print(\"Tidak terdapat perbedaan signifikan dalam ukuran pesanan rata-rata antara kelompok A dan B.\")\n",
    "\n",
    "print(f\"Z-Score: {z_score}\")\n",
    "print(f\"P-Value: {p_value}\")\n"
   ]
  },
  {
   "cell_type": "markdown",
   "metadata": {},
   "source": [
    "Berdasarkan hasil pengujian statistik, dapat disimpulkan bahwa tidak terdapat perbedaan signifikan dalam ukuran pesanan rata-rata antara kelompok A dan B. \n",
    "\n",
    "Berdasarkan hasil pengujian statistik, dapat disimpulkan bahwa tidak terdapat perbedaan signifikan dalam ukuran pesanan rata-rata antara kelompok A dan B. Nilai p-value yang lebih besar dari tingkat signifikansi yang telah ditentukan (alpha = 0.05) menunjukkan bahwa perbedaan tersebut tidak signifikan secara statistik.Nilai p-value yang lebih besar dari tingkat signifikansi yang telah ditentukan (alpha = 0.05) menunjukkan bahwa perbedaan tersebut tidak signifikan secara statistik."
   ]
  },
  {
   "cell_type": "markdown",
   "metadata": {},
   "source": [
    "### Kesimpulan Anda terkait tahap EDA dan hasil A/B testing:"
   ]
  },
  {
   "cell_type": "markdown",
   "metadata": {},
   "source": [
    "Berdasarkan tahap EDA (Exploratory Data Analysis) yang telah dilakukan dan hasil A/B testing, berikut adalah kesimpulan yang dapat diambil:\n",
    "\n",
    "Exploratory Data Analysis (EDA):\n",
    "\n",
    ". Selama analisis data eksploratif, kami menjelajahi dan memahami data dengan lebih baik.\n",
    "\n",
    ". Kami menemukan bahwa ada beberapa pengguna yang berada di kedua kelompok (A dan B) dan jumlahnya sangat signifikan.\n",
    "\n",
    ". Adanya perbedaan jumlah participant antara group A adan group B\n",
    "\n",
    ". adanya kolom tanggal yang tidak memiliki tipe data datetime\n",
    "\n",
    ". Banyak konsumen yang melewati proses \"product chart\" dan langsung menuju \"Purchase\", ini menandakan mereka(buyer) sudah yakin dengan membeli barang tersebut\n",
    "\n",
    ". Kami juga melihat pola-pola dalam data seperti tren kumulatif pendapatan, ukuran pesanan rata-rata, dan tingkat konversi.\n",
    "\n"
   ]
  },
  {
   "cell_type": "markdown",
   "metadata": {},
   "source": [
    "Hasil A/B Testing:\n",
    "\n",
    ". Dalam uji konversi antara kelompok A dan B, kami menemukan bahwa terdapat perbedaan signifikan dalam konversi antara kedua kelompok. Nilai p-value yang rendah menunjukkan perbedaan yang signifikan secara statistik.\n",
    "\n",
    ". Namun, dalam uji ukuran pesanan rata-rata antara kelompok A dan B, kami tidak menemukan perbedaan signifikan. Nilai p-value yang tinggi menunjukkan bahwa perbedaan tersebut tidak signifikan secara statistik.\n",
    "\n"
   ]
  },
  {
   "cell_type": "markdown",
   "metadata": {},
   "source": [
    "Rekomendasi:\n",
    "    \n",
    ". Berdasarkan hasil A/B testing, ada bukti yang cukup kuat untuk mendukung perbedaan dalam tingkat konversi antara kelompok A dan B. Ini bisa menjadi area yang menarik untuk dieksplorasi lebih lanjut dan menjadi fokus untuk perbaikan atau strategi selanjutnya.\n",
    "\n",
    ". Sementara itu, karena tidak ada perbedaan signifikan dalam ukuran pesanan rata-rata, perlu dilakukan analisis lebih lanjut untuk memahami faktor-faktor lain yang mungkin memengaruhi kinerja kelompok A dan B."
   ]
  },
  {
   "cell_type": "code",
   "execution_count": null,
   "metadata": {},
   "outputs": [],
   "source": []
  },
  {
   "cell_type": "code",
   "execution_count": null,
   "metadata": {},
   "outputs": [],
   "source": []
  },
  {
   "cell_type": "code",
   "execution_count": null,
   "metadata": {},
   "outputs": [],
   "source": []
  }
 ],
 "metadata": {
  "kernelspec": {
   "display_name": "Python 3 (ipykernel)",
   "language": "python",
   "name": "python3"
  },
  "language_info": {
   "codemirror_mode": {
    "name": "ipython",
    "version": 3
   },
   "file_extension": ".py",
   "mimetype": "text/x-python",
   "name": "python",
   "nbconvert_exporter": "python",
   "pygments_lexer": "ipython3",
   "version": "3.11.4"
  },
  "toc": {
   "base_numbering": 1,
   "nav_menu": {},
   "number_sections": true,
   "sideBar": true,
   "skip_h1_title": true,
   "title_cell": "Table of Contents",
   "title_sidebar": "Contents",
   "toc_cell": false,
   "toc_position": {
    "height": "calc(100% - 180px)",
    "left": "10px",
    "top": "150px",
    "width": "302px"
   },
   "toc_section_display": true,
   "toc_window_display": false
  }
 },
 "nbformat": 4,
 "nbformat_minor": 2
}
