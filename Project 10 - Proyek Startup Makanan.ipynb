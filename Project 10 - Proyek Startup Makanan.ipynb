{
 "cells": [
  {
   "cell_type": "markdown",
   "metadata": {},
   "source": [
    "# Analisa Startup Produk Makanan\n",
    "\n",
    "Anda bekerja di sebuah startup yang menjual produk makanan. Anda perlu mencari tahu perilaku pengguna aplikasi dari perusahaan tersebut. Pertama-tama, mencoba untuk mempelajari terlebih dahulu corong penjualannya. kemudian menemukan jalur yang harus dilalui pengguna untuk bisa mencapai tahap pembelian. Berapa banyak pengguna yang benar-benar berhasil mencapai tahap pembelian? Berapa banyak pengguna yang terhenti pada tahap-tahap sebelumnya? Pada tahap manakah persisnya hal tersebut terjadi?\n",
    "\n",
    "Kemudian, lihatlah hasil dari A/A/B testing (Baca terus untuk mengetahui informasi lebih lanjut tentang A/A/B testing). Tim web designer ingin mengubah font untuk keseluruhan aplikasi, tetapi product manager merasa khawatir jika para pengguna justru akan merasa bahwa desain baru tersebut mengganggu. Mereka pun memutuskan untuk mengambil keputusan berdasarkan hasil A/A/B testing.\n",
    "\n",
    "\n"
   ]
  },
  {
   "cell_type": "markdown",
   "metadata": {},
   "source": [
    "## Konten <a id='back'></a>\n",
    "\n",
    "* [2. Pendahuluan](#intro)\n",
    "    * [2.1 Tujuan](#tujuan)\n",
    "    * [2.2 Tahapan](#tahapan)\n",
    "* [3  Mengunduh data dan menyiapkannya untuk analisis](#tiga)\n",
    "    * [3.1 Memuat Data](#tigasatu)\n",
    "    * [3.2 Mempersiapkan Data](#tigadua)\n",
    "* [4. Menyiapkan Data untuk analisis ](#empat)\n",
    "    * [4.1  Ubah nama kolom sesuai dengan yang Anda inginkan](#empatsatu)\n",
    "    * [4.2  Periksa nilai yang hilang dan tipe datanya](#empatdua)\n",
    "    * [4.3  Tambahkan kolom tanggal dan waktu](#empattiga)\n",
    "* [5. Mempelajari dan memeriksa datanya](#lima)    \n",
    "    * [5.1  Berapa banyak peristiwa yang tercatat dalam log](#limasatu)\n",
    "    * [5.2  Berapa banyak pengguna yang tercatat dalam log](#limadua)\n",
    "    * [5.3  Berapa jumlah rata-rata peristiwa per pengguna](#limatiga)\n",
    "    * [5.4  Periode waktu yang dicakup oleh data](#limaempat)\n",
    "    * [5.5  Jumlah Kehilangan Peristiwa dan Pengguna](#limalima)\n",
    "    * [5.6  Pastikan Anda Memiliki Pengguna Dari Ketiga Kelompok Eksperimen](#limaenam)\n",
    "* [6. Pelajari corong peristiwanya](#enam)\n",
    "    * [6.1  Peristiwa apa saja yang ada dalam log](#enamsatu)\n",
    "    * [6.2  Jumlah Pengguna yang melakukan setiap tindakan](#enamdua)\n",
    "    * [6.3  Urutan Peristiwa-peristiwa yang terjadi sampai pada proses pembelian](#enamtiga)\n",
    "    * [6.4  Corong Peristiwa Untuk Menemukan Ppersentase pengguna](#enamempat)\n",
    "    * [6.5  Menghitung Kehilangan Jumlah Pengguna](#enamlima)\n",
    "    * [6.6  Menghitung Persentase Pengguna Yang Berhasil Menyelesaikan Seluruh Tahapan](#enamenam)\n",
    "* [7. Pelajari hasil eksperimen Anda](#tujuh)\n",
    "    * [7.1  Menghitung Jumlah Pengguna Yang Ada Di Setiap Kelompok](#tujuhsatu)\n",
    "    * [7.2  Memilih peristiwa yang paling populer](#tujuhdua)\n",
    "        * [7.2.1  Kelompok Kontrol - 246 & 247 - Mencari Peristiwa Terpopuler ](#tujuhduasatu)\n",
    "        * [7.2.2  Kelompok Kontrol - 246 & 247 - Mencari Perbedaan Antar Kelompok Kontrol Selain Peristiwa populer ](#tujuhduadua)\n",
    "            * [7.2.2.1  Kelompok Kontrol - 246 & 247 - Mencari Perbedaan 'Offers Screen Appear' ](#tujuhduaduasatu)\n",
    "            * [7.2.2.2  Kelompok Kontrol - 246 & 247 - Mencari Perbedaan 'Cart Screen Appear' ](#tujuhduaduadua)\n",
    "            * [7.2.2.3  Kelompok Kontrol - 246 & 247 - Mencari Perbedaan 'Payment Screen Successful' ](#tujuhduaduatiga)\n",
    "    * [7.3  Kelompok Pengguna Yang Diperlihatkan Versi Font Terbaru](#tujuhtiga)\n",
    "        * [7.3.1  Kelompok Pengguna - 248 - Mencari Peristiwa Terpopuler ](#tujuhtigasatu)\n",
    "        * [7.3.2  Mencari Perbedaan Kelompok Uji 248 terhadap Kelompok Kontrol 246 & 247 - Pada Peristiwa Populer ](#tujuhtigadua)\n",
    "        * [7.3.3  Kelompok Pengguna - 248 - Mencari Perbedaan Signifikan Antar Kelompok Kontrol Selain Peristiwa populer](#tujuhtigatiga)\n",
    "    * [7.4  Menghitung Tingkat Signifikansi Untuk Menguji Hipotesis Statistik](#tujuhempat)\n",
    "* [8. Kesimpulan](#delapan)\n",
    "\n",
    "\n",
    "\n"
   ]
  },
  {
   "cell_type": "markdown",
   "metadata": {},
   "source": [
    "## Pendahuluan <a id='intro'></a>\n",
    "\n",
    "Pendahuluan:\n",
    "\n",
    "Selamat datang, para investor yang terhormat!\n",
    "\n",
    "Dalam kesempatan ini, kami ingin mempersembahkan kepada Anda hasil penelitian yang telah kami lakukan terkait potensi bisnis di sektor makanan. Penelitian ini bertujuan untuk memberikan gambaran yang komprehensif mengenai jenis usaha, jumlah kursi, dan peluang pengembangan usaha berbasis waralaba.\n",
    "\n",
    "Dalam penelitian ini, kami menggunakan data terkait usaha-usaha makanan yang berlokasi di berbagai wilayah. Data tersebut mencakup informasi tentang jenis usaha, jumlah kursi, dan lokasi usaha. Kami telah menganalisis data ini secara menyeluruh dan menyajikan temuan-temuan yang menarik untuk menjadi bahan pertimbangan Anda.\n",
    "\n",
    "\n",
    "### Tujuan: <a id='tujuan'></a> \n",
    "Berikut tujuan:\n",
    "\n",
    "1. Memahami Corong Penjualan: Tujuan utama adalah untuk menganalisis corong penjualan produk makanan dari tahap awal hingga tahap pembelian. Kami akan mengidentifikasi jumlah pengguna yang berhasil mencapai tahap pembelian, serta menentukan tahap-tahap mana yang memiliki tingkat churn atau tingkat penghentian tertinggi. \n",
    "\n",
    "2. Evaluasi A/A/B Testing: Dalam rangka mengambil keputusan terkait perubahan font aplikasi, tujuan kami adalah melakukan A/A/B testing untuk membandingkan dua versi font dengan versi font terbaru. Kami akan menganalisis pengaruh perubahan font terhadap preferensi pengguna, kepuasan pengguna, dan metrik kinerja aplikasi.   \n",
    "\n",
    "3. Menyajikan fokus khusus pada peluang pengembangan usaha berbasis waralaba: Kami akan menganalisis data yang berkaitan dengan usaha-usaha berbasis waralaba. \n",
    "\n",
    "\n",
    "\n",
    "\n",
    "### Tahapan <a id='tahapan'></a> \n",
    "\n",
    "dataframe yang disediakan : \"/datasets/rest_data_us.csv\"\n",
    "                            \n",
    "Tahapan Penelitian:\n",
    "\n",
    "1. Pengumpulan Data.\n",
    "\n",
    "2. Eksplorasi Data.\n",
    "\n",
    "3. Analisis Corong Penjualan. \n",
    "\n",
    "4. A/A/B Testing.  \n",
    "\n",
    "5. Kesimpulan dan Rekomendasi.\n",
    "\n",
    "\n",
    "[Kembali ke Konten](#back)"
   ]
  },
  {
   "cell_type": "markdown",
   "metadata": {},
   "source": [
    "## Membuka file data dan pelajari informasi umumnya <a id='tiga'></a> "
   ]
  },
  {
   "cell_type": "markdown",
   "metadata": {},
   "source": [
    "### Memuat Data  <a id='tigasatu'></a> "
   ]
  },
  {
   "cell_type": "code",
   "execution_count": 1,
   "metadata": {},
   "outputs": [],
   "source": [
    "# Muat semua library\n",
    "import pandas as pd\n",
    "import matplotlib.pyplot as plt\n",
    "import numpy as np"
   ]
  },
  {
   "cell_type": "markdown",
   "metadata": {},
   "source": [
    "### Mempersiapkan Data <a id='tigadua'></a> "
   ]
  },
  {
   "cell_type": "code",
   "execution_count": 2,
   "metadata": {},
   "outputs": [],
   "source": [
    "# load the dataset\n",
    "path = 'C://Users//ASUS//Downloads'\n",
    "\n",
    "try:\n",
    "    data_logs = pd.read_csv(path + 'logs_exp_us.csv', sep = '\\t')\n",
    "except:\n",
    "    data_logs = pd.read_csv('/datasets/logs_exp_us.csv', sep = '\\t')"
   ]
  },
  {
   "cell_type": "code",
   "execution_count": 3,
   "metadata": {},
   "outputs": [
    {
     "data": {
      "text/html": [
       "<div>\n",
       "<style scoped>\n",
       "    .dataframe tbody tr th:only-of-type {\n",
       "        vertical-align: middle;\n",
       "    }\n",
       "\n",
       "    .dataframe tbody tr th {\n",
       "        vertical-align: top;\n",
       "    }\n",
       "\n",
       "    .dataframe thead th {\n",
       "        text-align: right;\n",
       "    }\n",
       "</style>\n",
       "<table border=\"1\" class=\"dataframe\">\n",
       "  <thead>\n",
       "    <tr style=\"text-align: right;\">\n",
       "      <th></th>\n",
       "      <th>EventName</th>\n",
       "      <th>DeviceIDHash</th>\n",
       "      <th>EventTimestamp</th>\n",
       "      <th>ExpId</th>\n",
       "    </tr>\n",
       "  </thead>\n",
       "  <tbody>\n",
       "    <tr>\n",
       "      <th>0</th>\n",
       "      <td>MainScreenAppear</td>\n",
       "      <td>4575588528974610257</td>\n",
       "      <td>1564029816</td>\n",
       "      <td>246</td>\n",
       "    </tr>\n",
       "    <tr>\n",
       "      <th>1</th>\n",
       "      <td>MainScreenAppear</td>\n",
       "      <td>7416695313311560658</td>\n",
       "      <td>1564053102</td>\n",
       "      <td>246</td>\n",
       "    </tr>\n",
       "    <tr>\n",
       "      <th>2</th>\n",
       "      <td>PaymentScreenSuccessful</td>\n",
       "      <td>3518123091307005509</td>\n",
       "      <td>1564054127</td>\n",
       "      <td>248</td>\n",
       "    </tr>\n",
       "    <tr>\n",
       "      <th>3</th>\n",
       "      <td>CartScreenAppear</td>\n",
       "      <td>3518123091307005509</td>\n",
       "      <td>1564054127</td>\n",
       "      <td>248</td>\n",
       "    </tr>\n",
       "    <tr>\n",
       "      <th>4</th>\n",
       "      <td>PaymentScreenSuccessful</td>\n",
       "      <td>6217807653094995999</td>\n",
       "      <td>1564055322</td>\n",
       "      <td>248</td>\n",
       "    </tr>\n",
       "  </tbody>\n",
       "</table>\n",
       "</div>"
      ],
      "text/plain": [
       "                 EventName         DeviceIDHash  EventTimestamp  ExpId\n",
       "0         MainScreenAppear  4575588528974610257      1564029816    246\n",
       "1         MainScreenAppear  7416695313311560658      1564053102    246\n",
       "2  PaymentScreenSuccessful  3518123091307005509      1564054127    248\n",
       "3         CartScreenAppear  3518123091307005509      1564054127    248\n",
       "4  PaymentScreenSuccessful  6217807653094995999      1564055322    248"
      ]
     },
     "execution_count": 3,
     "metadata": {},
     "output_type": "execute_result"
    }
   ],
   "source": [
    "data_logs.head()"
   ]
  },
  {
   "cell_type": "code",
   "execution_count": 4,
   "metadata": {},
   "outputs": [
    {
     "name": "stdout",
     "output_type": "stream",
     "text": [
      "<class 'pandas.core.frame.DataFrame'>\n",
      "RangeIndex: 244126 entries, 0 to 244125\n",
      "Data columns (total 4 columns):\n",
      " #   Column          Non-Null Count   Dtype \n",
      "---  ------          --------------   ----- \n",
      " 0   EventName       244126 non-null  object\n",
      " 1   DeviceIDHash    244126 non-null  int64 \n",
      " 2   EventTimestamp  244126 non-null  int64 \n",
      " 3   ExpId           244126 non-null  int64 \n",
      "dtypes: int64(3), object(1)\n",
      "memory usage: 7.5+ MB\n"
     ]
    }
   ],
   "source": [
    "data_logs.info()"
   ]
  },
  {
   "cell_type": "code",
   "execution_count": 5,
   "metadata": {},
   "outputs": [
    {
     "data": {
      "text/html": [
       "<div>\n",
       "<style scoped>\n",
       "    .dataframe tbody tr th:only-of-type {\n",
       "        vertical-align: middle;\n",
       "    }\n",
       "\n",
       "    .dataframe tbody tr th {\n",
       "        vertical-align: top;\n",
       "    }\n",
       "\n",
       "    .dataframe thead th {\n",
       "        text-align: right;\n",
       "    }\n",
       "</style>\n",
       "<table border=\"1\" class=\"dataframe\">\n",
       "  <thead>\n",
       "    <tr style=\"text-align: right;\">\n",
       "      <th></th>\n",
       "      <th>DeviceIDHash</th>\n",
       "      <th>EventTimestamp</th>\n",
       "      <th>ExpId</th>\n",
       "    </tr>\n",
       "  </thead>\n",
       "  <tbody>\n",
       "    <tr>\n",
       "      <th>count</th>\n",
       "      <td>2.441260e+05</td>\n",
       "      <td>2.441260e+05</td>\n",
       "      <td>244126.000000</td>\n",
       "    </tr>\n",
       "    <tr>\n",
       "      <th>mean</th>\n",
       "      <td>4.627568e+18</td>\n",
       "      <td>1.564914e+09</td>\n",
       "      <td>247.022296</td>\n",
       "    </tr>\n",
       "    <tr>\n",
       "      <th>std</th>\n",
       "      <td>2.642425e+18</td>\n",
       "      <td>1.771343e+05</td>\n",
       "      <td>0.824434</td>\n",
       "    </tr>\n",
       "    <tr>\n",
       "      <th>min</th>\n",
       "      <td>6.888747e+15</td>\n",
       "      <td>1.564030e+09</td>\n",
       "      <td>246.000000</td>\n",
       "    </tr>\n",
       "    <tr>\n",
       "      <th>25%</th>\n",
       "      <td>2.372212e+18</td>\n",
       "      <td>1.564757e+09</td>\n",
       "      <td>246.000000</td>\n",
       "    </tr>\n",
       "    <tr>\n",
       "      <th>50%</th>\n",
       "      <td>4.623192e+18</td>\n",
       "      <td>1.564919e+09</td>\n",
       "      <td>247.000000</td>\n",
       "    </tr>\n",
       "    <tr>\n",
       "      <th>75%</th>\n",
       "      <td>6.932517e+18</td>\n",
       "      <td>1.565075e+09</td>\n",
       "      <td>248.000000</td>\n",
       "    </tr>\n",
       "    <tr>\n",
       "      <th>max</th>\n",
       "      <td>9.222603e+18</td>\n",
       "      <td>1.565213e+09</td>\n",
       "      <td>248.000000</td>\n",
       "    </tr>\n",
       "  </tbody>\n",
       "</table>\n",
       "</div>"
      ],
      "text/plain": [
       "       DeviceIDHash  EventTimestamp          ExpId\n",
       "count  2.441260e+05    2.441260e+05  244126.000000\n",
       "mean   4.627568e+18    1.564914e+09     247.022296\n",
       "std    2.642425e+18    1.771343e+05       0.824434\n",
       "min    6.888747e+15    1.564030e+09     246.000000\n",
       "25%    2.372212e+18    1.564757e+09     246.000000\n",
       "50%    4.623192e+18    1.564919e+09     247.000000\n",
       "75%    6.932517e+18    1.565075e+09     248.000000\n",
       "max    9.222603e+18    1.565213e+09     248.000000"
      ]
     },
     "execution_count": 5,
     "metadata": {},
     "output_type": "execute_result"
    }
   ],
   "source": [
    "data_logs.describe()"
   ]
  },
  {
   "cell_type": "code",
   "execution_count": 6,
   "metadata": {},
   "outputs": [],
   "source": [
    "data_logs['EventName'] = data_logs['EventName'].str.replace(r'(?<!^)(?=[A-Z])', ' ', regex=True)\n"
   ]
  },
  {
   "cell_type": "code",
   "execution_count": 7,
   "metadata": {},
   "outputs": [
    {
     "data": {
      "text/html": [
       "<div>\n",
       "<style scoped>\n",
       "    .dataframe tbody tr th:only-of-type {\n",
       "        vertical-align: middle;\n",
       "    }\n",
       "\n",
       "    .dataframe tbody tr th {\n",
       "        vertical-align: top;\n",
       "    }\n",
       "\n",
       "    .dataframe thead th {\n",
       "        text-align: right;\n",
       "    }\n",
       "</style>\n",
       "<table border=\"1\" class=\"dataframe\">\n",
       "  <thead>\n",
       "    <tr style=\"text-align: right;\">\n",
       "      <th></th>\n",
       "      <th>EventName</th>\n",
       "      <th>DeviceIDHash</th>\n",
       "      <th>EventTimestamp</th>\n",
       "      <th>ExpId</th>\n",
       "    </tr>\n",
       "  </thead>\n",
       "  <tbody>\n",
       "    <tr>\n",
       "      <th>0</th>\n",
       "      <td>Main Screen Appear</td>\n",
       "      <td>4575588528974610257</td>\n",
       "      <td>1564029816</td>\n",
       "      <td>246</td>\n",
       "    </tr>\n",
       "    <tr>\n",
       "      <th>1</th>\n",
       "      <td>Main Screen Appear</td>\n",
       "      <td>7416695313311560658</td>\n",
       "      <td>1564053102</td>\n",
       "      <td>246</td>\n",
       "    </tr>\n",
       "    <tr>\n",
       "      <th>2</th>\n",
       "      <td>Payment Screen Successful</td>\n",
       "      <td>3518123091307005509</td>\n",
       "      <td>1564054127</td>\n",
       "      <td>248</td>\n",
       "    </tr>\n",
       "    <tr>\n",
       "      <th>3</th>\n",
       "      <td>Cart Screen Appear</td>\n",
       "      <td>3518123091307005509</td>\n",
       "      <td>1564054127</td>\n",
       "      <td>248</td>\n",
       "    </tr>\n",
       "    <tr>\n",
       "      <th>4</th>\n",
       "      <td>Payment Screen Successful</td>\n",
       "      <td>6217807653094995999</td>\n",
       "      <td>1564055322</td>\n",
       "      <td>248</td>\n",
       "    </tr>\n",
       "    <tr>\n",
       "      <th>...</th>\n",
       "      <td>...</td>\n",
       "      <td>...</td>\n",
       "      <td>...</td>\n",
       "      <td>...</td>\n",
       "    </tr>\n",
       "    <tr>\n",
       "      <th>244121</th>\n",
       "      <td>Main Screen Appear</td>\n",
       "      <td>4599628364049201812</td>\n",
       "      <td>1565212345</td>\n",
       "      <td>247</td>\n",
       "    </tr>\n",
       "    <tr>\n",
       "      <th>244122</th>\n",
       "      <td>Main Screen Appear</td>\n",
       "      <td>5849806612437486590</td>\n",
       "      <td>1565212439</td>\n",
       "      <td>246</td>\n",
       "    </tr>\n",
       "    <tr>\n",
       "      <th>244123</th>\n",
       "      <td>Main Screen Appear</td>\n",
       "      <td>5746969938801999050</td>\n",
       "      <td>1565212483</td>\n",
       "      <td>246</td>\n",
       "    </tr>\n",
       "    <tr>\n",
       "      <th>244124</th>\n",
       "      <td>Main Screen Appear</td>\n",
       "      <td>5746969938801999050</td>\n",
       "      <td>1565212498</td>\n",
       "      <td>246</td>\n",
       "    </tr>\n",
       "    <tr>\n",
       "      <th>244125</th>\n",
       "      <td>Offers Screen Appear</td>\n",
       "      <td>5746969938801999050</td>\n",
       "      <td>1565212517</td>\n",
       "      <td>246</td>\n",
       "    </tr>\n",
       "  </tbody>\n",
       "</table>\n",
       "<p>244126 rows × 4 columns</p>\n",
       "</div>"
      ],
      "text/plain": [
       "                        EventName         DeviceIDHash  EventTimestamp  ExpId\n",
       "0              Main Screen Appear  4575588528974610257      1564029816    246\n",
       "1              Main Screen Appear  7416695313311560658      1564053102    246\n",
       "2       Payment Screen Successful  3518123091307005509      1564054127    248\n",
       "3              Cart Screen Appear  3518123091307005509      1564054127    248\n",
       "4       Payment Screen Successful  6217807653094995999      1564055322    248\n",
       "...                           ...                  ...             ...    ...\n",
       "244121         Main Screen Appear  4599628364049201812      1565212345    247\n",
       "244122         Main Screen Appear  5849806612437486590      1565212439    246\n",
       "244123         Main Screen Appear  5746969938801999050      1565212483    246\n",
       "244124         Main Screen Appear  5746969938801999050      1565212498    246\n",
       "244125       Offers Screen Appear  5746969938801999050      1565212517    246\n",
       "\n",
       "[244126 rows x 4 columns]"
      ]
     },
     "execution_count": 7,
     "metadata": {},
     "output_type": "execute_result"
    }
   ],
   "source": [
    "data_logs"
   ]
  },
  {
   "cell_type": "markdown",
   "metadata": {},
   "source": [
    "## Menyiapkan Data untuk analisis <a id='empat'></a> \n"
   ]
  },
  {
   "cell_type": "markdown",
   "metadata": {},
   "source": [
    "### Ubah nama kolom sesuai dengan yang Anda inginkan <a id='empatsatu'></a> "
   ]
  },
  {
   "cell_type": "code",
   "execution_count": 8,
   "metadata": {},
   "outputs": [],
   "source": [
    "# Mengubah nama kolom menjadi huruf kecil\n",
    "data_logs.columns = data_logs.columns.str.lower()"
   ]
  },
  {
   "cell_type": "code",
   "execution_count": 9,
   "metadata": {},
   "outputs": [
    {
     "data": {
      "text/html": [
       "<div>\n",
       "<style scoped>\n",
       "    .dataframe tbody tr th:only-of-type {\n",
       "        vertical-align: middle;\n",
       "    }\n",
       "\n",
       "    .dataframe tbody tr th {\n",
       "        vertical-align: top;\n",
       "    }\n",
       "\n",
       "    .dataframe thead th {\n",
       "        text-align: right;\n",
       "    }\n",
       "</style>\n",
       "<table border=\"1\" class=\"dataframe\">\n",
       "  <thead>\n",
       "    <tr style=\"text-align: right;\">\n",
       "      <th></th>\n",
       "      <th>eventname</th>\n",
       "      <th>deviceidhash</th>\n",
       "      <th>eventtimestamp</th>\n",
       "      <th>expid</th>\n",
       "    </tr>\n",
       "  </thead>\n",
       "  <tbody>\n",
       "    <tr>\n",
       "      <th>0</th>\n",
       "      <td>Main Screen Appear</td>\n",
       "      <td>4575588528974610257</td>\n",
       "      <td>1564029816</td>\n",
       "      <td>246</td>\n",
       "    </tr>\n",
       "    <tr>\n",
       "      <th>1</th>\n",
       "      <td>Main Screen Appear</td>\n",
       "      <td>7416695313311560658</td>\n",
       "      <td>1564053102</td>\n",
       "      <td>246</td>\n",
       "    </tr>\n",
       "    <tr>\n",
       "      <th>2</th>\n",
       "      <td>Payment Screen Successful</td>\n",
       "      <td>3518123091307005509</td>\n",
       "      <td>1564054127</td>\n",
       "      <td>248</td>\n",
       "    </tr>\n",
       "    <tr>\n",
       "      <th>3</th>\n",
       "      <td>Cart Screen Appear</td>\n",
       "      <td>3518123091307005509</td>\n",
       "      <td>1564054127</td>\n",
       "      <td>248</td>\n",
       "    </tr>\n",
       "    <tr>\n",
       "      <th>4</th>\n",
       "      <td>Payment Screen Successful</td>\n",
       "      <td>6217807653094995999</td>\n",
       "      <td>1564055322</td>\n",
       "      <td>248</td>\n",
       "    </tr>\n",
       "    <tr>\n",
       "      <th>...</th>\n",
       "      <td>...</td>\n",
       "      <td>...</td>\n",
       "      <td>...</td>\n",
       "      <td>...</td>\n",
       "    </tr>\n",
       "    <tr>\n",
       "      <th>244121</th>\n",
       "      <td>Main Screen Appear</td>\n",
       "      <td>4599628364049201812</td>\n",
       "      <td>1565212345</td>\n",
       "      <td>247</td>\n",
       "    </tr>\n",
       "    <tr>\n",
       "      <th>244122</th>\n",
       "      <td>Main Screen Appear</td>\n",
       "      <td>5849806612437486590</td>\n",
       "      <td>1565212439</td>\n",
       "      <td>246</td>\n",
       "    </tr>\n",
       "    <tr>\n",
       "      <th>244123</th>\n",
       "      <td>Main Screen Appear</td>\n",
       "      <td>5746969938801999050</td>\n",
       "      <td>1565212483</td>\n",
       "      <td>246</td>\n",
       "    </tr>\n",
       "    <tr>\n",
       "      <th>244124</th>\n",
       "      <td>Main Screen Appear</td>\n",
       "      <td>5746969938801999050</td>\n",
       "      <td>1565212498</td>\n",
       "      <td>246</td>\n",
       "    </tr>\n",
       "    <tr>\n",
       "      <th>244125</th>\n",
       "      <td>Offers Screen Appear</td>\n",
       "      <td>5746969938801999050</td>\n",
       "      <td>1565212517</td>\n",
       "      <td>246</td>\n",
       "    </tr>\n",
       "  </tbody>\n",
       "</table>\n",
       "<p>244126 rows × 4 columns</p>\n",
       "</div>"
      ],
      "text/plain": [
       "                        eventname         deviceidhash  eventtimestamp  expid\n",
       "0              Main Screen Appear  4575588528974610257      1564029816    246\n",
       "1              Main Screen Appear  7416695313311560658      1564053102    246\n",
       "2       Payment Screen Successful  3518123091307005509      1564054127    248\n",
       "3              Cart Screen Appear  3518123091307005509      1564054127    248\n",
       "4       Payment Screen Successful  6217807653094995999      1564055322    248\n",
       "...                           ...                  ...             ...    ...\n",
       "244121         Main Screen Appear  4599628364049201812      1565212345    247\n",
       "244122         Main Screen Appear  5849806612437486590      1565212439    246\n",
       "244123         Main Screen Appear  5746969938801999050      1565212483    246\n",
       "244124         Main Screen Appear  5746969938801999050      1565212498    246\n",
       "244125       Offers Screen Appear  5746969938801999050      1565212517    246\n",
       "\n",
       "[244126 rows x 4 columns]"
      ]
     },
     "execution_count": 9,
     "metadata": {},
     "output_type": "execute_result"
    }
   ],
   "source": [
    "data_logs"
   ]
  },
  {
   "cell_type": "markdown",
   "metadata": {},
   "source": [
    "### Periksa nilai yang hilang dan tipe datanya <a id='empatdua'></a> "
   ]
  },
  {
   "cell_type": "markdown",
   "metadata": {},
   "source": [
    "Periksa nilai yang hilang dan tipe datanya. Perbaiki datanya jika diperlukan"
   ]
  },
  {
   "cell_type": "code",
   "execution_count": 10,
   "metadata": {},
   "outputs": [
    {
     "data": {
      "text/plain": [
       "eventname         0\n",
       "deviceidhash      0\n",
       "eventtimestamp    0\n",
       "expid             0\n",
       "dtype: int64"
      ]
     },
     "execution_count": 10,
     "metadata": {},
     "output_type": "execute_result"
    }
   ],
   "source": [
    "#cek nilai yang hilang\n",
    "data_logs.isnull().sum()"
   ]
  },
  {
   "cell_type": "markdown",
   "metadata": {},
   "source": [
    "### Tambahkan kolom tanggal dan waktu <a id='empattiga'></a> "
   ]
  },
  {
   "cell_type": "markdown",
   "metadata": {},
   "source": [
    "Tambahkan kolom tanggal dan waktu, serta satu kolom terpisah untuk tanggal"
   ]
  },
  {
   "cell_type": "code",
   "execution_count": 11,
   "metadata": {},
   "outputs": [],
   "source": [
    "from datetime import datetime\n",
    "\n",
    "# Mengonversi kolom eventtimestamp ke format datetime\n",
    "data_logs['eventtimestamp'] = pd.to_datetime(data_logs['eventtimestamp'], unit='s')\n",
    "\n",
    "# Menambahkan kolom terpisah untuk tanggal\n",
    "data_logs['date'] = data_logs['eventtimestamp'].dt.date\n",
    "\n",
    "# Menambahkan kolom terpisah untuk waktu\n",
    "data_logs['time'] = data_logs['eventtimestamp'].dt.time\n"
   ]
  },
  {
   "cell_type": "code",
   "execution_count": 12,
   "metadata": {},
   "outputs": [],
   "source": [
    "# Mengonversi kolom tanggal ke format datetime \n",
    "data_logs['date'] = pd.to_datetime(data_logs['date'])\n",
    "\n",
    "# Mengonversi kolom waktu ke format datetime  \n",
    "#data_logs['time'] = pd.to_datetime(data_logs['time'])"
   ]
  },
  {
   "cell_type": "code",
   "execution_count": 13,
   "metadata": {},
   "outputs": [
    {
     "data": {
      "text/html": [
       "<div>\n",
       "<style scoped>\n",
       "    .dataframe tbody tr th:only-of-type {\n",
       "        vertical-align: middle;\n",
       "    }\n",
       "\n",
       "    .dataframe tbody tr th {\n",
       "        vertical-align: top;\n",
       "    }\n",
       "\n",
       "    .dataframe thead th {\n",
       "        text-align: right;\n",
       "    }\n",
       "</style>\n",
       "<table border=\"1\" class=\"dataframe\">\n",
       "  <thead>\n",
       "    <tr style=\"text-align: right;\">\n",
       "      <th></th>\n",
       "      <th>eventname</th>\n",
       "      <th>deviceidhash</th>\n",
       "      <th>eventtimestamp</th>\n",
       "      <th>expid</th>\n",
       "      <th>date</th>\n",
       "      <th>time</th>\n",
       "    </tr>\n",
       "  </thead>\n",
       "  <tbody>\n",
       "    <tr>\n",
       "      <th>0</th>\n",
       "      <td>Main Screen Appear</td>\n",
       "      <td>4575588528974610257</td>\n",
       "      <td>2019-07-25 04:43:36</td>\n",
       "      <td>246</td>\n",
       "      <td>2019-07-25</td>\n",
       "      <td>04:43:36</td>\n",
       "    </tr>\n",
       "    <tr>\n",
       "      <th>1</th>\n",
       "      <td>Main Screen Appear</td>\n",
       "      <td>7416695313311560658</td>\n",
       "      <td>2019-07-25 11:11:42</td>\n",
       "      <td>246</td>\n",
       "      <td>2019-07-25</td>\n",
       "      <td>11:11:42</td>\n",
       "    </tr>\n",
       "    <tr>\n",
       "      <th>2</th>\n",
       "      <td>Payment Screen Successful</td>\n",
       "      <td>3518123091307005509</td>\n",
       "      <td>2019-07-25 11:28:47</td>\n",
       "      <td>248</td>\n",
       "      <td>2019-07-25</td>\n",
       "      <td>11:28:47</td>\n",
       "    </tr>\n",
       "    <tr>\n",
       "      <th>3</th>\n",
       "      <td>Cart Screen Appear</td>\n",
       "      <td>3518123091307005509</td>\n",
       "      <td>2019-07-25 11:28:47</td>\n",
       "      <td>248</td>\n",
       "      <td>2019-07-25</td>\n",
       "      <td>11:28:47</td>\n",
       "    </tr>\n",
       "    <tr>\n",
       "      <th>4</th>\n",
       "      <td>Payment Screen Successful</td>\n",
       "      <td>6217807653094995999</td>\n",
       "      <td>2019-07-25 11:48:42</td>\n",
       "      <td>248</td>\n",
       "      <td>2019-07-25</td>\n",
       "      <td>11:48:42</td>\n",
       "    </tr>\n",
       "    <tr>\n",
       "      <th>...</th>\n",
       "      <td>...</td>\n",
       "      <td>...</td>\n",
       "      <td>...</td>\n",
       "      <td>...</td>\n",
       "      <td>...</td>\n",
       "      <td>...</td>\n",
       "    </tr>\n",
       "    <tr>\n",
       "      <th>244121</th>\n",
       "      <td>Main Screen Appear</td>\n",
       "      <td>4599628364049201812</td>\n",
       "      <td>2019-08-07 21:12:25</td>\n",
       "      <td>247</td>\n",
       "      <td>2019-08-07</td>\n",
       "      <td>21:12:25</td>\n",
       "    </tr>\n",
       "    <tr>\n",
       "      <th>244122</th>\n",
       "      <td>Main Screen Appear</td>\n",
       "      <td>5849806612437486590</td>\n",
       "      <td>2019-08-07 21:13:59</td>\n",
       "      <td>246</td>\n",
       "      <td>2019-08-07</td>\n",
       "      <td>21:13:59</td>\n",
       "    </tr>\n",
       "    <tr>\n",
       "      <th>244123</th>\n",
       "      <td>Main Screen Appear</td>\n",
       "      <td>5746969938801999050</td>\n",
       "      <td>2019-08-07 21:14:43</td>\n",
       "      <td>246</td>\n",
       "      <td>2019-08-07</td>\n",
       "      <td>21:14:43</td>\n",
       "    </tr>\n",
       "    <tr>\n",
       "      <th>244124</th>\n",
       "      <td>Main Screen Appear</td>\n",
       "      <td>5746969938801999050</td>\n",
       "      <td>2019-08-07 21:14:58</td>\n",
       "      <td>246</td>\n",
       "      <td>2019-08-07</td>\n",
       "      <td>21:14:58</td>\n",
       "    </tr>\n",
       "    <tr>\n",
       "      <th>244125</th>\n",
       "      <td>Offers Screen Appear</td>\n",
       "      <td>5746969938801999050</td>\n",
       "      <td>2019-08-07 21:15:17</td>\n",
       "      <td>246</td>\n",
       "      <td>2019-08-07</td>\n",
       "      <td>21:15:17</td>\n",
       "    </tr>\n",
       "  </tbody>\n",
       "</table>\n",
       "<p>244126 rows × 6 columns</p>\n",
       "</div>"
      ],
      "text/plain": [
       "                        eventname         deviceidhash      eventtimestamp  \\\n",
       "0              Main Screen Appear  4575588528974610257 2019-07-25 04:43:36   \n",
       "1              Main Screen Appear  7416695313311560658 2019-07-25 11:11:42   \n",
       "2       Payment Screen Successful  3518123091307005509 2019-07-25 11:28:47   \n",
       "3              Cart Screen Appear  3518123091307005509 2019-07-25 11:28:47   \n",
       "4       Payment Screen Successful  6217807653094995999 2019-07-25 11:48:42   \n",
       "...                           ...                  ...                 ...   \n",
       "244121         Main Screen Appear  4599628364049201812 2019-08-07 21:12:25   \n",
       "244122         Main Screen Appear  5849806612437486590 2019-08-07 21:13:59   \n",
       "244123         Main Screen Appear  5746969938801999050 2019-08-07 21:14:43   \n",
       "244124         Main Screen Appear  5746969938801999050 2019-08-07 21:14:58   \n",
       "244125       Offers Screen Appear  5746969938801999050 2019-08-07 21:15:17   \n",
       "\n",
       "        expid       date      time  \n",
       "0         246 2019-07-25  04:43:36  \n",
       "1         246 2019-07-25  11:11:42  \n",
       "2         248 2019-07-25  11:28:47  \n",
       "3         248 2019-07-25  11:28:47  \n",
       "4         248 2019-07-25  11:48:42  \n",
       "...       ...        ...       ...  \n",
       "244121    247 2019-08-07  21:12:25  \n",
       "244122    246 2019-08-07  21:13:59  \n",
       "244123    246 2019-08-07  21:14:43  \n",
       "244124    246 2019-08-07  21:14:58  \n",
       "244125    246 2019-08-07  21:15:17  \n",
       "\n",
       "[244126 rows x 6 columns]"
      ]
     },
     "execution_count": 13,
     "metadata": {},
     "output_type": "execute_result"
    }
   ],
   "source": [
    "data_logs"
   ]
  },
  {
   "cell_type": "markdown",
   "metadata": {},
   "source": [
    "## Mempelajari dan memeriksa datanya <a id='lima'></a> "
   ]
  },
  {
   "cell_type": "markdown",
   "metadata": {},
   "source": [
    "### Berapa banyak peristiwa yang tercatat dalam log <a id='limasatu'></a> "
   ]
  },
  {
   "cell_type": "markdown",
   "metadata": {},
   "source": [
    "Berapa banyak peristiwa yang tercatat dalam log?"
   ]
  },
  {
   "cell_type": "code",
   "execution_count": 14,
   "metadata": {},
   "outputs": [
    {
     "name": "stdout",
     "output_type": "stream",
     "text": [
      "Jumlah peristiwa yang tercatat dalam log: 244126\n"
     ]
    }
   ],
   "source": [
    "jumlah_peristiwa = len(data_logs )\n",
    "print(\"Jumlah peristiwa yang tercatat dalam log:\", jumlah_peristiwa)\n"
   ]
  },
  {
   "cell_type": "code",
   "execution_count": 15,
   "metadata": {},
   "outputs": [
    {
     "name": "stdout",
     "output_type": "stream",
     "text": [
      "Jenis Peristiwa yang tercatat dalam log: 5\n"
     ]
    }
   ],
   "source": [
    "jumlah_peristiwa = len(data_logs['eventname'].unique())\n",
    "print(\"Jenis Peristiwa yang tercatat dalam log:\", jumlah_peristiwa)\n"
   ]
  },
  {
   "cell_type": "code",
   "execution_count": 16,
   "metadata": {},
   "outputs": [
    {
     "data": {
      "text/plain": [
       "Main Screen Appear           119205\n",
       "Offers Screen Appear          46825\n",
       "Cart Screen Appear            42731\n",
       "Payment Screen Successful     34313\n",
       "Tutorial                       1052\n",
       "Name: eventname, dtype: int64"
      ]
     },
     "execution_count": 16,
     "metadata": {},
     "output_type": "execute_result"
    }
   ],
   "source": [
    "data_logs['eventname'].value_counts()\n"
   ]
  },
  {
   "cell_type": "markdown",
   "metadata": {},
   "source": [
    "### Berapa banyak pengguna yang tercatat dalam log <a id='limadua'></a> "
   ]
  },
  {
   "cell_type": "markdown",
   "metadata": {},
   "source": [
    "Berapa banyak pengguna yang tercatat dalam log?"
   ]
  },
  {
   "cell_type": "code",
   "execution_count": 17,
   "metadata": {},
   "outputs": [
    {
     "name": "stdout",
     "output_type": "stream",
     "text": [
      "Jumlah pengguna yang tercatat dalam log: 7551\n"
     ]
    }
   ],
   "source": [
    "jumlah_pengguna = len(data_logs['deviceidhash'].unique())\n",
    "print(\"Jumlah pengguna yang tercatat dalam log:\", jumlah_pengguna)\n"
   ]
  },
  {
   "cell_type": "markdown",
   "metadata": {},
   "source": [
    "### Berapa jumlah rata-rata peristiwa per pengguna? <a id='limatiga'></a> "
   ]
  },
  {
   "cell_type": "markdown",
   "metadata": {},
   "source": [
    "Berapa jumlah rata-rata peristiwa per pengguna?"
   ]
  },
  {
   "cell_type": "code",
   "execution_count": 18,
   "metadata": {},
   "outputs": [
    {
     "name": "stdout",
     "output_type": "stream",
     "text": [
      "Jumlah rata-rata peristiwa per pengguna: 32.33028737915508\n"
     ]
    }
   ],
   "source": [
    "jumlah_peristiwa = len(data_logs)\n",
    "jumlah_pengguna = len(data_logs['deviceidhash'].unique())\n",
    "\n",
    "rata_rata_peristiwa_per_pengguna = jumlah_peristiwa / jumlah_pengguna\n",
    "print(\"Jumlah rata-rata peristiwa per pengguna:\", rata_rata_peristiwa_per_pengguna)\n"
   ]
  },
  {
   "cell_type": "markdown",
   "metadata": {},
   "source": [
    "### Periode waktu yang dicakup oleh data <a id='limaempat'></a> "
   ]
  },
  {
   "cell_type": "markdown",
   "metadata": {},
   "source": [
    "Periode waktu manakah yang dicakup oleh data? Temukan tanggal maksimum dan minimumnya. Buatlah sebuah histogram berdasarkan tanggal dan waktu. Bisakah Anda memastikan bahwa data yang Anda miliki sama lengkapnya untuk seluruh periode? Peristiwa terdahulu bisa saja muncul dalam log beberapa pengguna karena alasan teknis, dan ini bisa mengacaukan distribusi data secara keseluruhan. Temukan momen ketika data mulai dirasa lengkap dan abaikan data lama tersebut. Periode manakah yang benar-benar diwakili oleh data yang Anda miliki?"
   ]
  },
  {
   "cell_type": "markdown",
   "metadata": {},
   "source": [
    "Periode waktu manakah yang dicakup oleh data?"
   ]
  },
  {
   "cell_type": "code",
   "execution_count": 19,
   "metadata": {},
   "outputs": [
    {
     "name": "stdout",
     "output_type": "stream",
     "text": [
      "Periode waktu yang dicakup oleh data:\n",
      "Waktu awal: 2019-07-25 04:43:36\n",
      "Waktu akhir: 2019-08-07 21:15:17\n"
     ]
    }
   ],
   "source": [
    "# Periode waktu manakah yang dicakup oleh data?\n",
    "\n",
    "waktu_awal = data_logs['eventtimestamp'].min()\n",
    "waktu_akhir = data_logs['eventtimestamp'].max()\n",
    "\n",
    "print(\"Periode waktu yang dicakup oleh data:\")\n",
    "print(\"Waktu awal:\", waktu_awal)\n",
    "print(\"Waktu akhir:\", waktu_akhir)\n"
   ]
  },
  {
   "cell_type": "code",
   "execution_count": 20,
   "metadata": {},
   "outputs": [
    {
     "name": "stdout",
     "output_type": "stream",
     "text": [
      "2019-07-25        9\n",
      "2019-07-26       31\n",
      "2019-07-27       55\n",
      "2019-07-28      105\n",
      "2019-07-29      184\n",
      "2019-07-30      413\n",
      "2019-07-31     2031\n",
      "2019-08-01    36229\n",
      "2019-08-02    35606\n",
      "2019-08-03    33351\n",
      "2019-08-04    33033\n",
      "2019-08-05    36113\n",
      "2019-08-06    35822\n",
      "2019-08-07    31144\n",
      "Name: date, dtype: int64\n"
     ]
    }
   ],
   "source": [
    "import pandas as pd\n",
    "\n",
    "# Menghitung jumlah peristiwa berdasarkan tanggal dan waktu\n",
    "peristiwa_per_tanggal = data_logs['date'].value_counts().sort_index()\n",
    "\n",
    "# Menampilkan jumlah peristiwa per tanggal\n",
    "print(peristiwa_per_tanggal)\n"
   ]
  },
  {
   "cell_type": "markdown",
   "metadata": {},
   "source": [
    "Buatlah sebuah histogram berdasarkan tanggal dan waktu."
   ]
  },
  {
   "cell_type": "code",
   "execution_count": 21,
   "metadata": {},
   "outputs": [
    {
     "data": {
      "image/png": "[encoded data removed]",
      "text/plain": [
       "<Figure size 720x432 with 1 Axes>"
      ]
     },
     "metadata": {
      "needs_background": "light"
     },
     "output_type": "display_data"
    }
   ],
   "source": [
    "import matplotlib.pyplot as plt\n",
    "\n",
    "# Menghitung jumlah peristiwa berdasarkan tanggal dan waktu\n",
    "peristiwa_per_tanggal = data_logs['date'].value_counts().sort_index()\n",
    "\n",
    "# Membuat histogram\n",
    "plt.figure(figsize=(10, 6))  # Mengatur ukuran figure\n",
    "plt.style.use('seaborn')\n",
    "plt.bar(peristiwa_per_tanggal.index, peristiwa_per_tanggal.values)\n",
    "\n",
    "# Menambahkan angka di atas setiap bar\n",
    "for i, v in enumerate(peristiwa_per_tanggal.values):\n",
    "    plt.text(peristiwa_per_tanggal.index[i], v, str(v), ha='center', va='bottom')\n",
    "\n",
    "\n",
    "# Mengatur tampilan histogram\n",
    "plt.title('Jumlah Peristiwa per Tanggal')\n",
    "plt.xlabel('Tanggal')\n",
    "plt.ylabel('Jumlah Peristiwa')\n",
    "plt.xticks(rotation=45)\n",
    "\n",
    "# Menampilkan histogram\n",
    "plt.show()\n"
   ]
  },
  {
   "cell_type": "markdown",
   "metadata": {},
   "source": [
    "Temukan tanggal maksimum dan minimumnya. "
   ]
  },
  {
   "cell_type": "code",
   "execution_count": 22,
   "metadata": {},
   "outputs": [
    {
     "name": "stdout",
     "output_type": "stream",
     "text": [
      "Tanggal minimum: 2019-08-01\n",
      "Tanggal maksimum: 2019-08-07 00:00:00\n"
     ]
    }
   ],
   "source": [
    "# Temukan tanggal maksimum dan minimum\n",
    "tanggal_minimum = '2019-08-01' # Tanggal minimum\n",
    "tanggal_maksimum = data_logs['date'].max() # Tanggal maksimum\n",
    "\n",
    "print(\"Tanggal minimum:\", tanggal_minimum)\n",
    "print(\"Tanggal maksimum:\", tanggal_maksimum)\n"
   ]
  },
  {
   "cell_type": "code",
   "execution_count": 23,
   "metadata": {},
   "outputs": [
    {
     "name": "stdout",
     "output_type": "stream",
     "text": [
      "<class 'pandas.core.frame.DataFrame'>\n",
      "RangeIndex: 244126 entries, 0 to 244125\n",
      "Data columns (total 6 columns):\n",
      " #   Column          Non-Null Count   Dtype         \n",
      "---  ------          --------------   -----         \n",
      " 0   eventname       244126 non-null  object        \n",
      " 1   deviceidhash    244126 non-null  int64         \n",
      " 2   eventtimestamp  244126 non-null  datetime64[ns]\n",
      " 3   expid           244126 non-null  int64         \n",
      " 4   date            244126 non-null  datetime64[ns]\n",
      " 5   time            244126 non-null  object        \n",
      "dtypes: datetime64[ns](2), int64(2), object(2)\n",
      "memory usage: 11.2+ MB\n"
     ]
    }
   ],
   "source": [
    "data_logs.info()"
   ]
  },
  {
   "cell_type": "markdown",
   "metadata": {},
   "source": [
    "Peristiwa terdahulu bisa saja muncul dalam log beberapa pengguna karena alasan teknis, dan ini bisa mengacaukan distribusi data secara keseluruhan. Temukan momen ketika data mulai dirasa lengkap dan abaikan data lama tersebut. Periode manakah yang benar-benar diwakili oleh data yang Anda miliki?"
   ]
  },
  {
   "cell_type": "code",
   "execution_count": 24,
   "metadata": {},
   "outputs": [
    {
     "data": {
      "text/html": [
       "<div>\n",
       "<style scoped>\n",
       "    .dataframe tbody tr th:only-of-type {\n",
       "        vertical-align: middle;\n",
       "    }\n",
       "\n",
       "    .dataframe tbody tr th {\n",
       "        vertical-align: top;\n",
       "    }\n",
       "\n",
       "    .dataframe thead th {\n",
       "        text-align: right;\n",
       "    }\n",
       "</style>\n",
       "<table border=\"1\" class=\"dataframe\">\n",
       "  <thead>\n",
       "    <tr style=\"text-align: right;\">\n",
       "      <th></th>\n",
       "      <th>eventname</th>\n",
       "      <th>deviceidhash</th>\n",
       "      <th>eventtimestamp</th>\n",
       "      <th>expid</th>\n",
       "      <th>date</th>\n",
       "      <th>time</th>\n",
       "    </tr>\n",
       "  </thead>\n",
       "  <tbody>\n",
       "    <tr>\n",
       "      <th>2828</th>\n",
       "      <td>Tutorial</td>\n",
       "      <td>3737462046622621720</td>\n",
       "      <td>2019-08-01 00:07:28</td>\n",
       "      <td>246</td>\n",
       "      <td>2019-08-01</td>\n",
       "      <td>00:07:28</td>\n",
       "    </tr>\n",
       "    <tr>\n",
       "      <th>2829</th>\n",
       "      <td>Main Screen Appear</td>\n",
       "      <td>3737462046622621720</td>\n",
       "      <td>2019-08-01 00:08:00</td>\n",
       "      <td>246</td>\n",
       "      <td>2019-08-01</td>\n",
       "      <td>00:08:00</td>\n",
       "    </tr>\n",
       "    <tr>\n",
       "      <th>2830</th>\n",
       "      <td>Main Screen Appear</td>\n",
       "      <td>3737462046622621720</td>\n",
       "      <td>2019-08-01 00:08:55</td>\n",
       "      <td>246</td>\n",
       "      <td>2019-08-01</td>\n",
       "      <td>00:08:55</td>\n",
       "    </tr>\n",
       "    <tr>\n",
       "      <th>2831</th>\n",
       "      <td>Offers Screen Appear</td>\n",
       "      <td>3737462046622621720</td>\n",
       "      <td>2019-08-01 00:08:58</td>\n",
       "      <td>246</td>\n",
       "      <td>2019-08-01</td>\n",
       "      <td>00:08:58</td>\n",
       "    </tr>\n",
       "    <tr>\n",
       "      <th>2832</th>\n",
       "      <td>Main Screen Appear</td>\n",
       "      <td>1433840883824088890</td>\n",
       "      <td>2019-08-01 00:08:59</td>\n",
       "      <td>247</td>\n",
       "      <td>2019-08-01</td>\n",
       "      <td>00:08:59</td>\n",
       "    </tr>\n",
       "    <tr>\n",
       "      <th>...</th>\n",
       "      <td>...</td>\n",
       "      <td>...</td>\n",
       "      <td>...</td>\n",
       "      <td>...</td>\n",
       "      <td>...</td>\n",
       "      <td>...</td>\n",
       "    </tr>\n",
       "    <tr>\n",
       "      <th>244121</th>\n",
       "      <td>Main Screen Appear</td>\n",
       "      <td>4599628364049201812</td>\n",
       "      <td>2019-08-07 21:12:25</td>\n",
       "      <td>247</td>\n",
       "      <td>2019-08-07</td>\n",
       "      <td>21:12:25</td>\n",
       "    </tr>\n",
       "    <tr>\n",
       "      <th>244122</th>\n",
       "      <td>Main Screen Appear</td>\n",
       "      <td>5849806612437486590</td>\n",
       "      <td>2019-08-07 21:13:59</td>\n",
       "      <td>246</td>\n",
       "      <td>2019-08-07</td>\n",
       "      <td>21:13:59</td>\n",
       "    </tr>\n",
       "    <tr>\n",
       "      <th>244123</th>\n",
       "      <td>Main Screen Appear</td>\n",
       "      <td>5746969938801999050</td>\n",
       "      <td>2019-08-07 21:14:43</td>\n",
       "      <td>246</td>\n",
       "      <td>2019-08-07</td>\n",
       "      <td>21:14:43</td>\n",
       "    </tr>\n",
       "    <tr>\n",
       "      <th>244124</th>\n",
       "      <td>Main Screen Appear</td>\n",
       "      <td>5746969938801999050</td>\n",
       "      <td>2019-08-07 21:14:58</td>\n",
       "      <td>246</td>\n",
       "      <td>2019-08-07</td>\n",
       "      <td>21:14:58</td>\n",
       "    </tr>\n",
       "    <tr>\n",
       "      <th>244125</th>\n",
       "      <td>Offers Screen Appear</td>\n",
       "      <td>5746969938801999050</td>\n",
       "      <td>2019-08-07 21:15:17</td>\n",
       "      <td>246</td>\n",
       "      <td>2019-08-07</td>\n",
       "      <td>21:15:17</td>\n",
       "    </tr>\n",
       "  </tbody>\n",
       "</table>\n",
       "<p>241298 rows × 6 columns</p>\n",
       "</div>"
      ],
      "text/plain": [
       "                   eventname         deviceidhash      eventtimestamp  expid  \\\n",
       "2828                Tutorial  3737462046622621720 2019-08-01 00:07:28    246   \n",
       "2829      Main Screen Appear  3737462046622621720 2019-08-01 00:08:00    246   \n",
       "2830      Main Screen Appear  3737462046622621720 2019-08-01 00:08:55    246   \n",
       "2831    Offers Screen Appear  3737462046622621720 2019-08-01 00:08:58    246   \n",
       "2832      Main Screen Appear  1433840883824088890 2019-08-01 00:08:59    247   \n",
       "...                      ...                  ...                 ...    ...   \n",
       "244121    Main Screen Appear  4599628364049201812 2019-08-07 21:12:25    247   \n",
       "244122    Main Screen Appear  5849806612437486590 2019-08-07 21:13:59    246   \n",
       "244123    Main Screen Appear  5746969938801999050 2019-08-07 21:14:43    246   \n",
       "244124    Main Screen Appear  5746969938801999050 2019-08-07 21:14:58    246   \n",
       "244125  Offers Screen Appear  5746969938801999050 2019-08-07 21:15:17    246   \n",
       "\n",
       "             date      time  \n",
       "2828   2019-08-01  00:07:28  \n",
       "2829   2019-08-01  00:08:00  \n",
       "2830   2019-08-01  00:08:55  \n",
       "2831   2019-08-01  00:08:58  \n",
       "2832   2019-08-01  00:08:59  \n",
       "...           ...       ...  \n",
       "244121 2019-08-07  21:12:25  \n",
       "244122 2019-08-07  21:13:59  \n",
       "244123 2019-08-07  21:14:43  \n",
       "244124 2019-08-07  21:14:58  \n",
       "244125 2019-08-07  21:15:17  \n",
       "\n",
       "[241298 rows x 6 columns]"
      ]
     },
     "execution_count": 24,
     "metadata": {},
     "output_type": "execute_result"
    }
   ],
   "source": [
    "tanggal_minimum = '2019-08-01' # Tanggal minimum\n",
    "tanggal_maksimum = data_logs['date'].max() # Tanggal maksimum\n",
    "\n",
    "filtered_data = data_logs[(data_logs['date'] >= tanggal_minimum) & (data_logs['date'] <= tanggal_maksimum)]\n",
    "\n",
    "filtered_data\n"
   ]
  },
  {
   "cell_type": "code",
   "execution_count": 25,
   "metadata": {},
   "outputs": [
    {
     "data": {
      "image/png": "[encoded data removed]",
      "text/plain": [
       "<Figure size 720x432 with 1 Axes>"
      ]
     },
     "metadata": {},
     "output_type": "display_data"
    }
   ],
   "source": [
    "import matplotlib.pyplot as plt\n",
    "\n",
    "# Count the number of events per date\n",
    "event_count = filtered_data.groupby('date')['eventname'].count()\n",
    "\n",
    "# Plot the line histogram\n",
    "plt.figure(figsize=(10, 6))\n",
    "plt.style.use('seaborn')\n",
    "plt.plot(event_count.index, event_count.values, marker='o', linestyle='-')\n",
    "\n",
    "# Add labels to each point\n",
    "for x, y in zip(event_count.index, event_count.values):\n",
    "    plt.text(x, y, str(y), ha='center', va='bottom')\n",
    "\n",
    "\n",
    "# Customize plot\n",
    "plt.title('Histogram Garis Jumlah Peristiwa per Tanggal')\n",
    "plt.xlabel('Tanggal')\n",
    "plt.ylabel('Jumlah Peristiwa')\n",
    "\n",
    "# Rotate x-axis labels for better readability\n",
    "plt.xticks(rotation=45)\n",
    "\n",
    "# Show plot\n",
    "plt.show()\n"
   ]
  },
  {
   "cell_type": "code",
   "execution_count": 26,
   "metadata": {},
   "outputs": [
    {
     "data": {
      "image/png": "[encoded data removed]",
      "text/plain": [
       "<Figure size 720x432 with 1 Axes>"
      ]
     },
     "metadata": {},
     "output_type": "display_data"
    }
   ],
   "source": [
    "import matplotlib.pyplot as plt\n",
    "\n",
    "# Plot histogram\n",
    "plt.figure(figsize=(10, 6))\n",
    "plt.style.use('seaborn')\n",
    "plt.hist(filtered_data['date'], bins=7, edgecolor='black')\n",
    "\n",
    "# Add labels to each bar\n",
    "for i, count in enumerate(event_count):\n",
    "    plt.text(event_count.index[i], count, str(count), ha='center', va='bottom')\n",
    "\n",
    "# Customize plot\n",
    "plt.title('Histogram Jumlah Peristiwa per Tanggal')\n",
    "plt.xlabel('Tanggal')\n",
    "plt.ylabel('Jumlah Peristiwa')\n",
    "\n",
    "# Rotate x-axis labels for better readability\n",
    "plt.xticks(rotation=45)\n",
    "\n",
    "# Show plot\n",
    "plt.show()\n"
   ]
  },
  {
   "cell_type": "markdown",
   "metadata": {},
   "source": [
    "### Jumlah Kehilangan Peristiwa dan Pengguna  <a id='limalima'></a> "
   ]
  },
  {
   "cell_type": "markdown",
   "metadata": {},
   "source": [
    "Apakah Anda kehilangan banyak peristiwa dan pengguna saat menyingkirkan data lama?"
   ]
  },
  {
   "cell_type": "code",
   "execution_count": 27,
   "metadata": {},
   "outputs": [
    {
     "data": {
      "text/html": [
       "<div>\n",
       "<style scoped>\n",
       "    .dataframe tbody tr th:only-of-type {\n",
       "        vertical-align: middle;\n",
       "    }\n",
       "\n",
       "    .dataframe tbody tr th {\n",
       "        vertical-align: top;\n",
       "    }\n",
       "\n",
       "    .dataframe thead th {\n",
       "        text-align: right;\n",
       "    }\n",
       "</style>\n",
       "<table border=\"1\" class=\"dataframe\">\n",
       "  <thead>\n",
       "    <tr style=\"text-align: right;\">\n",
       "      <th></th>\n",
       "      <th>eventname</th>\n",
       "      <th>deviceidhash</th>\n",
       "      <th>eventtimestamp</th>\n",
       "      <th>expid</th>\n",
       "      <th>date</th>\n",
       "      <th>time</th>\n",
       "    </tr>\n",
       "  </thead>\n",
       "  <tbody>\n",
       "    <tr>\n",
       "      <th>0</th>\n",
       "      <td>Main Screen Appear</td>\n",
       "      <td>4575588528974610257</td>\n",
       "      <td>2019-07-25 04:43:36</td>\n",
       "      <td>246</td>\n",
       "      <td>2019-07-25</td>\n",
       "      <td>04:43:36</td>\n",
       "    </tr>\n",
       "    <tr>\n",
       "      <th>1</th>\n",
       "      <td>Main Screen Appear</td>\n",
       "      <td>7416695313311560658</td>\n",
       "      <td>2019-07-25 11:11:42</td>\n",
       "      <td>246</td>\n",
       "      <td>2019-07-25</td>\n",
       "      <td>11:11:42</td>\n",
       "    </tr>\n",
       "    <tr>\n",
       "      <th>2</th>\n",
       "      <td>Payment Screen Successful</td>\n",
       "      <td>3518123091307005509</td>\n",
       "      <td>2019-07-25 11:28:47</td>\n",
       "      <td>248</td>\n",
       "      <td>2019-07-25</td>\n",
       "      <td>11:28:47</td>\n",
       "    </tr>\n",
       "    <tr>\n",
       "      <th>3</th>\n",
       "      <td>Cart Screen Appear</td>\n",
       "      <td>3518123091307005509</td>\n",
       "      <td>2019-07-25 11:28:47</td>\n",
       "      <td>248</td>\n",
       "      <td>2019-07-25</td>\n",
       "      <td>11:28:47</td>\n",
       "    </tr>\n",
       "    <tr>\n",
       "      <th>4</th>\n",
       "      <td>Payment Screen Successful</td>\n",
       "      <td>6217807653094995999</td>\n",
       "      <td>2019-07-25 11:48:42</td>\n",
       "      <td>248</td>\n",
       "      <td>2019-07-25</td>\n",
       "      <td>11:48:42</td>\n",
       "    </tr>\n",
       "    <tr>\n",
       "      <th>...</th>\n",
       "      <td>...</td>\n",
       "      <td>...</td>\n",
       "      <td>...</td>\n",
       "      <td>...</td>\n",
       "      <td>...</td>\n",
       "      <td>...</td>\n",
       "    </tr>\n",
       "    <tr>\n",
       "      <th>2823</th>\n",
       "      <td>Offers Screen Appear</td>\n",
       "      <td>2413191300976302222</td>\n",
       "      <td>2019-07-31 23:54:55</td>\n",
       "      <td>247</td>\n",
       "      <td>2019-07-31</td>\n",
       "      <td>23:54:55</td>\n",
       "    </tr>\n",
       "    <tr>\n",
       "      <th>2824</th>\n",
       "      <td>Main Screen Appear</td>\n",
       "      <td>5505110279185484837</td>\n",
       "      <td>2019-07-31 23:57:30</td>\n",
       "      <td>247</td>\n",
       "      <td>2019-07-31</td>\n",
       "      <td>23:57:30</td>\n",
       "    </tr>\n",
       "    <tr>\n",
       "      <th>2825</th>\n",
       "      <td>Main Screen Appear</td>\n",
       "      <td>5505110279185484837</td>\n",
       "      <td>2019-07-31 23:57:42</td>\n",
       "      <td>247</td>\n",
       "      <td>2019-07-31</td>\n",
       "      <td>23:57:42</td>\n",
       "    </tr>\n",
       "    <tr>\n",
       "      <th>2826</th>\n",
       "      <td>Main Screen Appear</td>\n",
       "      <td>5505110279185484837</td>\n",
       "      <td>2019-07-31 23:57:52</td>\n",
       "      <td>247</td>\n",
       "      <td>2019-07-31</td>\n",
       "      <td>23:57:52</td>\n",
       "    </tr>\n",
       "    <tr>\n",
       "      <th>2827</th>\n",
       "      <td>Main Screen Appear</td>\n",
       "      <td>2413191300976302222</td>\n",
       "      <td>2019-07-31 23:59:59</td>\n",
       "      <td>247</td>\n",
       "      <td>2019-07-31</td>\n",
       "      <td>23:59:59</td>\n",
       "    </tr>\n",
       "  </tbody>\n",
       "</table>\n",
       "<p>2828 rows × 6 columns</p>\n",
       "</div>"
      ],
      "text/plain": [
       "                      eventname         deviceidhash      eventtimestamp  \\\n",
       "0            Main Screen Appear  4575588528974610257 2019-07-25 04:43:36   \n",
       "1            Main Screen Appear  7416695313311560658 2019-07-25 11:11:42   \n",
       "2     Payment Screen Successful  3518123091307005509 2019-07-25 11:28:47   \n",
       "3            Cart Screen Appear  3518123091307005509 2019-07-25 11:28:47   \n",
       "4     Payment Screen Successful  6217807653094995999 2019-07-25 11:48:42   \n",
       "...                         ...                  ...                 ...   \n",
       "2823       Offers Screen Appear  2413191300976302222 2019-07-31 23:54:55   \n",
       "2824         Main Screen Appear  5505110279185484837 2019-07-31 23:57:30   \n",
       "2825         Main Screen Appear  5505110279185484837 2019-07-31 23:57:42   \n",
       "2826         Main Screen Appear  5505110279185484837 2019-07-31 23:57:52   \n",
       "2827         Main Screen Appear  2413191300976302222 2019-07-31 23:59:59   \n",
       "\n",
       "      expid       date      time  \n",
       "0       246 2019-07-25  04:43:36  \n",
       "1       246 2019-07-25  11:11:42  \n",
       "2       248 2019-07-25  11:28:47  \n",
       "3       248 2019-07-25  11:28:47  \n",
       "4       248 2019-07-25  11:48:42  \n",
       "...     ...        ...       ...  \n",
       "2823    247 2019-07-31  23:54:55  \n",
       "2824    247 2019-07-31  23:57:30  \n",
       "2825    247 2019-07-31  23:57:42  \n",
       "2826    247 2019-07-31  23:57:52  \n",
       "2827    247 2019-07-31  23:59:59  \n",
       "\n",
       "[2828 rows x 6 columns]"
      ]
     },
     "execution_count": 27,
     "metadata": {},
     "output_type": "execute_result"
    }
   ],
   "source": [
    "#tampilkan data diluar filtered _data\n",
    "outside_data = data_logs[~data_logs['date'].between(tanggal_minimum, tanggal_maksimum)]\n",
    "\n",
    "outside_data\n"
   ]
  },
  {
   "cell_type": "code",
   "execution_count": 28,
   "metadata": {},
   "outputs": [
    {
     "name": "stdout",
     "output_type": "stream",
     "text": [
      "Jumlah peristiwa di outside_data: 2828\n"
     ]
    }
   ],
   "source": [
    "#banyak kehilangan peristiwa saat menyingkirkan data lama\n",
    "jumlah_peristiwa = outside_data['eventname'].count()\n",
    "\n",
    "print(\"Jumlah peristiwa di outside_data:\", jumlah_peristiwa)\n"
   ]
  },
  {
   "cell_type": "code",
   "execution_count": 29,
   "metadata": {},
   "outputs": [
    {
     "name": "stdout",
     "output_type": "stream",
     "text": [
      "Jumlah pengguna di outside_data: 1451\n"
     ]
    }
   ],
   "source": [
    "#banyak kehilangan pengguna saat menyingkirkan data lama\n",
    "jumlah_pengguna = outside_data['deviceidhash'].nunique()\n",
    "\n",
    "print(\"Jumlah pengguna di outside_data:\", jumlah_pengguna)\n"
   ]
  },
  {
   "cell_type": "markdown",
   "metadata": {},
   "source": [
    "### Pastikan Anda Memiliki Pengguna Dari Ketiga Kelompok Eksperimen <a id='limaenam'></a> "
   ]
  },
  {
   "cell_type": "markdown",
   "metadata": {},
   "source": [
    "Pastikan Anda memiliki pengguna dari ketiga kelompok eksperimen"
   ]
  },
  {
   "cell_type": "code",
   "execution_count": 30,
   "metadata": {},
   "outputs": [
    {
     "name": "stdout",
     "output_type": "stream",
     "text": [
      "Kelompok Eksperimen yang Tersedia: [246 247 248]\n"
     ]
    }
   ],
   "source": [
    "expid_values = filtered_data['expid'].unique()\n",
    "\n",
    "print(\"Kelompok Eksperimen yang Tersedia:\", expid_values)\n"
   ]
  },
  {
   "cell_type": "code",
   "execution_count": 31,
   "metadata": {},
   "outputs": [
    {
     "name": "stdout",
     "output_type": "stream",
     "text": [
      "Peristiwa Urut Berdasarkan Frekuensi:\n",
      "Main Screen Appear           117431\n",
      "Offers Screen Appear          46350\n",
      "Cart Screen Appear            42365\n",
      "Payment Screen Successful     34113\n",
      "Tutorial                       1039\n",
      "Name: eventname, dtype: int64\n"
     ]
    }
   ],
   "source": [
    "frekuensi_peristiwa = filtered_data['eventname'].value_counts()\n",
    "peristiwa_urut = frekuensi_peristiwa.sort_values(ascending=False)\n",
    "\n",
    "print(\"Peristiwa Urut Berdasarkan Frekuensi:\")\n",
    "print(peristiwa_urut)"
   ]
  },
  {
   "cell_type": "markdown",
   "metadata": {},
   "source": [
    "## Pelajari corong peristiwanya <a id='enam'></a> "
   ]
  },
  {
   "cell_type": "markdown",
   "metadata": {},
   "source": [
    "Lihat peristiwa apa saja yang ada dalam log dan berapa banyak frekuensi kemunculannya. Urutkan peristiwa tersebut berdasarkan frekuensi.\n",
    "\n",
    "\n",
    "Temukan jumlah pengguna yang melakukan setiap tindakan. Urutkan peristiwa berdasarkan jumlah pengguna. Hitung proporsi pengguna yang melakukan tindakan setidaknya satu kali.\n",
    "\n",
    "\n",
    "Menurut Anda, dalam urutan apa tindakan-tindakan tersebut terjadi? Apakah semuanya merupakan bagian dari satu urutan? Anda tidak perlu memperhitungkan semuanya saat menghitung corong.\n",
    "\n",
    "\n",
    "Gunakan corong peristiwa untuk menemukan persentase pengguna yang terus berlanjut dari satu tahap ke tahap berikutnya. (Misalnya, untuk urutan peristiwa A → B → C, hitung rasio pengguna pada tahap B terhadap jumlah pengguna pada tahap A, serta rasio pengguna pada tahap C terhadap jumlah pengguna pada tahap B).\n",
    "\n",
    "Pada tahap manakah Anda kehilangan banyak pengguna?\n",
    "\n",
    "\n",
    "Berapa banyak persentase pengguna yang berhasil menyelesaikan seluruh tahapan yang ada, dari peristiwa pertama hingga pembayaran?"
   ]
  },
  {
   "cell_type": "markdown",
   "metadata": {},
   "source": [
    "### Peristiwa apa saja yang ada dalam log <a id='enamsatu'></a> "
   ]
  },
  {
   "cell_type": "markdown",
   "metadata": {},
   "source": [
    "Lihat peristiwa apa saja yang ada dalam log dan berapa banyak frekuensi kemunculannya. Urutkan peristiwa tersebut berdasarkan frekuensi."
   ]
  },
  {
   "cell_type": "code",
   "execution_count": 32,
   "metadata": {},
   "outputs": [
    {
     "name": "stdout",
     "output_type": "stream",
     "text": [
      "Peristiwa yang Ada dalam Log:\n",
      "Tutorial\n",
      "Main Screen Appear\n",
      "Offers Screen Appear\n",
      "Cart Screen Appear\n",
      "Payment Screen Successful\n"
     ]
    }
   ],
   "source": [
    "#Lihat peristiwa apa saja yang ada dalam log\n",
    "peristiwa_unik = filtered_data['eventname'].unique()\n",
    "\n",
    "print(\"Peristiwa yang Ada dalam Log:\")\n",
    "for peristiwa in peristiwa_unik:\n",
    "    print(peristiwa)\n"
   ]
  },
  {
   "cell_type": "code",
   "execution_count": 33,
   "metadata": {},
   "outputs": [
    {
     "name": "stdout",
     "output_type": "stream",
     "text": [
      "Peristiwa Urut Berdasarkan Frekuensi:\n",
      "Main Screen Appear           117431\n",
      "Offers Screen Appear          46350\n",
      "Cart Screen Appear            42365\n",
      "Payment Screen Successful     34113\n",
      "Tutorial                       1039\n",
      "Name: eventname, dtype: int64\n"
     ]
    }
   ],
   "source": [
    "# berapa banyak frekuensi kemunculannya. Urutkan peristiwa tersebut berdasarkan frekuensi.\n",
    "\n",
    "frekuensi_peristiwa = filtered_data['eventname'].value_counts()\n",
    "peristiwa_urut = frekuensi_peristiwa.sort_values(ascending=False)\n",
    "\n",
    "print(\"Peristiwa Urut Berdasarkan Frekuensi:\")\n",
    "print(peristiwa_urut)\n"
   ]
  },
  {
   "cell_type": "markdown",
   "metadata": {},
   "source": [
    "### Jumlah Pengguna yang melakukan setiap tindakan <a id='enamdua'></a> "
   ]
  },
  {
   "cell_type": "markdown",
   "metadata": {},
   "source": [
    "Temukan jumlah pengguna yang melakukan setiap tindakan. Urutkan peristiwa berdasarkan jumlah pengguna. Hitung proporsi pengguna yang melakukan tindakan setidaknya satu kali."
   ]
  },
  {
   "cell_type": "code",
   "execution_count": 34,
   "metadata": {},
   "outputs": [
    {
     "name": "stdout",
     "output_type": "stream",
     "text": [
      "Jumlah Pengguna per Tindakan:\n",
      "eventname\n",
      "Cart Screen Appear           3734\n",
      "Main Screen Appear           7419\n",
      "Offers Screen Appear         4593\n",
      "Payment Screen Successful    3539\n",
      "Tutorial                      840\n",
      "Name: deviceidhash, dtype: int64\n"
     ]
    }
   ],
   "source": [
    "# Temukan jumlah pengguna yang melakukan setiap tindakan.\n",
    "jumlah_pengguna_per_tindakan = filtered_data.groupby('eventname')['deviceidhash'].nunique()\n",
    "\n",
    "print(\"Jumlah Pengguna per Tindakan:\")\n",
    "print(jumlah_pengguna_per_tindakan)\n"
   ]
  },
  {
   "cell_type": "code",
   "execution_count": 35,
   "metadata": {},
   "outputs": [
    {
     "name": "stdout",
     "output_type": "stream",
     "text": [
      "Peristiwa Urut Berdasarkan Jumlah Pengguna:\n",
      "Main Screen Appear           117431\n",
      "Offers Screen Appear          46350\n",
      "Cart Screen Appear            42365\n",
      "Payment Screen Successful     34113\n",
      "Tutorial                       1039\n",
      "Name: eventname, dtype: int64\n"
     ]
    }
   ],
   "source": [
    "peristiwa_urut = filtered_data['eventname'].value_counts().sort_values(ascending=False)\n",
    "\n",
    "print(\"Peristiwa Urut Berdasarkan Jumlah Pengguna:\")\n",
    "print(peristiwa_urut)\n"
   ]
  },
  {
   "cell_type": "markdown",
   "metadata": {},
   "source": [
    "### Urutan Peristiwa-peristiwa yang terjadi sampai pada proses pembelian <a id='enaamtiga'></a> "
   ]
  },
  {
   "cell_type": "markdown",
   "metadata": {},
   "source": [
    "Menurut Anda, dalam urutan apa tindakan-tindakan tersebut terjadi? Apakah semuanya merupakan bagian dari satu urutan? Anda tidak perlu memperhitungkan semuanya saat menghitung corong."
   ]
  },
  {
   "cell_type": "markdown",
   "metadata": {},
   "source": [
    "Berikut urutan tindakan -tindakan yang terjadi untuk aplikasi startup yang menjual produk makanan adalah:\n",
    "\n",
    "1. Main  Screen  Appear → 2. Offers  Screen  Appear → 3. Cart  Screen  Appear → 4. Payment  Screen  Successful     \n",
    "\n",
    "-----------------------------------------------------------\n",
    "\n",
    "1. Main Screen Appear: Pengguna membuka aplikasi dan melihat tampilan utama aplikasi.\n",
    "\n",
    "2. Offers Screen Appear: Pengguna melihat tawaran atau promo produk makanan yang tersedia.\n",
    "\n",
    "3. Cart Screen Appear: Pengguna menambahkan produk makanan ke dalam keranjang belanja.\n",
    "\n",
    "4. Payment Screen Successful: Pengguna menyelesaikan pembayaran untuk produk makanan yang telah dipilih.\n",
    "\n"
   ]
  },
  {
   "cell_type": "markdown",
   "metadata": {},
   "source": [
    "#Urutan peristiwa yang tidak mewakili corong peristiwa yang tepat untuk aplikasi startup yang menjual produk makanan adalah:\n",
    "\n",
    "Tutorial: Tutorial tidak merupakan langkah dalam corong peristiwa yang berhubungan langsung dengan proses pembelian atau interaksi dengan produk makanan. "
   ]
  },
  {
   "cell_type": "markdown",
   "metadata": {},
   "source": [
    "###  Corong Peristiwa Untuk Menemukan Ppersentase pengguna <a id='enamempat'></a> "
   ]
  },
  {
   "cell_type": "markdown",
   "metadata": {},
   "source": [
    "Gunakan corong peristiwa untuk menemukan persentase pengguna yang terus berlanjut dari satu tahap ke tahap berikutnya. (Misalnya, untuk urutan peristiwa A → B → C, hitung rasio pengguna pada tahap B terhadap jumlah pengguna pada tahap A, serta rasio pengguna pada tahap C terhadap jumlah pengguna pada tahap B)."
   ]
  },
  {
   "cell_type": "code",
   "execution_count": 36,
   "metadata": {},
   "outputs": [
    {
     "name": "stdout",
     "output_type": "stream",
     "text": [
      "Jumlah unik id_pengguna di corong peristiwa 'Main Screen Appear': 7419\n",
      "Jumlah unik id_pengguna di corong peristiwa 'Offers Screen Appear': 4593\n",
      "Jumlah unik id_pengguna di corong peristiwa 'Cart Screen Appear': 3734\n",
      "Jumlah unik id_pengguna di corong peristiwa 'Payment Screen Successful': 3539\n"
     ]
    }
   ],
   "source": [
    "# Hitung jumlah pengguna pada setiap tahap corong peristiwa\n",
    "\n",
    "# Menghitung jumlah unik id_pengguna di corong peristiwa 'Main Screen Appear'\n",
    "main_screen_users = filtered_data[filtered_data['eventname'] == 'Main Screen Appear']['deviceidhash'].nunique()\n",
    "print(\"Jumlah unik id_pengguna di corong peristiwa 'Main Screen Appear':\", main_screen_users)\n",
    "\n",
    "# Menghitung jumlah unik id_pengguna di corong peristiwa 'Offers Screen Appear'\n",
    "offers_screen_users = filtered_data[filtered_data['eventname'] == 'Offers Screen Appear']['deviceidhash'].nunique()\n",
    "print(\"Jumlah unik id_pengguna di corong peristiwa 'Offers Screen Appear':\", offers_screen_users)\n",
    "\n",
    "# Menghitung jumlah unik id_pengguna di corong peristiwa 'Cart Screen Appear'\n",
    "cart_screen_users = filtered_data[filtered_data['eventname'] == 'Cart Screen Appear']['deviceidhash'].nunique()\n",
    "print(\"Jumlah unik id_pengguna di corong peristiwa 'Cart Screen Appear':\", cart_screen_users)\n",
    "\n",
    "# Menghitung jumlah unik id_pengguna di corong peristiwa 'Payment Screen Successful'\n",
    "payment_screen_users = filtered_data[filtered_data['eventname'] == 'Payment Screen Successful']['deviceidhash'].nunique()\n",
    "print(\"Jumlah unik id_pengguna di corong peristiwa 'Payment Screen Successful':\", payment_screen_users)\n",
    "\n"
   ]
  },
  {
   "cell_type": "code",
   "execution_count": 37,
   "metadata": {},
   "outputs": [
    {
     "name": "stdout",
     "output_type": "stream",
     "text": [
      "Persentase pengguna yang berlanjut dari Main Screen Appear → Offers Screen Appear: 61.908613020622724 %\n"
     ]
    }
   ],
   "source": [
    "# Hitung persentase pengguna yang berlanjut dari satu tahap ke tahap berikutnya\n",
    "conversion_rate_main_to_offers = (offers_screen_users / main_screen_users) * 100 if main_screen_users != 0 else 0\n",
    "\n",
    "print(\"Persentase pengguna yang berlanjut dari Main Screen Appear → Offers Screen Appear:\", \n",
    "      conversion_rate_main_to_offers, \"%\")\n"
   ]
  },
  {
   "cell_type": "code",
   "execution_count": 38,
   "metadata": {},
   "outputs": [
    {
     "name": "stdout",
     "output_type": "stream",
     "text": [
      "Persentase pengguna yang berlanjut dari Offers Screen Appear → Cart Screen Appear: 81.29762682342695 %\n"
     ]
    }
   ],
   "source": [
    "# Hitung persentase pengguna yang berlanjut dari satu tahap ke tahap berikutnya\n",
    "conversion_rate_offers_to_cart = (cart_screen_users / offers_screen_users) * 100 if offers_screen_users != 0 else 0\n",
    "\n",
    "print(\"Persentase pengguna yang berlanjut dari Offers Screen Appear → Cart Screen Appear:\", \n",
    "      conversion_rate_offers_to_cart, \"%\")\n"
   ]
  },
  {
   "cell_type": "code",
   "execution_count": 39,
   "metadata": {},
   "outputs": [
    {
     "name": "stdout",
     "output_type": "stream",
     "text": [
      "Persentase pengguna yang berlanjut dari Cart Screen Appear → Payment Screen Successful: 94.7777182645956 %\n"
     ]
    }
   ],
   "source": [
    "# Hitung persentase pengguna yang berlanjut dari satu tahap ke tahap berikutnya\n",
    "conversion_rate_cart_to_payment = (payment_screen_users / cart_screen_users) * 100 if cart_screen_users != 0 else 0\n",
    "\n",
    "print(\"Persentase pengguna yang berlanjut dari Cart Screen Appear → Payment Screen Successful:\", \n",
    "      conversion_rate_cart_to_payment, \"%\")\n"
   ]
  },
  {
   "cell_type": "markdown",
   "metadata": {},
   "source": [
    "### Menghitung Kehilangan Jumlah Pengguna <a id='enamlima'></a> "
   ]
  },
  {
   "cell_type": "markdown",
   "metadata": {},
   "source": [
    "Pada tahap manakah Anda kehilangan banyak pengguna?"
   ]
  },
  {
   "cell_type": "code",
   "execution_count": 40,
   "metadata": {
    "scrolled": true
   },
   "outputs": [
    {
     "name": "stdout",
     "output_type": "stream",
     "text": [
      "Kehilangan jumlah pengguna terbesar: 2826\n"
     ]
    }
   ],
   "source": [
    "# Menghitung kehilangan jumlah pengguna terbesar\n",
    "loss_main_to_offers = main_screen_users - offers_screen_users\n",
    "loss_offers_to_cart = offers_screen_users - cart_screen_users\n",
    "loss_cart_to_payment = cart_screen_users - payment_screen_users\n",
    "\n",
    "largest_loss = max(loss_main_to_offers, loss_offers_to_cart, loss_cart_to_payment)\n",
    "\n",
    "print(\"Kehilangan jumlah pengguna terbesar:\", largest_loss)\n"
   ]
  },
  {
   "cell_type": "code",
   "execution_count": 41,
   "metadata": {},
   "outputs": [
    {
     "name": "stdout",
     "output_type": "stream",
     "text": [
      "Anda kehilangan banyak pengguna pada tahap Main Screen to Offers Screen.\n"
     ]
    }
   ],
   "source": [
    "#Menemukan pada tahap manakah kehilangan banyak pengguna\n",
    "losses = [loss_main_to_offers, loss_offers_to_cart, loss_cart_to_payment]\n",
    "max_loss_index = losses.index(max(losses))\n",
    "\n",
    "if max_loss_index == 0:\n",
    "    print(\"Anda kehilangan banyak pengguna pada tahap Main Screen to Offers Screen.\")\n",
    "elif max_loss_index == 1:\n",
    "    print(\"Anda kehilangan banyak pengguna pada tahap Offers Screen to Cart Screen.\")\n",
    "elif max_loss_index == 2:\n",
    "    print(\"Anda kehilangan banyak pengguna pada tahap Cart Screen to Payment Screen.\")\n"
   ]
  },
  {
   "cell_type": "markdown",
   "metadata": {},
   "source": [
    "### Menghitung Persentase Pengguna Yang Berhasil Menyelesaikan Seluruh Tahapan <a id='enamenam'></a> "
   ]
  },
  {
   "cell_type": "markdown",
   "metadata": {},
   "source": [
    "Berapa banyak persentase pengguna yang berhasil menyelesaikan seluruh tahapan yang ada, dari peristiwa pertama hingga pembayaran?"
   ]
  },
  {
   "cell_type": "code",
   "execution_count": 42,
   "metadata": {},
   "outputs": [
    {
     "name": "stdout",
     "output_type": "stream",
     "text": [
      "Persentase pengguna yang berhasil menyelesaikan seluruh tahapan: 47.70%\n"
     ]
    }
   ],
   "source": [
    "#menghitung persentase pengguna yang berhasil menyelesaikan seluruh tahapan \n",
    "# from 'Main Screen Appear' to 'Payment Screen Successful'\n",
    "\n",
    "main_screen_users = len(filtered_data[filtered_data['eventname'] == 'Main Screen Appear']['deviceidhash'].unique())\n",
    "payment_screen_users = len(filtered_data[filtered_data['eventname'] == 'Payment Screen Successful']['deviceidhash'].unique())\n",
    "\n",
    "conversion_rate = (payment_screen_users / main_screen_users) * 100\n",
    "\n",
    "print(f\"Persentase pengguna yang berhasil menyelesaikan seluruh tahapan: {conversion_rate:.2f}%\")\n"
   ]
  },
  {
   "cell_type": "markdown",
   "metadata": {},
   "source": [
    "## Pelajari hasil eksperimen Anda <a id='tujuh'></a> "
   ]
  },
  {
   "cell_type": "markdown",
   "metadata": {},
   "source": [
    "Berapa banyak pengguna yang ada di setiap kelompok?\n",
    "Kita memiliki dua kelompok kontrol dalam A/A testing, di mana kita memeriksa mekanisme dan perhitungan kita. Perhatikan apakah terdapat perbedaan yang signifikan secara statistik antara sampel 246 dan 247.\n",
    "\n",
    "\n",
    "Pilih peristiwa yang paling populer. Pada setiap kelompok kontrol, temukan jumlah pengguna yang melakukan tindakan tersebut. Temukan persentasenya. Periksa apakah perbedaan antar kelompok signifikan secara statistik. Ulangi prosedur ini untuk semua peristiwa lainnya (akan menghemat waktu jika Anda bisa menciptakan sebuah fungsi khusus untuk melakukan pengujian ini). Bisakah Anda memastikan apakah kelompok-kelompok tersebut sudah dipisah dengan benar?\n",
    "\n",
    "\n",
    "Lakukan hal yang sama untuk kelompok pengguna yang diperlihatkan versi font terbaru. Bandingkan hasilnya dengan masing-masing kelompok kontrol untuk setiap peristiwa secara terpisah. Bandingkan hasilnya dengan hasil gabungan untuk kelompok kontrol. Kesimpulan apa yang bisa Anda tarik dari eksperimen tersebut?\n",
    "\n",
    "\n",
    "Berapa tingkat signifikansi yang Anda tetapkan untuk menguji hipotesis statistik yang disebutkan di atas? Hitung berapa banyak pengujian hipotesis statistik yang telah Anda lakukan. Dengan tingkat signifikansi statistik 0,1 - satu dari 10 hasil bisa saja salah. Berapa tingkat signifikansi yang seharusnya ditetapkan? Jika Anda ingin mengubahnya, jalankan ulang tahap sebelumnya dan periksa kesimpulan Anda."
   ]
  },
  {
   "cell_type": "markdown",
   "metadata": {},
   "source": [
    "### Menghitung Jumlah Pengguna Yang Ada Di Setiap Kelompok <a id='tujuhsatu'></a> "
   ]
  },
  {
   "cell_type": "markdown",
   "metadata": {},
   "source": [
    "Berapa banyak pengguna yang ada di setiap kelompok? Kita memiliki dua kelompok kontrol dalam A/A testing, di mana kita memeriksa mekanisme dan perhitungan kita. Perhatikan apakah terdapat perbedaan yang signifikan secara statistik antara sampel 246 dan 247."
   ]
  },
  {
   "cell_type": "code",
   "execution_count": 43,
   "metadata": {},
   "outputs": [
    {
     "name": "stdout",
     "output_type": "stream",
     "text": [
      "248    84726\n",
      "246    79425\n",
      "247    77147\n",
      "Name: expid, dtype: int64\n"
     ]
    }
   ],
   "source": [
    "user_counts = filtered_data['expid'].value_counts()\n",
    "print(user_counts)\n"
   ]
  },
  {
   "cell_type": "code",
   "execution_count": 44,
   "metadata": {},
   "outputs": [
    {
     "name": "stdout",
     "output_type": "stream",
     "text": [
      "Jumlah pengguna dalam setiap kelompok:\n",
      "Kelompok Kontrol 1 (ExpId 246): 2489\n",
      "Kelompok Kontrol 2 (ExpId 247): 2520\n",
      "Kelompok Uji (ExpId 248): 2542\n"
     ]
    }
   ],
   "source": [
    "# Menghitung jumlah pengguna dalam setiap kelompok\n",
    "group_counts = data_logs.groupby('expid')['deviceidhash'].nunique()\n",
    "\n",
    "# Menampilkan hasil\n",
    "print(\"Jumlah pengguna dalam setiap kelompok:\")\n",
    "print(\"Kelompok Kontrol 1 (ExpId 246):\", group_counts[246])\n",
    "print(\"Kelompok Kontrol 2 (ExpId 247):\", group_counts[247])\n",
    "print(\"Kelompok Uji (ExpId 248):\", group_counts[248])\n"
   ]
  },
  {
   "cell_type": "code",
   "execution_count": 45,
   "metadata": {},
   "outputs": [
    {
     "name": "stdout",
     "output_type": "stream",
     "text": [
      "Chi-square value: 0.001676088799646623\n",
      "p-value: 0.9673436781497737\n",
      "Tidak ada perbedaan yang signifikan antara sampel 246 dan 247\n"
     ]
    }
   ],
   "source": [
    "# Mencari perbedaan yang signifikan secara statistik antara sampel 246 dan 247\n",
    "\n",
    "from scipy.stats import chi2_contingency\n",
    "\n",
    "# Membuat tabel kontingensi berdasarkan jumlah pengguna di setiap kelompok\n",
    "observed = [[246, 247], [group_counts[246], group_counts[247]]]  # Masukkan jumlah pengguna untuk sampel 246 dan 247\n",
    "\n",
    "# Melakukan uji chi-square\n",
    "chi2, p_value, _, _ = chi2_contingency(observed)\n",
    "\n",
    "# Menampilkan hasil\n",
    "print(\"Chi-square value:\", chi2)\n",
    "print(\"p-value:\", p_value)\n",
    "\n",
    "# Membandingkan p-value dengan tingkat signifikansi\n",
    "alpha = 0.05\n",
    "if p_value < alpha:\n",
    "    print(\"Terdapat perbedaan yang signifikan antara sampel 246 dan 247\")\n",
    "else:\n",
    "    print(\"Tidak ada perbedaan yang signifikan antara sampel 246 dan 247\")\n"
   ]
  },
  {
   "cell_type": "markdown",
   "metadata": {},
   "source": [
    "### Memilih peristiwa yang paling populer <a id='tujuhdua'></a> "
   ]
  },
  {
   "cell_type": "markdown",
   "metadata": {},
   "source": [
    "Pilih peristiwa yang paling populer. Pada setiap kelompok kontrol, temukan jumlah pengguna yang melakukan tindakan tersebut. Temukan persentasenya. Periksa apakah perbedaan antar kelompok signifikan secara statistik. Ulangi prosedur ini untuk semua peristiwa lainnya (akan menghemat waktu jika Anda bisa menciptakan sebuah fungsi khusus untuk melakukan pengujian ini). Bisakah Anda memastikan apakah kelompok-kelompok tersebut sudah dipisah dengan benar?"
   ]
  },
  {
   "cell_type": "markdown",
   "metadata": {},
   "source": [
    "#### Kelompok Kontrol - 246 & 247 - Mencari Peristiwa Terpopuler <a id='tujuhduasatu'></a> "
   ]
  },
  {
   "cell_type": "markdown",
   "metadata": {},
   "source": [
    "Pilih peristiwa yang paling populer."
   ]
  },
  {
   "cell_type": "code",
   "execution_count": 46,
   "metadata": {},
   "outputs": [
    {
     "name": "stdout",
     "output_type": "stream",
     "text": [
      "Peristiwa paling populer dalam Kelompok Kontrol 1 (ExpId 246): Main Screen Appear\n",
      "Peristiwa paling populer dalam Kelompok Kontrol 2 (ExpId 247): Main Screen Appear\n"
     ]
    }
   ],
   "source": [
    "#memilih peristiwa yang paling populer dalam setiap kelompok kontrol (ExpId 246 dan ExpId 247):\n",
    "\n",
    "# Memilih peristiwa yang paling populer dalam kelompok kontrol (ExpId 246)\n",
    "group_246 = filtered_data[filtered_data['expid'] == 246]\n",
    "popular_event_246 = group_246['eventname'].value_counts().idxmax()\n",
    "\n",
    "# Memilih peristiwa yang paling populer dalam kelompok kontrol (ExpId 247)\n",
    "group_247 = filtered_data[filtered_data['expid'] == 247]\n",
    "popular_event_247 = group_247['eventname'].value_counts().idxmax()\n",
    "\n",
    "# Menampilkan hasil\n",
    "print(\"Peristiwa paling populer dalam Kelompok Kontrol 1 (ExpId 246):\", popular_event_246)\n",
    "print(\"Peristiwa paling populer dalam Kelompok Kontrol 2 (ExpId 247):\", popular_event_247)\n"
   ]
  },
  {
   "cell_type": "markdown",
   "metadata": {},
   "source": [
    "Pada setiap kelompok kontrol, temukan jumlah pengguna yang melakukan tindakan tersebut."
   ]
  },
  {
   "cell_type": "code",
   "execution_count": 47,
   "metadata": {},
   "outputs": [
    {
     "name": "stdout",
     "output_type": "stream",
     "text": [
      "Jumlah pengguna yang melakukan tindakan paling populer dalam Kelompok Kontrol 1 (ExpId 246): 2450\n",
      "Jumlah pengguna yang melakukan tindakan paling populer dalam Kelompok Kontrol 2 (ExpId 247): 2476\n"
     ]
    }
   ],
   "source": [
    "# Mencari jumlah pengguna yang melakukan tindakan paling populer dalam Kelompok Kontrol 1 (ExpId 246)\n",
    "main_246 = group_246[group_246['eventname'] == popular_event_246]['deviceidhash'].nunique()\n",
    "\n",
    "# Mencari jumlah pengguna yang melakukan tindakan paling populer dalam Kelompok Kontrol 2 (ExpId 247)\n",
    "main_247 = group_247[group_247['eventname'] == popular_event_247]['deviceidhash'].nunique()\n",
    "\n",
    "# Menampilkan hasil\n",
    "print(\"Jumlah pengguna yang melakukan tindakan paling populer dalam Kelompok Kontrol 1 (ExpId 246):\", main_246)\n",
    "print(\"Jumlah pengguna yang melakukan tindakan paling populer dalam Kelompok Kontrol 2 (ExpId 247):\", main_247)\n"
   ]
  },
  {
   "cell_type": "code",
   "execution_count": 48,
   "metadata": {},
   "outputs": [
    {
     "name": "stdout",
     "output_type": "stream",
     "text": [
      "Persentase pengguna dengan tindakan paling populer di Kelompok Kontrol 1 (ExpId 246): 98.63%\n",
      "Persentase pengguna dengan tindakan paling populer di Kelompok Kontrol 2 (ExpId 247):98.53%\n"
     ]
    }
   ],
   "source": [
    "# Mencari jumlah pengguna yang melakukan tindakan paling populer dalam Kelompok Kontrol 1 (ExpId 246)\n",
    "\n",
    "# Menghitung persentase pengguna dalam Kelompok Kontrol 1 (ExpId 246)\n",
    "total_users_246 = group_246['deviceidhash'].nunique()\n",
    "percentage_246 = (main_246 / total_users_246) * 100\n",
    "\n",
    "# Menghitung persentase pengguna dalam Kelompok Kontrol 2 (ExpId 247)\n",
    "total_users_247 = group_247['deviceidhash'].nunique()\n",
    "percentage_247 = (main_247 / total_users_247) * 100\n",
    "\n",
    "# Menampilkan hasil\n",
    "print(f\"Persentase pengguna dengan tindakan paling populer di Kelompok Kontrol 1 (ExpId 246): {percentage_246:.2f}%\")\n",
    "print(f\"Persentase pengguna dengan tindakan paling populer di Kelompok Kontrol 2 (ExpId 247):{percentage_247:.2f}%\")\n"
   ]
  },
  {
   "cell_type": "markdown",
   "metadata": {},
   "source": [
    "Periksa apakah perbedaan antar kelompok signifikan secara statistik."
   ]
  },
  {
   "cell_type": "code",
   "execution_count": 49,
   "metadata": {},
   "outputs": [
    {
     "name": "stdout",
     "output_type": "stream",
     "text": [
      "Statistik uji chi-kuadrat: 0.03602851682130365\n",
      "P-value: 0.8494566142966455\n",
      "Tidak ada perbedaan signifikan antara dua kelompok\n"
     ]
    }
   ],
   "source": [
    "import scipy.stats as stats\n",
    "\n",
    "# Menggabungkan data dari kedua kelompok\n",
    "observed = [[main_246, total_users_246 - main_246], [main_247, total_users_247 - main_247]]\n",
    "\n",
    "# Melakukan uji chi-kuadrat\n",
    "chi2, p_value, _, _ = stats.chi2_contingency(observed)\n",
    "print(\"Statistik uji chi-kuadrat:\", chi2)\n",
    "print(\"P-value:\", p_value)\n",
    "\n",
    "# Menampilkan hasil\n",
    "if p_value < 0.05:\n",
    "    print(\"Perbedaan antara dua kelompok signifikan secara statistik\")\n",
    "else:\n",
    "    print(\"Tidak ada perbedaan signifikan antara dua kelompok\")\n"
   ]
  },
  {
   "cell_type": "markdown",
   "metadata": {},
   "source": [
    "#### Kelompok Kontrol - 246 & 247 - Mencari Perbedaan Signifikan Antar Kelompok Kontrol Selain Peristiwa populer <a id='tujuhduadua'></a> "
   ]
  },
  {
   "cell_type": "markdown",
   "metadata": {},
   "source": [
    "Ulangi prosedur ini untuk semua peristiwa lainnya (akan menghemat waktu jika Anda bisa menciptakan sebuah fungsi khusus untuk melakukan pengujian ini). "
   ]
  },
  {
   "cell_type": "code",
   "execution_count": 50,
   "metadata": {},
   "outputs": [],
   "source": [
    "import scipy.stats as stats\n",
    "\n",
    "def perform_statistical_test(count_1, count_2, total_users_1, total_users_2):\n",
    "    percentage_1 = (count_1 / total_users_1) * 100\n",
    "    percentage_2 = (count_2 / total_users_2) * 100\n",
    "\n",
    "    contingency_table = [[count_1, count_2], [total_users_1 - count_1, total_users_2 - count_2]]\n",
    "    chi2, p, _, _ = stats.chi2_contingency(contingency_table)\n",
    "    \n",
    "    \n",
    "    print(\"Persentase pengguna Kelompok Kontrol 1:\", percentage_1)\n",
    "    print(\"Persentase pengguna Kelompok Kontrol 2:\", percentage_2)\n",
    "\n",
    "    print(\"Statistik uji chi-kuadrat:\", chi2)\n",
    "    print(\"P-value:\", p)\n",
    "    \n",
    "    if p < 0.05:\n",
    "        print(\"Perbedaan antara dua kelompok signifikan secara statistik\")\n",
    "    else:\n",
    "        print(\"Tidak ada perbedaan signifikan antara dua kelompok\")\n"
   ]
  },
  {
   "cell_type": "markdown",
   "metadata": {},
   "source": [
    "##### Kelompok Kontrol - 246 & 247 - Mencari Perbedaan 'Offers Screen Appear' <a id='tujuhduaduasatu'></a> "
   ]
  },
  {
   "cell_type": "code",
   "execution_count": 51,
   "metadata": {},
   "outputs": [],
   "source": [
    "# Menghitung total pengguna di kelompok kontrol 1&2\n",
    "total_users_1 = group_246['deviceidhash'].nunique()\n",
    "total_users_2 = group_247['deviceidhash'].nunique()\n"
   ]
  },
  {
   "cell_type": "code",
   "execution_count": 52,
   "metadata": {},
   "outputs": [
    {
     "name": "stdout",
     "output_type": "stream",
     "text": [
      "Jumlah pengguna 'Offers Screen Appear' Kelompok Kontrol 1 (ExpId 246): 1542\n",
      "Jumlah pengguna 'Offers Screen Appear' Kelompok Kontrol 2 (ExpId 247): 1520\n",
      "Persentase pengguna Kelompok Kontrol 1: 62.07729468599034\n",
      "Persentase pengguna Kelompok Kontrol 2: 60.48547552725826\n",
      "Statistik uji chi-kuadrat: 1.267754896034972\n",
      "P-value: 0.2601882827586955\n",
      "Tidak ada perbedaan signifikan antara dua kelompok\n"
     ]
    }
   ],
   "source": [
    "# Menghitung jumlah pengguna di kelompok kontrol 1&2 yang melakukan Offers Screen Appear\n",
    "group_1_offers_count = group_246[group_246['eventname'] == 'Offers Screen Appear']['deviceidhash'].nunique()\n",
    "group_2_offers_count = group_247[group_247['eventname'] == 'Offers Screen Appear']['deviceidhash'].nunique()\n",
    "\n",
    "print(\"Jumlah pengguna 'Offers Screen Appear' Kelompok Kontrol 1 (ExpId 246):\", group_1_offers_count)\n",
    "print(\"Jumlah pengguna 'Offers Screen Appear' Kelompok Kontrol 2 (ExpId 247):\", group_2_offers_count)\n",
    "\n",
    "# Melakukan pengujian statistik\n",
    "perform_statistical_test(group_1_offers_count, group_2_offers_count, total_users_1, total_users_2)"
   ]
  },
  {
   "cell_type": "markdown",
   "metadata": {},
   "source": [
    "##### Kelompok Kontrol - 246 & 247 - Mencari Perbedaan 'Cart Screen Appear' <a id='tujuhduaduadua'></a> "
   ]
  },
  {
   "cell_type": "code",
   "execution_count": 53,
   "metadata": {},
   "outputs": [
    {
     "name": "stdout",
     "output_type": "stream",
     "text": [
      "Jumlah pengguna 'Cart Screen Appear' Kelompok Kontrol 1 (ExpId 246): 1266\n",
      "Jumlah pengguna 'Cart Screen Appear' Kelompok Kontrol 2 (ExpId 247): 1238\n",
      "Persentase pengguna Kelompok Kontrol 1: 50.96618357487923\n",
      "Persentase pengguna Kelompok Kontrol 2: 49.26382809391166\n",
      "Statistik uji chi-kuadrat: 1.3808018927911607\n",
      "P-value: 0.23996460305565973\n",
      "Tidak ada perbedaan signifikan antara dua kelompok\n"
     ]
    }
   ],
   "source": [
    "# Menghitung jumlah pengguna di kelompok kontrol 1&2 yang melakukan Cart Screen Appear\n",
    "group_1_offers_count = group_246[group_246['eventname'] == 'Cart Screen Appear']['deviceidhash'].nunique()\n",
    "group_2_offers_count = group_247[group_247['eventname'] == 'Cart Screen Appear']['deviceidhash'].nunique()\n",
    "\n",
    "print(\"Jumlah pengguna 'Cart Screen Appear' Kelompok Kontrol 1 (ExpId 246):\", group_1_offers_count)\n",
    "print(\"Jumlah pengguna 'Cart Screen Appear' Kelompok Kontrol 2 (ExpId 247):\", group_2_offers_count)\n",
    "\n",
    "# Melakukan pengujian statistik\n",
    "perform_statistical_test(group_1_offers_count, group_2_offers_count, total_users_1, total_users_2)"
   ]
  },
  {
   "cell_type": "markdown",
   "metadata": {},
   "source": [
    "##### Kelompok Kontrol - 246 & 247 - Mencari Perbedaan 'Payment Screen Successful' <a id='tujuhduaduatiga'></a> "
   ]
  },
  {
   "cell_type": "code",
   "execution_count": 54,
   "metadata": {},
   "outputs": [
    {
     "name": "stdout",
     "output_type": "stream",
     "text": [
      "Jumlah pengguna 'Payment Screen Successful' Kelompok Kontrol 1 (ExpId 246): 1200\n",
      "Jumlah pengguna 'Payment Screen Successful' Kelompok Kontrol 2 (ExpId 247): 1158\n",
      "Persentase pengguna Kelompok Kontrol 1: 48.309178743961354\n",
      "Persentase pengguna Kelompok Kontrol 2: 46.08038201352965\n",
      "Statistik uji chi-kuadrat: 2.401436108074845\n",
      "P-value: 0.12122391904550209\n",
      "Tidak ada perbedaan signifikan antara dua kelompok\n"
     ]
    }
   ],
   "source": [
    "\n",
    "# Menghitung jumlah pengguna di kelompok kontrol 1&2 yang melakukan Payment Screen Successful\n",
    "group_1_offers_count = group_246[group_246['eventname'] == 'Payment Screen Successful']['deviceidhash'].nunique()\n",
    "group_2_offers_count = group_247[group_247['eventname'] == 'Payment Screen Successful']['deviceidhash'].nunique()\n",
    "\n",
    "print(\"Jumlah pengguna 'Payment Screen Successful' Kelompok Kontrol 1 (ExpId 246):\", group_1_offers_count)\n",
    "print(\"Jumlah pengguna 'Payment Screen Successful' Kelompok Kontrol 2 (ExpId 247):\", group_2_offers_count)\n",
    "\n",
    "# Melakukan pengujian statistik\n",
    "perform_statistical_test(group_1_offers_count, group_2_offers_count, total_users_1, total_users_2)"
   ]
  },
  {
   "cell_type": "markdown",
   "metadata": {},
   "source": [
    "Bisakah Anda memastikan apakah kelompok-kelompok tersebut sudah dipisah dengan benar?"
   ]
  },
  {
   "cell_type": "code",
   "execution_count": 55,
   "metadata": {},
   "outputs": [
    {
     "name": "stdout",
     "output_type": "stream",
     "text": [
      "Persentase pengguna Kelompok Kontrol 1: 48.309178743961354\n",
      "Persentase pengguna Kelompok Kontrol 2: 46.08038201352965\n",
      "Statistik uji chi-kuadrat: 2.401436108074845\n",
      "P-value: 0.12122391904550209\n",
      "Tidak ada perbedaan signifikan antara dua kelompok\n"
     ]
    }
   ],
   "source": [
    "perform_statistical_test(group_1_offers_count, group_2_offers_count, total_users_1, total_users_2)"
   ]
  },
  {
   "cell_type": "code",
   "execution_count": 56,
   "metadata": {},
   "outputs": [
    {
     "name": "stdout",
     "output_type": "stream",
     "text": [
      "Jumlah pengguna dalam setiap kelompok eksperimen:\n",
      "248    84726\n",
      "246    79425\n",
      "247    77147\n",
      "Name: expid, dtype: int64\n"
     ]
    }
   ],
   "source": [
    "group_counts = filtered_data['expid'].value_counts()\n",
    "print(\"Jumlah pengguna dalam setiap kelompok eksperimen:\")\n",
    "print(group_counts)\n"
   ]
  },
  {
   "cell_type": "markdown",
   "metadata": {},
   "source": [
    "### Kelompok Pengguna Yang Diperlihatkan Versi Font Terbaru <a id='tujuhtiga'></a> "
   ]
  },
  {
   "cell_type": "markdown",
   "metadata": {},
   "source": [
    "Lakukan hal yang sama untuk kelompok pengguna yang diperlihatkan versi font terbaru. Bandingkan hasilnya dengan masing-masing kelompok kontrol untuk setiap peristiwa secara terpisah. Bandingkan hasilnya dengan hasil gabungan untuk kelompok kontrol. Kesimpulan apa yang bisa Anda tarik dari eksperimen tersebut?"
   ]
  },
  {
   "cell_type": "markdown",
   "metadata": {},
   "source": [
    "#### Kelompok Pengguna - 248 - Mencari Peristiwa Terpopuler <a id='tujuhtigasatu'></a> "
   ]
  },
  {
   "cell_type": "markdown",
   "metadata": {},
   "source": [
    "Lakukan hal yang sama untuk kelompok pengguna yang diperlihatkan versi font terbaru."
   ]
  },
  {
   "cell_type": "code",
   "execution_count": 57,
   "metadata": {},
   "outputs": [
    {
     "name": "stdout",
     "output_type": "stream",
     "text": [
      "Peristiwa paling populer dalam Kelompok Uji (ExpId 248): Main Screen Appear\n",
      "Jumlah pengguna yang melakukan Main Screen Appear pada kelompok uji (ExpId 248): 2493\n",
      "Persentase pengguna yang melakukan Main Screen Appear pada kelompok uji (ExpId 248): 98.26566811194324 %\n"
     ]
    }
   ],
   "source": [
    "# Pilih peristiwa yang paling populer\n",
    "group_248 = filtered_data[filtered_data['expid'] == 248]\n",
    "popular_event_248 = group_248['eventname'].value_counts().idxmax()\n",
    "print(\"Peristiwa paling populer dalam Kelompok Uji (ExpId 248):\", popular_event_248)\n",
    "\n",
    "\n",
    "# Menghitung jumlah pengguna yang melakukan peristiwa paling populer pada kelompok uji\n",
    "users_248 = group_248[group_248['eventname'] == popular_event_248]['deviceidhash'].nunique()\n",
    "print(\"Jumlah pengguna yang melakukan\", popular_event_248, \"pada kelompok uji (ExpId 248):\", users_248)\n",
    "\n",
    "\n",
    "# Temukan persentase pengguna yang melakukan peristiwa paling populer pada kelompok kontrol 1 (ExpId 246)\n",
    "total_users_248 = group_248['deviceidhash'].nunique()\n",
    "percentage_248_event = (users_248 / total_users_248) * 100\n",
    "print(\"Persentase pengguna yang melakukan\", popular_event_248 ,\"pada kelompok uji (ExpId 248):\", percentage_248_event, \"%\")\n"
   ]
  },
  {
   "cell_type": "markdown",
   "metadata": {},
   "source": [
    "#### Mencari Perbedaan Kelompok Uji 248 terhadap Kelompok Kontrol 246 & 247 - Pada Peristiwa Populer <a id='tujuhtigadua'></a> "
   ]
  },
  {
   "cell_type": "code",
   "execution_count": 58,
   "metadata": {},
   "outputs": [
    {
     "name": "stdout",
     "output_type": "stream",
     "text": [
      "Membandingkan kelompok kontrol 246 dengan kelompok uji 248\n",
      "\n",
      "Persentase pengguna Kelompok Kontrol: 98.63123993558777\n",
      "Persentase pengguna Kelompok Uji 248: 98.26566811194324\n",
      "Statistik uji chi-kuadrat: 0.8707732339117324\n",
      "P-value: 0.35074133374417293\n",
      "Tidak ada perbedaan signifikan antara dua kelompok\n",
      "\n",
      "Membandingkan kelompok kontrol 247 dengan kelompok uji 248\n",
      "\n",
      "Persentase pengguna Kelompok Kontrol: 98.52765618782333\n",
      "Persentase pengguna Kelompok Uji 248: 98.26566811194324\n",
      "Statistik uji chi-kuadrat: 0.39559823994599874\n",
      "P-value: 0.5293713098858022\n",
      "Tidak ada perbedaan signifikan antara dua kelompok\n"
     ]
    }
   ],
   "source": [
    "import scipy.stats as stats\n",
    "\n",
    "def perform_statistical_test(count_control, count_test, total_control, total_test):\n",
    "    percentage_control = (count_control / total_control) * 100\n",
    "    percentage_test = (count_test / total_test) * 100\n",
    "\n",
    "    contingency_table = [[count_control, count_test], [total_control - count_control, total_test - count_test]]\n",
    "    chi2, p, _, _ = stats.chi2_contingency(contingency_table)\n",
    "    \n",
    "    print(\"Persentase pengguna Kelompok Kontrol:\", percentage_control)\n",
    "    print(\"Persentase pengguna Kelompok Uji 248:\", percentage_test)\n",
    "\n",
    "    print(\"Statistik uji chi-kuadrat:\", chi2)\n",
    "    print(\"P-value:\", p)\n",
    "    \n",
    "    if p < 0.05:\n",
    "        print(\"Perbedaan antara dua kelompok signifikan secara statistik\")\n",
    "    else:\n",
    "        print(\"Tidak ada perbedaan signifikan antara dua kelompok\")\n",
    "\n",
    "# Menghitung total pengguna di kelompok kontrol 1&2\n",
    "total_users_1 = group_246['deviceidhash'].nunique()\n",
    "total_users_2 = group_247['deviceidhash'].nunique()\n",
    "total_users_test = group_248['deviceidhash'].nunique()\n",
    "\n",
    "# Menghitung jumlah pengguna yang melakukan peristiwa paling populer di kelompok kontrol 246\n",
    "users_246 = group_246[group_246['eventname'] == popular_event_246]['deviceidhash'].nunique()\n",
    "\n",
    "# Menghitung jumlah pengguna yang melakukan peristiwa paling populer di kelompok kontrol 247\n",
    "users_247 = group_247[group_247['eventname'] == popular_event_247]['deviceidhash'].nunique()\n",
    "\n",
    "# Menghitung jumlah pengguna yang melakukan peristiwa paling populer di kelompok uji 248\n",
    "users_248 = group_248[group_248['eventname'] == popular_event_248]['deviceidhash'].nunique()\n",
    "\n",
    "# Membandingkan kelompok kontrol 246 dengan kelompok uji 248\n",
    "print('Membandingkan kelompok kontrol 246 dengan kelompok uji 248')\n",
    "print()\n",
    "perform_statistical_test(users_246, users_248, total_users_1, total_users_test)\n",
    "print()\n",
    "# Membandingkan kelompok kontrol 247 dengan kelompok uji 248\n",
    "print('Membandingkan kelompok kontrol 247 dengan kelompok uji 248')\n",
    "print()\n",
    "perform_statistical_test(users_247, users_248, total_users_2, total_users_test)\n"
   ]
  },
  {
   "cell_type": "markdown",
   "metadata": {},
   "source": [
    "#### Kelompok Pengguna - 248 - Mencari Perbedaan Signifikan Antar Kelompok Kontrol Selain Peristiwa populer <a id='tujuhtigatiga'></a> "
   ]
  },
  {
   "cell_type": "markdown",
   "metadata": {},
   "source": [
    "Bandingkan hasilnya dengan masing-masing kelompok kontrol untuk setiap peristiwa secara terpisah."
   ]
  },
  {
   "cell_type": "code",
   "execution_count": 59,
   "metadata": {},
   "outputs": [],
   "source": [
    "import scipy.stats as stats\n",
    "\n",
    "def perform_statistical_font(count_1, count_2):\n",
    "    percentage_1 = (count_1 / total_users_1) * 100\n",
    "    percentage_2 = (count_2 / total_users_2) * 100\n",
    "\n",
    "    contingency_table = [[count_1, count_2], [total_users_1 - count_1, total_users_2 - count_2]]\n",
    "    chi2, p, _, _ = stats.chi2_contingency(contingency_table)\n",
    "    \n",
    "    print(\"Persentase pengguna Kelompok Kontrol :\", percentage_1)\n",
    "    print(\"Persentase pengguna Kelompok Uji 248:\", percentage_2)\n",
    "\n",
    "    print(\"Statistik uji chi-kuadrat:\", chi2)\n",
    "    print(\"P-value:\", p)\n",
    "    \n",
    "    if p < 0.05:\n",
    "        print(\"Perbedaan antara dua kelompok signifikan secara statistik\")\n",
    "    else:\n",
    "        print(\"Tidak ada perbedaan signifikan antara dua kelompok\")\n",
    "\n"
   ]
  },
  {
   "cell_type": "code",
   "execution_count": 60,
   "metadata": {},
   "outputs": [
    {
     "name": "stdout",
     "output_type": "stream",
     "text": [
      "Membandingkan Peristiwa 'Offers Screen Appear' kelompok kontrol 246 dengan kelompok uji 248\n",
      "Persentase pengguna Kelompok Kontrol : 62.07729468599034\n",
      "Persentase pengguna Kelompok Uji 248: 60.923199363310786\n",
      "Statistik uji chi-kuadrat: 0.6548031043857817\n",
      "P-value: 0.4184006606257078\n",
      "Tidak ada perbedaan signifikan antara dua kelompok\n",
      "\n",
      "Membandingkan Peristiwa 'Offers Screen Appear' kelompok kontrol 247 dengan kelompok uji 248\n",
      "Persentase pengguna Kelompok Kontrol : 61.191626409017715\n",
      "Persentase pengguna Kelompok Uji 248: 60.923199363310786\n",
      "Statistik uji chi-kuadrat: 0.02740734623782185\n",
      "P-value: 0.8685098059401316\n",
      "Tidak ada perbedaan signifikan antara dua kelompok\n"
     ]
    }
   ],
   "source": [
    "# Membandingkan kelompok kontrol 246 & 247 dengan kelompok uji 248 Peristiwa 'Offers Screen Appear'\n",
    "\n",
    "group_1_offers_count = group_246[group_246['eventname'] == 'Offers Screen Appear']['deviceidhash'].nunique()\n",
    "group_2_offers_count = group_247[group_247['eventname'] == 'Offers Screen Appear']['deviceidhash'].nunique()\n",
    "group_3_offers_count = group_248[group_248['eventname'] == 'Offers Screen Appear']['deviceidhash'].nunique()\n",
    "\n",
    "print(\"Membandingkan Peristiwa 'Offers Screen Appear' kelompok kontrol 246 dengan kelompok uji 248\")\n",
    "perform_statistical_font(group_1_offers_count, group_3_offers_count)\n",
    "print()\n",
    "print(\"Membandingkan Peristiwa 'Offers Screen Appear' kelompok kontrol 247 dengan kelompok uji 248\")\n",
    "perform_statistical_font(group_2_offers_count, group_3_offers_count)\n",
    "\n"
   ]
  },
  {
   "cell_type": "code",
   "execution_count": 61,
   "metadata": {},
   "outputs": [
    {
     "name": "stdout",
     "output_type": "stream",
     "text": [
      "Membandingkan Peristiwa 'Cart Screen Appear' kelompok kontrol 246 dengan kelompok uji 248\n",
      "Persentase pengguna Kelompok Kontrol : 50.96618357487923\n",
      "Persentase pengguna Kelompok Uji 248: 48.94548348587346\n",
      "Statistik uji chi-kuadrat: 1.9602952013961226\n",
      "P-value: 0.1614817507310226\n",
      "Tidak ada perbedaan signifikan antara dua kelompok\n",
      "\n",
      "Membandingkan Peristiwa 'Cart Screen Appear' kelompok kontrol 247 dengan kelompok uji 248\n",
      "Persentase pengguna Kelompok Kontrol : 49.8389694041868\n",
      "Persentase pengguna Kelompok Uji 248: 48.94548348587346\n",
      "Statistik uji chi-kuadrat: 0.36402092869909314\n",
      "P-value: 0.5462815508734911\n",
      "Tidak ada perbedaan signifikan antara dua kelompok\n"
     ]
    }
   ],
   "source": [
    "# Membandingkan kelompok kontrol 246 & 247 dengan kelompok uji 248 Peristiwa 'Cart Screen Appear'\n",
    "\n",
    "group_1_cart_count = group_246[group_246['eventname'] == 'Cart Screen Appear' ]['deviceidhash'].nunique() \n",
    "group_2_cart_count = group_247[group_247['eventname'] == 'Cart Screen Appear']['deviceidhash'].nunique() \n",
    "group_3_cart_count = group_248[group_248['eventname'] == 'Cart Screen Appear']['deviceidhash'].nunique() \n",
    "\n",
    "print(\"Membandingkan Peristiwa 'Cart Screen Appear' kelompok kontrol 246 dengan kelompok uji 248\")\n",
    "perform_statistical_font(group_1_cart_count, group_3_cart_count)\n",
    "print()\n",
    "print(\"Membandingkan Peristiwa 'Cart Screen Appear' kelompok kontrol 247 dengan kelompok uji 248\")\n",
    "perform_statistical_font(group_2_cart_count, group_3_cart_count)\n"
   ]
  },
  {
   "cell_type": "code",
   "execution_count": 62,
   "metadata": {},
   "outputs": [
    {
     "name": "stdout",
     "output_type": "stream",
     "text": [
      "Membandingkan Peristiwa 'Payment Screen Successful' kelompok kontrol 246 dengan kelompok uji 248\n",
      "Persentase pengguna Kelompok Kontrol : 48.309178743961354\n",
      "Persentase pengguna Kelompok Uji 248: 46.995622761639474\n",
      "Statistik uji chi-kuadrat: 0.812222614096803\n",
      "P-value: 0.3674639490384567\n",
      "Tidak ada perbedaan signifikan antara dua kelompok\n",
      "\n",
      "Membandingkan Peristiwa 'Payment Screen Successful' kelompok kontrol 247 dengan kelompok uji 248\n",
      "Persentase pengguna Kelompok Kontrol : 46.61835748792271\n",
      "Persentase pengguna Kelompok Uji 248: 46.995622761639474\n",
      "Statistik uji chi-kuadrat: 0.05706189151585003\n",
      "P-value: 0.8112014956651524\n",
      "Tidak ada perbedaan signifikan antara dua kelompok\n"
     ]
    }
   ],
   "source": [
    "# Membandingkan kelompok kontrol 246 & 247 dengan kelompok uji 248 Peristiwa 'Payment Screen Successful'\n",
    "\n",
    "group_1_payment_count = group_246[group_246['eventname'] == 'Payment Screen Successful']['deviceidhash'].nunique() # Jumlah pengguna di kelompok kontrol 1 yang melakukan Payment Screen Successful\n",
    "group_2_payment_count = group_247[group_247['eventname'] == 'Payment Screen Successful']['deviceidhash'].nunique() # Jumlah pengguna di kelompok kontrol 2 yang melakukan Payment Screen Successful\n",
    "group_3_payment_count = group_248[group_248['eventname'] == 'Payment Screen Successful']['deviceidhash'].nunique() \n",
    "\n",
    "print(\"Membandingkan Peristiwa 'Payment Screen Successful' kelompok kontrol 246 dengan kelompok uji 248\")\n",
    "perform_statistical_font(group_1_payment_count, group_3_payment_count)\n",
    "print()\n",
    "print(\"Membandingkan Peristiwa 'Payment Screen Successful' kelompok kontrol 247 dengan kelompok uji 248\")\n",
    "perform_statistical_font(group_2_payment_count, group_3_payment_count)\n",
    "\n"
   ]
  },
  {
   "cell_type": "markdown",
   "metadata": {},
   "source": [
    "Bandingkan hasilnya dengan hasil gabungan untuk kelompok kontrol. Kesimpulan apa yang bisa Anda tarik dari eksperimen tersebut?"
   ]
  },
  {
   "cell_type": "code",
   "execution_count": 63,
   "metadata": {},
   "outputs": [],
   "source": [
    "import scipy.stats as stats\n",
    "\n",
    "def compare_events(group_control, group_test, event_name):\n",
    "    # Menghitung total pengguna di kelompok kontrol\n",
    "    total_users_control = group_control['deviceidhash'].nunique()\n",
    "\n",
    "    # Menghitung jumlah pengguna yang melakukan peristiwa pada kelompok kontrol\n",
    "    users_control = group_control[group_control['eventname'] == event_name]['deviceidhash'].nunique()\n",
    "\n",
    "    # Menghitung jumlah pengguna yang melakukan peristiwa pada kelompok uji\n",
    "    users_test = group_test[group_test['eventname'] == event_name]['deviceidhash'].nunique()\n",
    "\n",
    "    # Menampilkan hasil perbandingan\n",
    "    print(\"Peristiwa:\", event_name)\n",
    "    print(\"Jumlah pengguna yang melakukan\", event_name, \"di Kelompok Kontrol:\", users_control)\n",
    "    print(\"Jumlah pengguna yang melakukan\", event_name, \"di Kelompok Uji:\", users_test)\n",
    "\n",
    "    # Melakukan uji statistik chi-kuadrat antara kelompok kontrol dan kelompok uji\n",
    "    contingency_table = [[users_control, users_test], [total_users_control - users_control, total_users_test - users_test]]\n",
    "    chi2, p_value, _, _ = stats.chi2_contingency(contingency_table)\n",
    "\n",
    "    print(\"Statistik uji chi-kuadrat:\", chi2)\n",
    "    print(\"P-value:\", p_value)\n",
    "\n",
    "    if p_value < 0.05:\n",
    "        print(\"Perbedaan antara kelompok signifikan secara statistik\")\n",
    "    else:\n",
    "        print(\"Tidak ada perbedaan signifikan antara kelompok\")\n",
    "\n"
   ]
  },
  {
   "cell_type": "code",
   "execution_count": 64,
   "metadata": {},
   "outputs": [
    {
     "name": "stdout",
     "output_type": "stream",
     "text": [
      "Peristiwa: Offers Screen Appear\n",
      "Jumlah pengguna yang melakukan Offers Screen Appear di Kelompok Kontrol: 1542\n",
      "Jumlah pengguna yang melakukan Offers Screen Appear di Kelompok Uji: 1531\n",
      "Statistik uji chi-kuadrat: 1.5107338434663928\n",
      "P-value: 0.21902714251615557\n",
      "Tidak ada perbedaan signifikan antara kelompok\n",
      "\n",
      "Peristiwa: Offers Screen Appear\n",
      "Jumlah pengguna yang melakukan Offers Screen Appear di Kelompok Kontrol: 1520\n",
      "Jumlah pengguna yang melakukan Offers Screen Appear di Kelompok Uji: 1531\n",
      "Statistik uji chi-kuadrat: 0.005174369054812407\n",
      "P-value: 0.9426551583522674\n",
      "Tidak ada perbedaan signifikan antara kelompok\n",
      "\n",
      "Peristiwa: Cart Screen Appear\n",
      "Jumlah pengguna yang melakukan Cart Screen Appear di Kelompok Kontrol: 1266\n",
      "Jumlah pengguna yang melakukan Cart Screen Appear di Kelompok Uji: 1230\n",
      "Statistik uji chi-kuadrat: 2.9985997510243565\n",
      "P-value: 0.08333651388059665\n",
      "Tidak ada perbedaan signifikan antara kelompok\n",
      "\n",
      "Peristiwa: Cart Screen Appear\n",
      "Jumlah pengguna yang melakukan Cart Screen Appear di Kelompok Kontrol: 1238\n",
      "Jumlah pengguna yang melakukan Cart Screen Appear di Kelompok Uji: 1230\n",
      "Statistik uji chi-kuadrat: 0.27799310486659023\n",
      "P-value: 0.598019633888674\n",
      "Tidak ada perbedaan signifikan antara kelompok\n",
      "\n",
      "Peristiwa: Payment Screen Successful\n",
      "Jumlah pengguna yang melakukan Payment Screen Successful di Kelompok Kontrol: 1200\n",
      "Jumlah pengguna yang melakukan Payment Screen Successful di Kelompok Uji: 1181\n",
      "Statistik uji chi-kuadrat: 1.4862622691674576\n",
      "P-value: 0.2227972966802115\n",
      "Tidak ada perbedaan signifikan antara kelompok\n",
      "\n",
      "Peristiwa: Payment Screen Successful\n",
      "Jumlah pengguna yang melakukan Payment Screen Successful di Kelompok Kontrol: 1158\n",
      "Jumlah pengguna yang melakukan Payment Screen Successful di Kelompok Uji: 1181\n",
      "Statistik uji chi-kuadrat: 0.09434423199421821\n",
      "P-value: 0.7587253486753819\n",
      "Tidak ada perbedaan signifikan antara kelompok\n"
     ]
    }
   ],
   "source": [
    "# Membandingkan kelompok pengguna yang diperlihatkan versi font terbaru (kelompok uji) dengan masing-masing kelompok kontrol untuk setiap peristiwa\n",
    "compare_events(group_246, group_248, 'Offers Screen Appear')\n",
    "print()\n",
    "compare_events(group_247, group_248, 'Offers Screen Appear')\n",
    "print()\n",
    "compare_events(group_246, group_248, 'Cart Screen Appear')\n",
    "print()\n",
    "compare_events(group_247, group_248, 'Cart Screen Appear')\n",
    "print()\n",
    "compare_events(group_246, group_248, 'Payment Screen Successful')\n",
    "print()\n",
    "compare_events(group_247, group_248, 'Payment Screen Successful')\n",
    "\n"
   ]
  },
  {
   "cell_type": "code",
   "execution_count": 65,
   "metadata": {},
   "outputs": [
    {
     "name": "stdout",
     "output_type": "stream",
     "text": [
      "Peristiwa: Offers Screen Appear\n",
      "Jumlah pengguna yang melakukan Offers Screen Appear di Kelompok Kontrol: 3062\n",
      "Jumlah pengguna yang melakukan Offers Screen Appear di Kelompok Uji: 1531\n",
      "Statistik uji chi-kuadrat: 0.5729646855803823\n",
      "P-value: 0.44908322853530325\n",
      "Tidak ada perbedaan signifikan antara kelompok\n",
      "\n",
      "Peristiwa: Cart Screen Appear\n",
      "Jumlah pengguna yang melakukan Cart Screen Appear di Kelompok Kontrol: 2504\n",
      "Jumlah pengguna yang melakukan Cart Screen Appear di Kelompok Uji: 1230\n",
      "Statistik uji chi-kuadrat: 1.7186697496225203\n",
      "P-value: 0.18986436746845747\n",
      "Tidak ada perbedaan signifikan antara kelompok\n",
      "\n",
      "Peristiwa: Payment Screen Successful\n",
      "Jumlah pengguna yang melakukan Payment Screen Successful di Kelompok Kontrol: 2358\n",
      "Jumlah pengguna yang melakukan Payment Screen Successful di Kelompok Uji: 1181\n",
      "Statistik uji chi-kuadrat: 0.24936071589156533\n",
      "P-value: 0.6175255771354541\n",
      "Tidak ada perbedaan signifikan antara kelompok\n"
     ]
    }
   ],
   "source": [
    "# Membandingkan kelompok pengguna yang diperlihatkan versi font terbaru (kelompok uji) dengan hasil gabungan kelompok kontrol\n",
    "compare_events(group_246.append(group_247), group_248, 'Offers Screen Appear')\n",
    "print()\n",
    "compare_events(group_246.append(group_247), group_248, 'Cart Screen Appear')\n",
    "print()\n",
    "compare_events(group_246.append(group_247), group_248, 'Payment Screen Successful')\n"
   ]
  },
  {
   "cell_type": "markdown",
   "metadata": {},
   "source": [
    "Kesimpulannya :\n",
    "\n",
    "    Berdasarkan hasil pengujian hipotesis statistik antara kelompok pengguna yang diperlihatkan versi font terbaru (Kelompok Uji) dengan kelompok kontrol (Kelompok Kontrol) untuk setiap peristiwa yang telah dianalisis, dapat disimpulkan bahwa tidak ada perbedaan signifikan antara kedua kelompok untuk peristiwa 'Offers Screen Appear', 'Cart Screen Appear', dan 'Payment Screen Successful'.\n",
    "    ini juga berlaku pada pengujian peristiwa terpopuler terhadap masing-masing kelompok antara Kelompok Uji dengan kelompok kontrol.\n",
    "    \n",
    "    Dalam setiap peristiwa, p-value yang diperoleh lebih besar dari tingkat signifikansi yang ditetapkan, yang menunjukkan bahwa tidak ada bukti yang cukup untuk menyimpulkan adanya perbedaan yang signifikan antara kelompok pengguna yang diperlihatkan versi font terbaru dan kelompok kontrol."
   ]
  },
  {
   "cell_type": "markdown",
   "metadata": {},
   "source": [
    "### Menghitung Tingkat Signifikansi Untuk Menguji Hipotesis Statistik <a id='tujuhempat'></a> "
   ]
  },
  {
   "cell_type": "markdown",
   "metadata": {},
   "source": [
    "Berapa tingkat signifikansi yang Anda tetapkan untuk menguji hipotesis statistik yang disebutkan di atas? Hitung berapa banyak pengujian hipotesis statistik yang telah Anda lakukan. Dengan tingkat signifikansi statistik 0,1 - satu dari 10 hasil bisa saja salah. Berapa tingkat signifikansi yang seharusnya ditetapkan? Jika Anda ingin mengubahnya, jalankan ulang tahap sebelumnya dan periksa kesimpulan Anda."
   ]
  },
  {
   "cell_type": "markdown",
   "metadata": {},
   "source": [
    "Berapa tingkat signifikansi yang Anda tetapkan untuk menguji hipotesis statistik yang disebutkan di atas?\n",
    "\n",
    "Tingkat signifikansi yang dipakai 0.05 (atau 5%). Artinya, jika p-value yang dihasilkan dari pengujian statistik lebih kecil dari 0.05, maka hipotesis nol dapat ditolak dengan tingkat signifikansi 0.05."
   ]
  },
  {
   "cell_type": "markdown",
   "metadata": {},
   "source": [
    "Hitung berapa banyak pengujian hipotesis statistik yang telah Anda lakukan.\n",
    "\n",
    "Lebih dari 10"
   ]
  },
  {
   "cell_type": "markdown",
   "metadata": {},
   "source": [
    "Dengan tingkat signifikansi statistik 0,1 - satu dari 10 hasil bisa saja salah. Berapa tingkat signifikansi yang seharusnya ditetapkan?\n",
    "\n",
    "Tingkat signifikansi yang seharusnya ditetapkan tergantung pada preferensi pelaksana testing terhadap tingkat kesalahan yang dapat diterima dalam pengujian hipotesis statistik. Tingkat signifikansi umum yang sering digunakan adalah 0,05 (5%) atau 0,01 (1%). Pada project kali ini saya memakai angka 0,05."
   ]
  },
  {
   "cell_type": "markdown",
   "metadata": {},
   "source": [
    "Jika Anda ingin mengubahnya, jalankan ulang tahap sebelumnya dan periksa kesimpulan Anda.\n",
    "\n",
    "Pada kesempatan ini, Saya tidak ingin mengubah tingkat signifikasi, sebab angka yang saya pakai 0.05 masih merupakan tingkat signifikasi umum yang sering dipakai.\n",
    "Demikian"
   ]
  },
  {
   "cell_type": "markdown",
   "metadata": {},
   "source": [
    "## Kesimpulan <a id='delapan'></a>"
   ]
  },
  {
   "cell_type": "markdown",
   "metadata": {},
   "source": [
    "Berdasarkan hasil pengujian hipotesis statistik antara kelompok pengguna yang diperlihatkan versi font terbaru (Kelompok Uji) dengan kelompok kontrol (Kelompok Kontrol) untuk setiap peristiwa yang telah dianalisis, p-value yang diperoleh lebih besar dari tingkat signifikansi yang ditetapkan, yang menunjukkan bahwa tidak ada bukti yang cukup untuk menyimpulkan adanya perbedaan yang signifikan antara kelompok pengguna yang diperlihatkan versi font terbaru dan kelompok kontrol."
   ]
  }
 ],
 "metadata": {
  "kernelspec": {
   "display_name": "Python 3 (ipykernel)",
   "language": "python",
   "name": "python3"
  },
  "language_info": {
   "codemirror_mode": {
    "name": "ipython",
    "version": 3
   },
   "file_extension": ".py",
   "mimetype": "text/x-python",
   "name": "python",
   "nbconvert_exporter": "python",
   "pygments_lexer": "ipython3",
   "version": "3.11.3"
  },
  "toc": {
   "base_numbering": 1,
   "nav_menu": {},
   "number_sections": true,
   "sideBar": true,
   "skip_h1_title": true,
   "title_cell": "Table of Contents",
   "title_sidebar": "Contents",
   "toc_cell": false,
   "toc_position": {
    "height": "calc(100% - 180px)",
    "left": "10px",
    "top": "150px",
    "width": "442.934px"
   },
   "toc_section_display": true,
   "toc_window_display": true
  }
 },
 "nbformat": 4,
 "nbformat_minor": 2
}
