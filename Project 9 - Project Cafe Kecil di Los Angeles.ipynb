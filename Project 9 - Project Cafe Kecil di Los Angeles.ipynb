{
 "cells": [
  {
   "cell_type": "markdown",
   "metadata": {},
   "source": [
    "<div style=\"border:solid black 2px; padding: 20px\"><h1 style=\"color:black; margin-bottom:20px\">Reviewer's comment v1</h1>\n",
    "Halo Nelly !\n",
    "\n",
    "Perkenalkan saya Code Reviewers, disini saya akan mereview tugas Nelly ya.\n",
    "\n",
    "Saya akan memberikan beberapa komen seperti dibawah ini, tolong jangan dipindah, dirubah, maupun dihapus ya.\n",
    "\n",
    "Komen yang saya berikan akan muncul dalam warna hijau, kuning, atau pun merah seperti ini:\n",
    "\n",
    "<div class=\"alert alert-success\">\n",
    "<b>Code Reviewers's comment v.1</b> <a class=\"tocSkip\"></a>\n",
    "\n",
    "Bagus, semua berjalan lancar.\n",
    "\n",
    "</div>\n",
    "\n",
    "<div class=\"alert alert-warning\">\n",
    "<b>Code Reviewers's comment v.1</b> <a class=\"tocSkip\"></a>\n",
    "\n",
    "Terdapat beberapa catatan.\n",
    "\n",
    "</div>\n",
    "\n",
    "<div class=\"alert alert-danger\">\n",
    "<b>Code Reviewers's comment v.1</b> <a class=\"tocSkip\"></a>\n",
    "\n",
    "Perlu beberapa perbaikan\n",
    "\n",
    "</div>\n",
    "\n",
    "Dan tentu saja Nelly dapat menjawab saya dengan menggunakan ini\n",
    "\n",
    "<div class=\"alert alert-block alert-info\">\n",
    "<b>Student answer.</b> <a class=\"tocSkip\"></a>\n",
    "    \n",
    "Baik kak\n",
    "</div>"
   ]
  },
  {
   "cell_type": "markdown",
   "metadata": {},
   "source": [
    "# Analisa Toko Daring Besar Menjalankan Testing A/B\n",
    "\n",
    "Anda telah memutuskan untuk membuka sebuah kafe kecil di Los Angeles. Kafe Anda bisa dibilang cukup unik, karena Anda \"memperkerjakan\" robot sebagai pelayan atau pramusaji. Proyek ini memang menjanjikan, namun membutuhkan modal yang besar. Oleh karena itu, Anda dan para mitra Anda memutuskan untuk menarik minat investor. Mereka tertarik dengan kondisi pasar saat ini—namun, mampukah Anda mempertahankan kesuksesan saat daya tarik sang robot mulai pudar?\n",
    "Mengingat Anda adalah seorang pakar analisis, para mitra pun meminta Anda untuk mempersiapkan sejumlah riset pasar. Anda memiliki data dari sumber terbuka (open source) terkait jenis-jenis usaha tempat makan di LA."
   ]
  },
  {
   "cell_type": "markdown",
   "metadata": {},
   "source": [
    "## Konten <a id='back'></a>\n",
    "\n",
    "* [2. Pendahuluan](#intro)\n",
    "    * [2.1 Tujuan](#tujuan)\n",
    "    * [2.2 Tahapan](#tahapan)\n",
    "* [3  Mengunduh data dan menyiapkannya untuk analisis](#data_review)\n",
    "    * [3.1 Memuat Data](#memuat_data)\n",
    "    * [3.2 Mempersiapkan Data](#data_prepare)\n",
    "    * [3.3. Data Cleaning DataFrame data_rest](#data_cleaning)\n",
    "* [4. Analisa data](#data_analysis)\n",
    "    * [4.1  Proporsi Dari Berbagai Jenis Usaha](#data_jenis_usaha)\n",
    "    * [4.2  Proporsi Waralaba Dan Nonwaralaba](#data_proportion)\n",
    "    * [4.3  Jenis Usaha Berbasis Waralaba](#data_waralaba)\n",
    "    * [4.4  Meneliti Ciri-Ciri Dari Jenis Usaha Berbasis Waralaba](#data_ciriciri)\n",
    "    * [4.5  Rata-Rata Kursi Untuk Setiap Jenis Usaha](#data_avg)\n",
    "    * [4.6  Pindahkan Data Nama Jalan](#data_move)\n",
    "    * [4.7  Grafik Menampilkan Sepuluh Nama Jalan Teratas](#data_topten)\n",
    "    * [4.8  Jumlah Jalan Yang Hanya Memiliki Satu Usaha](#data_mount_street)\n",
    "    * [4.9  Distribusi Jumlah Kursi Di Jalan Yang Dihuni Oleh Banyak Usaha](#data_distribution)\n",
    "* [5. Mempersiapkan presentasi](#data_presentation)\n",
    "* [6. Kesimpulan](#data_conclusions)\n",
    "\n",
    "\n",
    "\n"
   ]
  },
  {
   "cell_type": "markdown",
   "metadata": {},
   "source": [
    "## Pendahuluan <a id='intro'></a>\n",
    "\n",
    "Pendahuluan:\n",
    "\n",
    "Selamat datang, para investor yang terhormat!\n",
    "\n",
    "Dalam kesempatan ini, kami ingin mempersembahkan kepada Anda hasil penelitian yang telah kami lakukan terkait potensi bisnis di sektor makanan. Penelitian ini bertujuan untuk memberikan gambaran yang komprehensif mengenai jenis usaha, jumlah kursi, dan peluang pengembangan usaha berbasis waralaba.\n",
    "\n",
    "Dalam penelitian ini, kami menggunakan data terkait usaha-usaha makanan yang berlokasi di berbagai wilayah. Data tersebut mencakup informasi tentang jenis usaha, jumlah kursi, dan lokasi usaha. Kami telah menganalisis data ini secara menyeluruh dan menyajikan temuan-temuan yang menarik untuk menjadi bahan pertimbangan Anda.\n",
    "\n",
    "\n",
    "### Tujuan: <a id='tujuan'></a> \n",
    "Berikut tujuan:\n",
    "\n",
    "1. Menganalisis jenis usaha yang paling dominan dalam sektor makanan: Kami ingin mengidentifikasi jenis usaha yang paling banyak ditemukan dalam data kami. \n",
    "\n",
    "2. Mengeksplorasi distribusi jumlah kursi di tempat makan: Kami akan menganalisis distribusi jumlah kursi pada tempat makan yang berbeda.   \n",
    "\n",
    "3. Menyajikan fokus khusus pada peluang pengembangan usaha berbasis waralaba: Kami akan menganalisis data yang berkaitan dengan usaha-usaha berbasis waralaba. \n",
    "\n",
    "\n",
    "\n",
    "\n",
    "### Tahapan <a id='tahapan'></a> \n",
    "\n",
    "dataframe yang disediakan : \"/datasets/rest_data_us.csv\"\n",
    "                            \n",
    "Tahapan Penelitian:\n",
    "\n",
    "1. Pengumpulan Data.\n",
    "\n",
    "2. Pemrosesan Data.\n",
    "\n",
    "3. Analisis Jenis Usaha. \n",
    "\n",
    "4. Analisis Distribusi Jumlah Kursi.  \n",
    "\n",
    "5. Analisis Usaha Berbasis Waralaba.\n",
    "\n",
    "6. Konversi ke Format PDF.\n",
    "\n",
    "6. Kesimpulan dan Rekomendasi.\n",
    "\n",
    "\n",
    "[Kembali ke Konten](#back)"
   ]
  },
  {
   "cell_type": "markdown",
   "metadata": {},
   "source": [
    "<div class=\"alert alert-success\">\n",
    "<b>Code Reviewers's comment v.1</b> <a class=\"tocSkip\"></a>\n",
    "\n",
    "Bagus, semua berjalan lancar.\n",
    "\n",
    "</div>"
   ]
  },
  {
   "cell_type": "markdown",
   "metadata": {},
   "source": [
    "## Mengunduh data dan menyiapkannya untuk analisis <a id='data_review'></a> "
   ]
  },
  {
   "cell_type": "markdown",
   "metadata": {},
   "source": [
    "### Memuat Data  <a id='memuat_data'></a> "
   ]
  },
  {
   "cell_type": "code",
   "execution_count": 1,
   "metadata": {},
   "outputs": [],
   "source": [
    "# Muat semua library\n",
    "import pandas as pd\n",
    "import matplotlib.pyplot as plt\n",
    "import numpy as np"
   ]
  },
  {
   "cell_type": "markdown",
   "metadata": {},
   "source": [
    "### Mempersiapkan Data <a id='data_prepare'></a> "
   ]
  },
  {
   "cell_type": "code",
   "execution_count": 2,
   "metadata": {},
   "outputs": [],
   "source": [
    "# load the dataset\n",
    "path = 'C://Users//ASUS//Downloads'\n",
    "\n",
    "try:\n",
    "    data_rest = pd.read_csv(path + 'rest_data_us.csv')\n",
    "except:\n",
    "    data_rest = pd.read_csv('/datasets/rest_data_us.csv')"
   ]
  },
  {
   "cell_type": "markdown",
   "metadata": {},
   "source": [
    "<div class=\"alert alert-success\">\n",
    "<b>Code Reviewers's comment v.1</b> <a class=\"tocSkip\"></a>\n",
    "\n",
    "Bagus, semua berjalan lancar.\n",
    "\n",
    "</div>"
   ]
  },
  {
   "cell_type": "markdown",
   "metadata": {},
   "source": [
    "### Data Cleaning DataFrame Data_rest <a id='data_cleaning'></a> "
   ]
  },
  {
   "cell_type": "code",
   "execution_count": 3,
   "metadata": {},
   "outputs": [
    {
     "data": {
      "text/html": [
       "<div>\n",
       "<style scoped>\n",
       "    .dataframe tbody tr th:only-of-type {\n",
       "        vertical-align: middle;\n",
       "    }\n",
       "\n",
       "    .dataframe tbody tr th {\n",
       "        vertical-align: top;\n",
       "    }\n",
       "\n",
       "    .dataframe thead th {\n",
       "        text-align: right;\n",
       "    }\n",
       "</style>\n",
       "<table border=\"1\" class=\"dataframe\">\n",
       "  <thead>\n",
       "    <tr style=\"text-align: right;\">\n",
       "      <th></th>\n",
       "      <th>id</th>\n",
       "      <th>object_name</th>\n",
       "      <th>address</th>\n",
       "      <th>chain</th>\n",
       "      <th>object_type</th>\n",
       "      <th>number</th>\n",
       "    </tr>\n",
       "  </thead>\n",
       "  <tbody>\n",
       "    <tr>\n",
       "      <th>0</th>\n",
       "      <td>11786</td>\n",
       "      <td>HABITAT COFFEE SHOP</td>\n",
       "      <td>3708 N EAGLE ROCK BLVD</td>\n",
       "      <td>False</td>\n",
       "      <td>Cafe</td>\n",
       "      <td>26</td>\n",
       "    </tr>\n",
       "    <tr>\n",
       "      <th>1</th>\n",
       "      <td>11787</td>\n",
       "      <td>REILLY'S</td>\n",
       "      <td>100 WORLD WAY # 120</td>\n",
       "      <td>False</td>\n",
       "      <td>Restaurant</td>\n",
       "      <td>9</td>\n",
       "    </tr>\n",
       "    <tr>\n",
       "      <th>2</th>\n",
       "      <td>11788</td>\n",
       "      <td>STREET CHURROS</td>\n",
       "      <td>6801 HOLLYWOOD BLVD # 253</td>\n",
       "      <td>False</td>\n",
       "      <td>Fast Food</td>\n",
       "      <td>20</td>\n",
       "    </tr>\n",
       "    <tr>\n",
       "      <th>3</th>\n",
       "      <td>11789</td>\n",
       "      <td>TRINITI ECHO PARK</td>\n",
       "      <td>1814 W SUNSET BLVD</td>\n",
       "      <td>False</td>\n",
       "      <td>Restaurant</td>\n",
       "      <td>22</td>\n",
       "    </tr>\n",
       "    <tr>\n",
       "      <th>4</th>\n",
       "      <td>11790</td>\n",
       "      <td>POLLEN</td>\n",
       "      <td>2100 ECHO PARK AVE</td>\n",
       "      <td>False</td>\n",
       "      <td>Restaurant</td>\n",
       "      <td>20</td>\n",
       "    </tr>\n",
       "    <tr>\n",
       "      <th>5</th>\n",
       "      <td>11791</td>\n",
       "      <td>THE SPOT GRILL</td>\n",
       "      <td>10004 NATIONAL BLVD</td>\n",
       "      <td>False</td>\n",
       "      <td>Restaurant</td>\n",
       "      <td>14</td>\n",
       "    </tr>\n",
       "    <tr>\n",
       "      <th>6</th>\n",
       "      <td>11792</td>\n",
       "      <td>CPK</td>\n",
       "      <td>100 WORLD WAY # 126</td>\n",
       "      <td>False</td>\n",
       "      <td>Restaurant</td>\n",
       "      <td>100</td>\n",
       "    </tr>\n",
       "    <tr>\n",
       "      <th>7</th>\n",
       "      <td>11793</td>\n",
       "      <td>PHO LALA</td>\n",
       "      <td>3500 W 6TH ST STE 226</td>\n",
       "      <td>False</td>\n",
       "      <td>Restaurant</td>\n",
       "      <td>7</td>\n",
       "    </tr>\n",
       "    <tr>\n",
       "      <th>8</th>\n",
       "      <td>11794</td>\n",
       "      <td>ABC DONUTS</td>\n",
       "      <td>3027 N SAN FERNANDO RD UNIT 103</td>\n",
       "      <td>True</td>\n",
       "      <td>Fast Food</td>\n",
       "      <td>1</td>\n",
       "    </tr>\n",
       "    <tr>\n",
       "      <th>9</th>\n",
       "      <td>11795</td>\n",
       "      <td>UPSTAIRS</td>\n",
       "      <td>3707 N CAHUENGA BLVD</td>\n",
       "      <td>False</td>\n",
       "      <td>Restaurant</td>\n",
       "      <td>35</td>\n",
       "    </tr>\n",
       "  </tbody>\n",
       "</table>\n",
       "</div>"
      ],
      "text/plain": [
       "      id          object_name                          address  chain  \\\n",
       "0  11786  HABITAT COFFEE SHOP           3708 N EAGLE ROCK BLVD  False   \n",
       "1  11787             REILLY'S              100 WORLD WAY # 120  False   \n",
       "2  11788       STREET CHURROS        6801 HOLLYWOOD BLVD # 253  False   \n",
       "3  11789    TRINITI ECHO PARK               1814 W SUNSET BLVD  False   \n",
       "4  11790               POLLEN               2100 ECHO PARK AVE  False   \n",
       "5  11791       THE SPOT GRILL              10004 NATIONAL BLVD  False   \n",
       "6  11792                  CPK              100 WORLD WAY # 126  False   \n",
       "7  11793             PHO LALA            3500 W 6TH ST STE 226  False   \n",
       "8  11794           ABC DONUTS  3027 N SAN FERNANDO RD UNIT 103   True   \n",
       "9  11795             UPSTAIRS             3707 N CAHUENGA BLVD  False   \n",
       "\n",
       "  object_type  number  \n",
       "0        Cafe      26  \n",
       "1  Restaurant       9  \n",
       "2   Fast Food      20  \n",
       "3  Restaurant      22  \n",
       "4  Restaurant      20  \n",
       "5  Restaurant      14  \n",
       "6  Restaurant     100  \n",
       "7  Restaurant       7  \n",
       "8   Fast Food       1  \n",
       "9  Restaurant      35  "
      ]
     },
     "execution_count": 3,
     "metadata": {},
     "output_type": "execute_result"
    }
   ],
   "source": [
    "data_rest.head(10)"
   ]
  },
  {
   "cell_type": "code",
   "execution_count": 4,
   "metadata": {},
   "outputs": [
    {
     "name": "stdout",
     "output_type": "stream",
     "text": [
      "<class 'pandas.core.frame.DataFrame'>\n",
      "RangeIndex: 9651 entries, 0 to 9650\n",
      "Data columns (total 6 columns):\n",
      " #   Column       Non-Null Count  Dtype \n",
      "---  ------       --------------  ----- \n",
      " 0   id           9651 non-null   int64 \n",
      " 1   object_name  9651 non-null   object\n",
      " 2   address      9651 non-null   object\n",
      " 3   chain        9648 non-null   object\n",
      " 4   object_type  9651 non-null   object\n",
      " 5   number       9651 non-null   int64 \n",
      "dtypes: int64(2), object(4)\n",
      "memory usage: 452.5+ KB\n"
     ]
    }
   ],
   "source": [
    "# Menampilkan informasi di dataset data_rest\n",
    "data_rest.info()"
   ]
  },
  {
   "cell_type": "code",
   "execution_count": 5,
   "metadata": {},
   "outputs": [
    {
     "data": {
      "text/html": [
       "<div>\n",
       "<style scoped>\n",
       "    .dataframe tbody tr th:only-of-type {\n",
       "        vertical-align: middle;\n",
       "    }\n",
       "\n",
       "    .dataframe tbody tr th {\n",
       "        vertical-align: top;\n",
       "    }\n",
       "\n",
       "    .dataframe thead th {\n",
       "        text-align: right;\n",
       "    }\n",
       "</style>\n",
       "<table border=\"1\" class=\"dataframe\">\n",
       "  <thead>\n",
       "    <tr style=\"text-align: right;\">\n",
       "      <th></th>\n",
       "      <th>id</th>\n",
       "      <th>number</th>\n",
       "    </tr>\n",
       "  </thead>\n",
       "  <tbody>\n",
       "    <tr>\n",
       "      <th>count</th>\n",
       "      <td>9651.000000</td>\n",
       "      <td>9651.000000</td>\n",
       "    </tr>\n",
       "    <tr>\n",
       "      <th>mean</th>\n",
       "      <td>16611.000000</td>\n",
       "      <td>43.695161</td>\n",
       "    </tr>\n",
       "    <tr>\n",
       "      <th>std</th>\n",
       "      <td>2786.148058</td>\n",
       "      <td>47.622874</td>\n",
       "    </tr>\n",
       "    <tr>\n",
       "      <th>min</th>\n",
       "      <td>11786.000000</td>\n",
       "      <td>1.000000</td>\n",
       "    </tr>\n",
       "    <tr>\n",
       "      <th>25%</th>\n",
       "      <td>14198.500000</td>\n",
       "      <td>14.000000</td>\n",
       "    </tr>\n",
       "    <tr>\n",
       "      <th>50%</th>\n",
       "      <td>16611.000000</td>\n",
       "      <td>27.000000</td>\n",
       "    </tr>\n",
       "    <tr>\n",
       "      <th>75%</th>\n",
       "      <td>19023.500000</td>\n",
       "      <td>46.000000</td>\n",
       "    </tr>\n",
       "    <tr>\n",
       "      <th>max</th>\n",
       "      <td>21436.000000</td>\n",
       "      <td>229.000000</td>\n",
       "    </tr>\n",
       "  </tbody>\n",
       "</table>\n",
       "</div>"
      ],
      "text/plain": [
       "                 id       number\n",
       "count   9651.000000  9651.000000\n",
       "mean   16611.000000    43.695161\n",
       "std     2786.148058    47.622874\n",
       "min    11786.000000     1.000000\n",
       "25%    14198.500000    14.000000\n",
       "50%    16611.000000    27.000000\n",
       "75%    19023.500000    46.000000\n",
       "max    21436.000000   229.000000"
      ]
     },
     "execution_count": 5,
     "metadata": {},
     "output_type": "execute_result"
    }
   ],
   "source": [
    "data_rest.describe()"
   ]
  },
  {
   "cell_type": "code",
   "execution_count": 6,
   "metadata": {},
   "outputs": [
    {
     "data": {
      "text/plain": [
       "id             0\n",
       "object_name    0\n",
       "address        0\n",
       "chain          3\n",
       "object_type    0\n",
       "number         0\n",
       "dtype: int64"
      ]
     },
     "execution_count": 6,
     "metadata": {},
     "output_type": "execute_result"
    }
   ],
   "source": [
    "#Menampilkan kolom yang bernilai null\n",
    "data_rest.isnull().sum()"
   ]
  },
  {
   "cell_type": "code",
   "execution_count": 7,
   "metadata": {},
   "outputs": [
    {
     "data": {
      "text/html": [
       "<div>\n",
       "<style scoped>\n",
       "    .dataframe tbody tr th:only-of-type {\n",
       "        vertical-align: middle;\n",
       "    }\n",
       "\n",
       "    .dataframe tbody tr th {\n",
       "        vertical-align: top;\n",
       "    }\n",
       "\n",
       "    .dataframe thead th {\n",
       "        text-align: right;\n",
       "    }\n",
       "</style>\n",
       "<table border=\"1\" class=\"dataframe\">\n",
       "  <thead>\n",
       "    <tr style=\"text-align: right;\">\n",
       "      <th></th>\n",
       "      <th>id</th>\n",
       "      <th>object_name</th>\n",
       "      <th>address</th>\n",
       "      <th>chain</th>\n",
       "      <th>object_type</th>\n",
       "      <th>number</th>\n",
       "    </tr>\n",
       "  </thead>\n",
       "  <tbody>\n",
       "    <tr>\n",
       "      <th>7408</th>\n",
       "      <td>19194</td>\n",
       "      <td>TAQUERIA LOS 3 CARNALES</td>\n",
       "      <td>5000 E WHITTIER BLVD</td>\n",
       "      <td>NaN</td>\n",
       "      <td>Restaurant</td>\n",
       "      <td>14</td>\n",
       "    </tr>\n",
       "    <tr>\n",
       "      <th>7523</th>\n",
       "      <td>19309</td>\n",
       "      <td>JAMMIN JIMMY'S PIZZA</td>\n",
       "      <td>1641 FIRESTONE BLVD</td>\n",
       "      <td>NaN</td>\n",
       "      <td>Pizza</td>\n",
       "      <td>1</td>\n",
       "    </tr>\n",
       "    <tr>\n",
       "      <th>8648</th>\n",
       "      <td>20434</td>\n",
       "      <td>THE LEXINGTON THEATER</td>\n",
       "      <td>129 E 3RD ST</td>\n",
       "      <td>NaN</td>\n",
       "      <td>Restaurant</td>\n",
       "      <td>35</td>\n",
       "    </tr>\n",
       "  </tbody>\n",
       "</table>\n",
       "</div>"
      ],
      "text/plain": [
       "         id              object_name               address chain object_type  \\\n",
       "7408  19194  TAQUERIA LOS 3 CARNALES  5000 E WHITTIER BLVD   NaN  Restaurant   \n",
       "7523  19309     JAMMIN JIMMY'S PIZZA   1641 FIRESTONE BLVD   NaN       Pizza   \n",
       "8648  20434    THE LEXINGTON THEATER          129 E 3RD ST   NaN  Restaurant   \n",
       "\n",
       "      number  \n",
       "7408      14  \n",
       "7523       1  \n",
       "8648      35  "
      ]
     },
     "execution_count": 7,
     "metadata": {},
     "output_type": "execute_result"
    }
   ],
   "source": [
    "# Assuming `data_rest` is your DataFrame\n",
    "null_values = data_rest[data_rest.isnull().any(axis=1)]\n",
    "null_values"
   ]
  },
  {
   "cell_type": "code",
   "execution_count": 8,
   "metadata": {},
   "outputs": [
    {
     "data": {
      "text/plain": [
       "array([False, True, nan], dtype=object)"
      ]
     },
     "execution_count": 8,
     "metadata": {},
     "output_type": "execute_result"
    }
   ],
   "source": [
    "data_rest['chain'].unique()"
   ]
  },
  {
   "cell_type": "code",
   "execution_count": 9,
   "metadata": {},
   "outputs": [],
   "source": [
    "# Mengisi nilai yang kosong di kolom 'chain' berdasarkan kondisi\n",
    "data_rest.loc[(data_rest['chain'].isnull()) & (data_rest['number'] == 1), 'chain'] = True\n",
    "data_rest.loc[(data_rest['chain'].isnull()) & (data_rest['number'] > 1), 'chain'] = False\n"
   ]
  },
  {
   "cell_type": "code",
   "execution_count": 10,
   "metadata": {},
   "outputs": [
    {
     "data": {
      "text/html": [
       "<div>\n",
       "<style scoped>\n",
       "    .dataframe tbody tr th:only-of-type {\n",
       "        vertical-align: middle;\n",
       "    }\n",
       "\n",
       "    .dataframe tbody tr th {\n",
       "        vertical-align: top;\n",
       "    }\n",
       "\n",
       "    .dataframe thead th {\n",
       "        text-align: right;\n",
       "    }\n",
       "</style>\n",
       "<table border=\"1\" class=\"dataframe\">\n",
       "  <thead>\n",
       "    <tr style=\"text-align: right;\">\n",
       "      <th></th>\n",
       "      <th>id</th>\n",
       "      <th>object_name</th>\n",
       "      <th>address</th>\n",
       "      <th>chain</th>\n",
       "      <th>object_type</th>\n",
       "      <th>number</th>\n",
       "    </tr>\n",
       "  </thead>\n",
       "  <tbody>\n",
       "  </tbody>\n",
       "</table>\n",
       "</div>"
      ],
      "text/plain": [
       "Empty DataFrame\n",
       "Columns: [id, object_name, address, chain, object_type, number]\n",
       "Index: []"
      ]
     },
     "execution_count": 10,
     "metadata": {},
     "output_type": "execute_result"
    }
   ],
   "source": [
    "# Assuming `data_rest` is your DataFrame\n",
    "null_values = data_rest[data_rest.isnull().any(axis=1)]\n",
    "null_values"
   ]
  },
  {
   "cell_type": "code",
   "execution_count": 11,
   "metadata": {},
   "outputs": [
    {
     "data": {
      "text/plain": [
       "0"
      ]
     },
     "execution_count": 11,
     "metadata": {},
     "output_type": "execute_result"
    }
   ],
   "source": [
    "data_rest.duplicated().sum()"
   ]
  },
  {
   "cell_type": "code",
   "execution_count": 12,
   "metadata": {},
   "outputs": [
    {
     "data": {
      "text/plain": [
       "id             0\n",
       "object_name    0\n",
       "address        0\n",
       "chain          0\n",
       "object_type    0\n",
       "number         0\n",
       "dtype: int64"
      ]
     },
     "execution_count": 12,
     "metadata": {},
     "output_type": "execute_result"
    }
   ],
   "source": [
    "data_rest.isnull().sum()"
   ]
  },
  {
   "cell_type": "code",
   "execution_count": 13,
   "metadata": {},
   "outputs": [
    {
     "name": "stdout",
     "output_type": "stream",
     "text": [
      "<class 'pandas.core.frame.DataFrame'>\n",
      "RangeIndex: 9651 entries, 0 to 9650\n",
      "Data columns (total 6 columns):\n",
      " #   Column       Non-Null Count  Dtype \n",
      "---  ------       --------------  ----- \n",
      " 0   id           9651 non-null   int64 \n",
      " 1   object_name  9651 non-null   object\n",
      " 2   address      9651 non-null   object\n",
      " 3   chain        9651 non-null   object\n",
      " 4   object_type  9651 non-null   object\n",
      " 5   number       9651 non-null   int64 \n",
      "dtypes: int64(2), object(4)\n",
      "memory usage: 452.5+ KB\n"
     ]
    }
   ],
   "source": [
    "data_rest.info()"
   ]
  },
  {
   "cell_type": "markdown",
   "metadata": {},
   "source": [
    "<div class=\"alert alert-success\">\n",
    "<b>Code Reviewers's comment v.1</b> <a class=\"tocSkip\"></a>\n",
    "\n",
    "Bagus, semua berjalan lancar.\n",
    "\n",
    "</div>"
   ]
  },
  {
   "cell_type": "markdown",
   "metadata": {},
   "source": [
    "## Analisa Data <a id='data_analysis'></a> "
   ]
  },
  {
   "cell_type": "markdown",
   "metadata": {},
   "source": [
    "### Proporsi Dari Berbagai Jenis Usaha <a id='data_jenis_usaha'></a>"
   ]
  },
  {
   "cell_type": "markdown",
   "metadata": {},
   "source": [
    "Teliti proporsi dari berbagai jenis usaha. Buatlah grafiknya."
   ]
  },
  {
   "cell_type": "code",
   "execution_count": 14,
   "metadata": {},
   "outputs": [
    {
     "data": {
      "text/plain": [
       "Restaurant    7255\n",
       "Fast Food     1066\n",
       "Cafe           435\n",
       "Pizza          320\n",
       "Bar            292\n",
       "Bakery         283\n",
       "Name: object_type, dtype: int64"
      ]
     },
     "execution_count": 14,
     "metadata": {},
     "output_type": "execute_result"
    }
   ],
   "source": [
    "#Mencari nilai persentase proporsi dari tiap usaha\n",
    "\n",
    "import matplotlib.pyplot as plt\n",
    "\n",
    "# Assuming `data_rest` is your DataFrame\n",
    "business_counts = data_rest['object_type'].value_counts()\n",
    "\n",
    "business_counts"
   ]
  },
  {
   "cell_type": "code",
   "execution_count": 15,
   "metadata": {},
   "outputs": [
    {
     "data": {
      "image/png": "[encoded data removed]",
      "text/plain": [
       "<Figure size 864x432 with 1 Axes>"
      ]
     },
     "metadata": {},
     "output_type": "display_data"
    }
   ],
   "source": [
    "import matplotlib.pyplot as plt\n",
    "\n",
    "# Data proporsi usaha\n",
    "business_counts = data_rest['object_type'].value_counts()\n",
    "\n",
    "# Membuat grafik pie\n",
    "plt.figure(figsize=(12, 6))\n",
    "plt.style.use('seaborn')\n",
    "plt.pie(business_counts.values, labels=business_counts.index, autopct='%1.1f%%')\n",
    "\n",
    "# Mengatur judul\n",
    "plt.title('Proporsi Jenis Usaha')\n",
    "\n",
    "# Menampilkan grafik\n",
    "plt.show()\n"
   ]
  },
  {
   "cell_type": "markdown",
   "metadata": {},
   "source": [
    "Kesimpulan : \n",
    "\n",
    "    1. Jenis usaha Restauran memiliki porsi nilai yang sangat tinggi, lebih dari 75% dibanding dengan jenis lainnya. \n",
    "    \n",
    "    2. Pengembangan jenis usaha di bidang Restaurant sangat menjanjikan kedepannya.\n",
    "    \n",
    "    3. Fast food 11%, Cafe 1.5% dan pizza 3.3% adalah urutan selanjutnya setelah Restaurant di data Proporsi Jenis usaha"
   ]
  },
  {
   "cell_type": "markdown",
   "metadata": {},
   "source": [
    "<div class=\"alert alert-success\">\n",
    "<b>Code Reviewers's comment v.1</b> <a class=\"tocSkip\"></a>\n",
    "\n",
    "Bagus, semua berjalan lancar.\n",
    "\n",
    "</div>"
   ]
  },
  {
   "cell_type": "markdown",
   "metadata": {},
   "source": [
    "### Proporsi Waralaba Dan Nonwaralaba <a id='data_proportion'></a>"
   ]
  },
  {
   "cell_type": "markdown",
   "metadata": {},
   "source": [
    "Teliti proporsi dari usaha berbasis waralaba dan nonwaralaba. Buatlah grafiknya."
   ]
  },
  {
   "cell_type": "code",
   "execution_count": 16,
   "metadata": {},
   "outputs": [
    {
     "data": {
      "text/plain": [
       "False    5974\n",
       "True     3677\n",
       "Name: chain, dtype: int64"
      ]
     },
     "execution_count": 16,
     "metadata": {},
     "output_type": "execute_result"
    }
   ],
   "source": [
    "proporsi_waralaba = data_rest['chain'].value_counts()\n",
    "proporsi_waralaba"
   ]
  },
  {
   "cell_type": "code",
   "execution_count": 17,
   "metadata": {},
   "outputs": [
    {
     "data": {
      "image/png": "[encoded data removed]",
      "text/plain": [
       "<Figure size 864x432 with 1 Axes>"
      ]
     },
     "metadata": {},
     "output_type": "display_data"
    }
   ],
   "source": [
    "# Menghitung nilai proporsi waralaba dan nonwaralaba\n",
    "proporsi_waralaba = data_rest['chain'].value_counts()\n",
    "\n",
    "plt.label = ['False - Bukan Waralaba', 'True - Waralaba']\n",
    "\n",
    "# Membuat grafik pie dengan label yang telah diubah\n",
    "plt.figure(figsize=(12, 6))\n",
    "plt.style.use('seaborn-talk')\n",
    "plt.pie(proporsi_waralaba.values, labels=proporsi_waralaba.index, autopct='%1.1f%%')\n",
    "\n",
    "# Mengatur judul\n",
    "plt.title('Proporsi Usaha Berbasis Waralaba')\n",
    "\n",
    "# Menambahkan legend dengan posisi 'right'\n",
    "plt.legend(loc='right')\n",
    "\n",
    "\n",
    "# Menampilkan grafik\n",
    "plt.show()\n"
   ]
  },
  {
   "cell_type": "markdown",
   "metadata": {},
   "source": [
    "Keterangan : \n",
    "    \n",
    "    True(Hijau) = Waralaba \n",
    "    \n",
    "    False(Biru) = Non-Waralaba"
   ]
  },
  {
   "cell_type": "markdown",
   "metadata": {},
   "source": [
    "Kesimpulan :\n",
    "    Terlihat proporsi usaha berbasis non-waralaba memiliki nilai hampir 62% dibanding dengan usaha waralaba hanya sebesar 38.1%"
   ]
  },
  {
   "cell_type": "markdown",
   "metadata": {},
   "source": [
    "<div class=\"alert alert-success\">\n",
    "<b>Code Reviewers's comment v.1</b> <a class=\"tocSkip\"></a>\n",
    "\n",
    "Bagus, semua berjalan lancar.\n",
    "\n",
    "</div>"
   ]
  },
  {
   "cell_type": "markdown",
   "metadata": {},
   "source": [
    "### Jenis Usaha Berbasis Waralaba <a id='data_waralaba'></a>"
   ]
  },
  {
   "cell_type": "markdown",
   "metadata": {},
   "source": [
    "Jenis usaha manakah yang biasanya merupakan usaha berbasis waralaba?"
   ]
  },
  {
   "cell_type": "code",
   "execution_count": 18,
   "metadata": {},
   "outputs": [
    {
     "data": {
      "text/html": [
       "<div>\n",
       "<style scoped>\n",
       "    .dataframe tbody tr th:only-of-type {\n",
       "        vertical-align: middle;\n",
       "    }\n",
       "\n",
       "    .dataframe tbody tr th {\n",
       "        vertical-align: top;\n",
       "    }\n",
       "\n",
       "    .dataframe thead th {\n",
       "        text-align: right;\n",
       "    }\n",
       "</style>\n",
       "<table border=\"1\" class=\"dataframe\">\n",
       "  <thead>\n",
       "    <tr style=\"text-align: right;\">\n",
       "      <th></th>\n",
       "      <th>id</th>\n",
       "      <th>object_name</th>\n",
       "      <th>address</th>\n",
       "      <th>chain</th>\n",
       "      <th>object_type</th>\n",
       "      <th>number</th>\n",
       "    </tr>\n",
       "  </thead>\n",
       "  <tbody>\n",
       "    <tr>\n",
       "      <th>0</th>\n",
       "      <td>11786</td>\n",
       "      <td>HABITAT COFFEE SHOP</td>\n",
       "      <td>3708 N EAGLE ROCK BLVD</td>\n",
       "      <td>False</td>\n",
       "      <td>Cafe</td>\n",
       "      <td>26</td>\n",
       "    </tr>\n",
       "    <tr>\n",
       "      <th>1</th>\n",
       "      <td>11787</td>\n",
       "      <td>REILLY'S</td>\n",
       "      <td>100 WORLD WAY # 120</td>\n",
       "      <td>False</td>\n",
       "      <td>Restaurant</td>\n",
       "      <td>9</td>\n",
       "    </tr>\n",
       "    <tr>\n",
       "      <th>2</th>\n",
       "      <td>11788</td>\n",
       "      <td>STREET CHURROS</td>\n",
       "      <td>6801 HOLLYWOOD BLVD # 253</td>\n",
       "      <td>False</td>\n",
       "      <td>Fast Food</td>\n",
       "      <td>20</td>\n",
       "    </tr>\n",
       "    <tr>\n",
       "      <th>3</th>\n",
       "      <td>11789</td>\n",
       "      <td>TRINITI ECHO PARK</td>\n",
       "      <td>1814 W SUNSET BLVD</td>\n",
       "      <td>False</td>\n",
       "      <td>Restaurant</td>\n",
       "      <td>22</td>\n",
       "    </tr>\n",
       "    <tr>\n",
       "      <th>4</th>\n",
       "      <td>11790</td>\n",
       "      <td>POLLEN</td>\n",
       "      <td>2100 ECHO PARK AVE</td>\n",
       "      <td>False</td>\n",
       "      <td>Restaurant</td>\n",
       "      <td>20</td>\n",
       "    </tr>\n",
       "    <tr>\n",
       "      <th>...</th>\n",
       "      <td>...</td>\n",
       "      <td>...</td>\n",
       "      <td>...</td>\n",
       "      <td>...</td>\n",
       "      <td>...</td>\n",
       "      <td>...</td>\n",
       "    </tr>\n",
       "    <tr>\n",
       "      <th>9646</th>\n",
       "      <td>21432</td>\n",
       "      <td>HALL OF JUSTICE</td>\n",
       "      <td>217 W TEMPLE AVE</td>\n",
       "      <td>False</td>\n",
       "      <td>Restaurant</td>\n",
       "      <td>122</td>\n",
       "    </tr>\n",
       "    <tr>\n",
       "      <th>9647</th>\n",
       "      <td>21433</td>\n",
       "      <td>FIN-MELROSE</td>\n",
       "      <td>5750 MELROSE AVE</td>\n",
       "      <td>False</td>\n",
       "      <td>Restaurant</td>\n",
       "      <td>93</td>\n",
       "    </tr>\n",
       "    <tr>\n",
       "      <th>9648</th>\n",
       "      <td>21434</td>\n",
       "      <td>JUICY WINGZ</td>\n",
       "      <td>6741 HOLLYWOOD BLVD</td>\n",
       "      <td>True</td>\n",
       "      <td>Fast Food</td>\n",
       "      <td>15</td>\n",
       "    </tr>\n",
       "    <tr>\n",
       "      <th>9649</th>\n",
       "      <td>21435</td>\n",
       "      <td>MEDIDATE COFFEE</td>\n",
       "      <td>548 S SPRING ST STE 100</td>\n",
       "      <td>False</td>\n",
       "      <td>Cafe</td>\n",
       "      <td>6</td>\n",
       "    </tr>\n",
       "    <tr>\n",
       "      <th>9650</th>\n",
       "      <td>21436</td>\n",
       "      <td>CAFE SPROUTS</td>\n",
       "      <td>1300 S SAN PEDRO ST STE 111</td>\n",
       "      <td>True</td>\n",
       "      <td>Restaurant</td>\n",
       "      <td>19</td>\n",
       "    </tr>\n",
       "  </tbody>\n",
       "</table>\n",
       "<p>9651 rows × 6 columns</p>\n",
       "</div>"
      ],
      "text/plain": [
       "         id          object_name                      address  chain  \\\n",
       "0     11786  HABITAT COFFEE SHOP       3708 N EAGLE ROCK BLVD  False   \n",
       "1     11787             REILLY'S          100 WORLD WAY # 120  False   \n",
       "2     11788       STREET CHURROS    6801 HOLLYWOOD BLVD # 253  False   \n",
       "3     11789    TRINITI ECHO PARK           1814 W SUNSET BLVD  False   \n",
       "4     11790               POLLEN           2100 ECHO PARK AVE  False   \n",
       "...     ...                  ...                          ...    ...   \n",
       "9646  21432      HALL OF JUSTICE             217 W TEMPLE AVE  False   \n",
       "9647  21433          FIN-MELROSE             5750 MELROSE AVE  False   \n",
       "9648  21434          JUICY WINGZ          6741 HOLLYWOOD BLVD   True   \n",
       "9649  21435      MEDIDATE COFFEE      548 S SPRING ST STE 100  False   \n",
       "9650  21436         CAFE SPROUTS  1300 S SAN PEDRO ST STE 111   True   \n",
       "\n",
       "     object_type  number  \n",
       "0           Cafe      26  \n",
       "1     Restaurant       9  \n",
       "2      Fast Food      20  \n",
       "3     Restaurant      22  \n",
       "4     Restaurant      20  \n",
       "...          ...     ...  \n",
       "9646  Restaurant     122  \n",
       "9647  Restaurant      93  \n",
       "9648   Fast Food      15  \n",
       "9649        Cafe       6  \n",
       "9650  Restaurant      19  \n",
       "\n",
       "[9651 rows x 6 columns]"
      ]
     },
     "execution_count": 18,
     "metadata": {},
     "output_type": "execute_result"
    }
   ],
   "source": [
    "data_rest"
   ]
  },
  {
   "cell_type": "code",
   "execution_count": 19,
   "metadata": {},
   "outputs": [
    {
     "data": {
      "text/html": [
       "<div>\n",
       "<style scoped>\n",
       "    .dataframe tbody tr th:only-of-type {\n",
       "        vertical-align: middle;\n",
       "    }\n",
       "\n",
       "    .dataframe tbody tr th {\n",
       "        vertical-align: top;\n",
       "    }\n",
       "\n",
       "    .dataframe thead th {\n",
       "        text-align: right;\n",
       "    }\n",
       "</style>\n",
       "<table border=\"1\" class=\"dataframe\">\n",
       "  <thead>\n",
       "    <tr style=\"text-align: right;\">\n",
       "      <th></th>\n",
       "      <th>id</th>\n",
       "      <th>object_name</th>\n",
       "      <th>address</th>\n",
       "      <th>chain</th>\n",
       "      <th>object_type</th>\n",
       "      <th>number</th>\n",
       "    </tr>\n",
       "  </thead>\n",
       "  <tbody>\n",
       "    <tr>\n",
       "      <th>8</th>\n",
       "      <td>11794</td>\n",
       "      <td>ABC DONUTS</td>\n",
       "      <td>3027 N SAN FERNANDO RD UNIT 103</td>\n",
       "      <td>True</td>\n",
       "      <td>Fast Food</td>\n",
       "      <td>1</td>\n",
       "    </tr>\n",
       "    <tr>\n",
       "      <th>10</th>\n",
       "      <td>11796</td>\n",
       "      <td>EL POLLO LOCO</td>\n",
       "      <td>5319 W SUNSET BLVD</td>\n",
       "      <td>True</td>\n",
       "      <td>Restaurant</td>\n",
       "      <td>38</td>\n",
       "    </tr>\n",
       "    <tr>\n",
       "      <th>11</th>\n",
       "      <td>11797</td>\n",
       "      <td>POONG NYUN BAKERY</td>\n",
       "      <td>928 S WESTERN AVE STE 109</td>\n",
       "      <td>True</td>\n",
       "      <td>Bakery</td>\n",
       "      <td>17</td>\n",
       "    </tr>\n",
       "    <tr>\n",
       "      <th>12</th>\n",
       "      <td>11798</td>\n",
       "      <td>EMC RESTAURANT GROUP LLC</td>\n",
       "      <td>3500 W 6TH ST STE 101</td>\n",
       "      <td>True</td>\n",
       "      <td>Restaurant</td>\n",
       "      <td>133</td>\n",
       "    </tr>\n",
       "    <tr>\n",
       "      <th>14</th>\n",
       "      <td>11800</td>\n",
       "      <td>CUSCATLECA BAKERY</td>\n",
       "      <td>2501 W SUNSET BLVD #A</td>\n",
       "      <td>True</td>\n",
       "      <td>Bakery</td>\n",
       "      <td>26</td>\n",
       "    </tr>\n",
       "    <tr>\n",
       "      <th>...</th>\n",
       "      <td>...</td>\n",
       "      <td>...</td>\n",
       "      <td>...</td>\n",
       "      <td>...</td>\n",
       "      <td>...</td>\n",
       "      <td>...</td>\n",
       "    </tr>\n",
       "    <tr>\n",
       "      <th>9629</th>\n",
       "      <td>21415</td>\n",
       "      <td>JUCUAPA BAKERY</td>\n",
       "      <td>2810 JAMES WOOD BLVD</td>\n",
       "      <td>True</td>\n",
       "      <td>Bakery</td>\n",
       "      <td>10</td>\n",
       "    </tr>\n",
       "    <tr>\n",
       "      <th>9636</th>\n",
       "      <td>21422</td>\n",
       "      <td>CHIPOTLE #3094</td>\n",
       "      <td>6719 LA TIJERA BLVD # A-B</td>\n",
       "      <td>True</td>\n",
       "      <td>Restaurant</td>\n",
       "      <td>47</td>\n",
       "    </tr>\n",
       "    <tr>\n",
       "      <th>9639</th>\n",
       "      <td>21425</td>\n",
       "      <td>MCDONALD'S</td>\n",
       "      <td>1800 S WESTERN AVE</td>\n",
       "      <td>True</td>\n",
       "      <td>Fast Food</td>\n",
       "      <td>135</td>\n",
       "    </tr>\n",
       "    <tr>\n",
       "      <th>9648</th>\n",
       "      <td>21434</td>\n",
       "      <td>JUICY WINGZ</td>\n",
       "      <td>6741 HOLLYWOOD BLVD</td>\n",
       "      <td>True</td>\n",
       "      <td>Fast Food</td>\n",
       "      <td>15</td>\n",
       "    </tr>\n",
       "    <tr>\n",
       "      <th>9650</th>\n",
       "      <td>21436</td>\n",
       "      <td>CAFE SPROUTS</td>\n",
       "      <td>1300 S SAN PEDRO ST STE 111</td>\n",
       "      <td>True</td>\n",
       "      <td>Restaurant</td>\n",
       "      <td>19</td>\n",
       "    </tr>\n",
       "  </tbody>\n",
       "</table>\n",
       "<p>3677 rows × 6 columns</p>\n",
       "</div>"
      ],
      "text/plain": [
       "         id               object_name                          address chain  \\\n",
       "8     11794                ABC DONUTS  3027 N SAN FERNANDO RD UNIT 103  True   \n",
       "10    11796             EL POLLO LOCO               5319 W SUNSET BLVD  True   \n",
       "11    11797         POONG NYUN BAKERY        928 S WESTERN AVE STE 109  True   \n",
       "12    11798  EMC RESTAURANT GROUP LLC            3500 W 6TH ST STE 101  True   \n",
       "14    11800         CUSCATLECA BAKERY            2501 W SUNSET BLVD #A  True   \n",
       "...     ...                       ...                              ...   ...   \n",
       "9629  21415            JUCUAPA BAKERY             2810 JAMES WOOD BLVD  True   \n",
       "9636  21422            CHIPOTLE #3094        6719 LA TIJERA BLVD # A-B  True   \n",
       "9639  21425                MCDONALD'S               1800 S WESTERN AVE  True   \n",
       "9648  21434               JUICY WINGZ              6741 HOLLYWOOD BLVD  True   \n",
       "9650  21436              CAFE SPROUTS      1300 S SAN PEDRO ST STE 111  True   \n",
       "\n",
       "     object_type  number  \n",
       "8      Fast Food       1  \n",
       "10    Restaurant      38  \n",
       "11        Bakery      17  \n",
       "12    Restaurant     133  \n",
       "14        Bakery      26  \n",
       "...          ...     ...  \n",
       "9629      Bakery      10  \n",
       "9636  Restaurant      47  \n",
       "9639   Fast Food     135  \n",
       "9648   Fast Food      15  \n",
       "9650  Restaurant      19  \n",
       "\n",
       "[3677 rows x 6 columns]"
      ]
     },
     "execution_count": 19,
     "metadata": {},
     "output_type": "execute_result"
    }
   ],
   "source": [
    "data_waralaba = data_rest[data_rest['chain'] == True]\n",
    "data_waralaba\n"
   ]
  },
  {
   "cell_type": "code",
   "execution_count": 20,
   "metadata": {},
   "outputs": [
    {
     "data": {
      "text/plain": [
       "Restaurant    2292\n",
       "Fast Food      605\n",
       "Bakery         283\n",
       "Cafe           266\n",
       "Pizza          154\n",
       "Bar             77\n",
       "Name: object_type, dtype: int64"
      ]
     },
     "execution_count": 20,
     "metadata": {},
     "output_type": "execute_result"
    }
   ],
   "source": [
    "waralaba_type = data_waralaba['object_type'].value_counts()\n",
    "waralaba_type"
   ]
  },
  {
   "cell_type": "code",
   "execution_count": 21,
   "metadata": {},
   "outputs": [
    {
     "data": {
      "image/png": "[encoded data removed]",
      "text/plain": [
       "<Figure size 864x432 with 1 Axes>"
      ]
     },
     "metadata": {},
     "output_type": "display_data"
    }
   ],
   "source": [
    "import matplotlib.pyplot as plt\n",
    "\n",
    "# Membuat grafik batang\n",
    "plt.figure(figsize=(12, 6))\n",
    "plt.style.use('seaborn-notebook')\n",
    "plt.bar(waralaba_type.index, waralaba_type.values)\n",
    "\n",
    "\n",
    "# Mengatur judul dan label sumbu\n",
    "plt.title('Jumlah Usaha Berbasis Waralaba per Jenis Usaha')\n",
    "plt.xlabel('Jenis Usaha')\n",
    "plt.ylabel('Jumlah')\n",
    "\n",
    "# Menampilkan grafik\n",
    "plt.show()\n"
   ]
  },
  {
   "cell_type": "markdown",
   "metadata": {},
   "source": [
    "Kesimpulan :\n",
    "\n",
    "   1. Jenis usaha Restaurant memiliki jumlah usaha paling tinggi mengalahkan 5 jenis usaha lainnya. jumlahnya 2292 unit usaha.\n",
    "   \n",
    "   2. Fast food, Bakery, Cafe, Pizza dan Bar adalah urutan selanjutnya "
   ]
  },
  {
   "cell_type": "markdown",
   "metadata": {},
   "source": [
    "<div class=\"alert alert-success\">\n",
    "<b>Code Reviewers's comment v.1</b> <a class=\"tocSkip\"></a>\n",
    "\n",
    "Bagus, semua berjalan lancar.\n",
    "\n",
    "</div>"
   ]
  },
  {
   "cell_type": "markdown",
   "metadata": {},
   "source": [
    "### Meneliti Ciri-Ciri Dari Jenis Usaha Berbasis Waralaba <a id='data_ciriciri'></a>"
   ]
  },
  {
   "cell_type": "markdown",
   "metadata": {},
   "source": [
    "Mana yang merupakan ciri-ciri dari jenis usaha berbasis waralaba: memiliki banyak tempat dengan jumlah kursi yang sedikit atau memiliki beberapa tempat dengan jumlah kursi yang banyak?"
   ]
  },
  {
   "cell_type": "code",
   "execution_count": 22,
   "metadata": {},
   "outputs": [
    {
     "name": "stdout",
     "output_type": "stream",
     "text": [
      "Data Usaha Waralaba:\n"
     ]
    },
    {
     "data": {
      "text/html": [
       "<div>\n",
       "<style scoped>\n",
       "    .dataframe tbody tr th:only-of-type {\n",
       "        vertical-align: middle;\n",
       "    }\n",
       "\n",
       "    .dataframe tbody tr th {\n",
       "        vertical-align: top;\n",
       "    }\n",
       "\n",
       "    .dataframe thead th {\n",
       "        text-align: right;\n",
       "    }\n",
       "</style>\n",
       "<table border=\"1\" class=\"dataframe\">\n",
       "  <thead>\n",
       "    <tr style=\"text-align: right;\">\n",
       "      <th></th>\n",
       "      <th>id</th>\n",
       "      <th>object_name</th>\n",
       "      <th>address</th>\n",
       "      <th>chain</th>\n",
       "      <th>object_type</th>\n",
       "      <th>number</th>\n",
       "    </tr>\n",
       "  </thead>\n",
       "  <tbody>\n",
       "    <tr>\n",
       "      <th>8</th>\n",
       "      <td>11794</td>\n",
       "      <td>ABC DONUTS</td>\n",
       "      <td>3027 N SAN FERNANDO RD UNIT 103</td>\n",
       "      <td>True</td>\n",
       "      <td>Fast Food</td>\n",
       "      <td>1</td>\n",
       "    </tr>\n",
       "    <tr>\n",
       "      <th>10</th>\n",
       "      <td>11796</td>\n",
       "      <td>EL POLLO LOCO</td>\n",
       "      <td>5319 W SUNSET BLVD</td>\n",
       "      <td>True</td>\n",
       "      <td>Restaurant</td>\n",
       "      <td>38</td>\n",
       "    </tr>\n",
       "    <tr>\n",
       "      <th>11</th>\n",
       "      <td>11797</td>\n",
       "      <td>POONG NYUN BAKERY</td>\n",
       "      <td>928 S WESTERN AVE STE 109</td>\n",
       "      <td>True</td>\n",
       "      <td>Bakery</td>\n",
       "      <td>17</td>\n",
       "    </tr>\n",
       "    <tr>\n",
       "      <th>12</th>\n",
       "      <td>11798</td>\n",
       "      <td>EMC RESTAURANT GROUP LLC</td>\n",
       "      <td>3500 W 6TH ST STE 101</td>\n",
       "      <td>True</td>\n",
       "      <td>Restaurant</td>\n",
       "      <td>133</td>\n",
       "    </tr>\n",
       "    <tr>\n",
       "      <th>14</th>\n",
       "      <td>11800</td>\n",
       "      <td>CUSCATLECA BAKERY</td>\n",
       "      <td>2501 W SUNSET BLVD #A</td>\n",
       "      <td>True</td>\n",
       "      <td>Bakery</td>\n",
       "      <td>26</td>\n",
       "    </tr>\n",
       "  </tbody>\n",
       "</table>\n",
       "</div>"
      ],
      "text/plain": [
       "       id               object_name                          address chain  \\\n",
       "8   11794                ABC DONUTS  3027 N SAN FERNANDO RD UNIT 103  True   \n",
       "10  11796             EL POLLO LOCO               5319 W SUNSET BLVD  True   \n",
       "11  11797         POONG NYUN BAKERY        928 S WESTERN AVE STE 109  True   \n",
       "12  11798  EMC RESTAURANT GROUP LLC            3500 W 6TH ST STE 101  True   \n",
       "14  11800         CUSCATLECA BAKERY            2501 W SUNSET BLVD #A  True   \n",
       "\n",
       "   object_type  number  \n",
       "8    Fast Food       1  \n",
       "10  Restaurant      38  \n",
       "11      Bakery      17  \n",
       "12  Restaurant     133  \n",
       "14      Bakery      26  "
      ]
     },
     "execution_count": 22,
     "metadata": {},
     "output_type": "execute_result"
    }
   ],
   "source": [
    "# Menampilkan data waralaba dan non waralaba\n",
    "data_waralaba = data_rest[data_rest['chain'] == True]\n",
    "data_nowara = data_rest[data_rest['chain'] == False]\n",
    "\n",
    "# Menampilkan 5 baris pertama dari data_waralaba\n",
    "print(\"Data Usaha Waralaba:\")\n",
    "data_waralaba.head(5)\n"
   ]
  },
  {
   "cell_type": "code",
   "execution_count": 23,
   "metadata": {},
   "outputs": [
    {
     "name": "stdout",
     "output_type": "stream",
     "text": [
      "Data Usaha Bukan Waralaba:\n"
     ]
    },
    {
     "data": {
      "text/html": [
       "<div>\n",
       "<style scoped>\n",
       "    .dataframe tbody tr th:only-of-type {\n",
       "        vertical-align: middle;\n",
       "    }\n",
       "\n",
       "    .dataframe tbody tr th {\n",
       "        vertical-align: top;\n",
       "    }\n",
       "\n",
       "    .dataframe thead th {\n",
       "        text-align: right;\n",
       "    }\n",
       "</style>\n",
       "<table border=\"1\" class=\"dataframe\">\n",
       "  <thead>\n",
       "    <tr style=\"text-align: right;\">\n",
       "      <th></th>\n",
       "      <th>id</th>\n",
       "      <th>object_name</th>\n",
       "      <th>address</th>\n",
       "      <th>chain</th>\n",
       "      <th>object_type</th>\n",
       "      <th>number</th>\n",
       "    </tr>\n",
       "  </thead>\n",
       "  <tbody>\n",
       "    <tr>\n",
       "      <th>0</th>\n",
       "      <td>11786</td>\n",
       "      <td>HABITAT COFFEE SHOP</td>\n",
       "      <td>3708 N EAGLE ROCK BLVD</td>\n",
       "      <td>False</td>\n",
       "      <td>Cafe</td>\n",
       "      <td>26</td>\n",
       "    </tr>\n",
       "    <tr>\n",
       "      <th>1</th>\n",
       "      <td>11787</td>\n",
       "      <td>REILLY'S</td>\n",
       "      <td>100 WORLD WAY # 120</td>\n",
       "      <td>False</td>\n",
       "      <td>Restaurant</td>\n",
       "      <td>9</td>\n",
       "    </tr>\n",
       "    <tr>\n",
       "      <th>2</th>\n",
       "      <td>11788</td>\n",
       "      <td>STREET CHURROS</td>\n",
       "      <td>6801 HOLLYWOOD BLVD # 253</td>\n",
       "      <td>False</td>\n",
       "      <td>Fast Food</td>\n",
       "      <td>20</td>\n",
       "    </tr>\n",
       "    <tr>\n",
       "      <th>3</th>\n",
       "      <td>11789</td>\n",
       "      <td>TRINITI ECHO PARK</td>\n",
       "      <td>1814 W SUNSET BLVD</td>\n",
       "      <td>False</td>\n",
       "      <td>Restaurant</td>\n",
       "      <td>22</td>\n",
       "    </tr>\n",
       "    <tr>\n",
       "      <th>4</th>\n",
       "      <td>11790</td>\n",
       "      <td>POLLEN</td>\n",
       "      <td>2100 ECHO PARK AVE</td>\n",
       "      <td>False</td>\n",
       "      <td>Restaurant</td>\n",
       "      <td>20</td>\n",
       "    </tr>\n",
       "  </tbody>\n",
       "</table>\n",
       "</div>"
      ],
      "text/plain": [
       "      id          object_name                    address  chain object_type  \\\n",
       "0  11786  HABITAT COFFEE SHOP     3708 N EAGLE ROCK BLVD  False        Cafe   \n",
       "1  11787             REILLY'S        100 WORLD WAY # 120  False  Restaurant   \n",
       "2  11788       STREET CHURROS  6801 HOLLYWOOD BLVD # 253  False   Fast Food   \n",
       "3  11789    TRINITI ECHO PARK         1814 W SUNSET BLVD  False  Restaurant   \n",
       "4  11790               POLLEN         2100 ECHO PARK AVE  False  Restaurant   \n",
       "\n",
       "   number  \n",
       "0      26  \n",
       "1       9  \n",
       "2      20  \n",
       "3      22  \n",
       "4      20  "
      ]
     },
     "execution_count": 23,
     "metadata": {},
     "output_type": "execute_result"
    }
   ],
   "source": [
    "# Menampilkan 5 baris pertama dari data_nowara\n",
    "print(\"Data Usaha Bukan Waralaba:\")\n",
    "data_nowara.head(5)\n"
   ]
  },
  {
   "cell_type": "code",
   "execution_count": 24,
   "metadata": {},
   "outputs": [
    {
     "data": {
      "text/plain": [
       "object_type\n",
       "Bakery          6162\n",
       "Bar             3100\n",
       "Cafe            6894\n",
       "Fast Food      23044\n",
       "Pizza           3907\n",
       "Restaurant    102810\n",
       "Name: number, dtype: int64"
      ]
     },
     "execution_count": 24,
     "metadata": {},
     "output_type": "execute_result"
    }
   ],
   "source": [
    "#menghitung jumlah kursi untuk setiap object_type dalam data_waralaba:\n",
    "kursi_per_jenis_usaha_war = data_waralaba.groupby('object_type')['number'].sum()\n",
    "kursi_per_jenis_usaha_war\n"
   ]
  },
  {
   "cell_type": "code",
   "execution_count": 25,
   "metadata": {},
   "outputs": [
    {
     "data": {
      "text/plain": [
       "object_type\n",
       "Bar             9972\n",
       "Cafe            3981\n",
       "Fast Food      10895\n",
       "Pizza           5200\n",
       "Restaurant    245737\n",
       "Name: number, dtype: int64"
      ]
     },
     "execution_count": 25,
     "metadata": {},
     "output_type": "execute_result"
    }
   ],
   "source": [
    "#menghitung jumlah kursi untuk setiap object_type dalam data_nowara\n",
    "kursi_per_jenis_usaha_nowar = data_nowara.groupby('object_type')['number'].sum()\n",
    "kursi_per_jenis_usaha_nowar"
   ]
  },
  {
   "cell_type": "code",
   "execution_count": 26,
   "metadata": {
    "scrolled": false
   },
   "outputs": [
    {
     "data": {
      "image/png": "[encoded data removed]",
      "text/plain": [
       "<Figure size 864x432 with 1 Axes>"
      ]
     },
     "metadata": {},
     "output_type": "display_data"
    }
   ],
   "source": [
    "import matplotlib.pyplot as plt\n",
    "\n",
    "# Menggabungkan data kursi_per_jenis_usaha_war dan kursi_per_jenis_usaha_nowar\n",
    "data_gabungan = pd.concat([kursi_per_jenis_usaha_war, kursi_per_jenis_usaha_nowar], axis=1)\n",
    "data_gabungan.columns = ['Waralaba', 'Non-Waralaba']\n",
    "\n",
    "# Membuat grafik line\n",
    "fig, ax = plt.subplots(figsize=(12, 6))\n",
    "\n",
    "data_gabungan.plot(kind='line', ax=ax)\n",
    "ax.set_xlabel('Jenis Usaha')\n",
    "ax.set_ylabel('Jumlah Kursi')\n",
    "ax.set_title('Perbandingan Jumlah Kursi per Jenis Usaha (Waralaba vs Non-Waralaba)')\n",
    "plt.show()\n"
   ]
  },
  {
   "cell_type": "markdown",
   "metadata": {},
   "source": [
    "Mana yang merupakan ciri-ciri dari jenis usaha berbasis waralaba: memiliki banyak tempat dengan jumlah kursi yang sedikit atau memiliki beberapa tempat dengan jumlah kursi yang banyak?"
   ]
  },
  {
   "cell_type": "markdown",
   "metadata": {},
   "source": [
    "    ciri-ciri dari jenis usaha berbasis waralaba: memiliki banyak tempat dengan jumlah kursi yang sedikit \n",
    "    terlihat di grafik bahwa garis hijau (non-waralaba) mempunyai jumlah kursi yang banyak di kategori jenis usaha restaurant.\n",
    "    "
   ]
  },
  {
   "cell_type": "markdown",
   "metadata": {},
   "source": [
    "<div class=\"alert alert-success\">\n",
    "<b>Code Reviewers's comment v.1</b> <a class=\"tocSkip\"></a>\n",
    "\n",
    "Bagus, semua berjalan lancar.\n",
    "\n",
    "</div>"
   ]
  },
  {
   "cell_type": "markdown",
   "metadata": {},
   "source": [
    "### Rata-Rata Kursi Untuk Setiap Jenis Usaha <a id='data_avg'></a>"
   ]
  },
  {
   "cell_type": "markdown",
   "metadata": {},
   "source": [
    "Tentukan jumlah rata-rata kursi untuk setiap jenis usaha. Secara rata-rata, jenis usaha manakah yang memiliki jumlah kursi terbanyak?\n"
   ]
  },
  {
   "cell_type": "code",
   "execution_count": 27,
   "metadata": {},
   "outputs": [
    {
     "name": "stdout",
     "output_type": "stream",
     "text": [
      "              Waralaba  Non-Waralaba\n",
      "object_type                         \n",
      "Bakery       21.773852           NaN\n",
      "Bar          40.259740     46.381395\n",
      "Cafe         25.917293     23.556213\n",
      "Fast Food    38.089256     23.633406\n",
      "Pizza        25.370130     31.325301\n",
      "Restaurant   44.856021     49.513802\n"
     ]
    }
   ],
   "source": [
    "# Menghitung rata-rata jumlah kursi per jenis usaha pada data_waralaba\n",
    "rata_kursi_waralaba = data_waralaba.groupby('object_type')['number'].mean()\n",
    "\n",
    "# Menghitung rata-rata jumlah kursi per jenis usaha pada data_nowara\n",
    "rata_kursi_nowaralaba = data_nowara.groupby('object_type')['number'].mean()\n",
    "\n",
    "# Menggabungkan kedua Series menjadi satu DataFrame\n",
    "data_rata_kursi = pd.DataFrame({'Waralaba': rata_kursi_waralaba, 'Non-Waralaba': rata_kursi_nowaralaba})\n",
    "\n",
    "# Menampilkan data rata-rata kursi\n",
    "print(data_rata_kursi)\n"
   ]
  },
  {
   "cell_type": "code",
   "execution_count": 28,
   "metadata": {},
   "outputs": [
    {
     "data": {
      "image/png": "[encoded data removed]",
      "text/plain": [
       "<Figure size 864x432 with 1 Axes>"
      ]
     },
     "metadata": {},
     "output_type": "display_data"
    }
   ],
   "source": [
    "\n",
    "data_rata_kursi.plot(kind='bar', rot=45, figsize=(12, 6))\n",
    "\n",
    "\n",
    "plt.xlabel('Jenis Usaha')\n",
    "plt.ylabel('Rata-rata Jumlah Kursi')\n",
    "plt.title('Rata-rata Jumlah Kursi per Jenis Usaha (Waralaba vs Non-Waralaba)')\n",
    "plt.legend()\n",
    "\n",
    "# Menampilkan nilai di setiap bar\n",
    "for i, v in enumerate(data_rata_kursi['Waralaba']):\n",
    "    if np.isfinite(v):\n",
    "        plt.text(i, v, str(round(v, 2)), ha='center', va='bottom')\n",
    "        \n",
    "for i, v in enumerate(data_rata_kursi['Non-Waralaba']):\n",
    "    if np.isfinite(v):\n",
    "        plt.text(i, v, str(round(v, 2)), ha='center', va='bottom')\n",
    "\n",
    "\n",
    "plt.show()\n"
   ]
  },
  {
   "cell_type": "code",
   "execution_count": 29,
   "metadata": {},
   "outputs": [
    {
     "data": {
      "text/plain": [
       "<Figure size 720x432 with 0 Axes>"
      ]
     },
     "metadata": {},
     "output_type": "display_data"
    },
    {
     "data": {
      "image/png": "[encoded data removed]",
      "text/plain": [
       "<Figure size 576x396 with 1 Axes>"
      ]
     },
     "metadata": {},
     "output_type": "display_data"
    }
   ],
   "source": [
    "import matplotlib.pyplot as plt\n",
    "\n",
    "# Membuat boxplot untuk data rata-rata jumlah kursi per jenis usaha\n",
    "plt.figure(figsize=(10, 6))\n",
    "plt.style.use('seaborn-notebook')\n",
    "data_rata_kursi.plot(kind='box')\n",
    "plt.title('Boxplot Jumlah Rata-rata Kursi per Jenis Usaha')\n",
    "plt.xlabel('Jenis Usaha')\n",
    "plt.ylabel('Rata-rata Jumlah Kursi')\n",
    "plt.show()\n"
   ]
  },
  {
   "cell_type": "markdown",
   "metadata": {},
   "source": [
    "Kesimpulan :\n",
    "    \n",
    "    1. Terdapat jenis usaha berbasis waralaba yang memiliki jumlah kursi sedikit seperti Bakery dan Pizza, namun juga terdapat jenis usaha berbasis waralaba dengan jumlah kursi yang lebih banyak seperti Restaurant dan Fast Food.\n",
    "    \n",
    "    2. Jenis usaha berbasis waralaba seperti Restaurant, Fast Food, dan Cafe memiliki jumlah kursi yang signifikan, menunjukkan adanya potensi pertumbuhan bisnis waralaba dalam industri makanan dan minuman.\n",
    "    \n",
    "    3. Jenis usaha berbasis waralaba seperti Bar memiliki jumlah kursi yang lebih rendah dibandingkan dengan jenis usaha non-waralaba. Dalam konteks ini, jenis usaha berbasis waralaba mungkin lebih fokus pada konsep dan pengalaman pelanggan dari pada jumlah kursi yang lebih besar."
   ]
  },
  {
   "cell_type": "markdown",
   "metadata": {},
   "source": [
    "<div class=\"alert alert-success\">\n",
    "<b>Code Reviewers's comment v.1</b> <a class=\"tocSkip\"></a>\n",
    "\n",
    "Bagus, semua berjalan lancar.\n",
    "\n",
    "</div>"
   ]
  },
  {
   "cell_type": "markdown",
   "metadata": {},
   "source": [
    "### Pindahkan Data Nama Jalan <a id='data_move'></a>"
   ]
  },
  {
   "cell_type": "markdown",
   "metadata": {},
   "source": [
    "Pindahkan data nama jalan dari kolom address ke kolom terpisah.\n"
   ]
  },
  {
   "cell_type": "code",
   "execution_count": 30,
   "metadata": {},
   "outputs": [],
   "source": [
    "data_rest['street'] = data_rest['address'].str.split(' ', 1).str[1]\n"
   ]
  },
  {
   "cell_type": "code",
   "execution_count": 31,
   "metadata": {},
   "outputs": [
    {
     "data": {
      "text/html": [
       "<div>\n",
       "<style scoped>\n",
       "    .dataframe tbody tr th:only-of-type {\n",
       "        vertical-align: middle;\n",
       "    }\n",
       "\n",
       "    .dataframe tbody tr th {\n",
       "        vertical-align: top;\n",
       "    }\n",
       "\n",
       "    .dataframe thead th {\n",
       "        text-align: right;\n",
       "    }\n",
       "</style>\n",
       "<table border=\"1\" class=\"dataframe\">\n",
       "  <thead>\n",
       "    <tr style=\"text-align: right;\">\n",
       "      <th></th>\n",
       "      <th>id</th>\n",
       "      <th>object_name</th>\n",
       "      <th>address</th>\n",
       "      <th>chain</th>\n",
       "      <th>object_type</th>\n",
       "      <th>number</th>\n",
       "      <th>street</th>\n",
       "    </tr>\n",
       "  </thead>\n",
       "  <tbody>\n",
       "    <tr>\n",
       "      <th>0</th>\n",
       "      <td>11786</td>\n",
       "      <td>HABITAT COFFEE SHOP</td>\n",
       "      <td>3708 N EAGLE ROCK BLVD</td>\n",
       "      <td>False</td>\n",
       "      <td>Cafe</td>\n",
       "      <td>26</td>\n",
       "      <td>N EAGLE ROCK BLVD</td>\n",
       "    </tr>\n",
       "    <tr>\n",
       "      <th>1</th>\n",
       "      <td>11787</td>\n",
       "      <td>REILLY'S</td>\n",
       "      <td>100 WORLD WAY # 120</td>\n",
       "      <td>False</td>\n",
       "      <td>Restaurant</td>\n",
       "      <td>9</td>\n",
       "      <td>WORLD WAY # 120</td>\n",
       "    </tr>\n",
       "    <tr>\n",
       "      <th>2</th>\n",
       "      <td>11788</td>\n",
       "      <td>STREET CHURROS</td>\n",
       "      <td>6801 HOLLYWOOD BLVD # 253</td>\n",
       "      <td>False</td>\n",
       "      <td>Fast Food</td>\n",
       "      <td>20</td>\n",
       "      <td>HOLLYWOOD BLVD # 253</td>\n",
       "    </tr>\n",
       "    <tr>\n",
       "      <th>3</th>\n",
       "      <td>11789</td>\n",
       "      <td>TRINITI ECHO PARK</td>\n",
       "      <td>1814 W SUNSET BLVD</td>\n",
       "      <td>False</td>\n",
       "      <td>Restaurant</td>\n",
       "      <td>22</td>\n",
       "      <td>W SUNSET BLVD</td>\n",
       "    </tr>\n",
       "    <tr>\n",
       "      <th>4</th>\n",
       "      <td>11790</td>\n",
       "      <td>POLLEN</td>\n",
       "      <td>2100 ECHO PARK AVE</td>\n",
       "      <td>False</td>\n",
       "      <td>Restaurant</td>\n",
       "      <td>20</td>\n",
       "      <td>ECHO PARK AVE</td>\n",
       "    </tr>\n",
       "    <tr>\n",
       "      <th>...</th>\n",
       "      <td>...</td>\n",
       "      <td>...</td>\n",
       "      <td>...</td>\n",
       "      <td>...</td>\n",
       "      <td>...</td>\n",
       "      <td>...</td>\n",
       "      <td>...</td>\n",
       "    </tr>\n",
       "    <tr>\n",
       "      <th>9646</th>\n",
       "      <td>21432</td>\n",
       "      <td>HALL OF JUSTICE</td>\n",
       "      <td>217 W TEMPLE AVE</td>\n",
       "      <td>False</td>\n",
       "      <td>Restaurant</td>\n",
       "      <td>122</td>\n",
       "      <td>W TEMPLE AVE</td>\n",
       "    </tr>\n",
       "    <tr>\n",
       "      <th>9647</th>\n",
       "      <td>21433</td>\n",
       "      <td>FIN-MELROSE</td>\n",
       "      <td>5750 MELROSE AVE</td>\n",
       "      <td>False</td>\n",
       "      <td>Restaurant</td>\n",
       "      <td>93</td>\n",
       "      <td>MELROSE AVE</td>\n",
       "    </tr>\n",
       "    <tr>\n",
       "      <th>9648</th>\n",
       "      <td>21434</td>\n",
       "      <td>JUICY WINGZ</td>\n",
       "      <td>6741 HOLLYWOOD BLVD</td>\n",
       "      <td>True</td>\n",
       "      <td>Fast Food</td>\n",
       "      <td>15</td>\n",
       "      <td>HOLLYWOOD BLVD</td>\n",
       "    </tr>\n",
       "    <tr>\n",
       "      <th>9649</th>\n",
       "      <td>21435</td>\n",
       "      <td>MEDIDATE COFFEE</td>\n",
       "      <td>548 S SPRING ST STE 100</td>\n",
       "      <td>False</td>\n",
       "      <td>Cafe</td>\n",
       "      <td>6</td>\n",
       "      <td>S SPRING ST STE 100</td>\n",
       "    </tr>\n",
       "    <tr>\n",
       "      <th>9650</th>\n",
       "      <td>21436</td>\n",
       "      <td>CAFE SPROUTS</td>\n",
       "      <td>1300 S SAN PEDRO ST STE 111</td>\n",
       "      <td>True</td>\n",
       "      <td>Restaurant</td>\n",
       "      <td>19</td>\n",
       "      <td>S SAN PEDRO ST STE 111</td>\n",
       "    </tr>\n",
       "  </tbody>\n",
       "</table>\n",
       "<p>9651 rows × 7 columns</p>\n",
       "</div>"
      ],
      "text/plain": [
       "         id          object_name                      address  chain  \\\n",
       "0     11786  HABITAT COFFEE SHOP       3708 N EAGLE ROCK BLVD  False   \n",
       "1     11787             REILLY'S          100 WORLD WAY # 120  False   \n",
       "2     11788       STREET CHURROS    6801 HOLLYWOOD BLVD # 253  False   \n",
       "3     11789    TRINITI ECHO PARK           1814 W SUNSET BLVD  False   \n",
       "4     11790               POLLEN           2100 ECHO PARK AVE  False   \n",
       "...     ...                  ...                          ...    ...   \n",
       "9646  21432      HALL OF JUSTICE             217 W TEMPLE AVE  False   \n",
       "9647  21433          FIN-MELROSE             5750 MELROSE AVE  False   \n",
       "9648  21434          JUICY WINGZ          6741 HOLLYWOOD BLVD   True   \n",
       "9649  21435      MEDIDATE COFFEE      548 S SPRING ST STE 100  False   \n",
       "9650  21436         CAFE SPROUTS  1300 S SAN PEDRO ST STE 111   True   \n",
       "\n",
       "     object_type  number                  street  \n",
       "0           Cafe      26       N EAGLE ROCK BLVD  \n",
       "1     Restaurant       9         WORLD WAY # 120  \n",
       "2      Fast Food      20    HOLLYWOOD BLVD # 253  \n",
       "3     Restaurant      22           W SUNSET BLVD  \n",
       "4     Restaurant      20           ECHO PARK AVE  \n",
       "...          ...     ...                     ...  \n",
       "9646  Restaurant     122            W TEMPLE AVE  \n",
       "9647  Restaurant      93             MELROSE AVE  \n",
       "9648   Fast Food      15          HOLLYWOOD BLVD  \n",
       "9649        Cafe       6     S SPRING ST STE 100  \n",
       "9650  Restaurant      19  S SAN PEDRO ST STE 111  \n",
       "\n",
       "[9651 rows x 7 columns]"
      ]
     },
     "execution_count": 31,
     "metadata": {},
     "output_type": "execute_result"
    }
   ],
   "source": [
    "data_rest"
   ]
  },
  {
   "cell_type": "markdown",
   "metadata": {},
   "source": [
    "<div class=\"alert alert-success\">\n",
    "<b>Code Reviewers's comment v.1</b> <a class=\"tocSkip\"></a>\n",
    "\n",
    "Bagus, semua berjalan lancar.\n",
    "\n",
    "</div>"
   ]
  },
  {
   "cell_type": "markdown",
   "metadata": {},
   "source": [
    "### Grafik Menampilkan Sepuluh Nama Jalan Teratas <a id='data_topten'></a>"
   ]
  },
  {
   "cell_type": "markdown",
   "metadata": {},
   "source": [
    "Buatlah grafik yang menampilkan sepuluh nama jalan teratas berdasarkan jumlah usaha (tempat makan).\n"
   ]
  },
  {
   "cell_type": "code",
   "execution_count": 32,
   "metadata": {},
   "outputs": [
    {
     "data": {
      "text/plain": [
       "W SUNSET BLVD        296\n",
       "W PICO BLVD          288\n",
       "HOLLYWOOD BLVD       167\n",
       "WILSHIRE BLVD        161\n",
       "S VERMONT AVE        148\n",
       "SANTA MONICA BLVD    146\n",
       "W 3RD ST             145\n",
       "BEVERLY BLVD         135\n",
       "S FIGUEROA ST        134\n",
       "S WESTERN AVE        128\n",
       "Name: street, dtype: int64"
      ]
     },
     "execution_count": 32,
     "metadata": {},
     "output_type": "execute_result"
    }
   ],
   "source": [
    "#Hitung jumlah usaha (tempat makan) untuk setiap nama jalan pada kolom \"street\":\n",
    "top_streets = data_rest['street'].value_counts().head(10)\n",
    "top_streets"
   ]
  },
  {
   "cell_type": "code",
   "execution_count": 33,
   "metadata": {},
   "outputs": [
    {
     "data": {
      "image/png": "[encoded data removed]",
      "text/plain": [
       "<Figure size 864x432 with 1 Axes>"
      ]
     },
     "metadata": {},
     "output_type": "display_data"
    }
   ],
   "source": [
    "# Menghitung jumlah usaha (tempat makan) untuk setiap nama jalan\n",
    "top_streets = data_rest['street'].value_counts().head(10)\n",
    "\n",
    "# Membuat grafik bar\n",
    "plt.figure(figsize=(12, 6))\n",
    "plt.style.use('seaborn-notebook')\n",
    "ax = top_streets.plot(kind='bar')\n",
    "\n",
    "# Menambahkan nilai di setiap bar\n",
    "for i, v in enumerate(top_streets):\n",
    "    ax.text(i, v, str(v), ha='center', va='bottom', rotation=45)\n",
    "\n",
    "# Mengatur label dan judul grafik\n",
    "plt.xlabel('Nama Jalan')\n",
    "plt.ylabel('Jumlah Usaha')\n",
    "plt.title('Sepuluh Nama Jalan Teratas Berdasarkan Jumlah Usaha')\n",
    "plt.xticks(rotation=45)\n",
    "\n",
    "# Menampilkan grafik\n",
    "plt.show()\n"
   ]
  },
  {
   "cell_type": "markdown",
   "metadata": {},
   "source": [
    "Kesimpulan : \n",
    "\n",
    "    1. Jalan W SUNSET BLVD dan W PICO BLVD adalah dua jalan dengan jumlah usaha (tempat makan) tertinggi. Kedua jalan ini memiliki masing-masing 296 dan 288 usaha tempat makan.\n",
    "    \n",
    "    2. Jalan-jalan seperti HOLLYWOOD BLVD, WILSHIRE BLVD, S VERMONT AVE, SANTA MONICA BLVD, W 3RD ST, BEVERLY BLVD, S FIGUEROA ST, dan S WESTERN AVE juga memiliki jumlah usaha tempat makan yang cukup signifikan, dengan angka di atas 100. Perbedaan terhadap jalan-jalan tersebut tidak terlalu signifikan."
   ]
  },
  {
   "cell_type": "markdown",
   "metadata": {},
   "source": [
    "<div class=\"alert alert-success\">\n",
    "<b>Code Reviewers's comment v.1</b> <a class=\"tocSkip\"></a>\n",
    "\n",
    "Bagus, semua berjalan lancar.\n",
    "\n",
    "</div>"
   ]
  },
  {
   "cell_type": "markdown",
   "metadata": {},
   "source": [
    "### Jumlah Jalan Yang Hanya Memiliki Satu Usaha <a id='data_mount_street'></a>"
   ]
  },
  {
   "cell_type": "markdown",
   "metadata": {},
   "source": [
    "Temukan jumlah jalan yang hanya memiliki satu usaha (tempat makan).\n"
   ]
  },
  {
   "cell_type": "code",
   "execution_count": 34,
   "metadata": {},
   "outputs": [
    {
     "name": "stdout",
     "output_type": "stream",
     "text": [
      "Jumlah jalan yang hanya memiliki satu usaha (tempat makan): 2481\n"
     ]
    }
   ],
   "source": [
    "# Menghitung jumlah usaha (tempat makan) untuk setiap nama jalan\n",
    "street_counts = data_rest['street'].value_counts()\n",
    "\n",
    "# Menghitung jumlah jalan yang hanya memiliki satu usaha\n",
    "\n",
    "single_business_streets = (street_counts == 1).sum()\n",
    "\n",
    "\n",
    "# Menampilkan hasil\n",
    "print(\"Jumlah jalan yang hanya memiliki satu usaha (tempat makan):\", single_business_streets)\n"
   ]
  },
  {
   "cell_type": "markdown",
   "metadata": {},
   "source": [
    "<div class=\"alert alert-success\">\n",
    "<b>Code Reviewers's comment v.1</b> <a class=\"tocSkip\"></a>\n",
    "\n",
    "Bagus, semua berjalan lancar.\n",
    "\n",
    "</div>"
   ]
  },
  {
   "cell_type": "markdown",
   "metadata": {},
   "source": [
    "### Distribusi Jumlah Kursi Di Jalan Yang Dihuni Oleh Banyak Usaha <a id='data_distribution'></a>"
   ]
  },
  {
   "cell_type": "markdown",
   "metadata": {},
   "source": [
    "Untuk jalan yang dihuni oleh banyak usaha (tempat makan), perhatikan distribusi jumlah kursinya. Tren apa yang bisa Anda amati?"
   ]
  },
  {
   "cell_type": "code",
   "execution_count": 35,
   "metadata": {},
   "outputs": [
    {
     "data": {
      "text/plain": [
       "W SUNSET BLVD               296\n",
       "W PICO BLVD                 288\n",
       "HOLLYWOOD BLVD              167\n",
       "WILSHIRE BLVD               161\n",
       "S VERMONT AVE               148\n",
       "                           ... \n",
       "WILSHIRE BLVD STE #116        1\n",
       "W JEFFERSON BLVD # 7A-B       1\n",
       "S WESTERN AVE #1              1\n",
       "LAS PALMAS AVE                1\n",
       "W MANCHESTER AVE STE 101      1\n",
       "Name: street, Length: 3097, dtype: int64"
      ]
     },
     "execution_count": 35,
     "metadata": {},
     "output_type": "execute_result"
    }
   ],
   "source": [
    "#Hitung jumlah usaha (tempat makan) untuk setiap nama jalan:\n",
    "street_counts = data_rest['street'].value_counts()\n",
    "street_counts"
   ]
  },
  {
   "cell_type": "code",
   "execution_count": 36,
   "metadata": {},
   "outputs": [
    {
     "data": {
      "text/plain": [
       "Index(['W SUNSET BLVD', 'W PICO BLVD', 'HOLLYWOOD BLVD', 'WILSHIRE BLVD',\n",
       "       'S VERMONT AVE', 'SANTA MONICA BLVD', 'W 3RD ST', 'BEVERLY BLVD',\n",
       "       'S FIGUEROA ST', 'S WESTERN AVE'],\n",
       "      dtype='object')"
      ]
     },
     "execution_count": 36,
     "metadata": {},
     "output_type": "execute_result"
    }
   ],
   "source": [
    "#Ambil jalan-jalan dengan jumlah usaha terbanyak:\n",
    "top_business_streets = street_counts.nlargest(10).index\n",
    "top_business_streets"
   ]
  },
  {
   "cell_type": "code",
   "execution_count": 37,
   "metadata": {},
   "outputs": [
    {
     "data": {
      "text/html": [
       "<div>\n",
       "<style scoped>\n",
       "    .dataframe tbody tr th:only-of-type {\n",
       "        vertical-align: middle;\n",
       "    }\n",
       "\n",
       "    .dataframe tbody tr th {\n",
       "        vertical-align: top;\n",
       "    }\n",
       "\n",
       "    .dataframe thead th {\n",
       "        text-align: right;\n",
       "    }\n",
       "</style>\n",
       "<table border=\"1\" class=\"dataframe\">\n",
       "  <thead>\n",
       "    <tr style=\"text-align: right;\">\n",
       "      <th></th>\n",
       "      <th>id</th>\n",
       "      <th>object_name</th>\n",
       "      <th>address</th>\n",
       "      <th>chain</th>\n",
       "      <th>object_type</th>\n",
       "      <th>number</th>\n",
       "      <th>street</th>\n",
       "    </tr>\n",
       "  </thead>\n",
       "  <tbody>\n",
       "    <tr>\n",
       "      <th>3</th>\n",
       "      <td>11789</td>\n",
       "      <td>TRINITI ECHO PARK</td>\n",
       "      <td>1814 W SUNSET BLVD</td>\n",
       "      <td>False</td>\n",
       "      <td>Restaurant</td>\n",
       "      <td>22</td>\n",
       "      <td>W SUNSET BLVD</td>\n",
       "    </tr>\n",
       "    <tr>\n",
       "      <th>10</th>\n",
       "      <td>11796</td>\n",
       "      <td>EL POLLO LOCO</td>\n",
       "      <td>5319 W SUNSET BLVD</td>\n",
       "      <td>True</td>\n",
       "      <td>Restaurant</td>\n",
       "      <td>38</td>\n",
       "      <td>W SUNSET BLVD</td>\n",
       "    </tr>\n",
       "    <tr>\n",
       "      <th>16</th>\n",
       "      <td>11802</td>\n",
       "      <td>HMS BOUNTY</td>\n",
       "      <td>3357 WILSHIRE BLVD</td>\n",
       "      <td>False</td>\n",
       "      <td>Restaurant</td>\n",
       "      <td>147</td>\n",
       "      <td>WILSHIRE BLVD</td>\n",
       "    </tr>\n",
       "    <tr>\n",
       "      <th>22</th>\n",
       "      <td>11808</td>\n",
       "      <td>CAMY'S GRILL</td>\n",
       "      <td>3339 WILSHIRE BLVD</td>\n",
       "      <td>False</td>\n",
       "      <td>Restaurant</td>\n",
       "      <td>39</td>\n",
       "      <td>WILSHIRE BLVD</td>\n",
       "    </tr>\n",
       "    <tr>\n",
       "      <th>28</th>\n",
       "      <td>11814</td>\n",
       "      <td>BEVERLY FALAFEL</td>\n",
       "      <td>8508 W 3RD ST</td>\n",
       "      <td>False</td>\n",
       "      <td>Restaurant</td>\n",
       "      <td>31</td>\n",
       "      <td>W 3RD ST</td>\n",
       "    </tr>\n",
       "    <tr>\n",
       "      <th>...</th>\n",
       "      <td>...</td>\n",
       "      <td>...</td>\n",
       "      <td>...</td>\n",
       "      <td>...</td>\n",
       "      <td>...</td>\n",
       "      <td>...</td>\n",
       "      <td>...</td>\n",
       "    </tr>\n",
       "    <tr>\n",
       "      <th>9619</th>\n",
       "      <td>21405</td>\n",
       "      <td>HOUSE OF CURRY</td>\n",
       "      <td>1888 S WESTERN AVE</td>\n",
       "      <td>False</td>\n",
       "      <td>Restaurant</td>\n",
       "      <td>21</td>\n",
       "      <td>S WESTERN AVE</td>\n",
       "    </tr>\n",
       "    <tr>\n",
       "      <th>9625</th>\n",
       "      <td>21411</td>\n",
       "      <td>EAT THIS CAFE</td>\n",
       "      <td>6545 SANTA MONICA BLVD</td>\n",
       "      <td>False</td>\n",
       "      <td>Restaurant</td>\n",
       "      <td>41</td>\n",
       "      <td>SANTA MONICA BLVD</td>\n",
       "    </tr>\n",
       "    <tr>\n",
       "      <th>9628</th>\n",
       "      <td>21414</td>\n",
       "      <td>KIFF KAFE</td>\n",
       "      <td>12217 W PICO BLVD</td>\n",
       "      <td>False</td>\n",
       "      <td>Restaurant</td>\n",
       "      <td>29</td>\n",
       "      <td>W PICO BLVD</td>\n",
       "    </tr>\n",
       "    <tr>\n",
       "      <th>9639</th>\n",
       "      <td>21425</td>\n",
       "      <td>MCDONALD'S</td>\n",
       "      <td>1800 S WESTERN AVE</td>\n",
       "      <td>True</td>\n",
       "      <td>Fast Food</td>\n",
       "      <td>135</td>\n",
       "      <td>S WESTERN AVE</td>\n",
       "    </tr>\n",
       "    <tr>\n",
       "      <th>9648</th>\n",
       "      <td>21434</td>\n",
       "      <td>JUICY WINGZ</td>\n",
       "      <td>6741 HOLLYWOOD BLVD</td>\n",
       "      <td>True</td>\n",
       "      <td>Fast Food</td>\n",
       "      <td>15</td>\n",
       "      <td>HOLLYWOOD BLVD</td>\n",
       "    </tr>\n",
       "  </tbody>\n",
       "</table>\n",
       "<p>1748 rows × 7 columns</p>\n",
       "</div>"
      ],
      "text/plain": [
       "         id        object_name                 address  chain object_type  \\\n",
       "3     11789  TRINITI ECHO PARK      1814 W SUNSET BLVD  False  Restaurant   \n",
       "10    11796      EL POLLO LOCO      5319 W SUNSET BLVD   True  Restaurant   \n",
       "16    11802         HMS BOUNTY      3357 WILSHIRE BLVD  False  Restaurant   \n",
       "22    11808       CAMY'S GRILL      3339 WILSHIRE BLVD  False  Restaurant   \n",
       "28    11814    BEVERLY FALAFEL           8508 W 3RD ST  False  Restaurant   \n",
       "...     ...                ...                     ...    ...         ...   \n",
       "9619  21405     HOUSE OF CURRY      1888 S WESTERN AVE  False  Restaurant   \n",
       "9625  21411      EAT THIS CAFE  6545 SANTA MONICA BLVD  False  Restaurant   \n",
       "9628  21414          KIFF KAFE       12217 W PICO BLVD  False  Restaurant   \n",
       "9639  21425         MCDONALD'S      1800 S WESTERN AVE   True   Fast Food   \n",
       "9648  21434        JUICY WINGZ     6741 HOLLYWOOD BLVD   True   Fast Food   \n",
       "\n",
       "      number             street  \n",
       "3         22      W SUNSET BLVD  \n",
       "10        38      W SUNSET BLVD  \n",
       "16       147      WILSHIRE BLVD  \n",
       "22        39      WILSHIRE BLVD  \n",
       "28        31           W 3RD ST  \n",
       "...      ...                ...  \n",
       "9619      21      S WESTERN AVE  \n",
       "9625      41  SANTA MONICA BLVD  \n",
       "9628      29        W PICO BLVD  \n",
       "9639     135      S WESTERN AVE  \n",
       "9648      15     HOLLYWOOD BLVD  \n",
       "\n",
       "[1748 rows x 7 columns]"
      ]
     },
     "execution_count": 37,
     "metadata": {},
     "output_type": "execute_result"
    }
   ],
   "source": [
    "#Buat subset data hanya untuk jalan-jalan yang dihuni oleh banyak usaha:\n",
    "multi_business_data = data_rest[data_rest['street'].isin(top_business_streets)]\n",
    "multi_business_data\n"
   ]
  },
  {
   "cell_type": "code",
   "execution_count": 38,
   "metadata": {},
   "outputs": [
    {
     "data": {
      "image/png": "[encoded data removed]",
      "text/plain": [
       "<Figure size 864x432 with 1 Axes>"
      ]
     },
     "metadata": {},
     "output_type": "display_data"
    }
   ],
   "source": [
    "plt.figure(figsize=(12, 6))\n",
    "plt.style.use('seaborn-notebook')\n",
    "plt.scatter(multi_business_data['number'], multi_business_data['street'], alpha=0.5)\n",
    "plt.xlabel('Jumlah Kursi')\n",
    "plt.ylabel('Nama Jalan')\n",
    "plt.title('Distribusi Jumlah Kursi pada Jalan dengan Banyak Usaha')\n",
    "plt.xticks(rotation=45)\n",
    "plt.show()\n"
   ]
  },
  {
   "cell_type": "code",
   "execution_count": 39,
   "metadata": {},
   "outputs": [
    {
     "data": {
      "text/plain": [
       "street\n",
       "BEVERLY BLVD          6044\n",
       "HOLLYWOOD BLVD        8973\n",
       "S FIGUEROA ST         6802\n",
       "S VERMONT AVE         6790\n",
       "S WESTERN AVE         5517\n",
       "SANTA MONICA BLVD     4729\n",
       "W 3RD ST              6370\n",
       "W PICO BLVD          11773\n",
       "W SUNSET BLVD        15072\n",
       "WILSHIRE BLVD        10003\n",
       "Name: number, dtype: int64"
      ]
     },
     "execution_count": 39,
     "metadata": {},
     "output_type": "execute_result"
    }
   ],
   "source": [
    "# Menghitung jumlah kursi untuk setiap jalan dengan banyak usaha\n",
    "kursi_per_jalan = multi_business_data.groupby('street')['number'].sum()\n",
    "kursi_per_jalan"
   ]
  },
  {
   "cell_type": "code",
   "execution_count": 40,
   "metadata": {},
   "outputs": [
    {
     "data": {
      "image/png": "[encoded data removed]",
      "text/plain": [
       "<Figure size 864x432 with 1 Axes>"
      ]
     },
     "metadata": {},
     "output_type": "display_data"
    }
   ],
   "source": [
    "import matplotlib.pyplot as plt\n",
    "\n",
    "# Menghitung jumlah kursi untuk setiap jalan\n",
    "kursi_per_jalan = multi_business_data.groupby('street')['number'].sum()\n",
    "\n",
    "# Mengurutkan jalan berdasarkan jumlah kursi secara menurun\n",
    "sorted_streets = kursi_per_jalan.sort_values(ascending=False)\n",
    "\n",
    "# Menampilkan grafik bar distribusi jumlah kursi\n",
    "plt.figure(figsize=(12, 6))\n",
    "sorted_streets.plot(kind='bar', rot=45)\n",
    "plt.xlabel('Jalan')\n",
    "plt.ylabel('Jumlah Kursi')\n",
    "plt.title('Distribusi Jumlah Kursi pada Jalan dengan Banyak Usaha')\n",
    "\n",
    "# Menampilkan nilai di setiap bar\n",
    "for i, v in enumerate(sorted_streets):\n",
    "    plt.text(i, v, str(v), ha='center', va='bottom')\n",
    "\n",
    "plt.show()\n"
   ]
  },
  {
   "cell_type": "markdown",
   "metadata": {},
   "source": [
    "Kesimpulan : \n",
    "    \n",
    "    1. Jalan dengan jumlah kursi terbanyak adalah W SUNSET BLVD, diikuti oleh W PICO BLVD dan WILSHIRE BLVD. Jalan-jalan ini memiliki potensi besar sebagai lokasi usaha dengan jumlah kursi yang signifikan.\n",
    "    \n",
    "    2. Jalan-jalan seperti HOLLYWOOD BLVD, S FIGUEROA ST, dan S VERMONT AVE juga memiliki jumlah kursi yang cukup besar\n",
    "    \n",
    "    3. BEVERLY BLVD, SANTA MONICA BLVD, W 3RD ST, dan S WESTERN AVE memiliki jumlah kursi yang lebih rendah dibandingkan dengan jalan-jalan teratas. Meskipun demikian, mereka masih menawarkan potensi bagi pelaku usaha untuk memanfaatkan pasar di sekitar lokasi tersebut.\n",
    "    \n",
    "    "
   ]
  },
  {
   "cell_type": "markdown",
   "metadata": {},
   "source": [
    "<div class=\"alert alert-success\">\n",
    "<b>Code Reviewers's comment v.1</b> <a class=\"tocSkip\"></a>\n",
    "\n",
    "Bagus, semua berjalan lancar.\n",
    "\n",
    "</div>"
   ]
  },
  {
   "cell_type": "markdown",
   "metadata": {},
   "source": [
    "## Mempersiapkan presentasi <a id='data_presentation'></a>"
   ]
  },
  {
   "cell_type": "markdown",
   "metadata": {},
   "source": [
    "Presentasi: <https://drive.google.com/file/d/1knheOcknp3NEpk43kfv0zbwXYriQykIC/view?usp=sharing>\n",
    "\n"
   ]
  },
  {
   "cell_type": "markdown",
   "metadata": {},
   "source": [
    "<div class=\"alert alert-success\">\n",
    "<b>Code Reviewers's comment v.1</b> <a class=\"tocSkip\"></a>\n",
    "\n",
    "Bagus, semua berjalan lancar.\n",
    "\n",
    "</div>"
   ]
  },
  {
   "cell_type": "markdown",
   "metadata": {},
   "source": [
    "## Kesimpulan <a id='data_conclusions'></a>"
   ]
  },
  {
   "cell_type": "markdown",
   "metadata": {},
   "source": [
    "Buatlah kesimpulan umumnya dan berikan rekomendasi tentang jenis usaha dan jumlah kursinya. Berikan komentar tentang peluang pengembangan usaha berbasis waralaba."
   ]
  },
  {
   "cell_type": "markdown",
   "metadata": {},
   "source": [
    "Berikut adalah kesimpulan umum dari data yang telah dianalisis:\n",
    "\n",
    "Jenis usaha Restauran memiliki porsi nilai yang sangat tinggi, lebih dari 75% dibanding dengan jenis lainnya. Pengembangan jenis usaha di bidang Restaurant sangat menjanjikan kedepannya.Fast food 11%, Cafe 1.5% dan pizza 3.3% adalah urutan selanjutnya setelah Restaurant di data Proporsi Jenis usaha\n",
    "\n",
    "Terlihat proporsi usaha berbasis non-waralaba memiliki nilai hampir 62% dibanding dengan usaha waralaba hanya sebesar 38.1%\n",
    "\n",
    "Jenis usaha Restaurant memiliki jumlah usaha paling tinggi mengalahkan 5 jenis usaha lainnya. jumlahnya 2292 unit usaha. Fast food, Bakery, Cafe, Pizza dan Bar adalah urutan selanjutnya \n",
    "\n",
    "Ciri-ciri dari jenis usaha berbasis waralaba: memiliki banyak tempat dengan jumlah kursi yang sedikit. Terlihat di grafik bahwa non-waralaba mempunyai jumlah kursi yang banyak di kategori jenis usaha restaurant.\n",
    "\n",
    "Terdapat jenis usaha berbasis waralaba yang memiliki jumlah kursi sedikit seperti Bakery dan Pizza, namun juga terdapat jenis usaha berbasis waralaba dengan jumlah kursi yang lebih banyak seperti Restaurant dan Fast Food.\n",
    "Jenis usaha berbasis waralaba seperti Restaurant, Fast Food, dan Cafe memiliki jumlah kursi yang signifikan, menunjukkan adanya potensi pertumbuhan bisnis waralaba dalam industri makanan dan minuman.\n",
    "Jenis usaha berbasis waralaba seperti Bar memiliki jumlah kursi yang lebih rendah dibandingkan dengan jenis usaha non-waralaba. Dalam konteks ini, jenis usaha berbasis waralaba mungkin lebih fokus pada konsep dan pengalaman pelanggan dari pada jumlah kursi yang lebih besar.\n",
    "\n",
    "Jalan W SUNSET BLVD dan W PICO BLVD adalah dua jalan dengan jumlah usaha (tempat makan) tertinggi. Kedua jalan ini memiliki masing-masing 296 dan 288 usaha tempat makan.\n",
    "Jalan-jalan seperti HOLLYWOOD BLVD, WILSHIRE BLVD, S VERMONT AVE, SANTA MONICA BLVD, W 3RD ST, BEVERLY BLVD, S FIGUEROA ST, dan S WESTERN AVE juga memiliki jumlah usaha tempat makan yang cukup signifikan, dengan angka di atas 100. Perbedaan terhadap jalan-jalan tersebut tidak terlalu signifikan.\n",
    "\n",
    "Jumlah jalan yang hanya memiliki satu usaha (tempat makan): 2481\n",
    "    \n",
    "1. Jalan dengan jumlah kursi terbanyak adalah W SUNSET BLVD, diikuti oleh W PICO BLVD dan WILSHIRE BLVD. Jalan-jalan ini memiliki potensi besar sebagai lokasi usaha dengan jumlah kursi yang signifikan.\n",
    "2. Jalan-jalan seperti HOLLYWOOD BLVD, S FIGUEROA ST, dan S VERMONT AVE juga memiliki jumlah kursi yang cukup besar\n",
    "3. BEVERLY BLVD, SANTA MONICA BLVD, W 3RD ST, dan S WESTERN AVE memiliki jumlah kursi yang lebih rendah dibandingkan dengan jalan-jalan teratas. Meskipun demikian, mereka masih menawarkan potensi bagi pelaku usaha untuk memanfaatkan pasar di sekitar lokasi tersebut.\n"
   ]
  },
  {
   "cell_type": "markdown",
   "metadata": {},
   "source": [
    "Berikut adalah kesimpulan dari data yang telah dianalisis:\n",
    "\n",
    "1. Berdasarkan data jumlah kursi per jenis usaha, Terdapat jenis usaha berbasis waralaba yang memiliki jumlah kursi sedikit seperti Bakery dan Pizza, namun juga terdapat jenis usaha berbasis waralaba dengan jumlah kursi yang lebih banyak seperti Restaurant dan Fast Food.\n",
    "\n",
    "2. Jenis usaha berbasis waralaba seperti Restaurant, Fast Food, dan Cafe memiliki jumlah kursi yang signifikan, menunjukkan adanya potensi pertumbuhan bisnis waralaba dalam industri makanan dan minuman.\n",
    "\n",
    "3. Jenis usaha berbasis waralaba seperti Bar memiliki jumlah kursi yang lebih rendah dibandingkan dengan jenis usaha non-waralaba. Hal ini menunjukkan bahwa dalam konteks ini, jenis usaha berbasis waralaba mungkin lebih fokus pada konsep dan pengalaman pelanggan yang berbeda, bukan pada jumlah kursi yang lebih besar."
   ]
  },
  {
   "cell_type": "markdown",
   "metadata": {},
   "source": [
    "Berdasarkan analisis data, berikut adalah rekomendasi tentang jenis usaha dan jumlah kursinya serta komentar tentang peluang pengembangan usaha berbasis waralaba:\n",
    "\n",
    "1. Rekomendasi Jenis Usaha dan Jumlah Kursi:\n",
    "   - Jenis usaha Fast Food dan Restaurant menunjukkan jumlah kursi yang signifikan, terutama dalam kategori usaha berbasis waralaba. Hal ini menunjukkan bahwa usaha-usaha di sektor ini memiliki potensi pasar yang besar dan permintaan yang tinggi. Dalam mengembangkan usaha, perhatikan tren dan preferensi konsumen terkini untuk menyesuaikan konsep, menu, dan pelayanan dengan baik.\n",
    "\n",
    "   - Jenis usaha Cafe dan Bar juga memiliki jumlah kursi yang cukup besar, namun lebih rendah dibandingkan dengan Fast Food dan Restaurant. Meskipun demikian, kedua jenis usaha ini masih menawarkan peluang pengembangan yang baik, terutama jika dapat memberikan nilai tambah dan pengalaman unik kepada pelanggan.\n",
    "   \n",
    "2. Peluang Pengembangan Usaha Berbasis Waralaba:\n",
    "   - Data menunjukkan bahwa terdapat sejumlah usaha berbasis waralaba dalam kategori Fast Food dan Restaurant. Hal ini menunjukkan bahwa waralaba memiliki popularitas dan penerimaan yang baik di sektor ini. Sebagai calon investor atau pengusaha, peluang pengembangan usaha berbasis waralaba dapat dipertimbangkan dengan serius.\n",
    "\n",
    "   - Jenis usaha Bakery memiliki jumlah kursi yang signifikan besar dalam pengembangan usaha waralaba. Dibanding dengan usaha berbasis non waralaba, usaha bakery tidak dimiliki oleh usaha non waralaba dan hanya dimiliki oleh usaha waralaba, oleh karena itu ini peluang yang bagus seperti ini harus di manfaatkan dengan baik untuk meningkatkan penjualan. \n"
   ]
  },
  {
   "cell_type": "markdown",
   "metadata": {},
   "source": [
    "<div class=\"alert alert-success\">\n",
    "<b>Code Reviewers's comment v.1</b> <a class=\"tocSkip\"></a>\n",
    "\n",
    "Bagus, semua berjalan lancar.\n",
    "\n",
    "</div>"
   ]
  }
 ],
 "metadata": {
  "kernelspec": {
   "display_name": "Python 3 (ipykernel)",
   "language": "python",
   "name": "python3"
  },
  "language_info": {
   "codemirror_mode": {
    "name": "ipython",
    "version": 3
   },
   "file_extension": ".py",
   "mimetype": "text/x-python",
   "name": "python",
   "nbconvert_exporter": "python",
   "pygments_lexer": "ipython3",
   "version": "3.9.5"
  },
  "toc": {
   "base_numbering": 1,
   "nav_menu": {},
   "number_sections": true,
   "sideBar": true,
   "skip_h1_title": true,
   "title_cell": "Table of Contents",
   "title_sidebar": "Contents",
   "toc_cell": false,
   "toc_position": {
    "height": "calc(100% - 180px)",
    "left": "10px",
    "top": "150px",
    "width": "311px"
   },
   "toc_section_display": true,
   "toc_window_display": true
  }
 },
 "nbformat": 4,
 "nbformat_minor": 2
}
